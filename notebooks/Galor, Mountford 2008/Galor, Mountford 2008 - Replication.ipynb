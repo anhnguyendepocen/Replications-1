{
 "cells": [
  {
   "cell_type": "markdown",
   "metadata": {
    "slideshow": {
     "slide_type": "slide"
    }
   },
   "source": [
    "# REPLICATION ASSIGMENT\n",
    "# MARCELA DE CASTRO VALDERRAMA\n",
    "\n",
    "## Paper: Trading Population for Productivity: Theory and Evidence , 2008\n",
    "## Authors: Oded Galor, Andew Mountford"
   ]
  },
  {
   "cell_type": "markdown",
   "metadata": {},
   "source": [
    "### General Description of this Notebook:\n",
    "The codes used here are elaborated by Marcela De Castro based on the Stata do file from the authors. The data base and Stata do file is found in [Galor's official cite](https://www.brown.edu/Departments/Economics/Faculty/Oded_Galor/data.html). The archive downloaded contains the main regressions done in the paper. Graphs are not included, their replication are my own.\n",
    "\n",
    "In this Notebook, text written with _italic_ is used for economic analysis based on the theory and explanations of the authors in the paper. Text writen without italic is for code explanation. Additionally, codes are explained with comments."
   ]
  },
  {
   "cell_type": "markdown",
   "metadata": {},
   "source": [
    "## Setting work tools\n",
    "\n",
    "Import all necessary packages:"
   ]
  },
  {
   "cell_type": "code",
   "execution_count": 1,
   "metadata": {},
   "outputs": [
    {
     "name": "stdout",
     "output_type": "stream",
     "text": [
      "Using matplotlib backend: MacOSX\n",
      "Populating the interactive namespace from numpy and matplotlib\n"
     ]
    }
   ],
   "source": [
    "from __future__ import division\n",
    "%pylab --no-import-all\n",
    "%matplotlib inline   \n",
    "    \n",
    "import pandas as pd\n",
    "import numpy as np\n",
    "import os\n",
    "\n",
    "import matplotlib as mpl\n",
    "import seaborn as sns\n",
    "# Setup seaborn\n",
    "sns.set()\n",
    "\n",
    "import statsmodels.api as sm\n",
    "import statsmodels.formula.api as smf\n",
    "from linearmodels.iv import IV2SLS\n",
    "from linearmodels.iv import compare\n",
    "from collections import OrderedDict\n",
    "from linearmodels.datasets import meps\n",
    "\n",
    "from sklearn import datasets\n",
    "from stargazer.stargazer import Stargazer\n",
    "from IPython.display import Latex"
   ]
  },
  {
   "cell_type": "markdown",
   "metadata": {},
   "source": [
    "### Setting Directories"
   ]
  },
  {
   "cell_type": "code",
   "execution_count": 2,
   "metadata": {},
   "outputs": [
    {
     "name": "stdout",
     "output_type": "stream",
     "text": [
      "./DataFiles/ folder created\n",
      "WARNING! Make sure you have the data file in this folder\n"
     ]
    }
   ],
   "source": [
    "    #Set Directories for data\n",
    "pathout = './DataFiles/'\n",
    "    #If the directory does not exist, then create it\n",
    "if not os.path.exists(pathout):\n",
    "       os.mkdir(pathout)\n",
    "    print(pathout,\"folder created\")\n",
    "        # You need to have the data base, so if this folder was created then \n",
    "        # you might be missing the database, so a Warning is added\n",
    "    print(\"WARNING! Make sure you have the data file in this folder\") "
   ]
  },
  {
   "cell_type": "code",
   "execution_count": 3,
   "metadata": {},
   "outputs": [],
   "source": [
    "    #Set Directories for Graphs \n",
    "pathgraphs = './Graphs/'\n",
    "if not os.path.exists(pathgraphs):\n",
    "       os.mkdir(pathgraphs)\n",
    "       print(pathout,\"folder created\")\n",
    "        #I aded a print function just to be sure that if the folder\n",
    "        # didn't exist, It is now created"
   ]
  },
  {
   "cell_type": "markdown",
   "metadata": {},
   "source": [
    "### Import Data Base"
   ]
  },
  {
   "cell_type": "code",
   "execution_count": 4,
   "metadata": {},
   "outputs": [],
   "source": [
    "    #Import Data Base\n",
    "Data = pd.read_stata(pathout + 'GMountRES.dta')\n",
    "    # Using Pandas, we can import the database\n",
    "    # Name \"Data\" the stata file named GMountRES.dta' found in the path declared before"
   ]
  },
  {
   "cell_type": "markdown",
   "metadata": {},
   "source": [
    "### Housekeeping"
   ]
  },
  {
   "cell_type": "code",
   "execution_count": 5,
   "metadata": {
    "scrolled": true
   },
   "outputs": [
    {
     "data": {
      "text/html": [
       "<div>\n",
       "<style scoped>\n",
       "    .dataframe tbody tr th:only-of-type {\n",
       "        vertical-align: middle;\n",
       "    }\n",
       "\n",
       "    .dataframe tbody tr th {\n",
       "        vertical-align: top;\n",
       "    }\n",
       "\n",
       "    .dataframe thead th {\n",
       "        text-align: right;\n",
       "    }\n",
       "</style>\n",
       "<table border=\"1\" class=\"dataframe\">\n",
       "  <thead>\n",
       "    <tr style=\"text-align: right;\">\n",
       "      <th></th>\n",
       "      <th>code</th>\n",
       "      <th>country</th>\n",
       "      <th>africa</th>\n",
       "      <th>asia</th>\n",
       "      <th>europe</th>\n",
       "      <th>paci</th>\n",
       "      <th>america</th>\n",
       "      <th>totalfert85</th>\n",
       "      <th>totalfert90</th>\n",
       "      <th>totfert95</th>\n",
       "      <th>...</th>\n",
       "      <th>pyr1585</th>\n",
       "      <th>pyr1590</th>\n",
       "      <th>logactualtrade</th>\n",
       "      <th>logfrankrom</th>\n",
       "      <th>logrgdppc1985</th>\n",
       "      <th>oecd85</th>\n",
       "      <th>opec85</th>\n",
       "      <th>easteur</th>\n",
       "      <th>logarea</th>\n",
       "      <th>logpop</th>\n",
       "    </tr>\n",
       "  </thead>\n",
       "  <tbody>\n",
       "    <tr>\n",
       "      <th>0</th>\n",
       "      <td>DZA</td>\n",
       "      <td>Algeria</td>\n",
       "      <td>1</td>\n",
       "      <td>0</td>\n",
       "      <td>0</td>\n",
       "      <td>0</td>\n",
       "      <td>0</td>\n",
       "      <td>5.29</td>\n",
       "      <td>4.13</td>\n",
       "      <td>2.88</td>\n",
       "      <td>...</td>\n",
       "      <td>2.398</td>\n",
       "      <td>2.798</td>\n",
       "      <td>3.905200</td>\n",
       "      <td>2.637</td>\n",
       "      <td>8.002359</td>\n",
       "      <td>0</td>\n",
       "      <td>1</td>\n",
       "      <td>0</td>\n",
       "      <td>6.823933</td>\n",
       "      <td>1.580833</td>\n",
       "    </tr>\n",
       "    <tr>\n",
       "      <th>1</th>\n",
       "      <td>AGO</td>\n",
       "      <td>Angola</td>\n",
       "      <td>1</td>\n",
       "      <td>0</td>\n",
       "      <td>0</td>\n",
       "      <td>0</td>\n",
       "      <td>0</td>\n",
       "      <td>7.20</td>\n",
       "      <td>7.10</td>\n",
       "      <td>6.90</td>\n",
       "      <td>...</td>\n",
       "      <td>-999.000</td>\n",
       "      <td>-999.000</td>\n",
       "      <td>4.235555</td>\n",
       "      <td>2.443</td>\n",
       "      <td>6.566672</td>\n",
       "      <td>0</td>\n",
       "      <td>0</td>\n",
       "      <td>0</td>\n",
       "      <td>6.176603</td>\n",
       "      <td>1.256186</td>\n",
       "    </tr>\n",
       "    <tr>\n",
       "      <th>2</th>\n",
       "      <td>ARG</td>\n",
       "      <td>Argentina</td>\n",
       "      <td>0</td>\n",
       "      <td>0</td>\n",
       "      <td>0</td>\n",
       "      <td>0</td>\n",
       "      <td>1</td>\n",
       "      <td>3.05</td>\n",
       "      <td>2.90</td>\n",
       "      <td>2.63</td>\n",
       "      <td>...</td>\n",
       "      <td>5.397</td>\n",
       "      <td>5.985</td>\n",
       "      <td>2.839078</td>\n",
       "      <td>1.723</td>\n",
       "      <td>8.579980</td>\n",
       "      <td>0</td>\n",
       "      <td>0</td>\n",
       "      <td>0</td>\n",
       "      <td>6.977344</td>\n",
       "      <td>2.379361</td>\n",
       "    </tr>\n",
       "    <tr>\n",
       "      <th>3</th>\n",
       "      <td>AUS</td>\n",
       "      <td>Australia</td>\n",
       "      <td>0</td>\n",
       "      <td>0</td>\n",
       "      <td>0</td>\n",
       "      <td>1</td>\n",
       "      <td>0</td>\n",
       "      <td>1.87</td>\n",
       "      <td>1.87</td>\n",
       "      <td>1.77</td>\n",
       "      <td>...</td>\n",
       "      <td>6.546</td>\n",
       "      <td>6.535</td>\n",
       "      <td>3.563316</td>\n",
       "      <td>1.404</td>\n",
       "      <td>9.516574</td>\n",
       "      <td>1</td>\n",
       "      <td>0</td>\n",
       "      <td>0</td>\n",
       "      <td>7.995020</td>\n",
       "      <td>2.000263</td>\n",
       "    </tr>\n",
       "    <tr>\n",
       "      <th>4</th>\n",
       "      <td>AUT</td>\n",
       "      <td>Austria</td>\n",
       "      <td>0</td>\n",
       "      <td>0</td>\n",
       "      <td>1</td>\n",
       "      <td>0</td>\n",
       "      <td>0</td>\n",
       "      <td>1.45</td>\n",
       "      <td>1.47</td>\n",
       "      <td>1.36</td>\n",
       "      <td>...</td>\n",
       "      <td>3.650</td>\n",
       "      <td>3.637</td>\n",
       "      <td>4.397777</td>\n",
       "      <td>3.601</td>\n",
       "      <td>9.317490</td>\n",
       "      <td>1</td>\n",
       "      <td>0</td>\n",
       "      <td>0</td>\n",
       "      <td>3.477386</td>\n",
       "      <td>1.260731</td>\n",
       "    </tr>\n",
       "    <tr>\n",
       "      <th>...</th>\n",
       "      <td>...</td>\n",
       "      <td>...</td>\n",
       "      <td>...</td>\n",
       "      <td>...</td>\n",
       "      <td>...</td>\n",
       "      <td>...</td>\n",
       "      <td>...</td>\n",
       "      <td>...</td>\n",
       "      <td>...</td>\n",
       "      <td>...</td>\n",
       "      <td>...</td>\n",
       "      <td>...</td>\n",
       "      <td>...</td>\n",
       "      <td>...</td>\n",
       "      <td>...</td>\n",
       "      <td>...</td>\n",
       "      <td>...</td>\n",
       "      <td>...</td>\n",
       "      <td>...</td>\n",
       "      <td>...</td>\n",
       "      <td>...</td>\n",
       "    </tr>\n",
       "    <tr>\n",
       "      <th>139</th>\n",
       "      <td>VUT</td>\n",
       "      <td>Vanuatu</td>\n",
       "      <td>0</td>\n",
       "      <td>0</td>\n",
       "      <td>0</td>\n",
       "      <td>1</td>\n",
       "      <td>0</td>\n",
       "      <td>5.04</td>\n",
       "      <td>4.83</td>\n",
       "      <td>4.59</td>\n",
       "      <td>...</td>\n",
       "      <td>-999.000</td>\n",
       "      <td>-999.000</td>\n",
       "      <td>4.814864</td>\n",
       "      <td>3.429</td>\n",
       "      <td>7.511525</td>\n",
       "      <td>0</td>\n",
       "      <td>0</td>\n",
       "      <td>0</td>\n",
       "      <td>1.549051</td>\n",
       "      <td>-3.170086</td>\n",
       "    </tr>\n",
       "    <tr>\n",
       "      <th>140</th>\n",
       "      <td>VEN</td>\n",
       "      <td>Venezuela</td>\n",
       "      <td>0</td>\n",
       "      <td>0</td>\n",
       "      <td>0</td>\n",
       "      <td>0</td>\n",
       "      <td>1</td>\n",
       "      <td>3.65</td>\n",
       "      <td>3.25</td>\n",
       "      <td>2.94</td>\n",
       "      <td>...</td>\n",
       "      <td>3.902</td>\n",
       "      <td>3.594</td>\n",
       "      <td>3.707701</td>\n",
       "      <td>2.191</td>\n",
       "      <td>8.736329</td>\n",
       "      <td>0</td>\n",
       "      <td>1</td>\n",
       "      <td>0</td>\n",
       "      <td>5.864038</td>\n",
       "      <td>1.755960</td>\n",
       "    </tr>\n",
       "    <tr>\n",
       "      <th>141</th>\n",
       "      <td>YEM</td>\n",
       "      <td>Yemen</td>\n",
       "      <td>0</td>\n",
       "      <td>1</td>\n",
       "      <td>0</td>\n",
       "      <td>0</td>\n",
       "      <td>0</td>\n",
       "      <td>8.30</td>\n",
       "      <td>7.60</td>\n",
       "      <td>6.88</td>\n",
       "      <td>...</td>\n",
       "      <td>0.617</td>\n",
       "      <td>1.066</td>\n",
       "      <td>3.898735</td>\n",
       "      <td>2.823</td>\n",
       "      <td>7.361375</td>\n",
       "      <td>0</td>\n",
       "      <td>0</td>\n",
       "      <td>0</td>\n",
       "      <td>4.856396</td>\n",
       "      <td>0.862468</td>\n",
       "    </tr>\n",
       "    <tr>\n",
       "      <th>142</th>\n",
       "      <td>ZMB</td>\n",
       "      <td>Zambia</td>\n",
       "      <td>1</td>\n",
       "      <td>0</td>\n",
       "      <td>0</td>\n",
       "      <td>0</td>\n",
       "      <td>0</td>\n",
       "      <td>6.66</td>\n",
       "      <td>6.35</td>\n",
       "      <td>6.03</td>\n",
       "      <td>...</td>\n",
       "      <td>3.556</td>\n",
       "      <td>3.662</td>\n",
       "      <td>4.343286</td>\n",
       "      <td>2.625</td>\n",
       "      <td>6.694562</td>\n",
       "      <td>0</td>\n",
       "      <td>0</td>\n",
       "      <td>0</td>\n",
       "      <td>5.671900</td>\n",
       "      <td>0.821540</td>\n",
       "    </tr>\n",
       "    <tr>\n",
       "      <th>143</th>\n",
       "      <td>ZWE</td>\n",
       "      <td>Zimbabwe</td>\n",
       "      <td>1</td>\n",
       "      <td>0</td>\n",
       "      <td>0</td>\n",
       "      <td>0</td>\n",
       "      <td>0</td>\n",
       "      <td>5.75</td>\n",
       "      <td>4.78</td>\n",
       "      <td>4.05</td>\n",
       "      <td>...</td>\n",
       "      <td>2.083</td>\n",
       "      <td>3.323</td>\n",
       "      <td>4.032469</td>\n",
       "      <td>2.422</td>\n",
       "      <td>7.103322</td>\n",
       "      <td>0</td>\n",
       "      <td>0</td>\n",
       "      <td>0</td>\n",
       "      <td>5.015285</td>\n",
       "      <td>1.142629</td>\n",
       "    </tr>\n",
       "  </tbody>\n",
       "</table>\n",
       "<p>144 rows × 26 columns</p>\n",
       "</div>"
      ],
      "text/plain": [
       "    code    country  africa  asia  europe  paci  america  totalfert85  \\\n",
       "0    DZA    Algeria       1     0       0     0        0         5.29   \n",
       "1    AGO     Angola       1     0       0     0        0         7.20   \n",
       "2    ARG  Argentina       0     0       0     0        1         3.05   \n",
       "3    AUS  Australia       0     0       0     1        0         1.87   \n",
       "4    AUT    Austria       0     0       1     0        0         1.45   \n",
       "..   ...        ...     ...   ...     ...   ...      ...          ...   \n",
       "139  VUT    Vanuatu       0     0       0     1        0         5.04   \n",
       "140  VEN  Venezuela       0     0       0     0        1         3.65   \n",
       "141  YEM      Yemen       0     1       0     0        0         8.30   \n",
       "142  ZMB     Zambia       1     0       0     0        0         6.66   \n",
       "143  ZWE   Zimbabwe       1     0       0     0        0         5.75   \n",
       "\n",
       "     totalfert90  totfert95  ...  pyr1585  pyr1590  logactualtrade  \\\n",
       "0           4.13       2.88  ...    2.398    2.798        3.905200   \n",
       "1           7.10       6.90  ... -999.000 -999.000        4.235555   \n",
       "2           2.90       2.63  ...    5.397    5.985        2.839078   \n",
       "3           1.87       1.77  ...    6.546    6.535        3.563316   \n",
       "4           1.47       1.36  ...    3.650    3.637        4.397777   \n",
       "..           ...        ...  ...      ...      ...             ...   \n",
       "139         4.83       4.59  ... -999.000 -999.000        4.814864   \n",
       "140         3.25       2.94  ...    3.902    3.594        3.707701   \n",
       "141         7.60       6.88  ...    0.617    1.066        3.898735   \n",
       "142         6.35       6.03  ...    3.556    3.662        4.343286   \n",
       "143         4.78       4.05  ...    2.083    3.323        4.032469   \n",
       "\n",
       "     logfrankrom  logrgdppc1985  oecd85  opec85  easteur   logarea    logpop  \n",
       "0          2.637       8.002359       0       1        0  6.823933  1.580833  \n",
       "1          2.443       6.566672       0       0        0  6.176603  1.256186  \n",
       "2          1.723       8.579980       0       0        0  6.977344  2.379361  \n",
       "3          1.404       9.516574       1       0        0  7.995020  2.000263  \n",
       "4          3.601       9.317490       1       0        0  3.477386  1.260731  \n",
       "..           ...            ...     ...     ...      ...       ...       ...  \n",
       "139        3.429       7.511525       0       0        0  1.549051 -3.170086  \n",
       "140        2.191       8.736329       0       1        0  5.864038  1.755960  \n",
       "141        2.823       7.361375       0       0        0  4.856396  0.862468  \n",
       "142        2.625       6.694562       0       0        0  5.671900  0.821540  \n",
       "143        2.422       7.103322       0       0        0  5.015285  1.142629  \n",
       "\n",
       "[144 rows x 26 columns]"
      ]
     },
     "execution_count": 5,
     "metadata": {},
     "output_type": "execute_result"
    }
   ],
   "source": [
    "    #Lets see what was imported\n",
    "Data"
   ]
  },
  {
   "cell_type": "markdown",
   "metadata": {},
   "source": [
    "**Rename Variables**\n",
    "\n",
    "To make easier the understanding of what the variables in the database, some of them are renamed."
   ]
  },
  {
   "cell_type": "code",
   "execution_count": 6,
   "metadata": {},
   "outputs": [],
   "source": [
    "Data.rename(columns={'code':'CtrCode'}, inplace=True)\n",
    "\n",
    "Data.rename(columns={'tyr1585':'Educyears85tot'}, inplace=True)\n",
    "Data.rename(columns={'tyr1590':'Educyears90tot'}, inplace=True)\n",
    "Data.rename(columns={'tyr1595':'Educyears95tot'}, inplace=True)\n",
    "Data.rename(columns={'tyr1599':'Educyears99tot'}, inplace=True)\n",
    "\n",
    "Data.rename(columns={'pyr1585':'Educyears85prim'}, inplace=True)\n",
    "Data.rename(columns={'pyr1590':'Educyears90prim'}, inplace=True)\n",
    "\n",
    "Data.rename(columns={'logpop':'lnpop'}, inplace=True)"
   ]
  },
  {
   "cell_type": "code",
   "execution_count": 7,
   "metadata": {},
   "outputs": [
    {
     "data": {
      "text/html": [
       "<div>\n",
       "<style scoped>\n",
       "    .dataframe tbody tr th:only-of-type {\n",
       "        vertical-align: middle;\n",
       "    }\n",
       "\n",
       "    .dataframe tbody tr th {\n",
       "        vertical-align: top;\n",
       "    }\n",
       "\n",
       "    .dataframe thead th {\n",
       "        text-align: right;\n",
       "    }\n",
       "</style>\n",
       "<table border=\"1\" class=\"dataframe\">\n",
       "  <thead>\n",
       "    <tr style=\"text-align: right;\">\n",
       "      <th></th>\n",
       "      <th>Educyears85tot</th>\n",
       "      <th>Educyears90tot</th>\n",
       "      <th>Educyears95tot</th>\n",
       "    </tr>\n",
       "  </thead>\n",
       "  <tbody>\n",
       "    <tr>\n",
       "      <th>count</th>\n",
       "      <td>144.000000</td>\n",
       "      <td>144.000000</td>\n",
       "      <td>144.000000</td>\n",
       "    </tr>\n",
       "    <tr>\n",
       "      <th>mean</th>\n",
       "      <td>-273.819214</td>\n",
       "      <td>-259.592651</td>\n",
       "      <td>-280.201172</td>\n",
       "    </tr>\n",
       "    <tr>\n",
       "      <th>std</th>\n",
       "      <td>451.313843</td>\n",
       "      <td>444.265106</td>\n",
       "      <td>455.092621</td>\n",
       "    </tr>\n",
       "    <tr>\n",
       "      <th>min</th>\n",
       "      <td>-999.000000</td>\n",
       "      <td>-999.000000</td>\n",
       "      <td>-999.000000</td>\n",
       "    </tr>\n",
       "    <tr>\n",
       "      <th>25%</th>\n",
       "      <td>-999.000000</td>\n",
       "      <td>-999.000000</td>\n",
       "      <td>-999.000000</td>\n",
       "    </tr>\n",
       "    <tr>\n",
       "      <th>50%</th>\n",
       "      <td>3.448500</td>\n",
       "      <td>3.985000</td>\n",
       "      <td>4.475500</td>\n",
       "    </tr>\n",
       "    <tr>\n",
       "      <th>75%</th>\n",
       "      <td>5.911250</td>\n",
       "      <td>6.265750</td>\n",
       "      <td>6.831250</td>\n",
       "    </tr>\n",
       "    <tr>\n",
       "      <th>max</th>\n",
       "      <td>11.569000</td>\n",
       "      <td>11.742000</td>\n",
       "      <td>11.892000</td>\n",
       "    </tr>\n",
       "  </tbody>\n",
       "</table>\n",
       "</div>"
      ],
      "text/plain": [
       "       Educyears85tot  Educyears90tot  Educyears95tot\n",
       "count      144.000000      144.000000      144.000000\n",
       "mean      -273.819214     -259.592651     -280.201172\n",
       "std        451.313843      444.265106      455.092621\n",
       "min       -999.000000     -999.000000     -999.000000\n",
       "25%       -999.000000     -999.000000     -999.000000\n",
       "50%          3.448500        3.985000        4.475500\n",
       "75%          5.911250        6.265750        6.831250\n",
       "max         11.569000       11.742000       11.892000"
      ]
     },
     "execution_count": 7,
     "metadata": {},
     "output_type": "execute_result"
    }
   ],
   "source": [
    "Data[['Educyears85tot','Educyears90tot','Educyears95tot']].describe()"
   ]
  },
  {
   "cell_type": "markdown",
   "metadata": {},
   "source": [
    "#### Descriptive Statistics \n",
    "This part of the code is not part of the original paper. Nevertheless, its always usefull for getting to know the data that is going to be used."
   ]
  },
  {
   "cell_type": "code",
   "execution_count": 8,
   "metadata": {},
   "outputs": [
    {
     "data": {
      "text/html": [
       "<div>\n",
       "<style scoped>\n",
       "    .dataframe tbody tr th:only-of-type {\n",
       "        vertical-align: middle;\n",
       "    }\n",
       "\n",
       "    .dataframe tbody tr th {\n",
       "        vertical-align: top;\n",
       "    }\n",
       "\n",
       "    .dataframe thead th {\n",
       "        text-align: right;\n",
       "    }\n",
       "</style>\n",
       "<table border=\"1\" class=\"dataframe\">\n",
       "  <thead>\n",
       "    <tr style=\"text-align: right;\">\n",
       "      <th></th>\n",
       "      <th>africa</th>\n",
       "      <th>asia</th>\n",
       "      <th>europe</th>\n",
       "      <th>paci</th>\n",
       "      <th>america</th>\n",
       "      <th>totalfert85</th>\n",
       "      <th>totalfert90</th>\n",
       "      <th>totfert95</th>\n",
       "      <th>crudebirth85</th>\n",
       "      <th>infmort85</th>\n",
       "      <th>...</th>\n",
       "      <th>Educyears85prim</th>\n",
       "      <th>Educyears90prim</th>\n",
       "      <th>logactualtrade</th>\n",
       "      <th>logfrankrom</th>\n",
       "      <th>logrgdppc1985</th>\n",
       "      <th>oecd85</th>\n",
       "      <th>opec85</th>\n",
       "      <th>easteur</th>\n",
       "      <th>logarea</th>\n",
       "      <th>lnpop</th>\n",
       "    </tr>\n",
       "  </thead>\n",
       "  <tbody>\n",
       "    <tr>\n",
       "      <th>count</th>\n",
       "      <td>144.000000</td>\n",
       "      <td>144.000000</td>\n",
       "      <td>144.000000</td>\n",
       "      <td>144.000000</td>\n",
       "      <td>144.000000</td>\n",
       "      <td>144.000000</td>\n",
       "      <td>144.000000</td>\n",
       "      <td>144.000000</td>\n",
       "      <td>144.000000</td>\n",
       "      <td>144.000000</td>\n",
       "      <td>...</td>\n",
       "      <td>144.000000</td>\n",
       "      <td>144.000000</td>\n",
       "      <td>144.000000</td>\n",
       "      <td>144.000000</td>\n",
       "      <td>144.000000</td>\n",
       "      <td>144.000000</td>\n",
       "      <td>144.000000</td>\n",
       "      <td>144.000000</td>\n",
       "      <td>144.000000</td>\n",
       "      <td>144.000000</td>\n",
       "    </tr>\n",
       "    <tr>\n",
       "      <th>mean</th>\n",
       "      <td>0.333333</td>\n",
       "      <td>0.208333</td>\n",
       "      <td>0.187500</td>\n",
       "      <td>0.055556</td>\n",
       "      <td>0.215278</td>\n",
       "      <td>4.342638</td>\n",
       "      <td>3.993472</td>\n",
       "      <td>3.642292</td>\n",
       "      <td>31.498610</td>\n",
       "      <td>58.673611</td>\n",
       "      <td>...</td>\n",
       "      <td>-274.986053</td>\n",
       "      <td>-260.938477</td>\n",
       "      <td>4.093109</td>\n",
       "      <td>2.946278</td>\n",
       "      <td>7.871720</td>\n",
       "      <td>0.166667</td>\n",
       "      <td>0.083333</td>\n",
       "      <td>0.041667</td>\n",
       "      <td>4.033285</td>\n",
       "      <td>0.902725</td>\n",
       "    </tr>\n",
       "    <tr>\n",
       "      <th>std</th>\n",
       "      <td>0.473050</td>\n",
       "      <td>0.407534</td>\n",
       "      <td>0.391675</td>\n",
       "      <td>0.229861</td>\n",
       "      <td>0.412450</td>\n",
       "      <td>1.993310</td>\n",
       "      <td>1.889370</td>\n",
       "      <td>1.829681</td>\n",
       "      <td>12.894369</td>\n",
       "      <td>45.335575</td>\n",
       "      <td>...</td>\n",
       "      <td>450.583923</td>\n",
       "      <td>443.452271</td>\n",
       "      <td>0.643546</td>\n",
       "      <td>0.786632</td>\n",
       "      <td>1.061090</td>\n",
       "      <td>0.373979</td>\n",
       "      <td>0.277350</td>\n",
       "      <td>0.200524</td>\n",
       "      <td>2.278812</td>\n",
       "      <td>1.969231</td>\n",
       "    </tr>\n",
       "    <tr>\n",
       "      <th>min</th>\n",
       "      <td>0.000000</td>\n",
       "      <td>0.000000</td>\n",
       "      <td>0.000000</td>\n",
       "      <td>0.000000</td>\n",
       "      <td>0.000000</td>\n",
       "      <td>1.310000</td>\n",
       "      <td>1.220000</td>\n",
       "      <td>1.060000</td>\n",
       "      <td>9.900000</td>\n",
       "      <td>4.900000</td>\n",
       "      <td>...</td>\n",
       "      <td>-999.000000</td>\n",
       "      <td>-999.000000</td>\n",
       "      <td>2.577182</td>\n",
       "      <td>0.833000</td>\n",
       "      <td>5.700444</td>\n",
       "      <td>0.000000</td>\n",
       "      <td>0.000000</td>\n",
       "      <td>0.000000</td>\n",
       "      <td>-2.103734</td>\n",
       "      <td>-3.506558</td>\n",
       "    </tr>\n",
       "    <tr>\n",
       "      <th>25%</th>\n",
       "      <td>0.000000</td>\n",
       "      <td>0.000000</td>\n",
       "      <td>0.000000</td>\n",
       "      <td>0.000000</td>\n",
       "      <td>0.000000</td>\n",
       "      <td>2.380000</td>\n",
       "      <td>2.160000</td>\n",
       "      <td>1.985000</td>\n",
       "      <td>19.325000</td>\n",
       "      <td>17.075000</td>\n",
       "      <td>...</td>\n",
       "      <td>-999.000000</td>\n",
       "      <td>-999.000000</td>\n",
       "      <td>3.723361</td>\n",
       "      <td>2.441000</td>\n",
       "      <td>6.999711</td>\n",
       "      <td>0.000000</td>\n",
       "      <td>0.000000</td>\n",
       "      <td>0.000000</td>\n",
       "      <td>2.773584</td>\n",
       "      <td>-0.280092</td>\n",
       "    </tr>\n",
       "    <tr>\n",
       "      <th>50%</th>\n",
       "      <td>0.000000</td>\n",
       "      <td>0.000000</td>\n",
       "      <td>0.000000</td>\n",
       "      <td>0.000000</td>\n",
       "      <td>0.000000</td>\n",
       "      <td>4.500000</td>\n",
       "      <td>3.805000</td>\n",
       "      <td>3.180000</td>\n",
       "      <td>31.550000</td>\n",
       "      <td>49.450001</td>\n",
       "      <td>...</td>\n",
       "      <td>2.439500</td>\n",
       "      <td>2.754500</td>\n",
       "      <td>4.140511</td>\n",
       "      <td>2.970500</td>\n",
       "      <td>7.798466</td>\n",
       "      <td>0.000000</td>\n",
       "      <td>0.000000</td>\n",
       "      <td>0.000000</td>\n",
       "      <td>4.515093</td>\n",
       "      <td>1.017398</td>\n",
       "    </tr>\n",
       "    <tr>\n",
       "      <th>75%</th>\n",
       "      <td>1.000000</td>\n",
       "      <td>0.000000</td>\n",
       "      <td>0.000000</td>\n",
       "      <td>0.000000</td>\n",
       "      <td>0.000000</td>\n",
       "      <td>6.162500</td>\n",
       "      <td>5.662500</td>\n",
       "      <td>5.040000</td>\n",
       "      <td>42.275001</td>\n",
       "      <td>98.549999</td>\n",
       "      <td>...</td>\n",
       "      <td>4.026000</td>\n",
       "      <td>4.318500</td>\n",
       "      <td>4.502928</td>\n",
       "      <td>3.438000</td>\n",
       "      <td>8.736208</td>\n",
       "      <td>0.000000</td>\n",
       "      <td>0.000000</td>\n",
       "      <td>0.000000</td>\n",
       "      <td>5.591997</td>\n",
       "      <td>1.989943</td>\n",
       "    </tr>\n",
       "    <tr>\n",
       "      <th>max</th>\n",
       "      <td>1.000000</td>\n",
       "      <td>1.000000</td>\n",
       "      <td>1.000000</td>\n",
       "      <td>1.000000</td>\n",
       "      <td>1.000000</td>\n",
       "      <td>8.300000</td>\n",
       "      <td>8.180000</td>\n",
       "      <td>8.150000</td>\n",
       "      <td>58.099998</td>\n",
       "      <td>179.899994</td>\n",
       "      <td>...</td>\n",
       "      <td>7.604000</td>\n",
       "      <td>7.704000</td>\n",
       "      <td>5.762271</td>\n",
       "      <td>5.639000</td>\n",
       "      <td>9.885731</td>\n",
       "      <td>1.000000</td>\n",
       "      <td>1.000000</td>\n",
       "      <td>1.000000</td>\n",
       "      <td>9.059563</td>\n",
       "      <td>7.829630</td>\n",
       "    </tr>\n",
       "  </tbody>\n",
       "</table>\n",
       "<p>8 rows × 24 columns</p>\n",
       "</div>"
      ],
      "text/plain": [
       "           africa        asia      europe        paci     america  \\\n",
       "count  144.000000  144.000000  144.000000  144.000000  144.000000   \n",
       "mean     0.333333    0.208333    0.187500    0.055556    0.215278   \n",
       "std      0.473050    0.407534    0.391675    0.229861    0.412450   \n",
       "min      0.000000    0.000000    0.000000    0.000000    0.000000   \n",
       "25%      0.000000    0.000000    0.000000    0.000000    0.000000   \n",
       "50%      0.000000    0.000000    0.000000    0.000000    0.000000   \n",
       "75%      1.000000    0.000000    0.000000    0.000000    0.000000   \n",
       "max      1.000000    1.000000    1.000000    1.000000    1.000000   \n",
       "\n",
       "       totalfert85  totalfert90   totfert95  crudebirth85   infmort85  ...  \\\n",
       "count   144.000000   144.000000  144.000000    144.000000  144.000000  ...   \n",
       "mean      4.342638     3.993472    3.642292     31.498610   58.673611  ...   \n",
       "std       1.993310     1.889370    1.829681     12.894369   45.335575  ...   \n",
       "min       1.310000     1.220000    1.060000      9.900000    4.900000  ...   \n",
       "25%       2.380000     2.160000    1.985000     19.325000   17.075000  ...   \n",
       "50%       4.500000     3.805000    3.180000     31.550000   49.450001  ...   \n",
       "75%       6.162500     5.662500    5.040000     42.275001   98.549999  ...   \n",
       "max       8.300000     8.180000    8.150000     58.099998  179.899994  ...   \n",
       "\n",
       "       Educyears85prim  Educyears90prim  logactualtrade  logfrankrom  \\\n",
       "count       144.000000       144.000000      144.000000   144.000000   \n",
       "mean       -274.986053      -260.938477        4.093109     2.946278   \n",
       "std         450.583923       443.452271        0.643546     0.786632   \n",
       "min        -999.000000      -999.000000        2.577182     0.833000   \n",
       "25%        -999.000000      -999.000000        3.723361     2.441000   \n",
       "50%           2.439500         2.754500        4.140511     2.970500   \n",
       "75%           4.026000         4.318500        4.502928     3.438000   \n",
       "max           7.604000         7.704000        5.762271     5.639000   \n",
       "\n",
       "       logrgdppc1985      oecd85      opec85     easteur     logarea  \\\n",
       "count     144.000000  144.000000  144.000000  144.000000  144.000000   \n",
       "mean        7.871720    0.166667    0.083333    0.041667    4.033285   \n",
       "std         1.061090    0.373979    0.277350    0.200524    2.278812   \n",
       "min         5.700444    0.000000    0.000000    0.000000   -2.103734   \n",
       "25%         6.999711    0.000000    0.000000    0.000000    2.773584   \n",
       "50%         7.798466    0.000000    0.000000    0.000000    4.515093   \n",
       "75%         8.736208    0.000000    0.000000    0.000000    5.591997   \n",
       "max         9.885731    1.000000    1.000000    1.000000    9.059563   \n",
       "\n",
       "            lnpop  \n",
       "count  144.000000  \n",
       "mean     0.902725  \n",
       "std      1.969231  \n",
       "min     -3.506558  \n",
       "25%     -0.280092  \n",
       "50%      1.017398  \n",
       "75%      1.989943  \n",
       "max      7.829630  \n",
       "\n",
       "[8 rows x 24 columns]"
      ]
     },
     "execution_count": 8,
     "metadata": {},
     "output_type": "execute_result"
    }
   ],
   "source": [
    "Data.describe()"
   ]
  },
  {
   "cell_type": "markdown",
   "metadata": {},
   "source": [
    "## Generating New Variables \n",
    "**We need to create some extra variables used in the paper**"
   ]
  },
  {
   "cell_type": "markdown",
   "metadata": {},
   "source": [
    "**Fertility variables**"
   ]
  },
  {
   "cell_type": "code",
   "execution_count": 9,
   "metadata": {},
   "outputs": [],
   "source": [
    "#Variable totalfert8590:\n",
    "    #The average fertility rate between 1985 to 1990\n",
    "Data['totalfert8590'] = (Data['totalfert85'] + Data['totalfert90'])/2\n",
    "\n",
    "#Variable totalfert8595:\n",
    "    #The average fertility rate between 1985 to 1995\n",
    "Data['totalfert8595'] = (Data['totalfert85'] + Data['totalfert90'] + Data['totfert95'])/3\n",
    "\n",
    "#Variable of Infant Mortality separated by OECD and Non-OECD countries\n",
    "Data['intinfmort85'] = (Data['infmort85']*Data['oecd85']) \n",
    "\n"
   ]
  },
  {
   "cell_type": "code",
   "execution_count": 10,
   "metadata": {
    "scrolled": true
   },
   "outputs": [
    {
     "data": {
      "text/html": [
       "<div>\n",
       "<style scoped>\n",
       "    .dataframe tbody tr th:only-of-type {\n",
       "        vertical-align: middle;\n",
       "    }\n",
       "\n",
       "    .dataframe tbody tr th {\n",
       "        vertical-align: top;\n",
       "    }\n",
       "\n",
       "    .dataframe thead th {\n",
       "        text-align: right;\n",
       "    }\n",
       "</style>\n",
       "<table border=\"1\" class=\"dataframe\">\n",
       "  <thead>\n",
       "    <tr style=\"text-align: right;\">\n",
       "      <th></th>\n",
       "      <th>totalfert8590</th>\n",
       "      <th>totalfert8595</th>\n",
       "      <th>intinfmort85</th>\n",
       "    </tr>\n",
       "  </thead>\n",
       "  <tbody>\n",
       "    <tr>\n",
       "      <th>count</th>\n",
       "      <td>144.000000</td>\n",
       "      <td>144.000000</td>\n",
       "      <td>144.000000</td>\n",
       "    </tr>\n",
       "    <tr>\n",
       "      <th>mean</th>\n",
       "      <td>4.168056</td>\n",
       "      <td>3.992801</td>\n",
       "      <td>1.814583</td>\n",
       "    </tr>\n",
       "    <tr>\n",
       "      <th>std</th>\n",
       "      <td>1.934161</td>\n",
       "      <td>1.888721</td>\n",
       "      <td>6.542609</td>\n",
       "    </tr>\n",
       "    <tr>\n",
       "      <th>min</th>\n",
       "      <td>1.265000</td>\n",
       "      <td>1.196667</td>\n",
       "      <td>0.000000</td>\n",
       "    </tr>\n",
       "    <tr>\n",
       "      <th>25%</th>\n",
       "      <td>2.227500</td>\n",
       "      <td>2.150833</td>\n",
       "      <td>0.000000</td>\n",
       "    </tr>\n",
       "    <tr>\n",
       "      <th>50%</th>\n",
       "      <td>4.077500</td>\n",
       "      <td>3.750000</td>\n",
       "      <td>0.000000</td>\n",
       "    </tr>\n",
       "    <tr>\n",
       "      <th>75%</th>\n",
       "      <td>5.931250</td>\n",
       "      <td>5.633333</td>\n",
       "      <td>0.000000</td>\n",
       "    </tr>\n",
       "    <tr>\n",
       "      <th>max</th>\n",
       "      <td>8.190001</td>\n",
       "      <td>8.176667</td>\n",
       "      <td>70.199997</td>\n",
       "    </tr>\n",
       "  </tbody>\n",
       "</table>\n",
       "</div>"
      ],
      "text/plain": [
       "       totalfert8590  totalfert8595  intinfmort85\n",
       "count     144.000000     144.000000    144.000000\n",
       "mean        4.168056       3.992801      1.814583\n",
       "std         1.934161       1.888721      6.542609\n",
       "min         1.265000       1.196667      0.000000\n",
       "25%         2.227500       2.150833      0.000000\n",
       "50%         4.077500       3.750000      0.000000\n",
       "75%         5.931250       5.633333      0.000000\n",
       "max         8.190001       8.176667     70.199997"
      ]
     },
     "execution_count": 10,
     "metadata": {},
     "output_type": "execute_result"
    }
   ],
   "source": [
    "#Lets see the descriptive statistics of the new variables\n",
    "Data[['totalfert8590','totalfert8595','intinfmort85']].describe()"
   ]
  },
  {
   "cell_type": "markdown",
   "metadata": {},
   "source": [
    "**Education Variables**"
   ]
  },
  {
   "cell_type": "code",
   "execution_count": 11,
   "metadata": {
    "scrolled": false
   },
   "outputs": [],
   "source": [
    "    #Generate capital accummulation in different time windows (used for robustness checks)\n",
    "Data['D_educy'] = (Data['Educyears90tot']-Data['Educyears85tot']) \n",
    "Data['D_educy95'] = (Data['Educyears95tot']-Data['Educyears85tot']) \n",
    "Data['D_educy99'] = (Data['Educyears99tot']-Data['Educyears85tot']) \n",
    "\n",
    "Data['D_educyprimary'] = (Data['Educyears90prim']-Data['Educyears85prim']) \n",
    "\n"
   ]
  },
  {
   "cell_type": "code",
   "execution_count": 12,
   "metadata": {},
   "outputs": [
    {
     "data": {
      "text/plain": [
       "count     144.000000\n",
       "mean       14.047619\n",
       "std       117.491325\n",
       "min        -0.526000\n",
       "25%         0.000000\n",
       "50%         0.052500\n",
       "75%         0.285250\n",
       "max      1000.976013\n",
       "Name: D_educyprimary, dtype: float64"
      ]
     },
     "execution_count": 12,
     "metadata": {},
     "output_type": "execute_result"
    }
   ],
   "source": [
    "Data['D_educyprimary'].describe()"
   ]
  },
  {
   "cell_type": "code",
   "execution_count": 13,
   "metadata": {
    "scrolled": true
   },
   "outputs": [
    {
     "name": "stdout",
     "output_type": "stream",
     "text": [
      "CtrCode             object\n",
      "country             object\n",
      "africa                int8\n",
      "asia                  int8\n",
      "europe                int8\n",
      "paci                  int8\n",
      "america               int8\n",
      "totalfert85        float32\n",
      "totalfert90        float32\n",
      "totfert95          float32\n",
      "crudebirth85       float32\n",
      "infmort85          float32\n",
      "Educyears85tot     float32\n",
      "Educyears90tot     float32\n",
      "Educyears95tot     float32\n",
      "Educyears99tot     float32\n",
      "Educyears85prim    float32\n",
      "Educyears90prim    float32\n",
      "logactualtrade     float32\n",
      "logfrankrom        float32\n",
      "logrgdppc1985      float32\n",
      "oecd85                int8\n",
      "opec85                int8\n",
      "easteur               int8\n",
      "logarea            float32\n",
      "lnpop              float32\n",
      "totalfert8590      float32\n",
      "totalfert8595      float32\n",
      "intinfmort85       float32\n",
      "D_educy            float32\n",
      "D_educy95          float32\n",
      "D_educy99          float32\n",
      "D_educyprimary     float32\n",
      "dtype: object\n"
     ]
    }
   ],
   "source": [
    "dataTypeSeries = Data.dtypes\n",
    "print(dataTypeSeries)"
   ]
  },
  {
   "cell_type": "code",
   "execution_count": 14,
   "metadata": {},
   "outputs": [
    {
     "name": "stdout",
     "output_type": "stream",
     "text": [
      "CtrCode             object\n",
      "country             object\n",
      "africa             float32\n",
      "asia               float32\n",
      "europe             float32\n",
      "paci               float32\n",
      "america            float32\n",
      "totalfert85        float32\n",
      "totalfert90        float32\n",
      "totfert95          float32\n",
      "crudebirth85       float32\n",
      "infmort85          float32\n",
      "Educyears85tot     float32\n",
      "Educyears90tot     float32\n",
      "Educyears95tot     float32\n",
      "Educyears99tot     float32\n",
      "Educyears85prim    float32\n",
      "Educyears90prim    float32\n",
      "logactualtrade     float32\n",
      "logfrankrom        float32\n",
      "logrgdppc1985      float32\n",
      "oecd85             float32\n",
      "opec85             float32\n",
      "easteur            float32\n",
      "logarea            float32\n",
      "lnpop              float32\n",
      "totalfert8590      float32\n",
      "totalfert8595      float32\n",
      "intinfmort85       float32\n",
      "D_educy            float32\n",
      "D_educy95          float32\n",
      "D_educy99          float32\n",
      "D_educyprimary     float32\n",
      "dtype: object\n"
     ]
    }
   ],
   "source": [
    "Data['oecd85'] = Data['oecd85'].astype(np.float32)\n",
    "Data['opec85'] = Data['opec85'].astype(np.float32)\n",
    "\n",
    "Data['easteur'] = Data['easteur'].astype(np.float32)\n",
    "Data['africa'] = Data['africa'].astype(np.float32)\n",
    "Data['paci'] = Data['paci'].astype(np.float32)\n",
    "Data['asia'] = Data['asia'].astype(np.float32)\n",
    "Data['america'] = Data['america'].astype(np.float32)\n",
    "Data['europe'] = Data['europe'].astype(np.float32)\n",
    "dataTypeSeries = Data.dtypes\n",
    "print(dataTypeSeries)"
   ]
  },
  {
   "cell_type": "markdown",
   "metadata": {},
   "source": [
    "**Regional Dummies by OECD country differenciation**\n",
    "\n",
    "Here the regional dummy is multiplied by the OECD dummy. If both are 1 then the new var = 1 meaning the country is a OECD country of the specified region"
   ]
  },
  {
   "cell_type": "code",
   "execution_count": 15,
   "metadata": {},
   "outputs": [],
   "source": [
    "Data['intafrica'] = (Data['africa']*Data['oecd85'])\n",
    "Data['intasia'] = (Data['africa']*Data['oecd85'])\n",
    "Data['intpaci'] = (Data['africa']*Data['oecd85'])\n",
    "Data['intamerica'] = (Data['africa']*Data['oecd85'])\n",
    "Data['inteurope'] = (Data['africa']*Data['oecd85'])"
   ]
  },
  {
   "cell_type": "markdown",
   "metadata": {},
   "source": [
    "**Trade variables**"
   ]
  },
  {
   "cell_type": "code",
   "execution_count": 16,
   "metadata": {},
   "outputs": [],
   "source": [
    "Data['intlogrgdppc1985'] = (Data['logrgdppc1985']*Data['oecd85'])\n",
    "Data['intlogactualtrade'] = (Data['logactualtrade']*Data['oecd85'])\n",
    "Data['intlogfrankrom'] = (Data['logfrankrom']*Data['oecd85'])\n",
    "Data['intlogarea'] = (Data['logarea']*Data['oecd85'])\n",
    "Data['intlnpop'] = (Data['lnpop']*Data['oecd85'])"
   ]
  },
  {
   "cell_type": "code",
   "execution_count": 17,
   "metadata": {
    "scrolled": true
   },
   "outputs": [
    {
     "data": {
      "text/html": [
       "<div>\n",
       "<style scoped>\n",
       "    .dataframe tbody tr th:only-of-type {\n",
       "        vertical-align: middle;\n",
       "    }\n",
       "\n",
       "    .dataframe tbody tr th {\n",
       "        vertical-align: top;\n",
       "    }\n",
       "\n",
       "    .dataframe thead th {\n",
       "        text-align: right;\n",
       "    }\n",
       "</style>\n",
       "<table border=\"1\" class=\"dataframe\">\n",
       "  <thead>\n",
       "    <tr style=\"text-align: right;\">\n",
       "      <th></th>\n",
       "      <th>intlogrgdppc1985</th>\n",
       "      <th>intlogactualtrade</th>\n",
       "      <th>intlogfrankrom</th>\n",
       "      <th>intlogarea</th>\n",
       "      <th>intlnpop</th>\n",
       "    </tr>\n",
       "  </thead>\n",
       "  <tbody>\n",
       "    <tr>\n",
       "      <th>count</th>\n",
       "      <td>144.000000</td>\n",
       "      <td>144.000000</td>\n",
       "      <td>144.000000</td>\n",
       "      <td>144.000000</td>\n",
       "      <td>144.000000</td>\n",
       "    </tr>\n",
       "    <tr>\n",
       "      <th>mean</th>\n",
       "      <td>1.545975</td>\n",
       "      <td>0.692652</td>\n",
       "      <td>0.483632</td>\n",
       "      <td>0.748971</td>\n",
       "      <td>0.288931</td>\n",
       "    </tr>\n",
       "    <tr>\n",
       "      <th>std</th>\n",
       "      <td>3.472481</td>\n",
       "      <td>1.569036</td>\n",
       "      <td>1.152724</td>\n",
       "      <td>1.841770</td>\n",
       "      <td>0.927118</td>\n",
       "    </tr>\n",
       "    <tr>\n",
       "      <th>min</th>\n",
       "      <td>0.000000</td>\n",
       "      <td>0.000000</td>\n",
       "      <td>0.000000</td>\n",
       "      <td>-0.001001</td>\n",
       "      <td>-2.063568</td>\n",
       "    </tr>\n",
       "    <tr>\n",
       "      <th>25%</th>\n",
       "      <td>0.000000</td>\n",
       "      <td>0.000000</td>\n",
       "      <td>0.000000</td>\n",
       "      <td>0.000000</td>\n",
       "      <td>-0.000000</td>\n",
       "    </tr>\n",
       "    <tr>\n",
       "      <th>50%</th>\n",
       "      <td>0.000000</td>\n",
       "      <td>0.000000</td>\n",
       "      <td>0.000000</td>\n",
       "      <td>0.000000</td>\n",
       "      <td>-0.000000</td>\n",
       "    </tr>\n",
       "    <tr>\n",
       "      <th>75%</th>\n",
       "      <td>0.000000</td>\n",
       "      <td>0.000000</td>\n",
       "      <td>0.000000</td>\n",
       "      <td>0.000000</td>\n",
       "      <td>0.000000</td>\n",
       "    </tr>\n",
       "    <tr>\n",
       "      <th>max</th>\n",
       "      <td>9.715349</td>\n",
       "      <td>5.356303</td>\n",
       "      <td>5.639000</td>\n",
       "      <td>8.256298</td>\n",
       "      <td>4.765263</td>\n",
       "    </tr>\n",
       "  </tbody>\n",
       "</table>\n",
       "</div>"
      ],
      "text/plain": [
       "       intlogrgdppc1985  intlogactualtrade  intlogfrankrom  intlogarea  \\\n",
       "count        144.000000         144.000000      144.000000  144.000000   \n",
       "mean           1.545975           0.692652        0.483632    0.748971   \n",
       "std            3.472481           1.569036        1.152724    1.841770   \n",
       "min            0.000000           0.000000        0.000000   -0.001001   \n",
       "25%            0.000000           0.000000        0.000000    0.000000   \n",
       "50%            0.000000           0.000000        0.000000    0.000000   \n",
       "75%            0.000000           0.000000        0.000000    0.000000   \n",
       "max            9.715349           5.356303        5.639000    8.256298   \n",
       "\n",
       "         intlnpop  \n",
       "count  144.000000  \n",
       "mean     0.288931  \n",
       "std      0.927118  \n",
       "min     -2.063568  \n",
       "25%     -0.000000  \n",
       "50%     -0.000000  \n",
       "75%      0.000000  \n",
       "max      4.765263  "
      ]
     },
     "execution_count": 17,
     "metadata": {},
     "output_type": "execute_result"
    }
   ],
   "source": [
    "Data[['intlogrgdppc1985','intlogactualtrade','intlogfrankrom','intlogarea','intlnpop']].describe()"
   ]
  },
  {
   "cell_type": "markdown",
   "metadata": {},
   "source": [
    "## Creating sub-gropus within the database\n",
    "\n",
    "_Authors main hypothesis is that trade makes the industrialized countries rises the demand on human capital to use the advance manufactored technology. Consecuently, this induce to a decline in fetility rate because quality is prefered and has greated benefits over quantity of children. On the other hand, in non industrialized economies, the opposite effect is obtained when countries are open to international trade. That means that in non industrial economies, international trade rises the fertility rate since the demand on human capital falls when the economy specializes in non manufactured goods due to it's comparative advantage producing agricultural less productive goods._\n",
    "\n",
    "_The regressions done in the paper examine for empirical evidence on the effect of international trade on fertility rates and capital formation. For doing so, the sample is divided by OECD and non OECD members assuming that the OECD countries are more industrialized._ Databases that show this difference are created bellow."
   ]
  },
  {
   "cell_type": "markdown",
   "metadata": {},
   "source": [
    "##### Database free of missing values \n",
    "Some education variables are missing so we need a database that excludes those observations"
   ]
  },
  {
   "cell_type": "code",
   "execution_count": 18,
   "metadata": {},
   "outputs": [
    {
     "name": "stdout",
     "output_type": "stream",
     "text": [
      "Number of Countries in this DataSeries = 103 .(i.e excluding education missings, there are 103 countries\n"
     ]
    }
   ],
   "source": [
    "df_educ = Data.loc[(Data.Educyears85tot>-999) & (Data.Educyears95tot>-999)].reset_index(drop=True)\n",
    "print('Number of Countries in this DataSeries =',df_educ.shape[0],'.(i.e excluding education missings, there are',df_educ.shape[0],'countries')"
   ]
  },
  {
   "cell_type": "code",
   "execution_count": 19,
   "metadata": {},
   "outputs": [],
   "source": [
    "df_educ_prim = Data.loc[(Data.Educyears85prim>-999) & (Data.Educyears90prim>-999)].reset_index(drop=True)\n"
   ]
  },
  {
   "cell_type": "markdown",
   "metadata": {},
   "source": [
    "##### OECD members databases"
   ]
  },
  {
   "cell_type": "code",
   "execution_count": 20,
   "metadata": {
    "scrolled": true
   },
   "outputs": [
    {
     "name": "stdout",
     "output_type": "stream",
     "text": [
      "Number of Countries in this DataSeries = 24 .(i.e 24 countries that were OECD members in 1985)\n"
     ]
    }
   ],
   "source": [
    "    #Data base for OECD members\n",
    "df_ocde = Data.loc[Data.oecd85==1].reset_index(drop=True)\n",
    "    # In a database called \"df_ocde\" get all observatios for which the oecd85 variable is equal to 1\n",
    "    # That means, that if oecd85=1 the country was part of OECD in 1985 the drop=true means to drop\n",
    "    # all observations for which variable oecd85 is different from 1\n",
    "print('Number of Countries in this DataSeries =',df_ocde.shape[0],'.(i.e',df_ocde.shape[0],'countries that were OECD members in 1985)')"
   ]
  },
  {
   "cell_type": "markdown",
   "metadata": {},
   "source": [
    "We need to create even a smallest subgroup in the database with only the OECD members. Authors exclude the OPEC members, _Basically because the trade patterns of oil-rich countries since the revenues associated with the commodity production could potentially distort the relation between trade and fertility or trade and education._"
   ]
  },
  {
   "cell_type": "code",
   "execution_count": 21,
   "metadata": {
    "scrolled": true
   },
   "outputs": [
    {
     "name": "stdout",
     "output_type": "stream",
     "text": [
      "Number of Countries in this DataSeries = 24 .(i.e 24 countries that were OECD but no OPEC members in 1985)\n"
     ]
    }
   ],
   "source": [
    "    #Data base for OECD members - EXCLUDING OPEC members\n",
    "df_ocde_nonopec = df_ocde.loc[df_ocde.opec85==0].reset_index(drop=True)\n",
    "print('Number of Countries in this DataSeries =',df_ocde_nonopec.shape[0],'.(i.e',df_ocde_nonopec.shape[0],'countries that were OECD but no OPEC members in 1985)')"
   ]
  },
  {
   "cell_type": "code",
   "execution_count": 22,
   "metadata": {},
   "outputs": [
    {
     "name": "stdout",
     "output_type": "stream",
     "text": [
      "Number of Countries in this DataSeries = 23 .(i.e excluding education missings, there are 23 countries that were OECD but not OPEC members in 1985)\n"
     ]
    }
   ],
   "source": [
    "    #Data base for non-OECD members - Excluding OPEC members and dropping education missings\n",
    "dfeduc_ocde_nonopec = df_ocde_nonopec.loc[(df_ocde_nonopec.Educyears85tot>-999) & (df_ocde_nonopec.Educyears90tot>-999)].reset_index(drop=True)\n",
    "print('Number of Countries in this DataSeries =',dfeduc_ocde_nonopec.shape[0],'.(i.e excluding education missings, there are',dfeduc_ocde_nonopec.shape[0],'countries that were OECD but not OPEC members in 1985)')"
   ]
  },
  {
   "cell_type": "markdown",
   "metadata": {},
   "source": [
    "##### Non-OECD members databases"
   ]
  },
  {
   "cell_type": "code",
   "execution_count": 23,
   "metadata": {},
   "outputs": [
    {
     "name": "stdout",
     "output_type": "stream",
     "text": [
      "Number of Countries in this DataSeries = 120 .(i.e 24 countries that were not OECD members in 1985)\n"
     ]
    }
   ],
   "source": [
    "    #Data base for non-OECD members - includes OPEC members\n",
    "df_nonocde = Data.loc[Data.oecd85==0].reset_index(drop=True)\n",
    "    # This code does the opposite, here we are interested in dropping observations for which \n",
    "    # oecd85=0, meaning, the country was not a OECD member in 1985 \n",
    "print('Number of Countries in this DataSeries =',df_nonocde.shape[0],'.(i.e',df_ocde.shape[0],'countries that were not OECD members in 1985)')"
   ]
  },
  {
   "cell_type": "markdown",
   "metadata": {},
   "source": [
    "_Again, we need to do a subset of Non-OECD countries excluding OPEC country members for the reason explained above_"
   ]
  },
  {
   "cell_type": "code",
   "execution_count": 24,
   "metadata": {},
   "outputs": [
    {
     "name": "stdout",
     "output_type": "stream",
     "text": [
      "Number of Countries in this DataSeries = 108 .(i.e 108 countries that were not OECD or OPEC members in 1985)\n"
     ]
    }
   ],
   "source": [
    "    #Data base for non-OECD members - Excluding OPEC members\n",
    "df_nonocde_nonopec = df_nonocde.loc[df_nonocde.opec85==0].reset_index(drop=True)\n",
    "print('Number of Countries in this DataSeries =',df_nonocde_nonopec.shape[0],'.(i.e',df_nonocde_nonopec.shape[0],'countries that were not OECD or OPEC members in 1985)')"
   ]
  },
  {
   "cell_type": "code",
   "execution_count": 25,
   "metadata": {},
   "outputs": [
    {
     "name": "stdout",
     "output_type": "stream",
     "text": [
      "Number of Countries in this DataSeries = 74 .(i.e excluding education missings, there are 74 countries that were not OECD or OPEC members in 1985)\n"
     ]
    }
   ],
   "source": [
    "    #Data base for non-OECD members - Excluding OPEC members and dropping education missings\n",
    "dfeduc_nonocde_nonopec = df_nonocde_nonopec.loc[(df_nonocde_nonopec.Educyears85tot>-999) & (df_nonocde_nonopec.Educyears90tot>-999)].reset_index(drop=True)\n",
    "print('Number of Countries in this DataSeries =',dfeduc_nonocde_nonopec.shape[0],'.(i.e excluding education missings, there are',dfeduc_nonocde_nonopec.shape[0],'countries that were not OECD or OPEC members in 1985)')"
   ]
  },
  {
   "cell_type": "markdown",
   "metadata": {},
   "source": [
    "## Regressions"
   ]
  },
  {
   "cell_type": "markdown",
   "metadata": {},
   "source": [
    "### Table 1: The effect of trade on total fertility rate\n",
    "    Here the authors want to se the effect of trade on the average total fertility rate between 1985-1990\n",
    "    \n",
    "The fisrt four estimations are for non-OECD countries and the expected effect of international trade on the demand for human capital induces a rise in fertility in non-industrial economies.\n",
    "\n",
    "The latter four columns are for OECD countries and the expected effect of trade in fertility rates is, according to the theory, the opposite one."
   ]
  },
  {
   "cell_type": "markdown",
   "metadata": {},
   "source": [
    "#### For Non-OECD Countries: \n",
    "\n",
    "- Lets generate the first column: Using OLS to see the relationship of trade on fertility rates"
   ]
  },
  {
   "cell_type": "code",
   "execution_count": 26,
   "metadata": {
    "scrolled": false
   },
   "outputs": [
    {
     "data": {
      "text/html": [
       "<table class=\"simpletable\">\n",
       "<tr>\n",
       "        <td>Model:</td>               <td>OLS</td>         <td>Adj. R-squared:</td>     <td>0.570</td> \n",
       "</tr>\n",
       "<tr>\n",
       "  <td>Dependent Variable:</td>    <td>totalfert85</td>          <td>AIC:</td>         <td>349.0704</td>\n",
       "</tr>\n",
       "<tr>\n",
       "         <td>Date:</td>        <td>2020-06-26 22:41</td>        <td>BIC:</td>         <td>357.1167</td>\n",
       "</tr>\n",
       "<tr>\n",
       "   <td>No. Observations:</td>         <td>108</td>         <td>Log-Likelihood:</td>    <td>-171.54</td>\n",
       "</tr>\n",
       "<tr>\n",
       "       <td>Df Model:</td>              <td>2</td>           <td>F-statistic:</td>       <td>66.09</td> \n",
       "</tr>\n",
       "<tr>\n",
       "     <td>Df Residuals:</td>           <td>105</td>       <td>Prob (F-statistic):</td> <td>2.64e-19</td>\n",
       "</tr>\n",
       "<tr>\n",
       "      <td>R-squared:</td>            <td>0.578</td>            <td>Scale:</td>         <td>1.4432</td> \n",
       "</tr>\n",
       "</table>\n",
       "<table class=\"simpletable\">\n",
       "<tr>\n",
       "         <td></td>         <th>Coef.</th>  <th>Std.Err.</th>     <th>z</th>     <th>P>|z|</th> <th>[0.025</th>  <th>0.975]</th> \n",
       "</tr>\n",
       "<tr>\n",
       "  <th>Intercept</th>      <td>16.3925</td>  <td>1.1363</td>   <td>14.4257</td> <td>0.0000</td> <td>14.1653</td> <td>18.6197</td>\n",
       "</tr>\n",
       "<tr>\n",
       "  <th>logactualtrade</th> <td>0.2094</td>   <td>0.1711</td>   <td>1.2239</td>  <td>0.2210</td> <td>-0.1259</td> <td>0.5448</td> \n",
       "</tr>\n",
       "<tr>\n",
       "  <th>logrgdppc1985</th>  <td>-1.6571</td>  <td>0.1448</td>  <td>-11.4426</td> <td>0.0000</td> <td>-1.9410</td> <td>-1.3733</td>\n",
       "</tr>\n",
       "</table>\n",
       "<table class=\"simpletable\">\n",
       "<tr>\n",
       "     <td>Omnibus:</td>    <td>12.584</td>  <td>Durbin-Watson:</td>    <td>1.849</td>\n",
       "</tr>\n",
       "<tr>\n",
       "  <td>Prob(Omnibus):</td>  <td>0.002</td> <td>Jarque-Bera (JB):</td> <td>18.060</td>\n",
       "</tr>\n",
       "<tr>\n",
       "       <td>Skew:</td>      <td>0.562</td>     <td>Prob(JB):</td>      <td>0.000</td>\n",
       "</tr>\n",
       "<tr>\n",
       "     <td>Kurtosis:</td>    <td>4.658</td>  <td>Condition No.:</td>     <td>81</td>  \n",
       "</tr>\n",
       "</table>"
      ],
      "text/plain": [
       "<class 'statsmodels.iolib.summary2.Summary'>\n",
       "\"\"\"\n",
       "                 Results: Ordinary least squares\n",
       "=================================================================\n",
       "Model:              OLS              Adj. R-squared:     0.570   \n",
       "Dependent Variable: totalfert85      AIC:                349.0704\n",
       "Date:               2020-06-26 22:41 BIC:                357.1167\n",
       "No. Observations:   108              Log-Likelihood:     -171.54 \n",
       "Df Model:           2                F-statistic:        66.09   \n",
       "Df Residuals:       105              Prob (F-statistic): 2.64e-19\n",
       "R-squared:          0.578            Scale:              1.4432  \n",
       "-----------------------------------------------------------------\n",
       "                  Coef.  Std.Err.    z     P>|z|   [0.025  0.975]\n",
       "-----------------------------------------------------------------\n",
       "Intercept        16.3925   1.1363  14.4257 0.0000 14.1653 18.6197\n",
       "logactualtrade    0.2094   0.1711   1.2239 0.2210 -0.1259  0.5448\n",
       "logrgdppc1985    -1.6571   0.1448 -11.4426 0.0000 -1.9410 -1.3733\n",
       "-----------------------------------------------------------------\n",
       "Omnibus:              12.584       Durbin-Watson:          1.849 \n",
       "Prob(Omnibus):        0.002        Jarque-Bera (JB):       18.060\n",
       "Skew:                 0.562        Prob(JB):               0.000 \n",
       "Kurtosis:             4.658        Condition No.:          81    \n",
       "=================================================================\n",
       "\n",
       "\"\"\""
      ]
     },
     "execution_count": 26,
     "metadata": {},
     "output_type": "execute_result"
    }
   ],
   "source": [
    "    # Column 1\n",
    "        #Regress the fertility rate of 1985 upon the logarithm of trade and controlling for GDP per capita\n",
    "col1_table1 = smf.ols(formula='totalfert85 ~ logactualtrade + logrgdppc1985', data=df_nonocde_nonopec).fit(cov_type='HC1')\n",
    "                # In a variable called \"col1_table1\" save the results provided by the command of statmodels ols\n",
    "                # This command runs an Ordinary Least Squares regression following the formula specified where\n",
    "                # the variable in the left side of ~ is the dependent variable and the variables (separated by a \"+\")\n",
    "                # are the exogenous variables.\n",
    "                # The data used here, is the subgroup of data for non-ocde countries and excluding OPEC members to\n",
    "                # The input in the .fit() is the correction of standard errors when the presence of heteroscedasticity. \n",
    "  \n",
    "        # The following command allow us to se the ANOVA table with the results of the main tests for the regression\n",
    "col1_table1.summary2()"
   ]
  },
  {
   "cell_type": "markdown",
   "metadata": {},
   "source": [
    "_The results presented above predict there is a positive relation between trade and fertility rates in non industrialized countries, just like theory suggest. However, results are not statistically significant_"
   ]
  },
  {
   "cell_type": "code",
   "execution_count": 27,
   "metadata": {
    "scrolled": true
   },
   "outputs": [
    {
     "data": {
      "text/html": [
       "<table class=\"simpletable\">\n",
       "<tr>\n",
       "        <td>Model:</td>               <td>OLS</td>         <td>Adj. R-squared:</td>     <td>0.716</td> \n",
       "</tr>\n",
       "<tr>\n",
       "  <td>Dependent Variable:</td>    <td>totalfert85</td>          <td>AIC:</td>         <td>305.3441</td>\n",
       "</tr>\n",
       "<tr>\n",
       "         <td>Date:</td>        <td>2020-06-26 22:41</td>        <td>BIC:</td>         <td>316.0726</td>\n",
       "</tr>\n",
       "<tr>\n",
       "   <td>No. Observations:</td>         <td>108</td>         <td>Log-Likelihood:</td>    <td>-148.67</td>\n",
       "</tr>\n",
       "<tr>\n",
       "       <td>Df Model:</td>              <td>3</td>           <td>F-statistic:</td>       <td>123.9</td> \n",
       "</tr>\n",
       "<tr>\n",
       "     <td>Df Residuals:</td>           <td>104</td>       <td>Prob (F-statistic):</td> <td>3.34e-34</td>\n",
       "</tr>\n",
       "<tr>\n",
       "      <td>R-squared:</td>            <td>0.724</td>            <td>Scale:</td>         <td>0.95413</td>\n",
       "</tr>\n",
       "</table>\n",
       "<table class=\"simpletable\">\n",
       "<tr>\n",
       "         <td></td>         <th>Coef.</th>  <th>Std.Err.</th>    <th>z</th>     <th>P>|z|</th> <th>[0.025</th>  <th>0.975]</th>\n",
       "</tr>\n",
       "<tr>\n",
       "  <th>Intercept</th>      <td>4.2800</td>   <td>2.3428</td>  <td>1.8269</td>  <td>0.0677</td> <td>-0.3118</td> <td>8.8718</td>\n",
       "</tr>\n",
       "<tr>\n",
       "  <th>logactualtrade</th> <td>0.3319</td>   <td>0.1444</td>  <td>2.2980</td>  <td>0.0216</td> <td>0.0488</td>  <td>0.6150</td>\n",
       "</tr>\n",
       "<tr>\n",
       "  <th>logrgdppc1985</th>  <td>-0.3868</td>  <td>0.2653</td>  <td>-1.4582</td> <td>0.1448</td> <td>-0.9068</td> <td>0.1331</td>\n",
       "</tr>\n",
       "<tr>\n",
       "  <th>infmort85</th>      <td>0.0300</td>   <td>0.0047</td>  <td>6.4131</td>  <td>0.0000</td> <td>0.0208</td>  <td>0.0391</td>\n",
       "</tr>\n",
       "</table>\n",
       "<table class=\"simpletable\">\n",
       "<tr>\n",
       "     <td>Omnibus:</td>    <td>13.368</td>  <td>Durbin-Watson:</td>    <td>1.843</td>\n",
       "</tr>\n",
       "<tr>\n",
       "  <td>Prob(Omnibus):</td>  <td>0.001</td> <td>Jarque-Bera (JB):</td> <td>15.083</td>\n",
       "</tr>\n",
       "<tr>\n",
       "       <td>Skew:</td>      <td>0.739</td>     <td>Prob(JB):</td>      <td>0.001</td>\n",
       "</tr>\n",
       "<tr>\n",
       "     <td>Kurtosis:</td>    <td>4.080</td>  <td>Condition No.:</td>    <td>1651</td> \n",
       "</tr>\n",
       "</table>"
      ],
      "text/plain": [
       "<class 'statsmodels.iolib.summary2.Summary'>\n",
       "\"\"\"\n",
       "                 Results: Ordinary least squares\n",
       "=================================================================\n",
       "Model:              OLS              Adj. R-squared:     0.716   \n",
       "Dependent Variable: totalfert85      AIC:                305.3441\n",
       "Date:               2020-06-26 22:41 BIC:                316.0726\n",
       "No. Observations:   108              Log-Likelihood:     -148.67 \n",
       "Df Model:           3                F-statistic:        123.9   \n",
       "Df Residuals:       104              Prob (F-statistic): 3.34e-34\n",
       "R-squared:          0.724            Scale:              0.95413 \n",
       "-----------------------------------------------------------------\n",
       "                    Coef.  Std.Err.    z    P>|z|   [0.025 0.975]\n",
       "-----------------------------------------------------------------\n",
       "Intercept           4.2800   2.3428  1.8269 0.0677 -0.3118 8.8718\n",
       "logactualtrade      0.3319   0.1444  2.2980 0.0216  0.0488 0.6150\n",
       "logrgdppc1985      -0.3868   0.2653 -1.4582 0.1448 -0.9068 0.1331\n",
       "infmort85           0.0300   0.0047  6.4131 0.0000  0.0208 0.0391\n",
       "-----------------------------------------------------------------\n",
       "Omnibus:              13.368       Durbin-Watson:          1.843 \n",
       "Prob(Omnibus):        0.001        Jarque-Bera (JB):       15.083\n",
       "Skew:                 0.739        Prob(JB):               0.001 \n",
       "Kurtosis:             4.080        Condition No.:          1651  \n",
       "=================================================================\n",
       "* The condition number is large (2e+03). This might indicate\n",
       "strong multicollinearity or other numerical problems.\n",
       "\"\"\""
      ]
     },
     "execution_count": 27,
     "metadata": {},
     "output_type": "execute_result"
    }
   ],
   "source": [
    "    # Column 2\n",
    "        #Regress the fertility rate of 1985 upon the logarithm of trade and controlling for GDP per capita and infant mortality\n",
    "col2_table1 = smf.ols(formula='totalfert85 ~ logactualtrade + logrgdppc1985 + infmort85', data=df_nonocde_nonopec).fit(cov_type='HC1')\n",
    "col2_table1.summary2()"
   ]
  },
  {
   "cell_type": "markdown",
   "metadata": {},
   "source": [
    "_Even controlling for the infant mortality, there is a positive relation between trade and fertility rates. Yet, there is potential existence of omitted variables, measurement errors, and reverse causality._ Authors use an instrument: The Frankel and Romer(1999) instrument.\n",
    "\n",
    "**Notes on the Instrument:**\n",
    "This instrument accounts for the country’s intrinsic propensity to trade. This instrument is is an aggregating index from thousands of bilateral trade relationships which are estimated using a regression of bilateral trade share in GDP on seven variables and some of their interactions. Some of this variables include distance between the two trading economies, a country area and commercial borders. \n",
    "\n",
    "Those variables should be exogenous since might not be correlated with the error term in the above regression that contain unobserved things determining fertility rate. On the other hand, this exogenous index does measure the capacity or potential capacity of trade for a country and thus, works as a relevant instrument."
   ]
  },
  {
   "cell_type": "code",
   "execution_count": 28,
   "metadata": {},
   "outputs": [
    {
     "data": {
      "text/html": [
       "<table class=\"simpletable\">\n",
       "<tr>\n",
       "        <td>Model:</td>               <td>OLS</td>         <td>Adj. R-squared:</td>     <td>0.591</td> \n",
       "</tr>\n",
       "<tr>\n",
       "  <td>Dependent Variable:</td>    <td>totalfert85</td>          <td>AIC:</td>         <td>343.7143</td>\n",
       "</tr>\n",
       "<tr>\n",
       "         <td>Date:</td>        <td>2020-06-26 22:41</td>        <td>BIC:</td>         <td>351.7607</td>\n",
       "</tr>\n",
       "<tr>\n",
       "   <td>No. Observations:</td>         <td>108</td>         <td>Log-Likelihood:</td>    <td>-168.86</td>\n",
       "</tr>\n",
       "<tr>\n",
       "       <td>Df Model:</td>              <td>2</td>           <td>F-statistic:</td>       <td>86.11</td> \n",
       "</tr>\n",
       "<tr>\n",
       "     <td>Df Residuals:</td>           <td>105</td>       <td>Prob (F-statistic):</td> <td>7.32e-23</td>\n",
       "</tr>\n",
       "<tr>\n",
       "      <td>R-squared:</td>            <td>0.599</td>            <td>Scale:</td>         <td>1.3734</td> \n",
       "</tr>\n",
       "</table>\n",
       "<table class=\"simpletable\">\n",
       "<tr>\n",
       "            <td></td>             <th>Coef.</th>  <th>Std.Err.</th>     <th>z</th>     <th>P>|z|</th> <th>[0.025</th>  <th>0.975]</th> \n",
       "</tr>\n",
       "<tr>\n",
       "  <th>Intercept</th>             <td>15.4028</td>  <td>1.2535</td>   <td>12.2877</td> <td>0.0000</td> <td>12.9459</td> <td>17.8596</td>\n",
       "</tr>\n",
       "<tr>\n",
       "  <th>predicted_lntrade_1_3</th> <td>0.6935</td>   <td>0.2496</td>   <td>2.7788</td>  <td>0.0055</td> <td>0.2044</td>  <td>1.1827</td> \n",
       "</tr>\n",
       "<tr>\n",
       "  <th>logrgdppc1985</th>         <td>-1.7896</td>  <td>0.1364</td>  <td>-13.1228</td> <td>0.0000</td> <td>-2.0568</td> <td>-1.5223</td>\n",
       "</tr>\n",
       "</table>\n",
       "<table class=\"simpletable\">\n",
       "<tr>\n",
       "     <td>Omnibus:</td>    <td>11.460</td>  <td>Durbin-Watson:</td>    <td>1.863</td>\n",
       "</tr>\n",
       "<tr>\n",
       "  <td>Prob(Omnibus):</td>  <td>0.003</td> <td>Jarque-Bera (JB):</td> <td>15.781</td>\n",
       "</tr>\n",
       "<tr>\n",
       "       <td>Skew:</td>      <td>0.529</td>     <td>Prob(JB):</td>      <td>0.000</td>\n",
       "</tr>\n",
       "<tr>\n",
       "     <td>Kurtosis:</td>    <td>4.546</td>  <td>Condition No.:</td>     <td>87</td>  \n",
       "</tr>\n",
       "</table>"
      ],
      "text/plain": [
       "<class 'statsmodels.iolib.summary2.Summary'>\n",
       "\"\"\"\n",
       "                   Results: Ordinary least squares\n",
       "======================================================================\n",
       "Model:                 OLS               Adj. R-squared:      0.591   \n",
       "Dependent Variable:    totalfert85       AIC:                 343.7143\n",
       "Date:                  2020-06-26 22:41  BIC:                 351.7607\n",
       "No. Observations:      108               Log-Likelihood:      -168.86 \n",
       "Df Model:              2                 F-statistic:         86.11   \n",
       "Df Residuals:          105               Prob (F-statistic):  7.32e-23\n",
       "R-squared:             0.599             Scale:               1.3734  \n",
       "----------------------------------------------------------------------\n",
       "                       Coef.  Std.Err.    z     P>|z|   [0.025  0.975]\n",
       "----------------------------------------------------------------------\n",
       "Intercept             15.4028   1.2535  12.2877 0.0000 12.9459 17.8596\n",
       "predicted_lntrade_1_3  0.6935   0.2496   2.7788 0.0055  0.2044  1.1827\n",
       "logrgdppc1985         -1.7896   0.1364 -13.1228 0.0000 -2.0568 -1.5223\n",
       "----------------------------------------------------------------------\n",
       "Omnibus:               11.460         Durbin-Watson:            1.863 \n",
       "Prob(Omnibus):         0.003          Jarque-Bera (JB):         15.781\n",
       "Skew:                  0.529          Prob(JB):                 0.000 \n",
       "Kurtosis:              4.546          Condition No.:            87    \n",
       "======================================================================\n",
       "\n",
       "\"\"\""
      ]
     },
     "execution_count": 28,
     "metadata": {},
     "output_type": "execute_result"
    }
   ],
   "source": [
    "    #Column 3\n",
    "    # Run the IV regression without controlling for infant mortality\n",
    "fstStage_col3_table1 = smf.ols(formula='logactualtrade ~ logfrankrom + logrgdppc1985', data=df_nonocde_nonopec).fit(cov_type='HC1')\n",
    "df_nonocde_nonopec['predicted_lntrade_1_3'] = fstStage_col3_table1.predict()\n",
    "\n",
    "scdStage_1_3 = smf.ols(formula='totalfert85 ~ predicted_lntrade_1_3 + logrgdppc1985', data=df_nonocde_nonopec).fit(cov_type='HC1')\n",
    "scdStage_1_3.summary2()"
   ]
  },
  {
   "cell_type": "code",
   "execution_count": 29,
   "metadata": {
    "scrolled": true
   },
   "outputs": [
    {
     "data": {
      "text/html": [
       "<table class=\"simpletable\">\n",
       "<tr>\n",
       "        <td>Model:</td>               <td>OLS</td>         <td>Adj. R-squared:</td>     <td>0.729</td> \n",
       "</tr>\n",
       "<tr>\n",
       "  <td>Dependent Variable:</td>    <td>totalfert85</td>          <td>AIC:</td>         <td>300.0763</td>\n",
       "</tr>\n",
       "<tr>\n",
       "         <td>Date:</td>        <td>2020-06-26 22:41</td>        <td>BIC:</td>         <td>310.8048</td>\n",
       "</tr>\n",
       "<tr>\n",
       "   <td>No. Observations:</td>         <td>108</td>         <td>Log-Likelihood:</td>    <td>-146.04</td>\n",
       "</tr>\n",
       "<tr>\n",
       "       <td>Df Model:</td>              <td>3</td>           <td>F-statistic:</td>       <td>120.1</td> \n",
       "</tr>\n",
       "<tr>\n",
       "     <td>Df Residuals:</td>           <td>104</td>       <td>Prob (F-statistic):</td> <td>1.17e-33</td>\n",
       "</tr>\n",
       "<tr>\n",
       "      <td>R-squared:</td>            <td>0.737</td>            <td>Scale:</td>         <td>0.90871</td>\n",
       "</tr>\n",
       "</table>\n",
       "<table class=\"simpletable\">\n",
       "<tr>\n",
       "            <td></td>             <th>Coef.</th>  <th>Std.Err.</th>    <th>z</th>     <th>P>|z|</th> <th>[0.025</th>  <th>0.975]</th>\n",
       "</tr>\n",
       "<tr>\n",
       "  <th>Intercept</th>             <td>3.0929</td>   <td>2.4909</td>  <td>1.2417</td>  <td>0.2144</td> <td>-1.7892</td> <td>7.9751</td>\n",
       "</tr>\n",
       "<tr>\n",
       "  <th>predicted_lntrade_1_4</th> <td>0.7005</td>   <td>0.1828</td>  <td>3.8321</td>  <td>0.0001</td> <td>0.3422</td>  <td>1.0588</td>\n",
       "</tr>\n",
       "<tr>\n",
       "  <th>logrgdppc1985</th>         <td>-0.4400</td>  <td>0.2583</td>  <td>-1.7036</td> <td>0.0885</td> <td>-0.9463</td> <td>0.0662</td>\n",
       "</tr>\n",
       "<tr>\n",
       "  <th>infmort85</th>             <td>0.0311</td>   <td>0.0050</td>  <td>6.2242</td>  <td>0.0000</td> <td>0.0213</td>  <td>0.0408</td>\n",
       "</tr>\n",
       "</table>\n",
       "<table class=\"simpletable\">\n",
       "<tr>\n",
       "     <td>Omnibus:</td>    <td>10.220</td>  <td>Durbin-Watson:</td>    <td>1.822</td>\n",
       "</tr>\n",
       "<tr>\n",
       "  <td>Prob(Omnibus):</td>  <td>0.006</td> <td>Jarque-Bera (JB):</td> <td>10.912</td>\n",
       "</tr>\n",
       "<tr>\n",
       "       <td>Skew:</td>      <td>0.607</td>     <td>Prob(JB):</td>      <td>0.004</td>\n",
       "</tr>\n",
       "<tr>\n",
       "     <td>Kurtosis:</td>    <td>3.975</td>  <td>Condition No.:</td>    <td>1717</td> \n",
       "</tr>\n",
       "</table>"
      ],
      "text/plain": [
       "<class 'statsmodels.iolib.summary2.Summary'>\n",
       "\"\"\"\n",
       "                  Results: Ordinary least squares\n",
       "====================================================================\n",
       "Model:               OLS               Adj. R-squared:      0.729   \n",
       "Dependent Variable:  totalfert85       AIC:                 300.0763\n",
       "Date:                2020-06-26 22:41  BIC:                 310.8048\n",
       "No. Observations:    108               Log-Likelihood:      -146.04 \n",
       "Df Model:            3                 F-statistic:         120.1   \n",
       "Df Residuals:        104               Prob (F-statistic):  1.17e-33\n",
       "R-squared:           0.737             Scale:               0.90871 \n",
       "--------------------------------------------------------------------\n",
       "                       Coef.  Std.Err.    z    P>|z|   [0.025 0.975]\n",
       "--------------------------------------------------------------------\n",
       "Intercept              3.0929   2.4909  1.2417 0.2144 -1.7892 7.9751\n",
       "predicted_lntrade_1_4  0.7005   0.1828  3.8321 0.0001  0.3422 1.0588\n",
       "logrgdppc1985         -0.4400   0.2583 -1.7036 0.0885 -0.9463 0.0662\n",
       "infmort85              0.0311   0.0050  6.2242 0.0000  0.0213 0.0408\n",
       "--------------------------------------------------------------------\n",
       "Omnibus:               10.220        Durbin-Watson:           1.822 \n",
       "Prob(Omnibus):         0.006         Jarque-Bera (JB):        10.912\n",
       "Skew:                  0.607         Prob(JB):                0.004 \n",
       "Kurtosis:              3.975         Condition No.:           1717  \n",
       "====================================================================\n",
       "* The condition number is large (2e+03). This might indicate\n",
       "strong multicollinearity or other numerical problems.\n",
       "\"\"\""
      ]
     },
     "execution_count": 29,
     "metadata": {},
     "output_type": "execute_result"
    }
   ],
   "source": [
    "    #Column 4\n",
    "         # Run the first step of the regression    \n",
    "fstStage_col4_table1 = smf.ols(formula='logactualtrade ~ logfrankrom + logrgdppc1985 + infmort85', data=df_nonocde_nonopec).fit(cov_type='HC1')\n",
    "        # In the dataframe of nonOECD countries, exluding OPEC, create a new variable called \"predicted_lntrade_1_4\"\n",
    "        # This variable is the predicted dependent variable generated in the regression called fstStage_col4_table1\n",
    "        # which corresponds to the logarithm of trade which is being instrumented with the Frankel-Romer IV variable\n",
    "        # and this first step also includes the controls which correspond to GDP per capita and the infant mortality\n",
    "        \n",
    "            # Predict the instrumented variable of interest to use it in the next step:\n",
    "df_nonocde_nonopec['predicted_lntrade_1_4'] = fstStage_col4_table1.predict()\n",
    "                # (This prediction will be used for generating figure 1)\n",
    "\n",
    "        # Run the second step of the regression    \n",
    "scdStage_1_4 = smf.ols(formula='totalfert85 ~ predicted_lntrade_1_4 + logrgdppc1985 + infmort85', data=df_nonocde_nonopec).fit(cov_type='HC1')\n",
    "                # Using the same dataframe, save an item called \"scdStage_1_4\" containing the results of\n",
    "                # the regression of total fertility with the instrumented variable and the controls\n",
    "        \n",
    "        # See results of the second stage (Instrumented results) \n",
    "scdStage_1_4.summary2()"
   ]
  },
  {
   "cell_type": "markdown",
   "metadata": {},
   "source": [
    "#### For OECD Countries: "
   ]
  },
  {
   "cell_type": "code",
   "execution_count": 30,
   "metadata": {},
   "outputs": [
    {
     "data": {
      "text/html": [
       "<table class=\"simpletable\">\n",
       "<tr>\n",
       "        <td>Model:</td>               <td>OLS</td>         <td>Adj. R-squared:</td>    <td>0.225</td> \n",
       "</tr>\n",
       "<tr>\n",
       "  <td>Dependent Variable:</td>    <td>totalfert85</td>          <td>AIC:</td>         <td>20.6613</td>\n",
       "</tr>\n",
       "<tr>\n",
       "         <td>Date:</td>        <td>2020-06-26 22:41</td>        <td>BIC:</td>         <td>24.1954</td>\n",
       "</tr>\n",
       "<tr>\n",
       "   <td>No. Observations:</td>         <td>24</td>          <td>Log-Likelihood:</td>   <td>-7.3306</td>\n",
       "</tr>\n",
       "<tr>\n",
       "       <td>Df Model:</td>              <td>2</td>           <td>F-statistic:</td>      <td>1.389</td> \n",
       "</tr>\n",
       "<tr>\n",
       "     <td>Df Residuals:</td>           <td>21</td>        <td>Prob (F-statistic):</td>  <td>0.271</td> \n",
       "</tr>\n",
       "<tr>\n",
       "      <td>R-squared:</td>            <td>0.293</td>            <td>Scale:</td>        <td>0.12326</td>\n",
       "</tr>\n",
       "</table>\n",
       "<table class=\"simpletable\">\n",
       "<tr>\n",
       "         <td></td>         <th>Coef.</th>  <th>Std.Err.</th>    <th>z</th>     <th>P>|z|</th> <th>[0.025</th>  <th>0.975]</th> \n",
       "</tr>\n",
       "<tr>\n",
       "  <th>Intercept</th>      <td>7.1847</td>   <td>3.5092</td>  <td>2.0474</td>  <td>0.0406</td> <td>0.3069</td>  <td>14.0626</td>\n",
       "</tr>\n",
       "<tr>\n",
       "  <th>logactualtrade</th> <td>-0.1242</td>  <td>0.0997</td>  <td>-1.2456</td> <td>0.2129</td> <td>-0.3196</td> <td>0.0712</td> \n",
       "</tr>\n",
       "<tr>\n",
       "  <th>logrgdppc1985</th>  <td>-0.5286</td>  <td>0.3542</td>  <td>-1.4924</td> <td>0.1356</td> <td>-1.2229</td> <td>0.1656</td> \n",
       "</tr>\n",
       "</table>\n",
       "<table class=\"simpletable\">\n",
       "<tr>\n",
       "     <td>Omnibus:</td>    <td>0.382</td>  <td>Durbin-Watson:</td>   <td>1.972</td>\n",
       "</tr>\n",
       "<tr>\n",
       "  <td>Prob(Omnibus):</td> <td>0.826</td> <td>Jarque-Bera (JB):</td> <td>0.177</td>\n",
       "</tr>\n",
       "<tr>\n",
       "       <td>Skew:</td>     <td>0.200</td>     <td>Prob(JB):</td>     <td>0.915</td>\n",
       "</tr>\n",
       "<tr>\n",
       "     <td>Kurtosis:</td>   <td>2.870</td>  <td>Condition No.:</td>    <td>264</td> \n",
       "</tr>\n",
       "</table>"
      ],
      "text/plain": [
       "<class 'statsmodels.iolib.summary2.Summary'>\n",
       "\"\"\"\n",
       "                Results: Ordinary least squares\n",
       "================================================================\n",
       "Model:              OLS              Adj. R-squared:     0.225  \n",
       "Dependent Variable: totalfert85      AIC:                20.6613\n",
       "Date:               2020-06-26 22:41 BIC:                24.1954\n",
       "No. Observations:   24               Log-Likelihood:     -7.3306\n",
       "Df Model:           2                F-statistic:        1.389  \n",
       "Df Residuals:       21               Prob (F-statistic): 0.271  \n",
       "R-squared:          0.293            Scale:              0.12326\n",
       "----------------------------------------------------------------\n",
       "                  Coef.  Std.Err.    z    P>|z|   [0.025  0.975]\n",
       "----------------------------------------------------------------\n",
       "Intercept         7.1847   3.5092  2.0474 0.0406  0.3069 14.0626\n",
       "logactualtrade   -0.1242   0.0997 -1.2456 0.2129 -0.3196  0.0712\n",
       "logrgdppc1985    -0.5286   0.3542 -1.4924 0.1356 -1.2229  0.1656\n",
       "----------------------------------------------------------------\n",
       "Omnibus:               0.382       Durbin-Watson:          1.972\n",
       "Prob(Omnibus):         0.826       Jarque-Bera (JB):       0.177\n",
       "Skew:                  0.200       Prob(JB):               0.915\n",
       "Kurtosis:              2.870       Condition No.:          264  \n",
       "================================================================\n",
       "\n",
       "\"\"\""
      ]
     },
     "execution_count": 30,
     "metadata": {},
     "output_type": "execute_result"
    }
   ],
   "source": [
    "col5_table1 = smf.ols(formula='totalfert85 ~ logactualtrade + logrgdppc1985', data=df_ocde_nonopec).fit(cov_type='HC1')\n",
    "col5_table1.summary2()"
   ]
  },
  {
   "cell_type": "code",
   "execution_count": 31,
   "metadata": {},
   "outputs": [
    {
     "data": {
      "text/html": [
       "<table class=\"simpletable\">\n",
       "<tr>\n",
       "        <td>Model:</td>               <td>OLS</td>         <td>Adj. R-squared:</td>     <td>0.562</td> \n",
       "</tr>\n",
       "<tr>\n",
       "  <td>Dependent Variable:</td>    <td>totalfert85</td>          <td>AIC:</td>          <td>7.7750</td> \n",
       "</tr>\n",
       "<tr>\n",
       "         <td>Date:</td>        <td>2020-06-26 22:41</td>        <td>BIC:</td>          <td>12.4872</td>\n",
       "</tr>\n",
       "<tr>\n",
       "   <td>No. Observations:</td>         <td>24</td>          <td>Log-Likelihood:</td>    <td>0.11251</td>\n",
       "</tr>\n",
       "<tr>\n",
       "       <td>Df Model:</td>              <td>3</td>           <td>F-statistic:</td>       <td>136.5</td> \n",
       "</tr>\n",
       "<tr>\n",
       "     <td>Df Residuals:</td>           <td>20</td>        <td>Prob (F-statistic):</td> <td>1.73e-13</td>\n",
       "</tr>\n",
       "<tr>\n",
       "      <td>R-squared:</td>            <td>0.620</td>            <td>Scale:</td>        <td>0.069604</td>\n",
       "</tr>\n",
       "</table>\n",
       "<table class=\"simpletable\">\n",
       "<tr>\n",
       "         <td></td>         <th>Coef.</th>  <th>Std.Err.</th>    <th>z</th>     <th>P>|z|</th> <th>[0.025</th>  <th>0.975]</th>\n",
       "</tr>\n",
       "<tr>\n",
       "  <th>Intercept</th>      <td>0.3631</td>   <td>2.1303</td>  <td>0.1704</td>  <td>0.8647</td> <td>-3.8123</td> <td>4.5384</td>\n",
       "</tr>\n",
       "<tr>\n",
       "  <th>logactualtrade</th> <td>-0.0357</td>  <td>0.0864</td>  <td>-0.4132</td> <td>0.6794</td> <td>-0.2051</td> <td>0.1337</td>\n",
       "</tr>\n",
       "<tr>\n",
       "  <th>logrgdppc1985</th>  <td>0.1352</td>   <td>0.2299</td>  <td>0.5882</td>  <td>0.5564</td> <td>-0.3153</td> <td>0.5857</td>\n",
       "</tr>\n",
       "<tr>\n",
       "  <th>infmort85</th>      <td>0.0272</td>   <td>0.0054</td>  <td>5.0474</td>  <td>0.0000</td> <td>0.0167</td>  <td>0.0378</td>\n",
       "</tr>\n",
       "</table>\n",
       "<table class=\"simpletable\">\n",
       "<tr>\n",
       "     <td>Omnibus:</td>    <td>5.893</td>  <td>Durbin-Watson:</td>   <td>2.065</td>\n",
       "</tr>\n",
       "<tr>\n",
       "  <td>Prob(Omnibus):</td> <td>0.053</td> <td>Jarque-Bera (JB):</td> <td>3.900</td>\n",
       "</tr>\n",
       "<tr>\n",
       "       <td>Skew:</td>     <td>0.916</td>     <td>Prob(JB):</td>     <td>0.142</td>\n",
       "</tr>\n",
       "<tr>\n",
       "     <td>Kurtosis:</td>   <td>3.739</td>  <td>Condition No.:</td>    <td>725</td> \n",
       "</tr>\n",
       "</table>"
      ],
      "text/plain": [
       "<class 'statsmodels.iolib.summary2.Summary'>\n",
       "\"\"\"\n",
       "                 Results: Ordinary least squares\n",
       "=================================================================\n",
       "Model:              OLS              Adj. R-squared:     0.562   \n",
       "Dependent Variable: totalfert85      AIC:                7.7750  \n",
       "Date:               2020-06-26 22:41 BIC:                12.4872 \n",
       "No. Observations:   24               Log-Likelihood:     0.11251 \n",
       "Df Model:           3                F-statistic:        136.5   \n",
       "Df Residuals:       20               Prob (F-statistic): 1.73e-13\n",
       "R-squared:          0.620            Scale:              0.069604\n",
       "-----------------------------------------------------------------\n",
       "                    Coef.  Std.Err.    z    P>|z|   [0.025 0.975]\n",
       "-----------------------------------------------------------------\n",
       "Intercept           0.3631   2.1303  0.1704 0.8647 -3.8123 4.5384\n",
       "logactualtrade     -0.0357   0.0864 -0.4132 0.6794 -0.2051 0.1337\n",
       "logrgdppc1985       0.1352   0.2299  0.5882 0.5564 -0.3153 0.5857\n",
       "infmort85           0.0272   0.0054  5.0474 0.0000  0.0167 0.0378\n",
       "-----------------------------------------------------------------\n",
       "Omnibus:              5.893        Durbin-Watson:           2.065\n",
       "Prob(Omnibus):        0.053        Jarque-Bera (JB):        3.900\n",
       "Skew:                 0.916        Prob(JB):                0.142\n",
       "Kurtosis:             3.739        Condition No.:           725  \n",
       "=================================================================\n",
       "\n",
       "\"\"\""
      ]
     },
     "execution_count": 31,
     "metadata": {},
     "output_type": "execute_result"
    }
   ],
   "source": [
    "col6_table1 = smf.ols(formula='totalfert85 ~ logactualtrade + logrgdppc1985 + infmort85', data=df_ocde_nonopec).fit(cov_type='HC1')\n",
    "col6_table1.summary2()"
   ]
  },
  {
   "cell_type": "code",
   "execution_count": 32,
   "metadata": {
    "scrolled": true
   },
   "outputs": [
    {
     "data": {
      "text/html": [
       "<table class=\"simpletable\">\n",
       "<tr>\n",
       "        <td>Model:</td>               <td>OLS</td>         <td>Adj. R-squared:</td>    <td>0.277</td> \n",
       "</tr>\n",
       "<tr>\n",
       "  <td>Dependent Variable:</td>    <td>totalfert85</td>          <td>AIC:</td>         <td>19.0065</td>\n",
       "</tr>\n",
       "<tr>\n",
       "         <td>Date:</td>        <td>2020-06-26 22:41</td>        <td>BIC:</td>         <td>22.5407</td>\n",
       "</tr>\n",
       "<tr>\n",
       "   <td>No. Observations:</td>         <td>24</td>          <td>Log-Likelihood:</td>   <td>-6.5032</td>\n",
       "</tr>\n",
       "<tr>\n",
       "       <td>Df Model:</td>              <td>2</td>           <td>F-statistic:</td>      <td>3.085</td> \n",
       "</tr>\n",
       "<tr>\n",
       "     <td>Df Residuals:</td>           <td>21</td>        <td>Prob (F-statistic):</td> <td>0.0669</td> \n",
       "</tr>\n",
       "<tr>\n",
       "      <td>R-squared:</td>            <td>0.340</td>            <td>Scale:</td>        <td>0.11505</td>\n",
       "</tr>\n",
       "</table>\n",
       "<table class=\"simpletable\">\n",
       "<tr>\n",
       "            <td></td>             <th>Coef.</th>  <th>Std.Err.</th>    <th>z</th>     <th>P>|z|</th> <th>[0.025</th>  <th>0.975]</th> \n",
       "</tr>\n",
       "<tr>\n",
       "  <th>Intercept</th>             <td>7.6287</td>   <td>3.4395</td>  <td>2.2180</td>  <td>0.0266</td> <td>0.8874</td>  <td>14.3700</td>\n",
       "</tr>\n",
       "<tr>\n",
       "  <th>predicted_lntrade_1_7</th> <td>-0.2282</td>  <td>0.0935</td>  <td>-2.4396</td> <td>0.0147</td> <td>-0.4115</td> <td>-0.0449</td>\n",
       "</tr>\n",
       "<tr>\n",
       "  <th>logrgdppc1985</th>         <td>-0.5299</td>  <td>0.3447</td>  <td>-1.5374</td> <td>0.1242</td> <td>-1.2055</td> <td>0.1457</td> \n",
       "</tr>\n",
       "</table>\n",
       "<table class=\"simpletable\">\n",
       "<tr>\n",
       "     <td>Omnibus:</td>    <td>0.541</td>  <td>Durbin-Watson:</td>   <td>1.960</td>\n",
       "</tr>\n",
       "<tr>\n",
       "  <td>Prob(Omnibus):</td> <td>0.763</td> <td>Jarque-Bera (JB):</td> <td>0.130</td>\n",
       "</tr>\n",
       "<tr>\n",
       "       <td>Skew:</td>     <td>0.180</td>     <td>Prob(JB):</td>     <td>0.937</td>\n",
       "</tr>\n",
       "<tr>\n",
       "     <td>Kurtosis:</td>   <td>3.027</td>  <td>Condition No.:</td>    <td>267</td> \n",
       "</tr>\n",
       "</table>"
      ],
      "text/plain": [
       "<class 'statsmodels.iolib.summary2.Summary'>\n",
       "\"\"\"\n",
       "                   Results: Ordinary least squares\n",
       "=====================================================================\n",
       "Model:                 OLS               Adj. R-squared:      0.277  \n",
       "Dependent Variable:    totalfert85       AIC:                 19.0065\n",
       "Date:                  2020-06-26 22:41  BIC:                 22.5407\n",
       "No. Observations:      24                Log-Likelihood:      -6.5032\n",
       "Df Model:              2                 F-statistic:         3.085  \n",
       "Df Residuals:          21                Prob (F-statistic):  0.0669 \n",
       "R-squared:             0.340             Scale:               0.11505\n",
       "---------------------------------------------------------------------\n",
       "                       Coef.  Std.Err.    z    P>|z|   [0.025  0.975]\n",
       "---------------------------------------------------------------------\n",
       "Intercept              7.6287   3.4395  2.2180 0.0266  0.8874 14.3700\n",
       "predicted_lntrade_1_7 -0.2282   0.0935 -2.4396 0.0147 -0.4115 -0.0449\n",
       "logrgdppc1985         -0.5299   0.3447 -1.5374 0.1242 -1.2055  0.1457\n",
       "---------------------------------------------------------------------\n",
       "Omnibus:                0.541         Durbin-Watson:            1.960\n",
       "Prob(Omnibus):          0.763         Jarque-Bera (JB):         0.130\n",
       "Skew:                   0.180         Prob(JB):                 0.937\n",
       "Kurtosis:               3.027         Condition No.:            267  \n",
       "=====================================================================\n",
       "\n",
       "\"\"\""
      ]
     },
     "execution_count": 32,
     "metadata": {},
     "output_type": "execute_result"
    }
   ],
   "source": [
    "        #Column 7\n",
    "fstStage_col7_table1 = smf.ols(formula='logactualtrade ~ logfrankrom + logrgdppc1985', data=df_ocde_nonopec).fit(cov_type='HC1')\n",
    "df_ocde_nonopec['predicted_lntrade_1_7'] = fstStage_col7_table1.predict()\n",
    "\n",
    "scdStage_1_7 = smf.ols(formula='totalfert85 ~ predicted_lntrade_1_7 + logrgdppc1985', data=df_ocde_nonopec).fit(cov_type='HC1')\n",
    "scdStage_1_7.summary2()"
   ]
  },
  {
   "cell_type": "code",
   "execution_count": 33,
   "metadata": {},
   "outputs": [
    {
     "data": {
      "text/html": [
       "<table class=\"simpletable\">\n",
       "<tr>\n",
       "        <td>Model:</td>               <td>OLS</td>         <td>Adj. R-squared:</td>     <td>0.587</td> \n",
       "</tr>\n",
       "<tr>\n",
       "  <td>Dependent Variable:</td>    <td>totalfert85</td>          <td>AIC:</td>          <td>6.4061</td> \n",
       "</tr>\n",
       "<tr>\n",
       "         <td>Date:</td>        <td>2020-06-26 22:41</td>        <td>BIC:</td>          <td>11.1183</td>\n",
       "</tr>\n",
       "<tr>\n",
       "   <td>No. Observations:</td>         <td>24</td>          <td>Log-Likelihood:</td>    <td>0.79695</td>\n",
       "</tr>\n",
       "<tr>\n",
       "       <td>Df Model:</td>              <td>3</td>           <td>F-statistic:</td>       <td>126.2</td> \n",
       "</tr>\n",
       "<tr>\n",
       "     <td>Df Residuals:</td>           <td>20</td>        <td>Prob (F-statistic):</td> <td>3.64e-13</td>\n",
       "</tr>\n",
       "<tr>\n",
       "      <td>R-squared:</td>            <td>0.641</td>            <td>Scale:</td>        <td>0.065745</td>\n",
       "</tr>\n",
       "</table>\n",
       "<table class=\"simpletable\">\n",
       "<tr>\n",
       "            <td></td>             <th>Coef.</th>  <th>Std.Err.</th>    <th>z</th>     <th>P>|z|</th> <th>[0.025</th>  <th>0.975]</th> \n",
       "</tr>\n",
       "<tr>\n",
       "  <th>Intercept</th>             <td>1.0549</td>   <td>2.3056</td>  <td>0.4575</td>  <td>0.6473</td> <td>-3.4641</td> <td>5.5739</td> \n",
       "</tr>\n",
       "<tr>\n",
       "  <th>predicted_lntrade_1_8</th> <td>-0.1306</td>  <td>0.0609</td>  <td>-2.1429</td> <td>0.0321</td> <td>-0.2500</td> <td>-0.0111</td>\n",
       "</tr>\n",
       "<tr>\n",
       "  <th>logrgdppc1985</th>         <td>0.1045</td>   <td>0.2397</td>  <td>0.4362</td>  <td>0.6627</td> <td>-0.3652</td> <td>0.5743</td> \n",
       "</tr>\n",
       "<tr>\n",
       "  <th>infmort85</th>             <td>0.0260</td>   <td>0.0058</td>  <td>4.5207</td>  <td>0.0000</td> <td>0.0147</td>  <td>0.0373</td> \n",
       "</tr>\n",
       "</table>\n",
       "<table class=\"simpletable\">\n",
       "<tr>\n",
       "     <td>Omnibus:</td>    <td>8.579</td>  <td>Durbin-Watson:</td>   <td>2.005</td>\n",
       "</tr>\n",
       "<tr>\n",
       "  <td>Prob(Omnibus):</td> <td>0.014</td> <td>Jarque-Bera (JB):</td> <td>6.390</td>\n",
       "</tr>\n",
       "<tr>\n",
       "       <td>Skew:</td>     <td>1.080</td>     <td>Prob(JB):</td>     <td>0.041</td>\n",
       "</tr>\n",
       "<tr>\n",
       "     <td>Kurtosis:</td>   <td>4.315</td>  <td>Condition No.:</td>    <td>737</td> \n",
       "</tr>\n",
       "</table>"
      ],
      "text/plain": [
       "<class 'statsmodels.iolib.summary2.Summary'>\n",
       "\"\"\"\n",
       "                   Results: Ordinary least squares\n",
       "=====================================================================\n",
       "Model:                OLS               Adj. R-squared:      0.587   \n",
       "Dependent Variable:   totalfert85       AIC:                 6.4061  \n",
       "Date:                 2020-06-26 22:41  BIC:                 11.1183 \n",
       "No. Observations:     24                Log-Likelihood:      0.79695 \n",
       "Df Model:             3                 F-statistic:         126.2   \n",
       "Df Residuals:         20                Prob (F-statistic):  3.64e-13\n",
       "R-squared:            0.641             Scale:               0.065745\n",
       "---------------------------------------------------------------------\n",
       "                       Coef.  Std.Err.    z    P>|z|   [0.025  0.975]\n",
       "---------------------------------------------------------------------\n",
       "Intercept              1.0549   2.3056  0.4575 0.6473 -3.4641  5.5739\n",
       "predicted_lntrade_1_8 -0.1306   0.0609 -2.1429 0.0321 -0.2500 -0.0111\n",
       "logrgdppc1985          0.1045   0.2397  0.4362 0.6627 -0.3652  0.5743\n",
       "infmort85              0.0260   0.0058  4.5207 0.0000  0.0147  0.0373\n",
       "---------------------------------------------------------------------\n",
       "Omnibus:                8.579         Durbin-Watson:            2.005\n",
       "Prob(Omnibus):          0.014         Jarque-Bera (JB):         6.390\n",
       "Skew:                   1.080         Prob(JB):                 0.041\n",
       "Kurtosis:               4.315         Condition No.:            737  \n",
       "=====================================================================\n",
       "\n",
       "\"\"\""
      ]
     },
     "execution_count": 33,
     "metadata": {},
     "output_type": "execute_result"
    }
   ],
   "source": [
    "    #Column 8\n",
    "\n",
    "    # Run the first step of the regression \n",
    "fstStage_col8_table1 = smf.ols(formula='logactualtrade ~ logfrankrom + logrgdppc1985 + infmort85', data=df_ocde_nonopec).fit(cov_type='HC1')\n",
    "         # In the dataframe of OECD countries, exluding OPEC, create a new variable called \"predicted_lntrade_1_8\"\n",
    "        # This variable is the predicted dependent variable generated in the regression called fstStage_col8_table1\n",
    "        # which corresponds to the logarithm of trade which is being instrumented with the Frankel-Romer IV variable\n",
    "        # and this first step also includes the controls which correspond to GDP per capita and the infant mortality\n",
    "    \n",
    "    # Predict the instrumented variable of interest to use it in the next step:\n",
    "df_ocde_nonopec['predicted_lntrade_1_8'] = fstStage_col8_table1.predict()\n",
    "            # (This prediction will be used for generating figure 1)\n",
    "    \n",
    "scdStage_1_8 = smf.ols(formula='totalfert85 ~ predicted_lntrade_1_8 + logrgdppc1985 + infmort85', data=df_ocde_nonopec).fit(cov_type='HC1')\n",
    "scdStage_1_8.summary2()"
   ]
  },
  {
   "cell_type": "markdown",
   "metadata": {},
   "source": [
    "## Compile in one table"
   ]
  },
  {
   "cell_type": "code",
   "execution_count": 34,
   "metadata": {
    "scrolled": true
   },
   "outputs": [
    {
     "data": {
      "text/plain": [
       "'\\\\begin{table}[!htbp] \\\\centering\\n  \\\\label{}\\n\\\\begin{tabular}{@{\\\\extracolsep{5pt}}lcc}\\n\\\\\\\\[-1.8ex]\\\\hline\\n\\\\hline \\\\\\\\[-1.8ex]\\n& \\\\multicolumn{8}{c}{\\\\textit{Dependent variable:}} \\\\\\n\\\\cr \\\\cline{8-9}\\n\\\\\\\\[-1.8ex] & (1) & (2) & (3) & (4) & (5) & (6) & (7) & (8) \\\\\\\\\\n\\\\hline \\\\\\\\[-1.8ex]\\n Intercept & 16.39$^{***}$ & 4.28$^{*}$ & 15.4$^{***}$ & 3.09$^{}$ & 7.18$^{**}$ & 0.36$^{}$ & 7.63$^{**}$ & 1.05$^{}$ \\\\\\\\\\n  & (1.14) & (2.34) & (1.25) & (2.49) & (3.51) & (2.13) & (3.44) & (2.31) \\\\\\\\\\n  & & & & & & & & \\\\\\\\\\n infmort85 & & 0.03$^{***}$ & & 0.03$^{***}$ & & 0.03$^{***}$ & & 0.03$^{***}$ \\\\\\\\\\n  & & (0.0) & & (0.0) & & (0.01) & & (0.01) \\\\\\\\\\n  & & & & & & & & \\\\\\\\\\n logactualtrade & 0.21$^{}$ & 0.33$^{**}$ & & & -0.12$^{}$ & -0.04$^{}$ & & \\\\\\\\\\n  & (0.17) & (0.14) & & & (0.1) & (0.09) & & \\\\\\\\\\n  & & & & & & & & \\\\\\\\\\n logrgdppc1985 & -1.66$^{***}$ & -0.39$^{}$ & -1.79$^{***}$ & -0.44$^{*}$ & -0.53$^{}$ & 0.14$^{}$ & -0.53$^{}$ & 0.1$^{}$ \\\\\\\\\\n  & (0.14) & (0.27) & (0.14) & (0.26) & (0.35) & (0.23) & (0.34) & (0.24) \\\\\\\\\\n  & & & & & & & & \\\\\\\\\\n predicted_lntrade_1_3 & & & 0.69$^{***}$ & & & & & \\\\\\\\\\n  & & & (0.25) & & & & & \\\\\\\\\\n  & & & & & & & & \\\\\\\\\\n predicted_lntrade_1_4 & & & & 0.7$^{***}$ & & & & \\\\\\\\\\n  & & & & (0.18) & & & & \\\\\\\\\\n  & & & & & & & & \\\\\\\\\\n predicted_lntrade_1_7 & & & & & & & -0.23$^{**}$ & \\\\\\\\\\n  & & & & & & & (0.09) & \\\\\\\\\\n  & & & & & & & & \\\\\\\\\\n predicted_lntrade_1_8 & & & & & & & & -0.13$^{**}$ \\\\\\\\\\n  & & & & & & & & (0.06) \\\\\\\\\\n  & & & & & & & & \\\\\\\\\\n\\\\hline \\\\\\\\[-1.8ex]\\n Observations & 108.0 & 108.0 & 108.0 & 108.0 & 24.0 & 24.0 & 24.0 & 24.0 \\\\\\\\\\n R${2}$ & 0.58 & 0.72 & 0.6 & 0.74 & 0.29 & 0.62 & 0.34 & 0.64 \\\\\\\\\\n Adjusted R${2}$ & 0.57 & 0.72 & 0.59 & 0.73 & 0.23 & 0.56 & 0.28 & 0.59 \\\\\\\\\\n Residual Std. Error & 1.2(df = 105.0) & 0.98(df = 104.0) & 1.17(df = 105.0) & 0.95(df = 104.0) & 0.35(df = 21.0) & 0.26(df = 20.0) & 0.34(df = 21.0) & 0.26(df = 20.0)  \\\\\\\\\\n F Statistic & [[66.09]]$^{***}$ (df = 2.0; 105.0) & [[123.91]]$^{***}$ (df = 3.0; 104.0) & [[86.11]]$^{***}$ (df = 2.0; 105.0) & [[120.12]]$^{***}$ (df = 3.0; 104.0) & [[1.39]]$^{}$ (df = 2.0; 21.0) & [[136.52]]$^{***}$ (df = 3.0; 20.0) & [[3.08]]$^{*}$ (df = 2.0; 21.0) & [[126.25]]$^{***}$ (df = 3.0; 20.0) \\\\\\\\\\n\\\\hline\\n\\\\hline \\\\\\\\[-1.8ex]\\n\\\\textit{Note:} & \\\\multicolumn{8}{r}{$^{*}$p$<$0.1; $^{**}$p$<$0.05; $^{***}$p$<$0.01} \\\\\\\\\\n\\\\end{tabular}\\n\\\\end{table}'"
      ]
     },
     "execution_count": 34,
     "metadata": {},
     "output_type": "execute_result"
    }
   ],
   "source": [
    "table1 = Stargazer([col1_table1, col2_table1, scdStage_1_3, scdStage_1_4, col5_table1, col6_table1, scdStage_1_7, scdStage_1_8])\n",
    "table1.significant_digits(2)\n",
    "table1.render_latex()"
   ]
  },
  {
   "cell_type": "code",
   "execution_count": 35,
   "metadata": {
    "scrolled": false
   },
   "outputs": [
    {
     "data": {
      "text/latex": [
       "'\\\\begin{table}[!htbp] \\\\centering\\n  \\\\label{}\\n\\\\begin{tabular}{@{\\\\extracolsep{5pt}}lcc}\\n\\\\\\\\[-1.8ex]\\\\hline\\n\\\\hline \\\\\\\\[-1.8ex]\\n& \\\\multicolumn{4}{c}{\\\\textit{Dependent variable:}} \\\\\\n\\\\cr \\\\cline{4-5}\\n\\\\\\\\[-1.8ex] & (1) & (2) & (3) & (4) \\\\\\\\\\n\\\\hline \\\\\\\\[-1.8ex]\\n Intercept & 16.39$^{***}$ & 4.28$^{*}$ & 15.4$^{***}$ & 3.09$^{}$ \\\\\\\\\\n  & (1.14) & (2.34) & (1.25) & (2.49) \\\\\\\\\\n  & & & & \\\\\\\\\\n infmort85 & & 0.03$^{***}$ & & 0.03$^{***}$ \\\\\\\\\\n  & & (0.0) & & (0.0) \\\\\\\\\\n  & & & & \\\\\\\\\\n logactualtrade & 0.21$^{}$ & 0.33$^{**}$ & & \\\\\\\\\\n  & (0.17) & (0.14) & & \\\\\\\\\\n  & & & & \\\\\\\\\\n logrgdppc1985 & -1.66$^{***}$ & -0.39$^{}$ & -1.79$^{***}$ & -0.44$^{*}$ \\\\\\\\\\n  & (0.14) & (0.27) & (0.14) & (0.26) \\\\\\\\\\n  & & & & \\\\\\\\\\n predicted_lntrade_1_3 & & & 0.69$^{***}$ & \\\\\\\\\\n  & & & (0.25) & \\\\\\\\\\n  & & & & \\\\\\\\\\n predicted_lntrade_1_4 & & & & 0.7$^{***}$ \\\\\\\\\\n  & & & & (0.18) \\\\\\\\\\n  & & & & \\\\\\\\\\n\\\\hline \\\\\\\\[-1.8ex]\\n Observations & 108.0 & 108.0 & 108.0 & 108.0 \\\\\\\\\\n R${2}$ & 0.58 & 0.72 & 0.6 & 0.74 \\\\\\\\\\n Adjusted R${2}$ & 0.57 & 0.72 & 0.59 & 0.73 \\\\\\\\\\n Residual Std. Error & 1.2(df = 105.0) & 0.98(df = 104.0) & 1.17(df = 105.0) & 0.95(df = 104.0)  \\\\\\\\\\n F Statistic & [[66.09]]$^{***}$ (df = 2.0; 105.0) & [[123.91]]$^{***}$ (df = 3.0; 104.0) & [[86.11]]$^{***}$ (df = 2.0; 105.0) & [[120.12]]$^{***}$ (df = 3.0; 104.0) \\\\\\\\\\n\\\\hline\\n\\\\hline \\\\\\\\[-1.8ex]\\n\\\\textit{Note:} & \\\\multicolumn{4}{r}{$^{*}$p$<$0.1; $^{**}$p$<$0.05; $^{***}$p$<$0.01} \\\\\\\\\\n\\\\end{tabular}\\n\\\\end{table}'\n"
      ],
      "text/plain": [
       "<IPython.core.display.Latex object>"
      ]
     },
     "metadata": {},
     "output_type": "display_data"
    }
   ],
   "source": [
    "%%latex\n",
    "'\\\\begin{table}[!htbp] \\\\centering\\n  \\\\label{}\\n\\\\begin{tabular}{@{\\\\extracolsep{5pt}}lcc}\\n\\\\\\\\[-1.8ex]\\\\hline\\n\\\\hline \\\\\\\\[-1.8ex]\\n& \\\\multicolumn{4}{c}{\\\\textit{Dependent variable:}} \\\\\\n\\\\cr \\\\cline{4-5}\\n\\\\\\\\[-1.8ex] & (1) & (2) & (3) & (4) \\\\\\\\\\n\\\\hline \\\\\\\\[-1.8ex]\\n Intercept & 16.39$^{***}$ & 4.28$^{*}$ & 15.4$^{***}$ & 3.09$^{}$ \\\\\\\\\\n  & (1.14) & (2.34) & (1.25) & (2.49) \\\\\\\\\\n  & & & & \\\\\\\\\\n infmort85 & & 0.03$^{***}$ & & 0.03$^{***}$ \\\\\\\\\\n  & & (0.0) & & (0.0) \\\\\\\\\\n  & & & & \\\\\\\\\\n logactualtrade & 0.21$^{}$ & 0.33$^{**}$ & & \\\\\\\\\\n  & (0.17) & (0.14) & & \\\\\\\\\\n  & & & & \\\\\\\\\\n logrgdppc1985 & -1.66$^{***}$ & -0.39$^{}$ & -1.79$^{***}$ & -0.44$^{*}$ \\\\\\\\\\n  & (0.14) & (0.27) & (0.14) & (0.26) \\\\\\\\\\n  & & & & \\\\\\\\\\n predicted_lntrade_1_3 & & & 0.69$^{***}$ & \\\\\\\\\\n  & & & (0.25) & \\\\\\\\\\n  & & & & \\\\\\\\\\n predicted_lntrade_1_4 & & & & 0.7$^{***}$ \\\\\\\\\\n  & & & & (0.18) \\\\\\\\\\n  & & & & \\\\\\\\\\n\\\\hline \\\\\\\\[-1.8ex]\\n Observations & 108.0 & 108.0 & 108.0 & 108.0 \\\\\\\\\\n R${2}$ & 0.58 & 0.72 & 0.6 & 0.74 \\\\\\\\\\n Adjusted R${2}$ & 0.57 & 0.72 & 0.59 & 0.73 \\\\\\\\\\n Residual Std. Error & 1.2(df = 105.0) & 0.98(df = 104.0) & 1.17(df = 105.0) & 0.95(df = 104.0)  \\\\\\\\\\n F Statistic & [[66.09]]$^{***}$ (df = 2.0; 105.0) & [[123.91]]$^{***}$ (df = 3.0; 104.0) & [[86.11]]$^{***}$ (df = 2.0; 105.0) & [[120.12]]$^{***}$ (df = 3.0; 104.0) \\\\\\\\\\n\\\\hline\\n\\\\hline \\\\\\\\[-1.8ex]\\n\\\\textit{Note:} & \\\\multicolumn{4}{r}{$^{*}$p$<$0.1; $^{**}$p$<$0.05; $^{***}$p$<$0.01} \\\\\\\\\\n\\\\end{tabular}\\n\\\\end{table}'"
   ]
  },
  {
   "cell_type": "markdown",
   "metadata": {},
   "source": [
    "## Figure 1"
   ]
  },
  {
   "cell_type": "markdown",
   "metadata": {},
   "source": [
    "To see the partial effect of trade on fertility, we need to generate the residuals of the first stage instrumented variable upon controls, and the residuals of the dependend variable just regressed on controls. Using the residuals of this regression, tell us the _partial_ effect of the instrumented variable (cleaned by possible endogenity) since residuals contains all that is not captured by the controls. "
   ]
  },
  {
   "cell_type": "code",
   "execution_count": 36,
   "metadata": {},
   "outputs": [],
   "source": [
    "    #Column 4 - For non-OCD Countries\n",
    "\n",
    "    # Recall the following commented command was executed for generating table 1 col 4: \n",
    "            # df_nonocde_nonopec['predicted_lntrade_1_4'] = fstStage_col4_table1.predict()\n",
    "    #Then, the variable 'predicted_lntrade_1_4' is the prediction of the first stage\n",
    "        \n",
    "     ##-- Calculate the instrumented variable residuals:   --##\n",
    "             # Here I regress the predicted depended variable of the first step to the controls. \n",
    "            #This step is needed to get the residuals \n",
    "Z1_nonOECD_nonopec  = smf.ols(formula='predicted_lntrade_1_4 ~ logrgdppc1985 + infmort85', data=df_nonocde_nonopec).fit()         \n",
    "df_nonocde_nonopec['Z1nonOCDE_controls'] = Z1_nonOECD_nonopec.predict()\n",
    "\n",
    "             # From that same regression calculate the residuals and save them to\n",
    "df_nonocde_nonopec['Z1nonOCDE_resid'] = Z1_nonOECD_nonopec.resid\n",
    "                    # save the residuals to a vector \"Z1nonOCDE_resid\" in non-OECD non-OPEC dataframe"
   ]
  },
  {
   "cell_type": "code",
   "execution_count": 37,
   "metadata": {},
   "outputs": [],
   "source": [
    "Y_controls_nonOECD_f1 = smf.ols(formula='totalfert85 ~ logrgdppc1985 + infmort85', data=df_nonocde_nonopec).fit()\n",
    "df_nonocde_nonopec['Y1nonOCDE_resid'] = Y_controls_nonOECD_f1.resid\n",
    "#df_nonocde_nonopec['Y1nonOCDE_resid'].describe()"
   ]
  },
  {
   "cell_type": "code",
   "execution_count": 38,
   "metadata": {
    "scrolled": true
   },
   "outputs": [
    {
     "data": {
      "image/png": "[encoded data removed]",
      "text/plain": [
       "<Figure size 842.4x595.44 with 1 Axes>"
      ]
     },
     "metadata": {},
     "output_type": "display_data"
    }
   ],
   "source": [
    " # set figure size:\n",
    "sns.set(rc={'figure.figsize':(11.7,8.27)})          \n",
    "fig1a, ax = plt.subplots()\n",
    "     # set axis limits:\n",
    "ax.set(ylim=(df_nonocde_nonopec.Y1nonOCDE_resid.min()-0.2, df_nonocde_nonopec.Y1nonOCDE_resid.max()+0.4))\n",
    "ax.set(xlim=(df_nonocde_nonopec.Z1nonOCDE_resid.min()-0.2, df_nonocde_nonopec.Z1nonOCDE_resid.max()+0.2))\n",
    "sns.regplot(x='Z1nonOCDE_resid', y='Y1nonOCDE_resid', data=df_nonocde_nonopec, ax=ax, label='LABEL')\n",
    "    # Set labels and titles:\n",
    "plt.xlabel('Log Trade Share in GDP 1985', fontsize=20)\n",
    "plt.ylabel('Total Fertility Rate 1985-90', fontsize=20)\n",
    "plt.title(\"Partial effect of trade on fertility in non-OECD economies\", fontsize=20, weight='bold')\n",
    "    # Set country tags\n",
    "ax.tick_params(labelsize=16)\n",
    "for line in range(0,df_nonocde_nonopec.shape[0]):\n",
    "    ax.text(df_nonocde_nonopec.Z1nonOCDE_resid[line], df_nonocde_nonopec.Y1nonOCDE_resid[line], df_nonocde_nonopec.CtrCode[line], horizontalalignment='left', fontsize=10, color='black')"
   ]
  },
  {
   "cell_type": "markdown",
   "metadata": {},
   "source": [
    "_Figure 1(a) shows the predicted positive effect of international trade in fertility rate in non-industrialized economies after controlling for other things that determine fertility rates and instrumenting for solving the endogeneity problems_ "
   ]
  },
  {
   "cell_type": "code",
   "execution_count": 39,
   "metadata": {
    "scrolled": true
   },
   "outputs": [],
   "source": [
    "    #Column 8 - For OECD Countries\n",
    "\n",
    "    # Recall the following commented command was executed for generating table 1 col 8: \n",
    "    #df_ocde_nonopec['predicted_lntrade_1_8'] = fstStage_col8_table1.predict()\n",
    "        #Then, the variable 'predicted_lntrade_1_8' is the prediction of the first stage\n",
    "Z1_OECD_nonopec  = smf.ols(formula='predicted_lntrade_1_8 ~ logrgdppc1985 + infmort85', data=df_ocde_nonopec).fit()         \n",
    "df_ocde_nonopec['Z1OCDE_controls'] = Z1_OECD_nonopec.predict()\n",
    "\n",
    "df_ocde_nonopec['Z1OCDE_resid'] = Z1_OECD_nonopec.resid"
   ]
  },
  {
   "cell_type": "code",
   "execution_count": 40,
   "metadata": {},
   "outputs": [],
   "source": [
    "Y_controls_OECD_f1 = smf.ols(formula='totalfert85 ~ logrgdppc1985 + infmort85', data=df_ocde_nonopec).fit()\n",
    "df_ocde_nonopec['Y1OCDE_resid'] = Y_controls_OECD_f1.resid"
   ]
  },
  {
   "cell_type": "code",
   "execution_count": 41,
   "metadata": {},
   "outputs": [
    {
     "data": {
      "image/png": "[encoded data removed]",
      "text/plain": [
       "<Figure size 842.4x595.44 with 1 Axes>"
      ]
     },
     "metadata": {},
     "output_type": "display_data"
    }
   ],
   "source": [
    "fig1b, ax = plt.subplots()\n",
    "ax.set(ylim=(df_ocde_nonopec.Y1OCDE_resid.min()-0.2, df_ocde_nonopec.Y1OCDE_resid.max()+0.2))\n",
    "ax.set(xlim=(df_ocde_nonopec.Z1OCDE_resid.min()-0.2, df_ocde_nonopec.Z1OCDE_resid.max()+0.2))\n",
    "sns.regplot(x='Z1OCDE_resid', y='Y1OCDE_resid', data=df_ocde_nonopec, ax=ax, label='LABEL')\n",
    "plt.xlabel('Log Trade Share in GDP 1985', fontsize=20)\n",
    "plt.ylabel('Total Fertility Rate 1985-90', fontsize=20)\n",
    "plt.title(\"Partial effect of trade on fertility in OECD economies\", fontsize=20, weight='bold')\n",
    "ax.tick_params(labelsize=16)\n",
    "for line in range(0,df_ocde_nonopec.shape[0]):\n",
    "    ax.text(df_ocde_nonopec.Z1OCDE_resid[line], df_ocde_nonopec.Y1OCDE_resid[line], df_ocde_nonopec.CtrCode[line], horizontalalignment='left', fontsize=14, color='black', weight='semibold')\n"
   ]
  },
  {
   "cell_type": "markdown",
   "metadata": {},
   "source": [
    "_Figure 1(b) shows the predicted negative effect of international trade in fertility rate in industrialized economies after controlling for other things that determine fertility rates. Just like theory predits, after  instrumenting for solving the endogeneity The effect of trade in fertility rates is the opposite in industrialized versus non industrialized economies._ "
   ]
  },
  {
   "cell_type": "markdown",
   "metadata": {},
   "source": [
    "**Notes on IV regressions:**\n",
    "Columns 3,4,7 and 8 of table 1 can be replicated using a direct command that computes de 2SLS (IV procedure). The reason why I did it in two stages is for me to predict the residuals to generate the figure 1. However, here you can find the code using ``linearmodels`` package that's easier to instrument and get done the regression."
   ]
  },
  {
   "cell_type": "code",
   "execution_count": 42,
   "metadata": {},
   "outputs": [
    {
     "name": "stdout",
     "output_type": "stream",
     "text": [
      "                          IV-2SLS Estimation Summary                          \n",
      "==============================================================================\n",
      "Dep. Variable:            totalfert85   R-squared:                      0.5502\n",
      "Estimator:                    IV-2SLS   Adj. R-squared:                 0.5417\n",
      "No. Observations:                 108   F-statistic:                    147.01\n",
      "Date:                Fri, Jun 26 2020   P-value (F-stat)                0.0000\n",
      "Time:                        22:41:25   Distribution:                  chi2(2)\n",
      "Cov. Estimator:                robust                                         \n",
      "                                                                              \n",
      "                               Parameter Estimates                                \n",
      "==================================================================================\n",
      "                Parameter  Std. Err.     T-stat    P-value    Lower CI    Upper CI\n",
      "----------------------------------------------------------------------------------\n",
      "Intercept          15.403     1.2936     11.907     0.0000      12.867      17.938\n",
      "logrgdppc1985     -1.7896     0.1477    -12.116     0.0000     -2.0791     -1.5001\n",
      "logactualtrade     0.6935     0.2635     2.6317     0.0085      0.1770      1.2100\n",
      "==================================================================================\n",
      "\n",
      "Endogenous: logactualtrade\n",
      "Instruments: logfrankrom\n",
      "Robust Covariance (Heteroskedastic)\n",
      "Debiased: False\n"
     ]
    }
   ],
   "source": [
    "    #Column 3\n",
    "formula = 'totalfert85 ~ 1 + logrgdppc1985 [logactualtrade ~ logfrankrom]'\n",
    "#mod = IV2SLS.from_formula(formula, data=Data.loc[(Data.oecd85 == 0) & (Data.opec85 == 0)]) \n",
    "model13 = IV2SLS.from_formula(formula, data=df_nonocde_nonopec)\n",
    "iv_col3_table1 = model13.fit(cov_type='robust')\n",
    "print(iv_col3_table1)"
   ]
  },
  {
   "cell_type": "code",
   "execution_count": 43,
   "metadata": {
    "scrolled": true
   },
   "outputs": [
    {
     "name": "stdout",
     "output_type": "stream",
     "text": [
      "                          IV-2SLS Estimation Summary                          \n",
      "==============================================================================\n",
      "Dep. Variable:            totalfert85   R-squared:                      0.7078\n",
      "Estimator:                    IV-2SLS   Adj. R-squared:                 0.6993\n",
      "No. Observations:                 108   F-statistic:                    352.59\n",
      "Date:                Fri, Jun 26 2020   P-value (F-stat)                0.0000\n",
      "Time:                        22:41:26   Distribution:                  chi2(3)\n",
      "Cov. Estimator:                robust                                         \n",
      "                                                                              \n",
      "                               Parameter Estimates                                \n",
      "==================================================================================\n",
      "                Parameter  Std. Err.     T-stat    P-value    Lower CI    Upper CI\n",
      "----------------------------------------------------------------------------------\n",
      "Intercept          3.0929     2.4138     1.2814     0.2001     -1.6380      7.8239\n",
      "logrgdppc1985     -0.4400     0.2545    -1.7288     0.0838     -0.9389      0.0588\n",
      "infmort85          0.0311     0.0046     6.8049     0.0000      0.0221      0.0400\n",
      "logactualtrade     0.7005     0.1858     3.7707     0.0002      0.3364      1.0647\n",
      "==================================================================================\n",
      "\n",
      "Endogenous: logactualtrade\n",
      "Instruments: logfrankrom\n",
      "Robust Covariance (Heteroskedastic)\n",
      "Debiased: False\n"
     ]
    }
   ],
   "source": [
    "   #Column 4\n",
    "formula = 'totalfert85 ~ 1 + logrgdppc1985 + infmort85 [logactualtrade ~ logfrankrom]'\n",
    "model14 = IV2SLS.from_formula(formula, data=df_nonocde_nonopec) \n",
    "iv_col4_table1 = model14.fit(cov_type='robust')\n",
    "print(iv_col4_table1)"
   ]
  },
  {
   "cell_type": "code",
   "execution_count": 44,
   "metadata": {
    "scrolled": true
   },
   "outputs": [
    {
     "name": "stdout",
     "output_type": "stream",
     "text": [
      "                          IV-2SLS Estimation Summary                          \n",
      "==============================================================================\n",
      "Dep. Variable:            totalfert85   R-squared:                      0.2730\n",
      "Estimator:                    IV-2SLS   Adj. R-squared:                 0.2037\n",
      "No. Observations:                  24   F-statistic:                    7.2217\n",
      "Date:                Fri, Jun 26 2020   P-value (F-stat)                0.0270\n",
      "Time:                        22:41:26   Distribution:                  chi2(2)\n",
      "Cov. Estimator:                robust                                         \n",
      "                                                                              \n",
      "                               Parameter Estimates                                \n",
      "==================================================================================\n",
      "                Parameter  Std. Err.     T-stat    P-value    Lower CI    Upper CI\n",
      "----------------------------------------------------------------------------------\n",
      "Intercept          7.6287     3.1779     2.4006     0.0164      1.4001      13.857\n",
      "logrgdppc1985     -0.5299     0.3193    -1.6595     0.0970     -1.1558      0.0959\n",
      "logactualtrade    -0.2282     0.0871    -2.6207     0.0088     -0.3988     -0.0575\n",
      "==================================================================================\n",
      "\n",
      "Endogenous: logactualtrade\n",
      "Instruments: logfrankrom\n",
      "Robust Covariance (Heteroskedastic)\n",
      "Debiased: False\n"
     ]
    }
   ],
   "source": [
    "    #Column 7\n",
    "formula = 'totalfert85 ~ 1 + logrgdppc1985 [logactualtrade ~ logfrankrom]'\n",
    "model17 = IV2SLS.from_formula(formula, data=df_ocde_nonopec)\n",
    "iv_col7_table1 = model17.fit(cov_type='robust')\n",
    "print(iv_col7_table1)"
   ]
  },
  {
   "cell_type": "code",
   "execution_count": 45,
   "metadata": {
    "scrolled": true
   },
   "outputs": [
    {
     "name": "stdout",
     "output_type": "stream",
     "text": [
      "                          IV-2SLS Estimation Summary                          \n",
      "==============================================================================\n",
      "Dep. Variable:            totalfert85   R-squared:                      0.6039\n",
      "Estimator:                    IV-2SLS   Adj. R-squared:                 0.5445\n",
      "No. Observations:                  24   F-statistic:                    473.07\n",
      "Date:                Fri, Jun 26 2020   P-value (F-stat)                0.0000\n",
      "Time:                        22:41:26   Distribution:                  chi2(3)\n",
      "Cov. Estimator:                robust                                         \n",
      "                                                                              \n",
      "                               Parameter Estimates                                \n",
      "==================================================================================\n",
      "                Parameter  Std. Err.     T-stat    P-value    Lower CI    Upper CI\n",
      "----------------------------------------------------------------------------------\n",
      "Intercept          1.0549     2.2267     0.4738     0.6357     -3.3093      5.4191\n",
      "logrgdppc1985      0.1045     0.2309     0.4527     0.6508     -0.3480      0.5571\n",
      "infmort85          0.0260     0.0056     4.6706     0.0000      0.0151      0.0369\n",
      "logactualtrade    -0.1306     0.0598    -2.1831     0.0290     -0.2478     -0.0134\n",
      "==================================================================================\n",
      "\n",
      "Endogenous: logactualtrade\n",
      "Instruments: logfrankrom\n",
      "Robust Covariance (Heteroskedastic)\n",
      "Debiased: False\n"
     ]
    }
   ],
   "source": [
    "    #Column 8\n",
    "formula = 'totalfert85 ~ 1 + logrgdppc1985 + infmort85 [logactualtrade ~ logfrankrom]'\n",
    "model18 = IV2SLS.from_formula(formula, data=df_ocde_nonopec)\n",
    "iv_col8_table1 = model18.fit(cov_type='robust')\n",
    "print(iv_col8_table1)"
   ]
  },
  {
   "cell_type": "markdown",
   "metadata": {},
   "source": [
    "### Table 2: The Effect of Trade on Education\n",
    "\n",
    "    Here the authors want to see the effect of trade on education\n",
    "    \n",
    "The fisrt four estimations are for non-OECD countries and what is expected is to find that _the effect of international trade on the demand for human capital induces a decline in human capital formation in non-industrial economies._\n",
    "\n",
    "The latter four columns are for OECD countries and _the expected effect of trade in fertility rates is, according to the theory, the opposite one, that is international trade on the demand for human capital cause the average education years to rise._"
   ]
  },
  {
   "cell_type": "code",
   "execution_count": 46,
   "metadata": {
    "scrolled": false
   },
   "outputs": [
    {
     "data": {
      "text/html": [
       "<table class=\"simpletable\">\n",
       "<tr>\n",
       "        <td>Model:</td>               <td>OLS</td>         <td>Adj. R-squared:</td>     <td>0.027</td> \n",
       "</tr>\n",
       "<tr>\n",
       "  <td>Dependent Variable:</td>      <td>D_educy</td>            <td>AIC:</td>         <td>108.5507</td>\n",
       "</tr>\n",
       "<tr>\n",
       "         <td>Date:</td>        <td>2020-06-26 22:41</td>        <td>BIC:</td>         <td>115.4629</td>\n",
       "</tr>\n",
       "<tr>\n",
       "   <td>No. Observations:</td>         <td>74</td>          <td>Log-Likelihood:</td>    <td>-51.275</td>\n",
       "</tr>\n",
       "<tr>\n",
       "       <td>Df Model:</td>              <td>2</td>           <td>F-statistic:</td>       <td>2.933</td> \n",
       "</tr>\n",
       "<tr>\n",
       "     <td>Df Residuals:</td>           <td>71</td>        <td>Prob (F-statistic):</td>  <td>0.0597</td> \n",
       "</tr>\n",
       "<tr>\n",
       "      <td>R-squared:</td>            <td>0.054</td>            <td>Scale:</td>         <td>0.24398</td>\n",
       "</tr>\n",
       "</table>\n",
       "<table class=\"simpletable\">\n",
       "<tr>\n",
       "         <td></td>         <th>Coef.</th>  <th>Std.Err.</th>    <th>z</th>     <th>P>|z|</th> <th>[0.025</th>  <th>0.975]</th>\n",
       "</tr>\n",
       "<tr>\n",
       "  <th>Intercept</th>      <td>-0.2687</td>  <td>0.5263</td>  <td>-0.5106</td> <td>0.6096</td> <td>-1.3002</td> <td>0.7628</td>\n",
       "</tr>\n",
       "<tr>\n",
       "  <th>logactualtrade</th> <td>-0.0980</td>  <td>0.0802</td>  <td>-1.2220</td> <td>0.2217</td> <td>-0.2553</td> <td>0.0592</td>\n",
       "</tr>\n",
       "<tr>\n",
       "  <th>logrgdppc1985</th>  <td>0.1489</td>   <td>0.0647</td>  <td>2.2992</td>  <td>0.0215</td> <td>0.0220</td>  <td>0.2757</td>\n",
       "</tr>\n",
       "</table>\n",
       "<table class=\"simpletable\">\n",
       "<tr>\n",
       "     <td>Omnibus:</td>    <td>38.049</td>  <td>Durbin-Watson:</td>    <td>1.784</td>\n",
       "</tr>\n",
       "<tr>\n",
       "  <td>Prob(Omnibus):</td>  <td>0.000</td> <td>Jarque-Bera (JB):</td> <td>84.151</td>\n",
       "</tr>\n",
       "<tr>\n",
       "       <td>Skew:</td>      <td>1.815</td>     <td>Prob(JB):</td>      <td>0.000</td>\n",
       "</tr>\n",
       "<tr>\n",
       "     <td>Kurtosis:</td>    <td>6.756</td>  <td>Condition No.:</td>     <td>82</td>  \n",
       "</tr>\n",
       "</table>"
      ],
      "text/plain": [
       "<class 'statsmodels.iolib.summary2.Summary'>\n",
       "\"\"\"\n",
       "                 Results: Ordinary least squares\n",
       "=================================================================\n",
       "Model:              OLS              Adj. R-squared:     0.027   \n",
       "Dependent Variable: D_educy          AIC:                108.5507\n",
       "Date:               2020-06-26 22:41 BIC:                115.4629\n",
       "No. Observations:   74               Log-Likelihood:     -51.275 \n",
       "Df Model:           2                F-statistic:        2.933   \n",
       "Df Residuals:       71               Prob (F-statistic): 0.0597  \n",
       "R-squared:          0.054            Scale:              0.24398 \n",
       "-----------------------------------------------------------------\n",
       "                    Coef.  Std.Err.    z    P>|z|   [0.025 0.975]\n",
       "-----------------------------------------------------------------\n",
       "Intercept          -0.2687   0.5263 -0.5106 0.6096 -1.3002 0.7628\n",
       "logactualtrade     -0.0980   0.0802 -1.2220 0.2217 -0.2553 0.0592\n",
       "logrgdppc1985       0.1489   0.0647  2.2992 0.0215  0.0220 0.2757\n",
       "-----------------------------------------------------------------\n",
       "Omnibus:              38.049       Durbin-Watson:          1.784 \n",
       "Prob(Omnibus):        0.000        Jarque-Bera (JB):       84.151\n",
       "Skew:                 1.815        Prob(JB):               0.000 \n",
       "Kurtosis:             6.756        Condition No.:          82    \n",
       "=================================================================\n",
       "\n",
       "\"\"\""
      ]
     },
     "execution_count": 46,
     "metadata": {},
     "output_type": "execute_result"
    }
   ],
   "source": [
    "    # Column 1\n",
    "                #For non industrialized economies\n",
    "        #Regress the capital accummulation between 1985 -1990 (measured as years of school)\n",
    "        #upon the logarithm of trade and controlling for GDP per capita\n",
    "col1_table2 = smf.ols(formula='D_educy ~ logactualtrade + logrgdppc1985', data=dfeduc_nonocde_nonopec).fit(cov_type='HC1')\n",
    "                # In a variable called \"col1_table2\" save the results of the regression of capital accumulation (D_educy)\n",
    "                # upon trade and GDP per capita using robust estimators.\n",
    "                # The data used here, is the subgroup of data for non-ocde countries and excluding OPEC members to\n",
    "                # There are lese observations than in table 1 since there are some missings. \n",
    "  \n",
    "        # The following command allow us to se the ANOVA table with the results of the main tests for the regression\n",
    "col1_table2.summary2()"
   ]
  },
  {
   "cell_type": "markdown",
   "metadata": {},
   "source": [
    "_The results presented above predict there is a negative relation between trade and capital accumulation in non industrialized countries, just like theory suggest. However, results are not statistically significant and, just like when measuring effect of trade on fertility rates, there is potential existence of omitted variables, measurement errors, and reverse causality._ Again the Frankel and Romer(1999) instrument is used to correct for endogeneity of trade and find the causal effect suggested in the theory."
   ]
  },
  {
   "cell_type": "code",
   "execution_count": 47,
   "metadata": {
    "scrolled": true
   },
   "outputs": [
    {
     "data": {
      "text/html": [
       "<table class=\"simpletable\">\n",
       "<tr>\n",
       "        <td>Model:</td>               <td>OLS</td>         <td>Adj. R-squared:</td>     <td>0.058</td> \n",
       "</tr>\n",
       "<tr>\n",
       "  <td>Dependent Variable:</td>      <td>D_educy</td>            <td>AIC:</td>         <td>106.1534</td>\n",
       "</tr>\n",
       "<tr>\n",
       "         <td>Date:</td>        <td>2020-06-26 22:41</td>        <td>BIC:</td>         <td>113.0656</td>\n",
       "</tr>\n",
       "<tr>\n",
       "   <td>No. Observations:</td>         <td>74</td>          <td>Log-Likelihood:</td>    <td>-50.077</td>\n",
       "</tr>\n",
       "<tr>\n",
       "       <td>Df Model:</td>              <td>2</td>           <td>F-statistic:</td>       <td>5.233</td> \n",
       "</tr>\n",
       "<tr>\n",
       "     <td>Df Residuals:</td>           <td>71</td>        <td>Prob (F-statistic):</td>  <td>0.00758</td>\n",
       "</tr>\n",
       "<tr>\n",
       "      <td>R-squared:</td>            <td>0.084</td>            <td>Scale:</td>         <td>0.23620</td>\n",
       "</tr>\n",
       "</table>\n",
       "<table class=\"simpletable\">\n",
       "<tr>\n",
       "            <td></td>             <th>Coef.</th>  <th>Std.Err.</th>    <th>z</th>     <th>P>|z|</th> <th>[0.025</th>  <th>0.975]</th> \n",
       "</tr>\n",
       "<tr>\n",
       "  <th>Intercept</th>             <td>0.0122</td>   <td>0.5685</td>  <td>0.0214</td>  <td>0.9829</td> <td>-1.1021</td> <td>1.1264</td> \n",
       "</tr>\n",
       "<tr>\n",
       "  <th>predicted_lntrade_2_2</th> <td>-0.2662</td>  <td>0.1235</td>  <td>-2.1563</td> <td>0.0311</td> <td>-0.5083</td> <td>-0.0242</td>\n",
       "</tr>\n",
       "<tr>\n",
       "  <th>logrgdppc1985</th>         <td>0.2008</td>   <td>0.0664</td>  <td>3.0237</td>  <td>0.0025</td> <td>0.0707</td>  <td>0.3310</td> \n",
       "</tr>\n",
       "</table>\n",
       "<table class=\"simpletable\">\n",
       "<tr>\n",
       "     <td>Omnibus:</td>    <td>35.814</td>  <td>Durbin-Watson:</td>    <td>1.890</td>\n",
       "</tr>\n",
       "<tr>\n",
       "  <td>Prob(Omnibus):</td>  <td>0.000</td> <td>Jarque-Bera (JB):</td> <td>73.562</td>\n",
       "</tr>\n",
       "<tr>\n",
       "       <td>Skew:</td>      <td>1.746</td>     <td>Prob(JB):</td>      <td>0.000</td>\n",
       "</tr>\n",
       "<tr>\n",
       "     <td>Kurtosis:</td>    <td>6.414</td>  <td>Condition No.:</td>     <td>87</td>  \n",
       "</tr>\n",
       "</table>"
      ],
      "text/plain": [
       "<class 'statsmodels.iolib.summary2.Summary'>\n",
       "\"\"\"\n",
       "                   Results: Ordinary least squares\n",
       "=====================================================================\n",
       "Model:                OLS               Adj. R-squared:      0.058   \n",
       "Dependent Variable:   D_educy           AIC:                 106.1534\n",
       "Date:                 2020-06-26 22:41  BIC:                 113.0656\n",
       "No. Observations:     74                Log-Likelihood:      -50.077 \n",
       "Df Model:             2                 F-statistic:         5.233   \n",
       "Df Residuals:         71                Prob (F-statistic):  0.00758 \n",
       "R-squared:            0.084             Scale:               0.23620 \n",
       "---------------------------------------------------------------------\n",
       "                       Coef.  Std.Err.    z    P>|z|   [0.025  0.975]\n",
       "---------------------------------------------------------------------\n",
       "Intercept              0.0122   0.5685  0.0214 0.9829 -1.1021  1.1264\n",
       "predicted_lntrade_2_2 -0.2662   0.1235 -2.1563 0.0311 -0.5083 -0.0242\n",
       "logrgdppc1985          0.2008   0.0664  3.0237 0.0025  0.0707  0.3310\n",
       "---------------------------------------------------------------------\n",
       "Omnibus:                35.814        Durbin-Watson:           1.890 \n",
       "Prob(Omnibus):          0.000         Jarque-Bera (JB):        73.562\n",
       "Skew:                   1.746         Prob(JB):                0.000 \n",
       "Kurtosis:               6.414         Condition No.:           87    \n",
       "=====================================================================\n",
       "\n",
       "\"\"\""
      ]
     },
     "execution_count": 47,
     "metadata": {},
     "output_type": "execute_result"
    }
   ],
   "source": [
    "    #Column 2\n",
    "    # Run the IV regression for non industrialized economies\n",
    "fstStage_col2_table2 = smf.ols(formula='logactualtrade ~ logfrankrom + logrgdppc1985', data=dfeduc_nonocde_nonopec).fit(cov_type='HC1')\n",
    "dfeduc_nonocde_nonopec['predicted_lntrade_2_2'] = fstStage_col2_table2.predict()\n",
    "\n",
    "scdStage_2_2 = smf.ols(formula='D_educy ~ predicted_lntrade_2_2 + logrgdppc1985', data=dfeduc_nonocde_nonopec).fit(cov_type='HC1')\n",
    "scdStage_2_2.summary2()"
   ]
  },
  {
   "cell_type": "code",
   "execution_count": 48,
   "metadata": {
    "scrolled": true
   },
   "outputs": [
    {
     "data": {
      "text/html": [
       "<table class=\"simpletable\">\n",
       "<tr>\n",
       "        <td>Model:</td>               <td>OLS</td>         <td>Adj. R-squared:</td>   <td>-0.009</td> \n",
       "</tr>\n",
       "<tr>\n",
       "  <td>Dependent Variable:</td>      <td>D_educy</td>            <td>AIC:</td>         <td>43.8395</td>\n",
       "</tr>\n",
       "<tr>\n",
       "         <td>Date:</td>        <td>2020-06-26 22:41</td>        <td>BIC:</td>         <td>47.2460</td>\n",
       "</tr>\n",
       "<tr>\n",
       "   <td>No. Observations:</td>         <td>23</td>          <td>Log-Likelihood:</td>   <td>-18.920</td>\n",
       "</tr>\n",
       "<tr>\n",
       "       <td>Df Model:</td>              <td>2</td>           <td>F-statistic:</td>      <td>4.366</td> \n",
       "</tr>\n",
       "<tr>\n",
       "     <td>Df Residuals:</td>           <td>20</td>        <td>Prob (F-statistic):</td> <td>0.0267</td> \n",
       "</tr>\n",
       "<tr>\n",
       "      <td>R-squared:</td>            <td>0.083</td>            <td>Scale:</td>        <td>0.34892</td>\n",
       "</tr>\n",
       "</table>\n",
       "<table class=\"simpletable\">\n",
       "<tr>\n",
       "         <td></td>         <th>Coef.</th>  <th>Std.Err.</th>    <th>z</th>     <th>P>|z|</th> <th>[0.025</th>  <th>0.975]</th>\n",
       "</tr>\n",
       "<tr>\n",
       "  <th>Intercept</th>      <td>1.8268</td>   <td>2.7864</td>  <td>0.6556</td>  <td>0.5121</td> <td>-3.6346</td> <td>7.2881</td>\n",
       "</tr>\n",
       "<tr>\n",
       "  <th>logactualtrade</th> <td>0.2610</td>   <td>0.1940</td>  <td>1.3448</td>  <td>0.1787</td> <td>-0.1194</td> <td>0.6413</td>\n",
       "</tr>\n",
       "<tr>\n",
       "  <th>logrgdppc1985</th>  <td>-0.2627</td>  <td>0.2462</td>  <td>-1.0672</td> <td>0.2859</td> <td>-0.7453</td> <td>0.2198</td>\n",
       "</tr>\n",
       "</table>\n",
       "<table class=\"simpletable\">\n",
       "<tr>\n",
       "     <td>Omnibus:</td>    <td>24.810</td>  <td>Durbin-Watson:</td>    <td>2.109</td>\n",
       "</tr>\n",
       "<tr>\n",
       "  <td>Prob(Omnibus):</td>  <td>0.000</td> <td>Jarque-Bera (JB):</td> <td>38.503</td>\n",
       "</tr>\n",
       "<tr>\n",
       "       <td>Skew:</td>      <td>2.124</td>     <td>Prob(JB):</td>      <td>0.000</td>\n",
       "</tr>\n",
       "<tr>\n",
       "     <td>Kurtosis:</td>    <td>7.705</td>  <td>Condition No.:</td>     <td>268</td> \n",
       "</tr>\n",
       "</table>"
      ],
      "text/plain": [
       "<class 'statsmodels.iolib.summary2.Summary'>\n",
       "\"\"\"\n",
       "                Results: Ordinary least squares\n",
       "================================================================\n",
       "Model:              OLS              Adj. R-squared:     -0.009 \n",
       "Dependent Variable: D_educy          AIC:                43.8395\n",
       "Date:               2020-06-26 22:41 BIC:                47.2460\n",
       "No. Observations:   23               Log-Likelihood:     -18.920\n",
       "Df Model:           2                F-statistic:        4.366  \n",
       "Df Residuals:       20               Prob (F-statistic): 0.0267 \n",
       "R-squared:          0.083            Scale:              0.34892\n",
       "----------------------------------------------------------------\n",
       "                   Coef.  Std.Err.    z    P>|z|   [0.025 0.975]\n",
       "----------------------------------------------------------------\n",
       "Intercept          1.8268   2.7864  0.6556 0.5121 -3.6346 7.2881\n",
       "logactualtrade     0.2610   0.1940  1.3448 0.1787 -0.1194 0.6413\n",
       "logrgdppc1985     -0.2627   0.2462 -1.0672 0.2859 -0.7453 0.2198\n",
       "----------------------------------------------------------------\n",
       "Omnibus:             24.810       Durbin-Watson:          2.109 \n",
       "Prob(Omnibus):       0.000        Jarque-Bera (JB):       38.503\n",
       "Skew:                2.124        Prob(JB):               0.000 \n",
       "Kurtosis:            7.705        Condition No.:          268   \n",
       "================================================================\n",
       "\n",
       "\"\"\""
      ]
     },
     "execution_count": 48,
     "metadata": {},
     "output_type": "execute_result"
    }
   ],
   "source": [
    "    # Column 3\n",
    "              #For industrialized economies\n",
    "        #Regress the capital accummulation between 1985 -1990 (measured as years of school)\n",
    "        #upon the logarithm of trade and controlling for GDP per capita\n",
    "col3_table2 = smf.ols(formula='D_educy ~ logactualtrade + logrgdppc1985', data=dfeduc_ocde_nonopec).fit(cov_type='HC1')\n",
    "col3_table2.summary2()"
   ]
  },
  {
   "cell_type": "markdown",
   "metadata": {},
   "source": [
    "_The results presented above predict there is a positive relation between trade and capital accumulation in industrialized countries, just contrary to the effect of non-OECD countries and like theory suggest._ Note that again, results are not statistically significant and again the Frankel and Romer(1999) instrument is used to correct for endogeneity of trade and find the causal effect suggested in the theory."
   ]
  },
  {
   "cell_type": "code",
   "execution_count": 49,
   "metadata": {
    "scrolled": true
   },
   "outputs": [
    {
     "data": {
      "text/html": [
       "<table class=\"simpletable\">\n",
       "<tr>\n",
       "        <td>Model:</td>               <td>OLS</td>         <td>Adj. R-squared:</td>    <td>0.008</td> \n",
       "</tr>\n",
       "<tr>\n",
       "  <td>Dependent Variable:</td>      <td>D_educy</td>            <td>AIC:</td>         <td>43.4391</td>\n",
       "</tr>\n",
       "<tr>\n",
       "         <td>Date:</td>        <td>2020-06-26 22:41</td>        <td>BIC:</td>         <td>46.8455</td>\n",
       "</tr>\n",
       "<tr>\n",
       "   <td>No. Observations:</td>         <td>23</td>          <td>Log-Likelihood:</td>   <td>-18.720</td>\n",
       "</tr>\n",
       "<tr>\n",
       "       <td>Df Model:</td>              <td>2</td>           <td>F-statistic:</td>      <td>6.265</td> \n",
       "</tr>\n",
       "<tr>\n",
       "     <td>Df Residuals:</td>           <td>20</td>        <td>Prob (F-statistic):</td> <td>0.00772</td>\n",
       "</tr>\n",
       "<tr>\n",
       "      <td>R-squared:</td>            <td>0.098</td>            <td>Scale:</td>        <td>0.34290</td>\n",
       "</tr>\n",
       "</table>\n",
       "<table class=\"simpletable\">\n",
       "<tr>\n",
       "            <td></td>             <th>Coef.</th>  <th>Std.Err.</th>    <th>z</th>     <th>P>|z|</th> <th>[0.025</th>  <th>0.975]</th>\n",
       "</tr>\n",
       "<tr>\n",
       "  <th>Intercept</th>             <td>1.3830</td>   <td>2.8646</td>  <td>0.4828</td>  <td>0.6293</td> <td>-4.2316</td> <td>6.9975</td>\n",
       "</tr>\n",
       "<tr>\n",
       "  <th>predicted_lntrade_4_2</th> <td>0.3510</td>   <td>0.2035</td>  <td>1.7248</td>  <td>0.0846</td> <td>-0.0479</td> <td>0.7499</td>\n",
       "</tr>\n",
       "<tr>\n",
       "  <th>logrgdppc1985</th>         <td>-0.2547</td>  <td>0.2492</td>  <td>-1.0222</td> <td>0.3067</td> <td>-0.7432</td> <td>0.2337</td>\n",
       "</tr>\n",
       "</table>\n",
       "<table class=\"simpletable\">\n",
       "<tr>\n",
       "     <td>Omnibus:</td>    <td>25.575</td>  <td>Durbin-Watson:</td>    <td>2.051</td>\n",
       "</tr>\n",
       "<tr>\n",
       "  <td>Prob(Omnibus):</td>  <td>0.000</td> <td>Jarque-Bera (JB):</td> <td>41.019</td>\n",
       "</tr>\n",
       "<tr>\n",
       "       <td>Skew:</td>      <td>2.173</td>     <td>Prob(JB):</td>      <td>0.000</td>\n",
       "</tr>\n",
       "<tr>\n",
       "     <td>Kurtosis:</td>    <td>7.890</td>  <td>Condition No.:</td>     <td>275</td> \n",
       "</tr>\n",
       "</table>"
      ],
      "text/plain": [
       "<class 'statsmodels.iolib.summary2.Summary'>\n",
       "\"\"\"\n",
       "                  Results: Ordinary least squares\n",
       "====================================================================\n",
       "Model:                OLS               Adj. R-squared:      0.008  \n",
       "Dependent Variable:   D_educy           AIC:                 43.4391\n",
       "Date:                 2020-06-26 22:41  BIC:                 46.8455\n",
       "No. Observations:     23                Log-Likelihood:      -18.720\n",
       "Df Model:             2                 F-statistic:         6.265  \n",
       "Df Residuals:         20                Prob (F-statistic):  0.00772\n",
       "R-squared:            0.098             Scale:               0.34290\n",
       "--------------------------------------------------------------------\n",
       "                       Coef.  Std.Err.    z    P>|z|   [0.025 0.975]\n",
       "--------------------------------------------------------------------\n",
       "Intercept              1.3830   2.8646  0.4828 0.6293 -4.2316 6.9975\n",
       "predicted_lntrade_4_2  0.3510   0.2035  1.7248 0.0846 -0.0479 0.7499\n",
       "logrgdppc1985         -0.2547   0.2492 -1.0222 0.3067 -0.7432 0.2337\n",
       "--------------------------------------------------------------------\n",
       "Omnibus:               25.575        Durbin-Watson:           2.051 \n",
       "Prob(Omnibus):         0.000         Jarque-Bera (JB):        41.019\n",
       "Skew:                  2.173         Prob(JB):                0.000 \n",
       "Kurtosis:              7.890         Condition No.:           275   \n",
       "====================================================================\n",
       "\n",
       "\"\"\""
      ]
     },
     "execution_count": 49,
     "metadata": {},
     "output_type": "execute_result"
    }
   ],
   "source": [
    "    #Column 4\n",
    "    # Run the IV regression for OEDC countries\n",
    "fstStage_col4_table2 = smf.ols(formula='logactualtrade ~ logfrankrom + logrgdppc1985', data=dfeduc_ocde_nonopec).fit(cov_type='HC1')\n",
    "dfeduc_ocde_nonopec['predicted_lntrade_4_2'] = fstStage_col4_table2.predict()\n",
    "\n",
    "scdStage_4_2 = smf.ols(formula='D_educy ~ predicted_lntrade_4_2 + logrgdppc1985', data=dfeduc_ocde_nonopec).fit(cov_type='HC1')\n",
    "scdStage_4_2.summary2()"
   ]
  },
  {
   "cell_type": "markdown",
   "metadata": {},
   "source": [
    "## Compile in one table"
   ]
  },
  {
   "cell_type": "code",
   "execution_count": 50,
   "metadata": {
    "scrolled": true
   },
   "outputs": [
    {
     "data": {
      "text/plain": [
       "'\\\\begin{table}[!htbp] \\\\centering\\n  \\\\label{}\\n\\\\begin{tabular}{@{\\\\extracolsep{5pt}}lcc}\\n\\\\\\\\[-1.8ex]\\\\hline\\n\\\\hline \\\\\\\\[-1.8ex]\\n& \\\\multicolumn{8}{c}{\\\\textit{Dependent variable:}} \\\\\\n\\\\cr \\\\cline{8-9}\\n\\\\\\\\[-1.8ex] & (1) & (2) & (3) & (4) & (5) & (6) & (7) & (8) \\\\\\\\\\n\\\\hline \\\\\\\\[-1.8ex]\\n Intercept & 16.39$^{***}$ & 4.28$^{*}$ & 15.4$^{***}$ & 3.09$^{}$ & 7.18$^{**}$ & 0.36$^{}$ & 7.63$^{**}$ & 1.05$^{}$ \\\\\\\\\\n  & (1.14) & (2.34) & (1.25) & (2.49) & (3.51) & (2.13) & (3.44) & (2.31) \\\\\\\\\\n  & & & & & & & & \\\\\\\\\\n infmort85 & & 0.03$^{***}$ & & 0.03$^{***}$ & & 0.03$^{***}$ & & 0.03$^{***}$ \\\\\\\\\\n  & & (0.0) & & (0.0) & & (0.01) & & (0.01) \\\\\\\\\\n  & & & & & & & & \\\\\\\\\\n logactualtrade & 0.21$^{}$ & 0.33$^{**}$ & & & -0.12$^{}$ & -0.04$^{}$ & & \\\\\\\\\\n  & (0.17) & (0.14) & & & (0.1) & (0.09) & & \\\\\\\\\\n  & & & & & & & & \\\\\\\\\\n logrgdppc1985 & -1.66$^{***}$ & -0.39$^{}$ & -1.79$^{***}$ & -0.44$^{*}$ & -0.53$^{}$ & 0.14$^{}$ & -0.53$^{}$ & 0.1$^{}$ \\\\\\\\\\n  & (0.14) & (0.27) & (0.14) & (0.26) & (0.35) & (0.23) & (0.34) & (0.24) \\\\\\\\\\n  & & & & & & & & \\\\\\\\\\n predicted_lntrade_1_3 & & & 0.69$^{***}$ & & & & & \\\\\\\\\\n  & & & (0.25) & & & & & \\\\\\\\\\n  & & & & & & & & \\\\\\\\\\n predicted_lntrade_1_4 & & & & 0.7$^{***}$ & & & & \\\\\\\\\\n  & & & & (0.18) & & & & \\\\\\\\\\n  & & & & & & & & \\\\\\\\\\n predicted_lntrade_1_7 & & & & & & & -0.23$^{**}$ & \\\\\\\\\\n  & & & & & & & (0.09) & \\\\\\\\\\n  & & & & & & & & \\\\\\\\\\n predicted_lntrade_1_8 & & & & & & & & -0.13$^{**}$ \\\\\\\\\\n  & & & & & & & & (0.06) \\\\\\\\\\n  & & & & & & & & \\\\\\\\\\n\\\\hline \\\\\\\\[-1.8ex]\\n Observations & 108.0 & 108.0 & 108.0 & 108.0 & 24.0 & 24.0 & 24.0 & 24.0 \\\\\\\\\\n R${2}$ & 0.58 & 0.72 & 0.6 & 0.74 & 0.29 & 0.62 & 0.34 & 0.64 \\\\\\\\\\n Adjusted R${2}$ & 0.57 & 0.72 & 0.59 & 0.73 & 0.23 & 0.56 & 0.28 & 0.59 \\\\\\\\\\n Residual Std. Error & 1.2(df = 105.0) & 0.98(df = 104.0) & 1.17(df = 105.0) & 0.95(df = 104.0) & 0.35(df = 21.0) & 0.26(df = 20.0) & 0.34(df = 21.0) & 0.26(df = 20.0)  \\\\\\\\\\n F Statistic & [[66.09]]$^{***}$ (df = 2.0; 105.0) & [[123.91]]$^{***}$ (df = 3.0; 104.0) & [[86.11]]$^{***}$ (df = 2.0; 105.0) & [[120.12]]$^{***}$ (df = 3.0; 104.0) & [[1.39]]$^{}$ (df = 2.0; 21.0) & [[136.52]]$^{***}$ (df = 3.0; 20.0) & [[3.08]]$^{*}$ (df = 2.0; 21.0) & [[126.25]]$^{***}$ (df = 3.0; 20.0) \\\\\\\\\\n\\\\hline\\n\\\\hline \\\\\\\\[-1.8ex]\\n\\\\textit{Note:} & \\\\multicolumn{8}{r}{$^{*}$p$<$0.1; $^{**}$p$<$0.05; $^{***}$p$<$0.01} \\\\\\\\\\n\\\\end{tabular}\\n\\\\end{table}'"
      ]
     },
     "execution_count": 50,
     "metadata": {},
     "output_type": "execute_result"
    }
   ],
   "source": [
    "table2 = Stargazer([col1_table1, col2_table1, scdStage_1_3, scdStage_1_4, col5_table1, col6_table1, scdStage_1_7, scdStage_1_8])\n",
    "table2.significant_digits(2)\n",
    "table1.render_latex()"
   ]
  },
  {
   "cell_type": "markdown",
   "metadata": {},
   "source": [
    "## Figure 2"
   ]
  },
  {
   "cell_type": "markdown",
   "metadata": {},
   "source": [
    "To see the partial effect of trade on education, we need to generate the residuals of the first stage instrumented variable upon controls, and the residuals of the dependend variable just regressed on controls. Just like in figure 1, but with capital accumulation instead of fertility rates."
   ]
  },
  {
   "cell_type": "markdown",
   "metadata": {},
   "source": [
    "#### Figure 2 (a)"
   ]
  },
  {
   "cell_type": "code",
   "execution_count": 51,
   "metadata": {},
   "outputs": [],
   "source": [
    "    #Column 2 - For non-OCD Countries\n",
    "\n",
    "    # Recall the following commented command was executed for generating table 2 col 2: \n",
    "            # df_nonocde_nonopec['predicted_lntrade_2_2'] = fstStage_col2_table2.predict()\n",
    "    #Then, the variable 'predicted_lntrade_2_2' is the prediction of the first stage\n",
    "Z2_nonOECD_nonopec  = smf.ols(formula='predicted_lntrade_2_2 ~ logrgdppc1985', data=dfeduc_nonocde_nonopec).fit()         \n",
    "dfeduc_nonocde_nonopec['Z2nonOCDE_controls'] = Z2_nonOECD_nonopec.predict()\n",
    "\n",
    "             # From that same regression calculate the residuals and save them to:\n",
    "dfeduc_nonocde_nonopec['Z2nonOCDE_resid'] = Z2_nonOECD_nonopec.resid\n"
   ]
  },
  {
   "cell_type": "code",
   "execution_count": 52,
   "metadata": {},
   "outputs": [],
   "source": [
    "Y_controls_nonOECD_f2 = smf.ols(formula='D_educy ~ logrgdppc1985', data=dfeduc_nonocde_nonopec).fit()\n",
    "dfeduc_nonocde_nonopec['Y2nonOCDE_resid'] = Y_controls_nonOECD_f2.resid"
   ]
  },
  {
   "cell_type": "code",
   "execution_count": 53,
   "metadata": {
    "scrolled": true
   },
   "outputs": [
    {
     "data": {
      "image/png": "[encoded data removed]",
      "text/plain": [
       "<Figure size 842.4x595.44 with 1 Axes>"
      ]
     },
     "metadata": {},
     "output_type": "display_data"
    }
   ],
   "source": [
    "sns.set(rc={'figure.figsize':(11.7,8.27)})\n",
    "fig2a, ax = plt.subplots()\n",
    "ax.set(ylim=(dfeduc_nonocde_nonopec.Y2nonOCDE_resid.min()-0.2, dfeduc_nonocde_nonopec.Y2nonOCDE_resid.max()+0.4))\n",
    "ax.set(xlim=(dfeduc_nonocde_nonopec.Z2nonOCDE_resid.min()-0.2, dfeduc_nonocde_nonopec.Z2nonOCDE_resid.max()+0.2))\n",
    "sns.regplot(x='Z2nonOCDE_resid', y='Y2nonOCDE_resid', data=dfeduc_nonocde_nonopec, ax=ax, label='LABEL')\n",
    "plt.xlabel('Log Trade Share in GDP 1985', fontsize=20)\n",
    "plt.ylabel('Education Flow 1985-1990', fontsize=20)\n",
    "plt.title(\"Partial effect of trade on education in non-OECD economies\", fontsize=20, weight='bold')\n",
    "ax.tick_params(labelsize=16)\n",
    "for line in range(0,dfeduc_nonocde_nonopec.shape[0]):\n",
    "    ax.text(dfeduc_nonocde_nonopec.Z2nonOCDE_resid[line], dfeduc_nonocde_nonopec.Y2nonOCDE_resid[line], dfeduc_nonocde_nonopec.CtrCode[line], horizontalalignment='left', fontsize=10, color='black')"
   ]
  },
  {
   "cell_type": "markdown",
   "metadata": {},
   "source": [
    "#### Figure 2 (b)"
   ]
  },
  {
   "cell_type": "code",
   "execution_count": 54,
   "metadata": {
    "scrolled": true
   },
   "outputs": [],
   "source": [
    "    #Column 4 - For OECD Countries\n",
    "\n",
    "    # Recall the following commented command was executed for generating table 2 col 4: \n",
    "    #df_ocde_nonopec['predicted_lntrade_4_2'] = fstStage_col4_table2.predict()\n",
    "        #Then, the variable 'predicted_lntrade_4_2' is the prediction of the first stage\n",
    "Z2_OECD_nonopec  = smf.ols(formula='predicted_lntrade_4_2 ~ logrgdppc1985', data=dfeduc_ocde_nonopec).fit()         \n",
    "dfeduc_ocde_nonopec['Z2OCDE_controls'] = Z2_OECD_nonopec.predict()\n",
    "\n",
    "dfeduc_ocde_nonopec['Z2OCDE_resid'] = Z2_OECD_nonopec.resid"
   ]
  },
  {
   "cell_type": "code",
   "execution_count": 55,
   "metadata": {},
   "outputs": [],
   "source": [
    "Y_controls_OECD_f2 = smf.ols(formula='D_educy ~ logrgdppc1985', data=dfeduc_ocde_nonopec).fit()\n",
    "dfeduc_ocde_nonopec['Y2OCDE_resid'] = Y_controls_OECD_f2.resid"
   ]
  },
  {
   "cell_type": "code",
   "execution_count": 56,
   "metadata": {
    "scrolled": true
   },
   "outputs": [
    {
     "data": {
      "image/png": "[encoded data removed]",
      "text/plain": [
       "<Figure size 842.4x595.44 with 1 Axes>"
      ]
     },
     "metadata": {},
     "output_type": "display_data"
    }
   ],
   "source": [
    "fig2b, ax = plt.subplots()\n",
    "ax.set(ylim=(dfeduc_ocde_nonopec.Y2OCDE_resid.min()-0.2, dfeduc_ocde_nonopec.Y2OCDE_resid.max()+0.2))\n",
    "ax.set(xlim=(dfeduc_ocde_nonopec.Z2OCDE_resid.min()-0.2, dfeduc_ocde_nonopec.Z2OCDE_resid.max()+0.2))\n",
    "sns.regplot(x='Z2OCDE_resid', y='Y2OCDE_resid', data=dfeduc_ocde_nonopec, ax=ax, label='LABEL')\n",
    "plt.xlabel('Log Trade Share in GDP 1985', fontsize=20)\n",
    "plt.ylabel('Education Flow 1985-1990', fontsize=20)\n",
    "plt.title(\"Partial effect of trade on education in OECD economies\", fontsize=20, weight='bold')\n",
    "ax.tick_params(labelsize=16)\n",
    "for line in range(0,dfeduc_ocde_nonopec.shape[0]):\n",
    "    ax.text(dfeduc_ocde_nonopec.Z2OCDE_resid[line], dfeduc_ocde_nonopec.Y2OCDE_resid[line], dfeduc_ocde_nonopec.CtrCode[line], horizontalalignment='left', fontsize=14, color='black', weight='semibold')\n"
   ]
  },
  {
   "cell_type": "markdown",
   "metadata": {},
   "source": [
    "_Figure 2 shows the predicted negative(positive) effect of international trade capital accumulation in (non)industrialized economies after controlling for DGP per capita. Just like theory predicts, after  instrumenting for solving the endogeneity The effect of trade in capital formation is the opposite in industrialized versus non industrialized economies and suggesting there might be a perpetual divergence._ "
   ]
  },
  {
   "cell_type": "markdown",
   "metadata": {},
   "source": [
    "# Robustness"
   ]
  },
  {
   "cell_type": "markdown",
   "metadata": {},
   "source": [
    "In this section, authors make various robustness checks to prove that their results also hold using similar variables and model specifications.\n",
    "In this models, the complete sample is used and the differences between industrialized and non-industrialized economies is captured using a dummy variable."
   ]
  },
  {
   "cell_type": "markdown",
   "metadata": {},
   "source": [
    "## Fertility and Trade\n",
    "### Table 3"
   ]
  },
  {
   "cell_type": "markdown",
   "metadata": {},
   "source": [
    "The following regression summarizes the complete model form used for robustness check"
   ]
  },
  {
   "cell_type": "code",
   "execution_count": 57,
   "metadata": {},
   "outputs": [
    {
     "data": {
      "text/latex": [
       "\\begin{equation}\n",
       "TFR_{i}=\\beta_{0}+\\beta_{1}ln(trade/GDP)_{i}+\\beta_{2}lnGDP_{i}+\\beta_{3}m{i}+\\beta_{4}D{i}+\\beta_{5}D_{i}*lnGDP_{i}+\\beta_{6}D_{i}GDP_{i}+\\beta_{7}D{i}m{i}+\\epsilon_{i}\n",
       "\\end{equation}\n"
      ],
      "text/plain": [
       "<IPython.core.display.Latex object>"
      ]
     },
     "metadata": {},
     "output_type": "display_data"
    }
   ],
   "source": [
    "%%latex\n",
    "\\begin{equation}\n",
    "TFR_{i}=\\beta_{0}+\\beta_{1}ln(trade/GDP)_{i}+\\beta_{2}lnGDP_{i}+\\beta_{3}m{i}+\\beta_{4}D{i}+\\beta_{5}D_{i}*lnGDP_{i}+\\beta_{6}D_{i}GDP_{i}+\\beta_{7}D{i}m{i}+\\epsilon_{i}\n",
    "\\end{equation}"
   ]
  },
  {
   "cell_type": "code",
   "execution_count": 58,
   "metadata": {},
   "outputs": [
    {
     "data": {
      "text/latex": [
       "Where $𝑇𝐹𝑅𝑖$ is the average total fertility rate in the period 1985-1990. in economy $i$ regressed on:\\\\\n",
       "    \\begin{itemize}\n",
       "        \\item log share of trade in GDP in 1985 $ln(trade/GDP)_i$, instrumentedby the Frankel–Romer instrument for trade\n",
       "        \\item $lnGDP_i$ log GDP per capita in 1985\n",
       "        \\item $m_i$ infant mortality rate in 1985\n",
       "        \\item a dummy variable, $D_i$, which equals 1 if economy i is an OECD economy and 0 otherwise\n",
       "        \\item the interactions between the OECD dummy, $D_i$ and $ln(trade/GDP)_i$,$GDP_i$, $m_i$\n",
       "\\end{itemize}\n"
      ],
      "text/plain": [
       "<IPython.core.display.Latex object>"
      ]
     },
     "metadata": {},
     "output_type": "display_data"
    }
   ],
   "source": [
    "%%latex\n",
    "Where $𝑇𝐹𝑅𝑖$ is the average total fertility rate in the period 1985-1990. in economy $i$ regressed on:\\\\\n",
    "    \\begin{itemize}\n",
    "        \\item log share of trade in GDP in 1985 $ln(trade/GDP)_i$, instrumentedby the Frankel–Romer instrument for trade\n",
    "        \\item $lnGDP_i$ log GDP per capita in 1985\n",
    "        \\item $m_i$ infant mortality rate in 1985\n",
    "        \\item a dummy variable, $D_i$, which equals 1 if economy i is an OECD economy and 0 otherwise\n",
    "        \\item the interactions between the OECD dummy, $D_i$ and $ln(trade/GDP)_i$,$GDP_i$, $m_i$\n",
    "\\end{itemize}"
   ]
  },
  {
   "cell_type": "markdown",
   "metadata": {},
   "source": [
    "Results are shown in **Table 3**:\n",
    "\n",
    "Column (1) displays the results of the effect of the log of the share of trade in GDP in 1985 on the average Total Fertility Rate in the period 1985–1990 in the entire sample with some additional controls of what is used in table 1 as explained above.\n",
    "\n",
    "Column (2) include continental dummies, column (3) includes the OPEC economies, column (4) excludes Eastern European Economies, column (5) Exclude some outliers.\n",
    "\n",
    "Columns (6) and (7) extend the time window to see if the effect still holds for other years. \n",
    "\n",
    "Finally, column(8) uses a different dependent variable: average Cruth Birth Rate from 1985-1900.\n"
   ]
  },
  {
   "cell_type": "code",
   "execution_count": 59,
   "metadata": {
    "scrolled": true
   },
   "outputs": [],
   "source": [
    "    #Table 3 Column 1\n",
    "formula1 = 'totalfert85 ~ 1 + intlogrgdppc1985 + logrgdppc1985 + infmort85 + intinfmort85 + oecd85  [logactualtrade + intlogactualtrade ~ logfrankrom + intlogfrankrom]'\n",
    "mod1 = IV2SLS.from_formula(formula1, data=Data.loc[Data.opec85 == 0]) \n",
    "iv_res1 = mod1.fit(cov_type='robust')\n",
    "#print(iv_res1)"
   ]
  },
  {
   "cell_type": "code",
   "execution_count": 105,
   "metadata": {
    "scrolled": true
   },
   "outputs": [
    {
     "name": "stdout",
     "output_type": "stream",
     "text": [
      "                          IV-2SLS Estimation Summary                          \n",
      "==============================================================================\n",
      "Dep. Variable:            totalfert85   R-squared:                      0.8208\n",
      "Estimator:                    IV-2SLS   Adj. R-squared:                 0.8043\n",
      "No. Observations:                 132   F-statistic:                    1557.3\n",
      "Date:                Fri, Jun 26 2020   P-value (F-stat)                0.0000\n",
      "Time:                        22:55:03   Distribution:                 chi2(11)\n",
      "Cov. Estimator:                robust                                         \n",
      "                                                                              \n",
      "                                 Parameter Estimates                                 \n",
      "=====================================================================================\n",
      "                   Parameter  Std. Err.     T-stat    P-value    Lower CI    Upper CI\n",
      "-------------------------------------------------------------------------------------\n",
      "Intercept             3.1959     2.2480     1.4217     0.1551     -1.2101      7.6019\n",
      "oecd85               -1.1880     3.1137    -0.3815     0.7028     -7.2907      4.9148\n",
      "logrgdppc1985        -0.3755     0.2318    -1.6198     0.1053     -0.8298      0.0789\n",
      "intlogrgdppc1985      0.2580     0.3183     0.8105     0.4177     -0.3659      0.8818\n",
      "infmort85             0.0283     0.0048     5.8681     0.0000      0.0188      0.0377\n",
      "intinfmort85         -0.0019     0.0071    -0.2726     0.7852     -0.0158      0.0120\n",
      "africa               -0.0034     0.3359    -0.0100     0.9920     -0.6618      0.6551\n",
      "asia                 -0.1253     0.3830    -0.3271     0.7436     -0.8759      0.6253\n",
      "europe               -0.9608     0.2953    -3.2543     0.0011     -1.5395     -0.3822\n",
      "america              -0.4182     0.3150    -1.3277     0.1843     -1.0356      0.1992\n",
      "logactualtrade        0.6540     0.2054     3.1844     0.0015      0.2515      1.0565\n",
      "intlogactualtrade    -0.3266     0.2978    -1.0964     0.2729     -0.9104      0.2572\n",
      "=====================================================================================\n",
      "\n",
      "Endogenous: logactualtrade, intlogactualtrade\n",
      "Instruments: logfrankrom, intlogfrankrom\n",
      "Robust Covariance (Heteroskedastic)\n",
      "Debiased: False\n"
     ]
    }
   ],
   "source": [
    "    #Table 3 Column 2\n",
    "formula2 = 'totalfert85 ~ 1 + oecd85 + logrgdppc1985 + intlogrgdppc1985 + infmort85 + intinfmort85 + africa + asia + europe + america [logactualtrade + intlogactualtrade ~ logfrankrom + intlogfrankrom]'\n",
    "        #PLEASE SEE THE NOTE BELLOW\n",
    "mod2 = IV2SLS.from_formula(formula2, data=Data.loc[Data.opec85 == 0]) \n",
    "iv_res2 = mod2.fit(cov_type='robust')\n",
    "print(iv_res2)\n"
   ]
  },
  {
   "cell_type": "markdown",
   "metadata": {},
   "source": [
    "# COLINEARITY\n",
    "\n",
    "**NOTE** I find that there is COLINEARITY in the regression, that's why I can not include all the dummies. The Stata file does run, and shows the results presented in the paper, but in  Python this is not the case. This makes me realize that they were including all the dummys in their regression and not having a baseline condition. (You let out one dummy to compare the effect upon not being in that group)."
   ]
  },
  {
   "cell_type": "code",
   "execution_count": 61,
   "metadata": {},
   "outputs": [],
   "source": [
    "    #Table 3 column 3 \n",
    "mod3 = IV2SLS.from_formula(formula1, data=Data) \n",
    "iv_res3 = mod3.fit(cov_type='robust')\n",
    "#print(iv_res3)"
   ]
  },
  {
   "cell_type": "code",
   "execution_count": 62,
   "metadata": {
    "scrolled": true
   },
   "outputs": [],
   "source": [
    "    #Table 3 column 4 \n",
    "mod4 = IV2SLS.from_formula(formula1, data=Data.loc[(Data.opec85 == 0) & (Data.easteur == 0)]) \n",
    "iv_res4 = mod4.fit(cov_type='robust')\n",
    "#print(iv_res4)"
   ]
  },
  {
   "cell_type": "markdown",
   "metadata": {},
   "source": [
    "There is an obvious outlier: Luxemburgo (This can be seen in figure 1 (b))"
   ]
  },
  {
   "cell_type": "code",
   "execution_count": 63,
   "metadata": {},
   "outputs": [],
   "source": [
    "    #Create a base that excludes Luxemburg and OPEC members\n",
    "df_table3col5 = Data.loc[(Data.opec85 == 0) & (Data.CtrCode!=\"LUX\")].reset_index(drop=True)"
   ]
  },
  {
   "cell_type": "code",
   "execution_count": 64,
   "metadata": {
    "scrolled": true
   },
   "outputs": [],
   "source": [
    "    #Table 3 column 5 \n",
    "mod5 = IV2SLS.from_formula(formula1, data=df_table3col5) \n",
    "iv_res5 = mod5.fit(cov_type='robust')\n",
    "#print(iv_res5)\n",
    "\n"
   ]
  },
  {
   "cell_type": "code",
   "execution_count": 65,
   "metadata": {
    "scrolled": true
   },
   "outputs": [],
   "source": [
    "    #Table 3 Column 6\n",
    "formula6 = 'totalfert8590 ~ 1 + intlogrgdppc1985 + logrgdppc1985 + infmort85 + intinfmort85 + oecd85  [logactualtrade + intlogactualtrade ~ logfrankrom + intlogfrankrom]'    \n",
    "mod6 = IV2SLS.from_formula(formula6, data=Data.loc[Data.opec85 == 0]) \n",
    "iv_res6 = mod6.fit(cov_type='robust')\n",
    "#print(iv_res6)"
   ]
  },
  {
   "cell_type": "code",
   "execution_count": 66,
   "metadata": {},
   "outputs": [],
   "source": [
    "    #Table 3 Column 7\n",
    "formula7 = 'totalfert8595 ~ 1 + intlogrgdppc1985 + logrgdppc1985 + infmort85 + intinfmort85 + oecd85  [logactualtrade + intlogactualtrade ~ logfrankrom + intlogfrankrom]'\n",
    "mod7 = IV2SLS.from_formula(formula7, data=Data.loc[Data.opec85 == 0]) \n",
    "iv_res7 = mod7.fit(cov_type='robust')\n",
    "#print(iv_res7)"
   ]
  },
  {
   "cell_type": "code",
   "execution_count": 67,
   "metadata": {
    "scrolled": true
   },
   "outputs": [],
   "source": [
    "    #Table 3 Column 8\n",
    "formula8 = 'crudebirth85 ~ 1 + intlogrgdppc1985 + logrgdppc1985 + infmort85 + intinfmort85 + oecd85  [logactualtrade + intlogactualtrade ~ logfrankrom + intlogfrankrom]'\n",
    "mod8 = IV2SLS.from_formula(formula8, data=Data.loc[Data.opec85 == 0]) \n",
    "iv_res8 = mod8.fit(cov_type='robust')\n",
    "#print(iv_res8)"
   ]
  },
  {
   "cell_type": "code",
   "execution_count": 68,
   "metadata": {
    "scrolled": true
   },
   "outputs": [
    {
     "name": "stdout",
     "output_type": "stream",
     "text": [
      "                                     Model Comparison                                    \n",
      "=========================================================================================\n",
      "                              (1)85-90         (2)85-90         (3)85-90         (4)85-90\n",
      "-----------------------------------------------------------------------------------------\n",
      "Dep. Variable              totalfert85      totalfert85      totalfert85      totalfert85\n",
      "Estimator                      IV-2SLS          IV-2SLS          IV-2SLS          IV-2SLS\n",
      "No. Observations                   132              132              144              126\n",
      "Cov. Est.                       robust           robust           robust           robust\n",
      "R-squared                       0.8060           0.8208           0.7696           0.8019\n",
      "Adj. R-squared                  0.7951           0.8043           0.7578           0.7902\n",
      "F-statistic                     1651.3           1557.3           1540.9           1699.0\n",
      "P-value (F-stat)                0.0000           0.0000           0.0000           0.0000\n",
      "===================      =============    =============    =============    =============\n",
      "Intercept                       3.0929           3.1959          -0.7449           3.3944\n",
      "                              (1.2814)         (1.4217)        (-0.3461)         (1.3979)\n",
      "intlogrgdppc1985                0.5446           0.2580           0.0738           0.5702\n",
      "                              (1.5846)         (0.8105)         (0.2288)         (1.6409)\n",
      "logrgdppc1985                  -0.4400          -0.3755           0.0308          -0.4656\n",
      "                             (-1.7288)        (-1.6198)         (0.1367)        (-1.7933)\n",
      "infmort85                       0.0311           0.0283           0.0375           0.0295\n",
      "                              (6.8049)         (5.8681)         (8.4068)         (6.4796)\n",
      "intinfmort85                   -0.0050          -0.0019          -0.0115          -0.0035\n",
      "                             (-0.7007)        (-0.2726)        (-1.6121)        (-0.4888)\n",
      "oecd85                         -2.0381          -1.1880           1.7998          -2.3395\n",
      "                             (-0.6206)        (-0.3815)         (0.5812)        (-0.7101)\n",
      "logactualtrade                  0.7005           0.6540           0.6886           0.7103\n",
      "                              (3.7707)         (3.1844)         (3.6124)         (3.4766)\n",
      "intlogactualtrade              -0.8311          -0.3266          -0.8192          -0.8409\n",
      "                             (-4.2583)        (-1.0964)        (-4.1003)        (-3.9499)\n",
      "africa                                          -0.0034                                  \n",
      "                                              (-0.0100)                                  \n",
      "asia                                            -0.1253                                  \n",
      "                                              (-0.3271)                                  \n",
      "europe                                          -0.9608                                  \n",
      "                                              (-3.2543)                                  \n",
      "america                                         -0.4182                                  \n",
      "                                              (-1.3277)                                  \n",
      "===================== ================ ================ ================ ================\n",
      "Instruments                logfrankrom      logfrankrom      logfrankrom      logfrankrom\n",
      "                        intlogfrankrom   intlogfrankrom   intlogfrankrom   intlogfrankrom\n",
      "-----------------------------------------------------------------------------------------\n",
      "\n",
      "T-stats reported in parentheses\n"
     ]
    }
   ],
   "source": [
    "res = OrderedDict()\n",
    "res['(1)85-90'] = iv_res1\n",
    "res['(2)85-90'] = iv_res2\n",
    "res['(3)85-90'] = iv_res3\n",
    "res['(4)85-90'] = iv_res4\n",
    "print(compare(res))"
   ]
  },
  {
   "cell_type": "code",
   "execution_count": 69,
   "metadata": {
    "scrolled": false
   },
   "outputs": [
    {
     "name": "stdout",
     "output_type": "stream",
     "text": [
      "                                      Model Comparison                                     \n",
      "===========================================================================================\n",
      "                              (5)85-90          (6)85-95          (7)85-00         (8)85-90\n",
      "-------------------------------------------------------------------------------------------\n",
      "Dep. Variable              totalfert85     totalfert8590     totalfert8595     crudebirth85\n",
      "Estimator                      IV-2SLS           IV-2SLS           IV-2SLS          IV-2SLS\n",
      "No. Observations                   131               132               132              132\n",
      "Cov. Est.                       robust            robust            robust           robust\n",
      "R-squared                       0.8033            0.8220            0.8338           0.8531\n",
      "Adj. R-squared                  0.7921            0.8120            0.8244           0.8448\n",
      "F-statistic                     1779.5            1601.0            1641.4           1971.2\n",
      "P-value (F-stat)                0.0000            0.0000            0.0000           0.0000\n",
      "===================      =============   ===============   ===============   ==============\n",
      "Intercept                       3.0929            2.5489            2.2727           27.086\n",
      "                              (1.2814)          (1.1255)          (1.0783)         (2.1122)\n",
      "intlogrgdppc1985                0.5760            0.6650            0.6985           4.8971\n",
      "                              (1.6971)          (2.1374)          (2.4043)         (2.3851)\n",
      "logrgdppc1985                  -0.4400           -0.4025           -0.3836          -2.6503\n",
      "                             (-1.7288)         (-1.6758)         (-1.7100)        (-1.9997)\n",
      "infmort85                       0.0311            0.0319            0.0324           0.1947\n",
      "                              (6.8049)          (7.5184)          (8.2334)         (7.8985)\n",
      "intinfmort85                   -0.0042           -0.0051           -0.0058           0.0676\n",
      "                             (-0.5947)         (-0.7943)         (-0.9743)         (1.4821)\n",
      "oecd85                         -2.5208           -3.1758           -3.5573          -33.075\n",
      "                             (-0.7691)         (-1.0693)         (-1.2858)        (-1.6545)\n",
      "logactualtrade                  0.7005            0.7028            0.6817           3.4935\n",
      "                              (3.7707)          (4.0291)          (4.1362)         (3.2626)\n",
      "intlogactualtrade              -0.7859           -0.7864           -0.7304          -4.4920\n",
      "                             (-3.7928)         (-4.2607)         (-4.1624)        (-3.6444)\n",
      "===================== ================ ================= ================= ================\n",
      "Instruments                logfrankrom       logfrankrom       logfrankrom      logfrankrom\n",
      "                        intlogfrankrom    intlogfrankrom    intlogfrankrom   intlogfrankrom\n",
      "-------------------------------------------------------------------------------------------\n",
      "\n",
      "T-stats reported in parentheses\n"
     ]
    }
   ],
   "source": [
    "res = OrderedDict()\n",
    "res['(5)85-90'] = iv_res5\n",
    "res['(6)85-95'] = iv_res6\n",
    "res['(7)85-00'] = iv_res7\n",
    "res['(8)85-90'] = iv_res8\n",
    "print(compare(res))"
   ]
  },
  {
   "cell_type": "markdown",
   "metadata": {},
   "source": [
    "## Human Capital Formation and Trade\n",
    "### Table 4"
   ]
  },
  {
   "cell_type": "markdown",
   "metadata": {},
   "source": [
    "The following regression summarizes the complete model form used for robustness check"
   ]
  },
  {
   "cell_type": "code",
   "execution_count": 70,
   "metadata": {},
   "outputs": [
    {
     "data": {
      "text/latex": [
       "\\begin{equation}\n",
       "HC_{i}=\\beta_{0}+\\beta_{1}ln(trade/GDP)_{i}+\\beta_{2}lnGDP_{i}+\\beta_{3}D{i}+\\beta_{4}D_{i}*lnGDP_{i}+\\beta_{6}D_{i}ln(trade/GDP)_{i}+\\mu_{i}\n",
       "\\end{equation}\n"
      ],
      "text/plain": [
       "<IPython.core.display.Latex object>"
      ]
     },
     "metadata": {},
     "output_type": "display_data"
    }
   ],
   "source": [
    "%%latex\n",
    "\\begin{equation}\n",
    "HC_{i}=\\beta_{0}+\\beta_{1}ln(trade/GDP)_{i}+\\beta_{2}lnGDP_{i}+\\beta_{3}D{i}+\\beta_{4}D_{i}*lnGDP_{i}+\\beta_{6}D_{i}ln(trade/GDP)_{i}+\\mu_{i}\n",
    "\\end{equation}"
   ]
  },
  {
   "cell_type": "code",
   "execution_count": 71,
   "metadata": {},
   "outputs": [
    {
     "data": {
      "text/latex": [
       "Where $HC𝑖$  is the change in the years of education of the population, above 15, in the period 1985–1990 in economy $i$ regressed on:\\\\\n",
       "    \\begin{itemize}\n",
       "        \\item log share of trade in GDP in 1985 $ln(trade/GDP)_i$, instrumentedby the Frankel–Romer instrument for trade\n",
       "        \\item $lnGDP_i$ log GDP per capita in 1985\n",
       "        \\item a dummy variable, $D_i$, which equals 1 if economy i is an OECD economy and 0 otherwise\n",
       "        \\item the interactions between the OECD dummy, $D_i$ and $ln(trade/GDP)_i$,$GDP_i$, $m_i$\n",
       "\\end{itemize}\n"
      ],
      "text/plain": [
       "<IPython.core.display.Latex object>"
      ]
     },
     "metadata": {},
     "output_type": "display_data"
    }
   ],
   "source": [
    "%%latex\n",
    "Where $HC𝑖$  is the change in the years of education of the population, above 15, in the period 1985–1990 in economy $i$ regressed on:\\\\\n",
    "    \\begin{itemize}\n",
    "        \\item log share of trade in GDP in 1985 $ln(trade/GDP)_i$, instrumentedby the Frankel–Romer instrument for trade\n",
    "        \\item $lnGDP_i$ log GDP per capita in 1985\n",
    "        \\item a dummy variable, $D_i$, which equals 1 if economy i is an OECD economy and 0 otherwise\n",
    "        \\item the interactions between the OECD dummy, $D_i$ and $ln(trade/GDP)_i$,$GDP_i$, $m_i$\n",
    "\\end{itemize}"
   ]
  },
  {
   "cell_type": "markdown",
   "metadata": {},
   "source": [
    "Results are shown in **Table 4**:\n",
    "\n",
    "Column (1) displays the results of the effect of the log of the share of trade in GDP in 1985 on the years of education in the period 1985–1990 in the entire sample with some additional controls of what is used in table 1 as explained above.\n",
    "\n",
    "Column (2) include continental dummies, column (3) includes the OPEC economies, column (4) excludes Eastern European Economies, column (5) Exclude some outliers.\n",
    "\n",
    "Columns (6) and (7) extend the time window to see if the effect still holds for other years in sample. \n",
    "\n",
    "Finally, column(8) uses a different dependent variable: average years of primary education 1985-1900.\n",
    "\n",
    "\n"
   ]
  },
  {
   "cell_type": "code",
   "execution_count": 72,
   "metadata": {},
   "outputs": [
    {
     "name": "stdout",
     "output_type": "stream",
     "text": [
      "                          IV-2SLS Estimation Summary                          \n",
      "==============================================================================\n",
      "Dep. Variable:                D_educy   R-squared:                      0.0304\n",
      "Estimator:                    IV-2SLS   Adj. R-squared:                -0.0234\n",
      "No. Observations:                  96   F-statistic:                    22.293\n",
      "Date:                Fri, Jun 26 2020   P-value (F-stat)                0.0005\n",
      "Time:                        22:41:36   Distribution:                  chi2(5)\n",
      "Cov. Estimator:                robust                                         \n",
      "                                                                              \n",
      "                                 Parameter Estimates                                 \n",
      "=====================================================================================\n",
      "                   Parameter  Std. Err.     T-stat    P-value    Lower CI    Upper CI\n",
      "-------------------------------------------------------------------------------------\n",
      "Intercept             0.0052     0.5711     0.0090     0.9928     -1.1143      1.1246\n",
      "intlogrgdppc1985     -0.4562     0.2329    -1.9588     0.0501     -0.9127      0.0003\n",
      "logrgdppc1985         0.2015     0.0655     3.0764     0.0021      0.0731      0.3298\n",
      "oecd85                1.3778     2.6555     0.5189     0.6039     -3.8268      6.5824\n",
      "logactualtrade       -0.2663     0.1212    -2.1981     0.0279     -0.5038     -0.0289\n",
      "intlogactualtrade     0.6174     0.2376     2.5978     0.0094      0.1516      1.0831\n",
      "=====================================================================================\n",
      "\n",
      "Endogenous: logactualtrade, intlogactualtrade\n",
      "Instruments: logfrankrom, intlogfrankrom\n",
      "Robust Covariance (Heteroskedastic)\n",
      "Debiased: False\n"
     ]
    }
   ],
   "source": [
    "    #Table 4 Column 1\n",
    "formula41 = 'D_educy ~ 1 + intlogrgdppc1985 + logrgdppc1985 + oecd85  [logactualtrade + intlogactualtrade ~ logfrankrom + intlogfrankrom]'\n",
    "mod41 = IV2SLS.from_formula(formula41, data=df_educ.loc[df_educ.opec85 == 0]) \n",
    "iv_res41 = mod41.fit(cov_type='robust')\n",
    "print(iv_res41)"
   ]
  },
  {
   "cell_type": "code",
   "execution_count": 104,
   "metadata": {},
   "outputs": [
    {
     "name": "stdout",
     "output_type": "stream",
     "text": [
      "                          IV-2SLS Estimation Summary                          \n",
      "==============================================================================\n",
      "Dep. Variable:                D_educy   R-squared:                      0.0366\n",
      "Estimator:                    IV-2SLS   Adj. R-squared:                -0.0642\n",
      "No. Observations:                  96   F-statistic:                    30.207\n",
      "Date:                Fri, Jun 26 2020   P-value (F-stat)                0.0004\n",
      "Time:                        22:52:32   Distribution:                  chi2(9)\n",
      "Cov. Estimator:                robust                                         \n",
      "                                                                              \n",
      "                                 Parameter Estimates                                 \n",
      "=====================================================================================\n",
      "                   Parameter  Std. Err.     T-stat    P-value    Lower CI    Upper CI\n",
      "-------------------------------------------------------------------------------------\n",
      "Intercept            -0.5210     0.7107    -0.7331     0.4635     -1.9140      0.8719\n",
      "intlogrgdppc1985     -0.4619     0.2908    -1.5886     0.1121     -1.0318      0.1080\n",
      "logrgdppc1985         0.2782     0.1142     2.4355     0.0149      0.0543      0.5020\n",
      "oecd85                1.7230     2.7470     0.6272     0.5305     -3.6611      7.1071\n",
      "africa                0.3462     0.2247     1.5408     0.1234     -0.0942      0.7866\n",
      "asia                  0.2750     0.1910     1.4397     0.1500     -0.0994      0.6493\n",
      "europe                0.3208     0.2594     1.2365     0.2163     -0.1877      0.8292\n",
      "america               0.0940     0.1773     0.5304     0.5958     -0.2535      0.4416\n",
      "logactualtrade       -0.3407     0.1461    -2.3315     0.0197     -0.6271     -0.0543\n",
      "intlogactualtrade     0.5095     0.2831     1.7998     0.0719     -0.0453      1.0643\n",
      "=====================================================================================\n",
      "\n",
      "Endogenous: logactualtrade, intlogactualtrade\n",
      "Instruments: logfrankrom, intlogfrankrom\n",
      "Robust Covariance (Heteroskedastic)\n",
      "Debiased: False\n"
     ]
    }
   ],
   "source": [
    "    #Table 4 Column 2\n",
    "formula42 = 'D_educy ~ 1 + intlogrgdppc1985 + logrgdppc1985 + oecd85 + africa + asia + europe + america [logactualtrade + intlogactualtrade ~ logfrankrom + intlogfrankrom]'\n",
    "mod42 = IV2SLS.from_formula(formula42, data=df_educ.loc[df_educ.opec85 == 0]) \n",
    "iv_res42 = mod42.fit(cov_type='robust')\n",
    "print(iv_res42)"
   ]
  },
  {
   "cell_type": "code",
   "execution_count": 74,
   "metadata": {},
   "outputs": [
    {
     "name": "stdout",
     "output_type": "stream",
     "text": [
      "                          IV-2SLS Estimation Summary                          \n",
      "==============================================================================\n",
      "Dep. Variable:                D_educy   R-squared:                      0.0348\n",
      "Estimator:                    IV-2SLS   Adj. R-squared:                -0.0149\n",
      "No. Observations:                 103   F-statistic:                    15.708\n",
      "Date:                Fri, Jun 26 2020   P-value (F-stat)                0.0077\n",
      "Time:                        22:41:37   Distribution:                  chi2(5)\n",
      "Cov. Estimator:                robust                                         \n",
      "                                                                              \n",
      "                                 Parameter Estimates                                 \n",
      "=====================================================================================\n",
      "                   Parameter  Std. Err.     T-stat    P-value    Lower CI    Upper CI\n",
      "-------------------------------------------------------------------------------------\n",
      "Intercept             0.0185     0.5422     0.0340     0.9729     -1.0443      1.0812\n",
      "intlogrgdppc1985     -0.3967     0.2341    -1.6947     0.0901     -0.8554      0.0621\n",
      "logrgdppc1985         0.1419     0.0695     2.0420     0.0412      0.0057      0.2782\n",
      "oecd85                1.3645     2.6494     0.5150     0.6065     -3.8282      6.5572\n",
      "logactualtrade       -0.1640     0.1253    -1.3086     0.1907     -0.4096      0.0816\n",
      "intlogactualtrade     0.5150     0.2398     2.1478     0.0317      0.0450      0.9850\n",
      "=====================================================================================\n",
      "\n",
      "Endogenous: logactualtrade, intlogactualtrade\n",
      "Instruments: logfrankrom, intlogfrankrom\n",
      "Robust Covariance (Heteroskedastic)\n",
      "Debiased: False\n"
     ]
    }
   ],
   "source": [
    "    #Table 4 Column 3\n",
    "mod43 = IV2SLS.from_formula(formula41, data=df_educ) \n",
    "iv_res43 = mod43.fit(cov_type='robust')\n",
    "print(iv_res43)"
   ]
  },
  {
   "cell_type": "code",
   "execution_count": 75,
   "metadata": {
    "scrolled": true
   },
   "outputs": [
    {
     "name": "stdout",
     "output_type": "stream",
     "text": [
      "                          IV-2SLS Estimation Summary                          \n",
      "==============================================================================\n",
      "Dep. Variable:                D_educy   R-squared:                      0.0355\n",
      "Estimator:                    IV-2SLS   Adj. R-squared:                -0.0193\n",
      "No. Observations:                  94   F-statistic:                    22.416\n",
      "Date:                Fri, Jun 26 2020   P-value (F-stat)                0.0004\n",
      "Time:                        22:41:37   Distribution:                  chi2(5)\n",
      "Cov. Estimator:                robust                                         \n",
      "                                                                              \n",
      "                                 Parameter Estimates                                 \n",
      "=====================================================================================\n",
      "                   Parameter  Std. Err.     T-stat    P-value    Lower CI    Upper CI\n",
      "-------------------------------------------------------------------------------------\n",
      "Intercept            -0.0938     0.5719    -0.1639     0.8698     -1.2146      1.0271\n",
      "intlogrgdppc1985     -0.4682     0.2335    -2.0052     0.0449     -0.9259     -0.0106\n",
      "logrgdppc1985         0.2135     0.0677     3.1558     0.0016      0.0809      0.3461\n",
      "oecd85                1.4767     2.6556     0.5561     0.5782     -3.7282      6.6816\n",
      "logactualtrade       -0.2619     0.1225    -2.1389     0.0324     -0.5019     -0.0219\n",
      "intlogactualtrade     0.6129     0.2383     2.5721     0.0101      0.1459      1.0800\n",
      "=====================================================================================\n",
      "\n",
      "Endogenous: logactualtrade, intlogactualtrade\n",
      "Instruments: logfrankrom, intlogfrankrom\n",
      "Robust Covariance (Heteroskedastic)\n",
      "Debiased: False\n"
     ]
    }
   ],
   "source": [
    "    #Table 4 Column 4\n",
    "mod44 = IV2SLS.from_formula(formula41, data=df_educ.loc[(df_educ.opec85 == 0) & (df_educ.easteur==0)]) \n",
    "iv_res44 = mod44.fit(cov_type='robust')\n",
    "print(iv_res44)"
   ]
  },
  {
   "cell_type": "markdown",
   "metadata": {},
   "source": [
    "There are two outliers in this case, as suggested by figure 2 (b), those are Norway and Finland"
   ]
  },
  {
   "cell_type": "code",
   "execution_count": 76,
   "metadata": {},
   "outputs": [],
   "source": [
    "    #Create a base that excludes Norway and Finland and OPEC members\n",
    "df_table4col5 = df_educ.loc[(df_educ.opec85 == 0) & (df_educ.CtrCode!=\"NOR\") & (df_educ.CtrCode!=\"FIN\")].reset_index(drop=True)"
   ]
  },
  {
   "cell_type": "code",
   "execution_count": 91,
   "metadata": {},
   "outputs": [
    {
     "name": "stdout",
     "output_type": "stream",
     "text": [
      "                          IV-2SLS Estimation Summary                          \n",
      "==============================================================================\n",
      "Dep. Variable:                D_educy   R-squared:                      0.0724\n",
      "Estimator:                    IV-2SLS   Adj. R-squared:                 0.0196\n",
      "No. Observations:                  94   F-statistic:                    25.682\n",
      "Date:                Fri, Jun 26 2020   P-value (F-stat)                0.0001\n",
      "Time:                        22:43:27   Distribution:                  chi2(5)\n",
      "Cov. Estimator:                robust                                         \n",
      "                                                                              \n",
      "                                 Parameter Estimates                                 \n",
      "=====================================================================================\n",
      "                   Parameter  Std. Err.     T-stat    P-value    Lower CI    Upper CI\n",
      "-------------------------------------------------------------------------------------\n",
      "Intercept             0.0052     0.5711     0.0090     0.9928     -1.1143      1.1246\n",
      "intlogrgdppc1985     -0.7116     0.2055    -3.4638     0.0005     -1.1143     -0.3090\n",
      "logrgdppc1985         0.2015     0.0655     3.0764     0.0021      0.0731      0.3298\n",
      "oecd85                4.4410     2.0745     2.1408     0.0323      0.3751      8.5069\n",
      "logactualtrade       -0.2663     0.1212    -2.1981     0.0279     -0.5038     -0.0289\n",
      "intlogactualtrade     0.4101     0.1653     2.4814     0.0131      0.0862      0.7340\n",
      "=====================================================================================\n",
      "\n",
      "Endogenous: logactualtrade, intlogactualtrade\n",
      "Instruments: logfrankrom, intlogfrankrom\n",
      "Robust Covariance (Heteroskedastic)\n",
      "Debiased: False\n"
     ]
    }
   ],
   "source": [
    "    #Table 4 Column 5\n",
    "mod45 = IV2SLS.from_formula(formula41, data=df_table4col5) \n",
    "iv_res45 = mod45.fit(cov_type='robust')\n",
    "print(iv_res45)"
   ]
  },
  {
   "cell_type": "code",
   "execution_count": 92,
   "metadata": {},
   "outputs": [
    {
     "name": "stdout",
     "output_type": "stream",
     "text": [
      "                          IV-2SLS Estimation Summary                          \n",
      "==============================================================================\n",
      "Dep. Variable:              D_educy95   R-squared:                      0.0551\n",
      "Estimator:                    IV-2SLS   Adj. R-squared:                 0.0026\n",
      "No. Observations:                  96   F-statistic:                    54.856\n",
      "Date:                Fri, Jun 26 2020   P-value (F-stat)                0.0000\n",
      "Time:                        22:43:32   Distribution:                  chi2(5)\n",
      "Cov. Estimator:                robust                                         \n",
      "                                                                              \n",
      "                                 Parameter Estimates                                 \n",
      "=====================================================================================\n",
      "                   Parameter  Std. Err.     T-stat    P-value    Lower CI    Upper CI\n",
      "-------------------------------------------------------------------------------------\n",
      "Intercept            -0.1690     0.6492    -0.2603     0.7946     -1.4414      1.1034\n",
      "intlogrgdppc1985     -0.8232     0.2239    -3.6757     0.0002     -1.2621     -0.3842\n",
      "logrgdppc1985         0.2938     0.0736     3.9936     0.0001      0.1496      0.4380\n",
      "oecd85                4.8059     2.6057     1.8444     0.0651     -0.3012      9.9130\n",
      "logactualtrade       -0.3244     0.1193    -2.7184     0.0066     -0.5583     -0.0905\n",
      "intlogactualtrade     0.5951     0.2391     2.4890     0.0128      0.1265      1.0637\n",
      "=====================================================================================\n",
      "\n",
      "Endogenous: logactualtrade, intlogactualtrade\n",
      "Instruments: logfrankrom, intlogfrankrom\n",
      "Robust Covariance (Heteroskedastic)\n",
      "Debiased: False\n"
     ]
    }
   ],
   "source": [
    "    #Table 4 Column 6\n",
    "formula46 = 'D_educy95 ~ 1 + intlogrgdppc1985 + logrgdppc1985 + oecd85  [logactualtrade + intlogactualtrade ~ logfrankrom + intlogfrankrom]'\n",
    "mod46 = IV2SLS.from_formula(formula46, data=df_educ.loc[df_educ.opec85 == 0]) \n",
    "iv_res46 = mod46.fit(cov_type='robust')\n",
    "print(iv_res46)"
   ]
  },
  {
   "cell_type": "code",
   "execution_count": 93,
   "metadata": {
    "scrolled": false
   },
   "outputs": [
    {
     "name": "stdout",
     "output_type": "stream",
     "text": [
      "                          IV-2SLS Estimation Summary                          \n",
      "==============================================================================\n",
      "Dep. Variable:              D_educy95   R-squared:                      0.0551\n",
      "Estimator:                    IV-2SLS   Adj. R-squared:                 0.0026\n",
      "No. Observations:                  96   F-statistic:                    54.856\n",
      "Date:                Fri, Jun 26 2020   P-value (F-stat)                0.0000\n",
      "Time:                        22:43:32   Distribution:                  chi2(5)\n",
      "Cov. Estimator:                robust                                         \n",
      "                                                                              \n",
      "                                 Parameter Estimates                                 \n",
      "=====================================================================================\n",
      "                   Parameter  Std. Err.     T-stat    P-value    Lower CI    Upper CI\n",
      "-------------------------------------------------------------------------------------\n",
      "Intercept            -0.1690     0.6492    -0.2603     0.7946     -1.4414      1.1034\n",
      "intlogrgdppc1985     -0.8232     0.2239    -3.6757     0.0002     -1.2621     -0.3842\n",
      "logrgdppc1985         0.2938     0.0736     3.9936     0.0001      0.1496      0.4380\n",
      "oecd85                4.8059     2.6057     1.8444     0.0651     -0.3012      9.9130\n",
      "logactualtrade       -0.3244     0.1193    -2.7184     0.0066     -0.5583     -0.0905\n",
      "intlogactualtrade     0.5951     0.2391     2.4890     0.0128      0.1265      1.0637\n",
      "=====================================================================================\n",
      "\n",
      "Endogenous: logactualtrade, intlogactualtrade\n",
      "Instruments: logfrankrom, intlogfrankrom\n",
      "Robust Covariance (Heteroskedastic)\n",
      "Debiased: False\n"
     ]
    }
   ],
   "source": [
    "    #Table 4 Column 7\n",
    "formula47 = 'D_educy99 ~ 1 + intlogrgdppc1985 + logrgdppc1985 + oecd85  [logactualtrade + intlogactualtrade ~ logfrankrom + intlogfrankrom]'\n",
    "mod47 = IV2SLS.from_formula(formula46, data=df_educ.loc[df_educ.opec85 == 0]) \n",
    "iv_res47 = mod47.fit(cov_type='robust')\n",
    "print(iv_res47)"
   ]
  },
  {
   "cell_type": "code",
   "execution_count": 94,
   "metadata": {},
   "outputs": [
    {
     "name": "stdout",
     "output_type": "stream",
     "text": [
      "                          IV-2SLS Estimation Summary                          \n",
      "==============================================================================\n",
      "Dep. Variable:         D_educyprimary   R-squared:                      0.0893\n",
      "Estimator:                    IV-2SLS   Adj. R-squared:                 0.0393\n",
      "No. Observations:                  97   F-statistic:                    38.260\n",
      "Date:                Fri, Jun 26 2020   P-value (F-stat)                0.0000\n",
      "Time:                        22:43:32   Distribution:                  chi2(5)\n",
      "Cov. Estimator:                robust                                         \n",
      "                                                                              \n",
      "                                 Parameter Estimates                                 \n",
      "=====================================================================================\n",
      "                   Parameter  Std. Err.     T-stat    P-value    Lower CI    Upper CI\n",
      "-------------------------------------------------------------------------------------\n",
      "Intercept             0.2852     0.3814     0.7476     0.4547     -0.4624      1.0327\n",
      "intlogrgdppc1985     -0.3347     0.0949    -3.5249     0.0004     -0.5208     -0.1486\n",
      "logrgdppc1985         0.0645     0.0415     1.5547     0.1200     -0.0168      0.1458\n",
      "oecd85                2.0046     0.9830     2.0393     0.0414      0.0780      3.9312\n",
      "logactualtrade       -0.1292     0.0678    -1.9042     0.0569     -0.2621      0.0038\n",
      "intlogactualtrade     0.2054     0.0874     2.3508     0.0187      0.0341      0.3766\n",
      "=====================================================================================\n",
      "\n",
      "Endogenous: logactualtrade, intlogactualtrade\n",
      "Instruments: logfrankrom, intlogfrankrom\n",
      "Robust Covariance (Heteroskedastic)\n",
      "Debiased: False\n"
     ]
    }
   ],
   "source": [
    "    #Table 4 Column 8\n",
    "formula48 = 'D_educyprimary ~ 1 + intlogrgdppc1985 + logrgdppc1985 + oecd85  [logactualtrade + intlogactualtrade ~ logfrankrom + intlogfrankrom]'\n",
    "mod48 = IV2SLS.from_formula(formula48, data=df_educ_prim.loc[df_educ_prim.opec85 == 0]) \n",
    "iv_res48 = mod48.fit(cov_type='robust')\n",
    "print(iv_res48)"
   ]
  },
  {
   "cell_type": "code",
   "execution_count": 95,
   "metadata": {},
   "outputs": [
    {
     "name": "stdout",
     "output_type": "stream",
     "text": [
      "                                     Model Comparison                                    \n",
      "=========================================================================================\n",
      "                              (1)85-90         (2)85-90         (3)85-90         (4)85-90\n",
      "-----------------------------------------------------------------------------------------\n",
      "Dep. Variable                  D_educy          D_educy          D_educy          D_educy\n",
      "Estimator                      IV-2SLS          IV-2SLS          IV-2SLS          IV-2SLS\n",
      "No. Observations                    96               94              103               94\n",
      "Cov. Est.                       robust           robust           robust           robust\n",
      "R-squared                       0.0304           0.0355           0.0348           0.0355\n",
      "Adj. R-squared                 -0.0234          -0.0193          -0.0149          -0.0193\n",
      "F-statistic                     22.293           22.416           15.708           22.416\n",
      "P-value (F-stat)                0.0005           0.0004           0.0077           0.0004\n",
      "===================        ===========      ===========      ===========      ===========\n",
      "Intercept                       0.0052          -0.0938           0.0185          -0.0938\n",
      "                              (0.0090)        (-0.1639)         (0.0340)        (-0.1639)\n",
      "intlogrgdppc1985               -0.4562          -0.4682          -0.3967          -0.4682\n",
      "                             (-1.9588)        (-2.0052)        (-1.6947)        (-2.0052)\n",
      "logrgdppc1985                   0.2015           0.2135           0.1419           0.2135\n",
      "                              (3.0764)         (3.1558)         (2.0420)         (3.1558)\n",
      "oecd85                          1.3778           1.4767           1.3645           1.4767\n",
      "                              (0.5189)         (0.5561)         (0.5150)         (0.5561)\n",
      "logactualtrade                 -0.2663          -0.2619          -0.1640          -0.2619\n",
      "                             (-2.1981)        (-2.1389)        (-1.3086)        (-2.1389)\n",
      "intlogactualtrade               0.6174           0.6129           0.5150           0.6129\n",
      "                              (2.5978)         (2.5721)         (2.1478)         (2.5721)\n",
      "===================== ================ ================ ================ ================\n",
      "Instruments                logfrankrom      logfrankrom      logfrankrom      logfrankrom\n",
      "                        intlogfrankrom   intlogfrankrom   intlogfrankrom   intlogfrankrom\n",
      "-----------------------------------------------------------------------------------------\n",
      "\n",
      "T-stats reported in parentheses\n"
     ]
    }
   ],
   "source": [
    "    #Compile table 4:\n",
    "res = OrderedDict()\n",
    "res['(1)85-90'] = iv_res41\n",
    "res['(2)85-90'] = iv_res44\n",
    "res['(3)85-90'] = iv_res43\n",
    "res['(4)85-90'] = iv_res44\n",
    "print(compare(res))"
   ]
  },
  {
   "cell_type": "code",
   "execution_count": 97,
   "metadata": {
    "scrolled": true
   },
   "outputs": [
    {
     "name": "stdout",
     "output_type": "stream",
     "text": [
      "                                      Model Comparison                                     \n",
      "===========================================================================================\n",
      "                                   (5)              (6)         (7)85-99           (8)85-00\n",
      "-------------------------------------------------------------------------------------------\n",
      "Dep. Variable                  D_educy        D_educy95        D_educy95     D_educyprimary\n",
      "Estimator                      IV-2SLS          IV-2SLS          IV-2SLS            IV-2SLS\n",
      "No. Observations                    94               96               96                 97\n",
      "Cov. Est.                       robust           robust           robust             robust\n",
      "R-squared                       0.0355           0.0551           0.0551             0.0893\n",
      "Adj. R-squared                 -0.0193           0.0026           0.0026             0.0393\n",
      "F-statistic                     22.416           54.856           54.856             38.260\n",
      "P-value (F-stat)                0.0004        1.397e-10        1.397e-10          3.345e-07\n",
      "===================        ===========      ===========      ===========   ================\n",
      "Intercept                      -0.0938          -0.1690          -0.1690             0.2852\n",
      "                             (-0.1639)        (-0.2603)        (-0.2603)           (0.7476)\n",
      "intlogrgdppc1985               -0.4682          -0.8232          -0.8232            -0.3347\n",
      "                             (-2.0052)        (-3.6757)        (-3.6757)          (-3.5249)\n",
      "logrgdppc1985                   0.2135           0.2938           0.2938             0.0645\n",
      "                              (3.1558)         (3.9936)         (3.9936)           (1.5547)\n",
      "oecd85                          1.4767           4.8059           4.8059             2.0046\n",
      "                              (0.5561)         (1.8444)         (1.8444)           (2.0393)\n",
      "logactualtrade                 -0.2619          -0.3244          -0.3244            -0.1292\n",
      "                             (-2.1389)        (-2.7184)        (-2.7184)          (-1.9042)\n",
      "intlogactualtrade               0.6129           0.5951           0.5951             0.2054\n",
      "                              (2.5721)         (2.4890)         (2.4890)           (2.3508)\n",
      "===================== ================ ================ ================ ==================\n",
      "Instruments                logfrankrom      logfrankrom      logfrankrom        logfrankrom\n",
      "                        intlogfrankrom   intlogfrankrom   intlogfrankrom     intlogfrankrom\n",
      "-------------------------------------------------------------------------------------------\n",
      "\n",
      "T-stats reported in parentheses\n"
     ]
    }
   ],
   "source": [
    "res = OrderedDict()\n",
    "res['(5)85-90'] = iv_res44\n",
    "res['(6)85-95'] = iv_res46\n",
    "res['(7)85-99'] = iv_res47\n",
    "res['(8)85-00'] = iv_res48\n",
    "print(compare(res))"
   ]
  },
  {
   "cell_type": "code",
   "execution_count": null,
   "metadata": {},
   "outputs": [],
   "source": []
  }
 ],
 "metadata": {
  "celltoolbar": "Slideshow",
  "kernelspec": {
   "display_name": "Python 3",
   "language": "python",
   "name": "python3"
  },
  "language_info": {
   "codemirror_mode": {
    "name": "ipython",
    "version": 3
   },
   "file_extension": ".py",
   "mimetype": "text/x-python",
   "name": "python",
   "nbconvert_exporter": "python",
   "pygments_lexer": "ipython3",
   "version": "3.8.3"
  },
  "nbTranslate": {
   "displayLangs": [
    "*"
   ],
   "hotkey": "alt-t",
   "langInMainMenu": true,
   "sourceLang": "en",
   "targetLang": "fr",
   "useGoogleTranslate": true
  }
 },
 "nbformat": 4,
 "nbformat_minor": 4
}
