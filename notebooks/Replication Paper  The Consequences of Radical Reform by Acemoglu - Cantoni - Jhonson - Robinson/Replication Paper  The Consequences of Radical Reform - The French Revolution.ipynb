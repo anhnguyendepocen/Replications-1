{
 "cells": [
  {
   "cell_type": "markdown",
   "metadata": {},
   "source": [
    "# Replication Paper - The Consequences of Radical Reform: The French Revolution, By Daron Acemoglu, Davide Cantoni, Simon Johnson, and James A. Robinson\n",
    "\n",
    "### Juan Esteban Rincon Poveda"
   ]
  },
  {
   "cell_type": "markdown",
   "metadata": {},
   "source": [
    "\n",
    "## Introduction\n",
    "The paper \"The Consequences of Radical Reform: The French Revolution\" by Daron Acemoglu, Davide Cantoni, Simon Johnson, and James A. Robinson, analyze the effect that the institutional changes introduced by the French revolution had in Europe. Most exactly, the effect of this imposed changes in politics, in some German territories.\n",
    "The political changes imposed during the French Revolution were: civil legal code, the abolition of guilds and the remnants of feudalism, the introduction of equality before the law, and the undermining of aristocratic privileges.\n",
    "The idea is that this changes could have had an effect over the economic growth of some territories, but this effect can be negative, via the negative results of having imposed politics of a foreign country or positive via the elimination of the oligarchies, some entry barriers, and restrictions on trade in labor and other markets.\n",
    "\n",
    "The authors, start with an analysis of the relationship between the years of French occupation in each territory and the urbanization rate, using this as an estimate of \"French treatment\" and economic prosperity respectively. Then, they look for a relationship between the changes in polities, institutional outcomes and long term economic growth, by using data of the moment in which the institutional reforms where implemented. As it will be shown later, the authors find \"no evidence that the reforms imposed by the French had negative economic consequences. On the contrary, evidence from a variety of different empirical strategies shows that they had positive effects\" (p 3287).\n",
    "\n",
    "#### Historical Overview\n",
    "Before the French Revolution, Europe was mostly dominated by two big oligarchies; the landed nobility in agriculture and the urban-based oligarchy controlling commerce. A certain type of feudalism remained working with unfree labor relationships and serfdom. In some special cases, serfdom was replaced with different types of taxes that had to been paid to landowners. On the other hand, there were many occupations controlled by guilds, who could control the entry to those professions and in some cases restrict the adoption of new technologies.\n",
    "\n",
    "By 1795 with napoleon's leadership, France had begun to control some territories, and even in 1802 territories like Rhineland were officially incorporated into France. Many of the institutional changes were introduced during the invasion of the French revolutionary armies. For example, between 1795 and 1798 the seigneurial regime and the guilds were abolished, therefore, as we will see, it was approximately during this period where many of the imposed changes occured. Most of this reforms remained until 1815 after the final colapse of Napoleon, and depending on the circumstances some of those reforms were suppressed or not. "
   ]
  },
  {
   "cell_type": "markdown",
   "metadata": {},
   "source": [
    "#### Data\n",
    "For the investigation, the authors use information period 1798 - 1900, about 19 different preunity policies in Germany, some of which are independent states or provinces of larger states. Some of these territories will be used as a treatment group with 1 year or more of French control, and some others as control group without any year of French control. Besides, an index of reforms will be created by adding the number of years each particular reform had been in place and dividing by 4. This index will help the authors later to make clearer the difference between the treatment group and the control group.\n",
    "\n",
    "Also it will be used the urbanization rate as a measure of economic prosperity, and data on the sectoral composition of employment for 64 German districts for the years 1849, 1882, 1895, and 1907, as a measure of industrialization."
   ]
  },
  {
   "cell_type": "markdown",
   "metadata": {},
   "source": [
    "## Replication\n"
   ]
  },
  {
   "cell_type": "markdown",
   "metadata": {},
   "source": [
    "#### Before start:\n",
    "\n",
    "- For the descriptive statistics graphs and tables i will show first the commands, then the author's figure and then the replication.\n",
    "- For the regressions, I will show first the author's table, and then I will show the replication. Then you will be able to see the commands that I used to make all the regressions.\n",
    "- Since the author does not indicate in some regression tables what values is he using in brackets, I decided to put the standard errors instead. \n",
    "- Also, I use the usual significance levels in economy literature.\n",
    "\n",
    " `*p < 0.1 , ** p < 0.05 , *** p < 0.01`\n",
    " \n",
    " \n",
    " \n",
    " - For the regression tables I use pystout package."
   ]
  },
  {
   "cell_type": "code",
   "execution_count": 4,
   "metadata": {},
   "outputs": [
    {
     "name": "stdout",
     "output_type": "stream",
     "text": [
      "Using matplotlib backend: MacOSX\n",
      "Populating the interactive namespace from numpy and matplotlib\n"
     ]
    }
   ],
   "source": [
    "\n",
    "#Import all the packages\n",
    "from __future__ import division\n",
    "%pylab --no-import-all\n",
    "%matplotlib inline\n",
    "import pandas as pd\n",
    "import numpy as np\n",
    "import os\n",
    "\n",
    "\n",
    "pathout = './data/'\n",
    "\n",
    "if not os.path.exists(pathout):\n",
    "    os.mkdir(pathout)\n",
    "    \n",
    "pathgraphs = './graphs/'\n",
    "if not os.path.exists(pathgraphs):\n",
    "    os.mkdir(pathgraphs)\n",
    "    \n",
    "    import matplotlib as mpl\n",
    "import seaborn as sns\n",
    "sns.set()"
   ]
  },
  {
   "cell_type": "code",
   "execution_count": 5,
   "metadata": {},
   "outputs": [],
   "source": [
    "#Import the first database\n",
    "data1 = pd.read_stata(pathout + 'replication_dataset.dta')"
   ]
  },
  {
   "cell_type": "markdown",
   "metadata": {},
   "source": [
    "We will now re-make the index of reforms using ```data1``` provided by the authors, and using the formula explained before. ```table 1``` and ```graph 1``` will use some of this data, but in the case of the graph, the paper doesn't say what years are being used, so we will make it for the main years."
   ]
  },
  {
   "cell_type": "code",
   "execution_count": 6,
   "metadata": {},
   "outputs": [],
   "source": [
    "#INDEX 1850\n",
    "codigocivil1850 = -((data1['ccodenoalr'] -data1['ccodenoalroff']) + (data1['ccodenoalron'] - 1850))\n",
    "codigocivil1850[codigocivil1850<0]=0\n",
    "servidumbre1850 = -((data1['agreform1first'] -data1['agreform1off']) + (data1['agreform1on'] - 1850))\n",
    "servidumbre1850[servidumbre1850<0]=0\n",
    "agraria1850 = -((data1['agreform2first'] -data1['agreform2off']) + (data1['agreform2on'] - 1850))\n",
    "agraria1850[agraria1850<0]=0\n",
    "gremios1850 = -((data1['guildsfirst'] -data1['guildsoff']) + (data1['guildson'] - 1850))\n",
    "gremios1850[gremios1850<0]=0\n",
    "index1850 = (codigocivil1850 + servidumbre1850+ agraria1850+ gremios1850)/4\n",
    "\n",
    "\n",
    "#INDEX 1900\n",
    "codigocivil1900 = -((data1['ccodenoalr'] -data1['ccodenoalroff']) + (data1['ccodenoalron'] - 1900))\n",
    "codigocivil1900[codigocivil1900<0]=0\n",
    "servidumbre1900 = -((data1['agreform1first'] -data1['agreform1off']) + (data1['agreform1on'] - 1900))\n",
    "servidumbre1900[servidumbre1900<0]=0\n",
    "agraria1900 = -((data1['agreform2first'] -data1['agreform2off']) + (data1['agreform2on'] - 1900))\n",
    "agraria1900[agraria1900<0]=0\n",
    "gremios1900 = -((data1['guildsfirst'] -data1['guildsoff']) + (data1['guildson'] - 1900))\n",
    "gremios1900[gremios1900<0]=0\n",
    "index1900 = (codigocivil1900 + servidumbre1900+ agraria1900+ gremios1900)/4\n",
    "data1['index1900']=index1900\n",
    "data1['index1850']=index1850\n"
   ]
  },
  {
   "cell_type": "code",
   "execution_count": 7,
   "metadata": {},
   "outputs": [],
   "source": [
    "#Now we are adding a column that tell us if the territory is treatment or control group\n",
    "data1['napoleon'] = np.where(data1['fpresence']>0,1,0) \n",
    "\n",
    "\n",
    "#Now we are able to compare the paper results and our results for the index in 1850 and 1900\n",
    "means = data1.groupby(['year', 'napoleon'])['yearsref'].mean().unstack()\n"
   ]
  },
  {
   "cell_type": "code",
   "execution_count": 8,
   "metadata": {},
   "outputs": [],
   "source": [
    "#Mean done by me \n",
    "meansrep = data1.groupby(['napoleon'])['index1850'].mean()\n"
   ]
  },
  {
   "cell_type": "markdown",
   "metadata": {},
   "source": [
    "We have just recreated the value for the index means in 1850 and 1900. We can easily do this procedure again for the remaining years.\n",
    "The next table will resume and compare this result with the result that the authors got."
   ]
  },
  {
   "cell_type": "code",
   "execution_count": 9,
   "metadata": {},
   "outputs": [
    {
     "data": {
      "text/html": [
       "<div>\n",
       "<style scoped>\n",
       "    .dataframe tbody tr th:only-of-type {\n",
       "        vertical-align: middle;\n",
       "    }\n",
       "\n",
       "    .dataframe tbody tr th {\n",
       "        vertical-align: top;\n",
       "    }\n",
       "\n",
       "    .dataframe thead th {\n",
       "        text-align: right;\n",
       "    }\n",
       "</style>\n",
       "<table border=\"1\" class=\"dataframe\">\n",
       "  <thead>\n",
       "    <tr style=\"text-align: right;\">\n",
       "      <th></th>\n",
       "      <th></th>\n",
       "      <th>Control</th>\n",
       "      <th>Treatment</th>\n",
       "    </tr>\n",
       "  </thead>\n",
       "  <tbody>\n",
       "    <tr>\n",
       "      <th>0</th>\n",
       "      <td>Paper</td>\n",
       "      <td>20.704546</td>\n",
       "      <td>29.40625</td>\n",
       "    </tr>\n",
       "    <tr>\n",
       "      <th>1</th>\n",
       "      <td>Replication</td>\n",
       "      <td>20.704545</td>\n",
       "      <td>27.65625</td>\n",
       "    </tr>\n",
       "  </tbody>\n",
       "</table>\n",
       "</div>"
      ],
      "text/plain": [
       "                  Control  Treatment\n",
       "0        Paper  20.704546   29.40625\n",
       "1  Replication  20.704545   27.65625"
      ]
     },
     "execution_count": 9,
     "metadata": {},
     "output_type": "execute_result"
    }
   ],
   "source": [
    "index = [['Paper', 20.704546, 29.40625],\n",
    "        ['Replication', 20.704545, 27.656250]]\n",
    "\n",
    "gp = ['Control', 'Treatment']\n",
    "         \n",
    "index = pd.DataFrame(index, columns=[''] + [str(y) for y in gp])\n",
    "\n",
    "index\n"
   ]
  },
  {
   "cell_type": "markdown",
   "metadata": {},
   "source": [
    "As we can see, we got the same value for the mean in the control group but not for  the treatment group. Something interesting in the paper is that in the database, provided by the author, they say that the mean for treatment group is `29.40625`, but in the paper it says `32.42`. That can make us think in a possible of error of the authors at the moment of making the table1."
   ]
  },
  {
   "cell_type": "markdown",
   "metadata": {},
   "source": [
    "## Table 1 - Original. Territories And Reforms\n",
    "For Table 1 we will use our calculations of the reforms index, using the data provided by the authors. This information is contained on variables `index1850` and `index1900`. As we will see, we get a result very close to the original paper excepting the values for the mean, as explained before. "
   ]
  },
  {
   "cell_type": "markdown",
   "metadata": {},
   "source": [
    "\n",
    "![Imagen](img/Tabla1.png)\n"
   ]
  },
  {
   "cell_type": "code",
   "execution_count": 10,
   "metadata": {},
   "outputs": [],
   "source": [
    "table11 = [['Rhineland', 19, 1802,1789,1804,1795,50.25,100.25],\n",
    "        ['Palatinate (Bavaria)', 19, 1802,1789,1804,1795,50.25,100.25 ],\n",
    "      ['Mark', 6, '1810-15 , 1900',1808,1825,1809,28.25,65.75],\n",
    "          ['Westphalia', 6, '1810-15 , 1900',1808,1825,1809,28.25,65.75],\n",
    "          ['Brunswick', 6, '1808-14 , 1900','1808-18 , 1834','1808-18 , 1834','1808-15 , 1864',16,50],\n",
    "          ['Province of Saxony', 6, '1808–15, 1900',1808,1809,1809,32.75,70.25],\n",
    "          ['Hessen-Kassel', 6, '1808–14, 1900','1808–14, 1832','1809–14, 1832','1808–16, 1869',15.25,48],\n",
    "          ['Hanover', 3, '1808–13, 1900','1808–14, 1833','1809–14, 1833','1808–15, 1869',15.25,47],\n",
    "           ['Baden', 0, 1810,1783,1820,1862,34.25,81.25],\n",
    "           ['Bavaria, southern half', 0, 1900,1808,1826,1868,16.5,49.5],\n",
    "         ['Hessen-Darmstadt', 0, 1900,1811,1816,1866,18.25,51.275],\n",
    "           ['Saxony', 0, 1865,1832,1832,1862,9,52.25],\n",
    "            ['Württemberg', 0, 1900,1817,1836,1862,11.75,46.25],\n",
    "           \n",
    "            ['Brandenburg', 0, 1900,1811,1821,1810,27,64.5],\n",
    "            ['East Prussia', 0, 1900,1811,1821,1810,27,64.5],\n",
    "            ['Pomerania', 0, 1900,1811,1821,1810,27,64.5],\n",
    "              ['Silesia', 0, 1900,1811,1821,1810,27,64.5],\n",
    "           ['Mecklenburg-Schwerin', 0, 1900,1820,1862,1869,7.5,37.25],\n",
    "           ['Schleswig-Holstein', 0, 1900,1805,1805,1867,22.5,55.75],   \n",
    "          ]\n",
    "\n",
    "t1 = ['Years of French presence', 'Civil Code','Abolition of serfdom','Agrarian reform', 'Abolition of guilds','Reforms index 1850',\n",
    "     'Reform index 1900']\n",
    "         \n",
    "table11 = pd.DataFrame(table11, columns=['Territory'] + [str(y) for y in t1])\n"
   ]
  },
  {
   "cell_type": "markdown",
   "metadata": {},
   "source": [
    "## Table 1 - Replication."
   ]
  },
  {
   "cell_type": "code",
   "execution_count": 11,
   "metadata": {},
   "outputs": [
    {
     "data": {
      "text/html": [
       "<div>\n",
       "<style scoped>\n",
       "    .dataframe tbody tr th:only-of-type {\n",
       "        vertical-align: middle;\n",
       "    }\n",
       "\n",
       "    .dataframe tbody tr th {\n",
       "        vertical-align: top;\n",
       "    }\n",
       "\n",
       "    .dataframe thead th {\n",
       "        text-align: right;\n",
       "    }\n",
       "</style>\n",
       "<table border=\"1\" class=\"dataframe\">\n",
       "  <thead>\n",
       "    <tr style=\"text-align: right;\">\n",
       "      <th></th>\n",
       "      <th>Territory</th>\n",
       "      <th>Years of French presence</th>\n",
       "      <th>Civil Code</th>\n",
       "      <th>Abolition of serfdom</th>\n",
       "      <th>Agrarian reform</th>\n",
       "      <th>Abolition of guilds</th>\n",
       "      <th>Reforms index 1850</th>\n",
       "      <th>Reform index 1900</th>\n",
       "    </tr>\n",
       "  </thead>\n",
       "  <tbody>\n",
       "    <tr>\n",
       "      <th>0</th>\n",
       "      <td>Rhineland</td>\n",
       "      <td>19</td>\n",
       "      <td>1802</td>\n",
       "      <td>1789</td>\n",
       "      <td>1804</td>\n",
       "      <td>1795</td>\n",
       "      <td>50.25</td>\n",
       "      <td>100.250</td>\n",
       "    </tr>\n",
       "    <tr>\n",
       "      <th>1</th>\n",
       "      <td>Palatinate (Bavaria)</td>\n",
       "      <td>19</td>\n",
       "      <td>1802</td>\n",
       "      <td>1789</td>\n",
       "      <td>1804</td>\n",
       "      <td>1795</td>\n",
       "      <td>50.25</td>\n",
       "      <td>100.250</td>\n",
       "    </tr>\n",
       "    <tr>\n",
       "      <th>2</th>\n",
       "      <td>Mark</td>\n",
       "      <td>6</td>\n",
       "      <td>1810-15 , 1900</td>\n",
       "      <td>1808</td>\n",
       "      <td>1825</td>\n",
       "      <td>1809</td>\n",
       "      <td>28.25</td>\n",
       "      <td>65.750</td>\n",
       "    </tr>\n",
       "    <tr>\n",
       "      <th>3</th>\n",
       "      <td>Westphalia</td>\n",
       "      <td>6</td>\n",
       "      <td>1810-15 , 1900</td>\n",
       "      <td>1808</td>\n",
       "      <td>1825</td>\n",
       "      <td>1809</td>\n",
       "      <td>28.25</td>\n",
       "      <td>65.750</td>\n",
       "    </tr>\n",
       "    <tr>\n",
       "      <th>4</th>\n",
       "      <td>Brunswick</td>\n",
       "      <td>6</td>\n",
       "      <td>1808-14 , 1900</td>\n",
       "      <td>1808-18 , 1834</td>\n",
       "      <td>1808-18 , 1834</td>\n",
       "      <td>1808-15 , 1864</td>\n",
       "      <td>16.00</td>\n",
       "      <td>50.000</td>\n",
       "    </tr>\n",
       "    <tr>\n",
       "      <th>5</th>\n",
       "      <td>Province of Saxony</td>\n",
       "      <td>6</td>\n",
       "      <td>1808–15, 1900</td>\n",
       "      <td>1808</td>\n",
       "      <td>1809</td>\n",
       "      <td>1809</td>\n",
       "      <td>32.75</td>\n",
       "      <td>70.250</td>\n",
       "    </tr>\n",
       "    <tr>\n",
       "      <th>6</th>\n",
       "      <td>Hessen-Kassel</td>\n",
       "      <td>6</td>\n",
       "      <td>1808–14, 1900</td>\n",
       "      <td>1808–14, 1832</td>\n",
       "      <td>1809–14, 1832</td>\n",
       "      <td>1808–16, 1869</td>\n",
       "      <td>15.25</td>\n",
       "      <td>48.000</td>\n",
       "    </tr>\n",
       "    <tr>\n",
       "      <th>7</th>\n",
       "      <td>Hanover</td>\n",
       "      <td>3</td>\n",
       "      <td>1808–13, 1900</td>\n",
       "      <td>1808–14, 1833</td>\n",
       "      <td>1809–14, 1833</td>\n",
       "      <td>1808–15, 1869</td>\n",
       "      <td>15.25</td>\n",
       "      <td>47.000</td>\n",
       "    </tr>\n",
       "    <tr>\n",
       "      <th>8</th>\n",
       "      <td>Baden</td>\n",
       "      <td>0</td>\n",
       "      <td>1810</td>\n",
       "      <td>1783</td>\n",
       "      <td>1820</td>\n",
       "      <td>1862</td>\n",
       "      <td>34.25</td>\n",
       "      <td>81.250</td>\n",
       "    </tr>\n",
       "    <tr>\n",
       "      <th>9</th>\n",
       "      <td>Bavaria, southern half</td>\n",
       "      <td>0</td>\n",
       "      <td>1900</td>\n",
       "      <td>1808</td>\n",
       "      <td>1826</td>\n",
       "      <td>1868</td>\n",
       "      <td>16.50</td>\n",
       "      <td>49.500</td>\n",
       "    </tr>\n",
       "    <tr>\n",
       "      <th>10</th>\n",
       "      <td>Hessen-Darmstadt</td>\n",
       "      <td>0</td>\n",
       "      <td>1900</td>\n",
       "      <td>1811</td>\n",
       "      <td>1816</td>\n",
       "      <td>1866</td>\n",
       "      <td>18.25</td>\n",
       "      <td>51.275</td>\n",
       "    </tr>\n",
       "    <tr>\n",
       "      <th>11</th>\n",
       "      <td>Saxony</td>\n",
       "      <td>0</td>\n",
       "      <td>1865</td>\n",
       "      <td>1832</td>\n",
       "      <td>1832</td>\n",
       "      <td>1862</td>\n",
       "      <td>9.00</td>\n",
       "      <td>52.250</td>\n",
       "    </tr>\n",
       "    <tr>\n",
       "      <th>12</th>\n",
       "      <td>Württemberg</td>\n",
       "      <td>0</td>\n",
       "      <td>1900</td>\n",
       "      <td>1817</td>\n",
       "      <td>1836</td>\n",
       "      <td>1862</td>\n",
       "      <td>11.75</td>\n",
       "      <td>46.250</td>\n",
       "    </tr>\n",
       "    <tr>\n",
       "      <th>13</th>\n",
       "      <td>Brandenburg</td>\n",
       "      <td>0</td>\n",
       "      <td>1900</td>\n",
       "      <td>1811</td>\n",
       "      <td>1821</td>\n",
       "      <td>1810</td>\n",
       "      <td>27.00</td>\n",
       "      <td>64.500</td>\n",
       "    </tr>\n",
       "    <tr>\n",
       "      <th>14</th>\n",
       "      <td>East Prussia</td>\n",
       "      <td>0</td>\n",
       "      <td>1900</td>\n",
       "      <td>1811</td>\n",
       "      <td>1821</td>\n",
       "      <td>1810</td>\n",
       "      <td>27.00</td>\n",
       "      <td>64.500</td>\n",
       "    </tr>\n",
       "    <tr>\n",
       "      <th>15</th>\n",
       "      <td>Pomerania</td>\n",
       "      <td>0</td>\n",
       "      <td>1900</td>\n",
       "      <td>1811</td>\n",
       "      <td>1821</td>\n",
       "      <td>1810</td>\n",
       "      <td>27.00</td>\n",
       "      <td>64.500</td>\n",
       "    </tr>\n",
       "    <tr>\n",
       "      <th>16</th>\n",
       "      <td>Silesia</td>\n",
       "      <td>0</td>\n",
       "      <td>1900</td>\n",
       "      <td>1811</td>\n",
       "      <td>1821</td>\n",
       "      <td>1810</td>\n",
       "      <td>27.00</td>\n",
       "      <td>64.500</td>\n",
       "    </tr>\n",
       "    <tr>\n",
       "      <th>17</th>\n",
       "      <td>Mecklenburg-Schwerin</td>\n",
       "      <td>0</td>\n",
       "      <td>1900</td>\n",
       "      <td>1820</td>\n",
       "      <td>1862</td>\n",
       "      <td>1869</td>\n",
       "      <td>7.50</td>\n",
       "      <td>37.250</td>\n",
       "    </tr>\n",
       "    <tr>\n",
       "      <th>18</th>\n",
       "      <td>Schleswig-Holstein</td>\n",
       "      <td>0</td>\n",
       "      <td>1900</td>\n",
       "      <td>1805</td>\n",
       "      <td>1805</td>\n",
       "      <td>1867</td>\n",
       "      <td>22.50</td>\n",
       "      <td>55.750</td>\n",
       "    </tr>\n",
       "  </tbody>\n",
       "</table>\n",
       "</div>"
      ],
      "text/plain": [
       "                 Territory  Years of French presence      Civil Code  \\\n",
       "0                Rhineland                        19            1802   \n",
       "1     Palatinate (Bavaria)                        19            1802   \n",
       "2                     Mark                         6  1810-15 , 1900   \n",
       "3               Westphalia                         6  1810-15 , 1900   \n",
       "4                Brunswick                         6  1808-14 , 1900   \n",
       "5       Province of Saxony                         6   1808–15, 1900   \n",
       "6            Hessen-Kassel                         6   1808–14, 1900   \n",
       "7                  Hanover                         3   1808–13, 1900   \n",
       "8                    Baden                         0            1810   \n",
       "9   Bavaria, southern half                         0            1900   \n",
       "10        Hessen-Darmstadt                         0            1900   \n",
       "11                  Saxony                         0            1865   \n",
       "12             Württemberg                         0            1900   \n",
       "13             Brandenburg                         0            1900   \n",
       "14            East Prussia                         0            1900   \n",
       "15               Pomerania                         0            1900   \n",
       "16                 Silesia                         0            1900   \n",
       "17    Mecklenburg-Schwerin                         0            1900   \n",
       "18      Schleswig-Holstein                         0            1900   \n",
       "\n",
       "   Abolition of serfdom Agrarian reform Abolition of guilds  \\\n",
       "0                  1789            1804                1795   \n",
       "1                  1789            1804                1795   \n",
       "2                  1808            1825                1809   \n",
       "3                  1808            1825                1809   \n",
       "4        1808-18 , 1834  1808-18 , 1834      1808-15 , 1864   \n",
       "5                  1808            1809                1809   \n",
       "6         1808–14, 1832   1809–14, 1832       1808–16, 1869   \n",
       "7         1808–14, 1833   1809–14, 1833       1808–15, 1869   \n",
       "8                  1783            1820                1862   \n",
       "9                  1808            1826                1868   \n",
       "10                 1811            1816                1866   \n",
       "11                 1832            1832                1862   \n",
       "12                 1817            1836                1862   \n",
       "13                 1811            1821                1810   \n",
       "14                 1811            1821                1810   \n",
       "15                 1811            1821                1810   \n",
       "16                 1811            1821                1810   \n",
       "17                 1820            1862                1869   \n",
       "18                 1805            1805                1867   \n",
       "\n",
       "    Reforms index 1850  Reform index 1900  \n",
       "0                50.25            100.250  \n",
       "1                50.25            100.250  \n",
       "2                28.25             65.750  \n",
       "3                28.25             65.750  \n",
       "4                16.00             50.000  \n",
       "5                32.75             70.250  \n",
       "6                15.25             48.000  \n",
       "7                15.25             47.000  \n",
       "8                34.25             81.250  \n",
       "9                16.50             49.500  \n",
       "10               18.25             51.275  \n",
       "11                9.00             52.250  \n",
       "12               11.75             46.250  \n",
       "13               27.00             64.500  \n",
       "14               27.00             64.500  \n",
       "15               27.00             64.500  \n",
       "16               27.00             64.500  \n",
       "17                7.50             37.250  \n",
       "18               22.50             55.750  "
      ]
     },
     "execution_count": 11,
     "metadata": {},
     "output_type": "execute_result"
    }
   ],
   "source": [
    "table11"
   ]
  },
  {
   "cell_type": "markdown",
   "metadata": {},
   "source": [
    "## Figure 1 - Original. Reforms Index, by Treatment Group\n",
    "\n",
    "For Figure 1 we will use the variable `yearsref`, available on the original database. Thanks to the new variable `group`, created here, we will be able to differentiante by treatment or control group. Also, with the table `means`, we got the mean for each year and for each group."
   ]
  },
  {
   "cell_type": "markdown",
   "metadata": {},
   "source": [
    "![Imagen](img/Figura1.png)"
   ]
  },
  {
   "cell_type": "code",
   "execution_count": 12,
   "metadata": {},
   "outputs": [],
   "source": [
    "from matplotlib import pyplot as plt\n",
    "import numpy as np\n",
    "import pandas as pd\n",
    "from matplotlib.pyplot import figure\n"
   ]
  },
  {
   "cell_type": "markdown",
   "metadata": {},
   "source": [
    "## Figure 1 - Replication"
   ]
  },
  {
   "cell_type": "code",
   "execution_count": 13,
   "metadata": {},
   "outputs": [
    {
     "data": {
      "image/png": "[encoded data removed]",
      "text/plain": [
       "<Figure size 1000x800 with 1 Axes>"
      ]
     },
     "metadata": {},
     "output_type": "display_data"
    }
   ],
   "source": [
    "fig, ax = plt.subplots(figsize=(10,8),dpi=100)\n",
    "plt.style.use('seaborn-colorblind')\n",
    "plt.plot(means, linestyle='--' , linewidth=3)\n",
    "\n",
    "plt.title('Reforms Index, By Treatment Group - Replication')\n",
    "plt.legend(['Control','Treatment'])\n",
    "plt.xlabel('Year')\n",
    "plt.xlabel('Reform Index')\n",
    "\n",
    "\n",
    "\n",
    "plt.show()"
   ]
  },
  {
   "cell_type": "markdown",
   "metadata": {},
   "source": [
    "## Table 2 - Original. Descriptive Statistics\n",
    "\n",
    "For table 2 we will start getting the values for the urbanization rates differentiating by West of the Elbe, and all the sample. Also differentiating by control and treatment group. In most of the cases, we were able to get the same value that the authors, excepting the value for the variable `distpa` that was a measure of the territories distance to Paris."
   ]
  },
  {
   "cell_type": "code",
   "execution_count": 209,
   "metadata": {},
   "outputs": [],
   "source": [
    "#Dummy for treatment and control group (created before)\n",
    "data1['napoleon'] = np.where(data1['fpresence']>0,1,0) "
   ]
  },
  {
   "cell_type": "code",
   "execution_count": 210,
   "metadata": {},
   "outputs": [],
   "source": [
    "#Urbanization Rate\n",
    "## Column 5. All  - WholeSample\n",
    "\n",
    "datatable2=data1\n",
    "datata2  = datatable2.dropna()\n",
    "g1 = datata2.groupby(['year'])\n",
    "col5 = g1.apply(lambda x: pd.Series([np.average(x['urbrate'], weights=x['totalpop1750']),], \n",
    "                                    index=['urbrate']))\n",
    "#Column 4. WholeSample - Control and Treatment\n",
    "datatable2=data1\n",
    "datata22  = datatable2.dropna()\n",
    "g2 = datata22.groupby(['year','napoleon'])\n",
    "col4 = g2.apply(lambda x: pd.Series([np.average(x['urbrate'], weights=x['totalpop1750']),    ], \n",
    "                                    index=['urbrate']))\n",
    "#Column 2 and 3. West of the elbe - Control and Treatment\n",
    "datatable2=data1\n",
    "datata21  = datatable2.dropna()\n",
    "g3 = datata21.groupby(['year','napoleon','westelbe'])\n",
    "col3 = g3.apply(lambda x: pd.Series([np.average(x['urbrate'], weights=x['totalpop1750']),  ], \n",
    "                                    index=['urbrate']))\n",
    "# Column1 - West of elbe All\n",
    "\n",
    "datatable2=data1\n",
    "datata211  = datatable2.dropna()\n",
    "g4 = datata211.groupby(['year','westelbe'])\n",
    "col1 = g4.apply(lambda x: pd.Series([np.average(x['urbrate'], weights=x['totalpop1750']),    ], \n",
    "                                    index=['urbrate']))\n"
   ]
  },
  {
   "cell_type": "code",
   "execution_count": 211,
   "metadata": {},
   "outputs": [],
   "source": [
    "# Share of protestant \n",
    "\n",
    "#Column 1 - West of elbe\n",
    "\n",
    "table2p=data1\n",
    "table2p2  = table2p.fillna(1)\n",
    "f2 = table2p2.groupby(['westelbe'])\n",
    "pcol2 = f2.apply(lambda x: pd.Series([np.average(x['protestant'], weights=x['totalpop1750']),  ], \n",
    "                                    index=['protestant']))\n",
    "## Column 2 and 3 -  West of the elbe Control and Treatment\n",
    "\n",
    "table2p=data1\n",
    "table2p1  = table2p.fillna(1)\n",
    "f1 = table2p1.groupby(['westelbe','napoleon'])\n",
    "pcol1 = f1.apply(lambda x: pd.Series([np.average(x['protestant'], weights=x['totalpop1750']),  ], \n",
    "                                    index=['protestant']))\n",
    "\n",
    "\n",
    "#Column 4 - Whole Sample Control Group\n",
    "table2p=data1\n",
    "table2p2  = table2p.fillna(0)\n",
    "f2 = table2p2.groupby(['napoleon'])\n",
    "pcol3 = f2.apply(lambda x: pd.Series([np.average(x['protestant'], weights=x['totalpop1750']), ], \n",
    "                                    index=['protestant']))\n",
    "\n"
   ]
  },
  {
   "cell_type": "code",
   "execution_count": 212,
   "metadata": {},
   "outputs": [],
   "source": [
    "## Latitude\n",
    "\n",
    "#Column 1 and 5 - West of elbe and Whole Sample\n",
    "\n",
    "table3 = data1.dropna()\n",
    "l2 = table3.groupby(['westelbe'])\n",
    "lcol = l2.apply(lambda x: pd.Series([np.average(x['latitude'], weights=x['totalpop1750']),  ], \n",
    "                                    index=['latitude']))\n",
    "\n",
    "#Column 2 and 3 - West of the Elbe. Treatment and Control Group\n",
    "\n",
    "table3 = data1.dropna()\n",
    "l1 = table3.groupby(['westelbe','napoleon'])\n",
    "lcol2 = l1.apply(lambda x: pd.Series([np.average(x['latitude'], weights=x['totalpop1750']), ], \n",
    "                                    index=['latitude']))\n",
    "\n",
    "#Column 4 Whole Sample. Treatment And Control Group\n",
    "\n",
    "table3 = data1.dropna()\n",
    "l3 = table3.groupby(['napoleon'])\n",
    "lcol3 = l3.apply(lambda x: pd.Series([np.average(x['latitude'], weights=x['totalpop1750']), ], \n",
    "                                    index=['latitude']))"
   ]
  },
  {
   "cell_type": "code",
   "execution_count": 213,
   "metadata": {},
   "outputs": [],
   "source": [
    "# Longitude\n",
    "#Column 1 and 5 - West of elbe and Whole Sample\n",
    "\n",
    "table3 = data1.dropna()\n",
    "long = table3.groupby(['westelbe'])\n",
    "longcol = long.apply(lambda x: pd.Series([np.average(x['longitude'], weights=x['totalpop1750']),    ], \n",
    "                                    index=['longitude']))\n",
    "\n",
    "#Column 2 and 3 - West of the Elbe. Treatment and Control Group\n",
    "\n",
    "table3 = data1.dropna()\n",
    "long2 = table3.groupby(['westelbe','napoleon'])\n",
    "longcol2 = long2.apply(lambda x: pd.Series([np.average(x['longitude'], weights=x['totalpop1750']), ], \n",
    "                                    index=['longitude']))\n",
    "\n",
    "#Column 4 Whole Sample. Treatment And Control Group\n",
    "\n",
    "table3 = data1.dropna()\n",
    "long3 = table3.groupby(['napoleon'])\n",
    "longcol3 = long3.apply(lambda x: pd.Series([np.average(x['longitude'], weights=x['totalpop1750']),], \n",
    "                                    index=['longitude']))\n"
   ]
  },
  {
   "cell_type": "code",
   "execution_count": 214,
   "metadata": {},
   "outputs": [],
   "source": [
    "## Distance to Paris\n",
    "\n",
    "#Column 1 and 5 - West of Elbe and Whole Sample\n",
    "\n",
    "table3 = data1.dropna()\n",
    "dis = table3.groupby(['westelbe'])\n",
    "distcol = dis.apply(lambda x: pd.Series([np.average(x['distpa'], weights=x['totalpop1750']),  ], \n",
    "                                    index=['distpa']))\n",
    "\n",
    "#Column 2 and 3 - West of the Elbe. Treatment and Control Group\n",
    "\n",
    "table3 = data1.dropna()\n",
    "dis2 = table3.groupby(['westelbe','napoleon'])\n",
    "discol2 = dis2.apply(lambda x: pd.Series([np.average(x['distpa'], weights=x['totalpop1750']),], \n",
    "                                    index=['distpa']))\n",
    "\n",
    "\n",
    "#Column 4 Whole Sample. Treatment And Control Group\n",
    "\n",
    "table3 = data1.dropna()\n",
    "dis3 = table3.groupby(['napoleon'])\n",
    "discol3 = dis3.apply(lambda x: pd.Series([np.average(x['distpa'], weights=x['totalpop1750']),], \n",
    "                                    index=['distpa']))\n"
   ]
  },
  {
   "cell_type": "code",
   "execution_count": 20,
   "metadata": {
    "scrolled": true
   },
   "outputs": [],
   "source": [
    "    \n",
    "ta2 = [['Urbanization in 1700', 5.86, 5.49,6.36,7.68,7.26],\n",
    "       ['Urbanization in 1750', 7.89, 7.66,8.09,8.89,8.59],\n",
    "       ['Urbanization in 1800', 10.23,8.44 ,11.75,10.22,10.8],\n",
    "       ['Urbanization in 1850', 13.78, 12.38,14.96,14.45,14.64],\n",
    "       ['Urbanization in 1875', 25.70, 22.22,28.66,25.18,26.52],\n",
    "       ['Urbanization in 1900', 39.89,35.60 ,43.55,38.26,40.29],\n",
    "       \n",
    "       ['Share Protestant', 0.57,5.32 ,6.18,6.77,'0.84*'],\n",
    "         ['Latitude', 50.43,49.28 ,51.45,50.97,52.97],\n",
    "       ['Longitude', 9.99,10.95 ,9.12,12.74,'14.85*'], ]\n",
    "\n",
    "t2=['West: All', 'West: Control','West: Treated','Whole Sample: Control', 'Whole Sample: All']  \n",
    "ta2 = pd.DataFrame(ta2, columns=[''] + [str(y) for y in t2])\n",
    "\n"
   ]
  },
  {
   "cell_type": "markdown",
   "metadata": {},
   "source": [
    "![Imagen](img/Tabla2.png)"
   ]
  },
  {
   "cell_type": "markdown",
   "metadata": {},
   "source": [
    "### Table 2 - Replication. Descriptive Statistics"
   ]
  },
  {
   "cell_type": "code",
   "execution_count": 21,
   "metadata": {},
   "outputs": [
    {
     "data": {
      "text/html": [
       "<div>\n",
       "<style scoped>\n",
       "    .dataframe tbody tr th:only-of-type {\n",
       "        vertical-align: middle;\n",
       "    }\n",
       "\n",
       "    .dataframe tbody tr th {\n",
       "        vertical-align: top;\n",
       "    }\n",
       "\n",
       "    .dataframe thead th {\n",
       "        text-align: right;\n",
       "    }\n",
       "</style>\n",
       "<table border=\"1\" class=\"dataframe\">\n",
       "  <thead>\n",
       "    <tr style=\"text-align: right;\">\n",
       "      <th></th>\n",
       "      <th></th>\n",
       "      <th>West: All</th>\n",
       "      <th>West: Control</th>\n",
       "      <th>West: Treated</th>\n",
       "      <th>Whole Sample: Control</th>\n",
       "      <th>Whole Sample: All</th>\n",
       "    </tr>\n",
       "  </thead>\n",
       "  <tbody>\n",
       "    <tr>\n",
       "      <th>0</th>\n",
       "      <td>Urbanization in 1700</td>\n",
       "      <td>5.86</td>\n",
       "      <td>5.49</td>\n",
       "      <td>6.36</td>\n",
       "      <td>7.68</td>\n",
       "      <td>7.26</td>\n",
       "    </tr>\n",
       "    <tr>\n",
       "      <th>1</th>\n",
       "      <td>Urbanization in 1750</td>\n",
       "      <td>7.89</td>\n",
       "      <td>7.66</td>\n",
       "      <td>8.09</td>\n",
       "      <td>8.89</td>\n",
       "      <td>8.59</td>\n",
       "    </tr>\n",
       "    <tr>\n",
       "      <th>2</th>\n",
       "      <td>Urbanization in 1800</td>\n",
       "      <td>10.23</td>\n",
       "      <td>8.44</td>\n",
       "      <td>11.75</td>\n",
       "      <td>10.22</td>\n",
       "      <td>10.8</td>\n",
       "    </tr>\n",
       "    <tr>\n",
       "      <th>3</th>\n",
       "      <td>Urbanization in 1850</td>\n",
       "      <td>13.78</td>\n",
       "      <td>12.38</td>\n",
       "      <td>14.96</td>\n",
       "      <td>14.45</td>\n",
       "      <td>14.64</td>\n",
       "    </tr>\n",
       "    <tr>\n",
       "      <th>4</th>\n",
       "      <td>Urbanization in 1875</td>\n",
       "      <td>25.70</td>\n",
       "      <td>22.22</td>\n",
       "      <td>28.66</td>\n",
       "      <td>25.18</td>\n",
       "      <td>26.52</td>\n",
       "    </tr>\n",
       "    <tr>\n",
       "      <th>5</th>\n",
       "      <td>Urbanization in 1900</td>\n",
       "      <td>39.89</td>\n",
       "      <td>35.60</td>\n",
       "      <td>43.55</td>\n",
       "      <td>38.26</td>\n",
       "      <td>40.29</td>\n",
       "    </tr>\n",
       "    <tr>\n",
       "      <th>6</th>\n",
       "      <td>Share Protestant</td>\n",
       "      <td>0.57</td>\n",
       "      <td>5.32</td>\n",
       "      <td>6.18</td>\n",
       "      <td>6.77</td>\n",
       "      <td>0.84*</td>\n",
       "    </tr>\n",
       "    <tr>\n",
       "      <th>7</th>\n",
       "      <td>Latitude</td>\n",
       "      <td>50.43</td>\n",
       "      <td>49.28</td>\n",
       "      <td>51.45</td>\n",
       "      <td>50.97</td>\n",
       "      <td>52.97</td>\n",
       "    </tr>\n",
       "    <tr>\n",
       "      <th>8</th>\n",
       "      <td>Longitude</td>\n",
       "      <td>9.99</td>\n",
       "      <td>10.95</td>\n",
       "      <td>9.12</td>\n",
       "      <td>12.74</td>\n",
       "      <td>14.85*</td>\n",
       "    </tr>\n",
       "  </tbody>\n",
       "</table>\n",
       "</div>"
      ],
      "text/plain": [
       "                         West: All  West: Control  West: Treated  \\\n",
       "0  Urbanization in 1700       5.86           5.49           6.36   \n",
       "1  Urbanization in 1750       7.89           7.66           8.09   \n",
       "2  Urbanization in 1800      10.23           8.44          11.75   \n",
       "3  Urbanization in 1850      13.78          12.38          14.96   \n",
       "4  Urbanization in 1875      25.70          22.22          28.66   \n",
       "5  Urbanization in 1900      39.89          35.60          43.55   \n",
       "6      Share Protestant       0.57           5.32           6.18   \n",
       "7              Latitude      50.43          49.28          51.45   \n",
       "8             Longitude       9.99          10.95           9.12   \n",
       "\n",
       "   Whole Sample: Control Whole Sample: All  \n",
       "0                   7.68              7.26  \n",
       "1                   8.89              8.59  \n",
       "2                  10.22              10.8  \n",
       "3                  14.45             14.64  \n",
       "4                  25.18             26.52  \n",
       "5                  38.26             40.29  \n",
       "6                   6.77             0.84*  \n",
       "7                  50.97             52.97  \n",
       "8                  12.74            14.85*  "
      ]
     },
     "execution_count": 21,
     "metadata": {},
     "output_type": "execute_result"
    }
   ],
   "source": [
    "ta2"
   ]
  },
  {
   "cell_type": "markdown",
   "metadata": {},
   "source": [
    "The data for table 2 is contained in the following variables:\n",
    "\n",
    "  - Urbanization rate: ``col1`` , ```col3``` , ```col4``` and ```col5```\n",
    "  - Share Protestant: `pcol2` , `pcol1` and `pcol3`\n",
    "  - Latitude:   `lcol` , `lcol2`  and `lcol3`\n",
    "  - Longitude: `longcol` , `longcol2` and `longcol3`\n",
    "  \n",
    "###### Distance to Paris is not in the table since i was not able to recreate the values"
   ]
  },
  {
   "cell_type": "markdown",
   "metadata": {},
   "source": [
    "### Figure 2A. Urbanization Rates, by Treatment Group\n"
   ]
  },
  {
   "cell_type": "markdown",
   "metadata": {},
   "source": [
    "![Imagen](img/Figura21.png)"
   ]
  },
  {
   "cell_type": "code",
   "execution_count": 22,
   "metadata": {},
   "outputs": [],
   "source": [
    "datafig2 = pd.read_stata(pathout + 'replication_dataset.dta')"
   ]
  },
  {
   "cell_type": "code",
   "execution_count": 23,
   "metadata": {},
   "outputs": [],
   "source": [
    "meansfig = data1.groupby(['year', 'napoleon'])['urbrate'].mean().unstack()\n",
    "meansfig2 = data1.groupby(['year', 'westelbe'])['urbrate'].mean().unstack()"
   ]
  },
  {
   "cell_type": "code",
   "execution_count": 24,
   "metadata": {},
   "outputs": [],
   "source": [
    "\n",
    "dataf2 = {'Year': [1700, 1750, 1800, 1850,1875,1880,1885,1895,1900,1905,1910], \n",
    "        'West': [4.965689 ,7.704638 ,10.237379 ,13.382242 ,24.521772 ,28.461521 ,\n",
    "                   30.805981 ,38.269096 ,39.198532 ,42.333805 ,45.268684], \n",
    "          'treatment': [5.359634,8.161680,11.891592,14.509822,26.807312,30.080849,32.355259,40.437576,42.384228,43.021275,45.624130\n",
    "]\n",
    "       } \n",
    "fig2 = pd.DataFrame(dataf2)\n",
    "Year = pd.Categorical(fig2.Year)\n",
    "fig2 = fig2.set_index([ 'Year'])"
   ]
  },
  {
   "cell_type": "code",
   "execution_count": 25,
   "metadata": {},
   "outputs": [],
   "source": [
    "\n",
    "fig2['Diference']=  fig2.treatment - fig2.West \n",
    "\n"
   ]
  },
  {
   "cell_type": "code",
   "execution_count": 26,
   "metadata": {},
   "outputs": [
    {
     "data": {
      "image/png": "[encoded data removed]",
      "text/plain": [
       "<Figure size 1000x800 with 1 Axes>"
      ]
     },
     "metadata": {},
     "output_type": "display_data"
    }
   ],
   "source": [
    "fig, ax = plt.subplots(figsize=(10,8),dpi=100)\n",
    "plt.style.use('seaborn-colorblind')\n",
    "plt.plot(fig2, linestyle='--' , linewidth=3)\n",
    "\n",
    "plt.title('Figure 2A. Urbanization Rates, by Treatment Group')\n",
    "plt.legend(['Control (Westof the Elbe)','Treatment','Diference'])\n",
    "plt.xlabel('Year')\n",
    "plt.xlabel('Urbanization Rate')\n",
    "\n",
    "\n",
    "\n",
    "plt.show()"
   ]
  },
  {
   "cell_type": "markdown",
   "metadata": {},
   "source": [
    "### Figure 2B. Urbanization Rates, by Treatment Group"
   ]
  },
  {
   "cell_type": "markdown",
   "metadata": {},
   "source": [
    "![Imagen](img/Figura22.png)"
   ]
  },
  {
   "cell_type": "code",
   "execution_count": 27,
   "metadata": {},
   "outputs": [],
   "source": [
    "meansfig = data1.groupby(['year', 'napoleon'])['urbrate'].mean().unstack()"
   ]
  },
  {
   "cell_type": "code",
   "execution_count": 28,
   "metadata": {},
   "outputs": [],
   "source": [
    "dataf22 = {'Year': [1700, 1750, 1800, 1850,1875,1880,1885,1895,1900,1905,1910], \n",
    "        'Control': [6.301950,8.037416,10.001850,14.123228,24.170938,23.895399,26.050716,31.349073,\n",
    "                    36.435326,37.582905,40.397572], \n",
    "          \n",
    "          'Treatment': [5.359634,8.161680,11.891592,14.509822,26.807312,30.080849,32.355259,\n",
    "                        40.437576,42.384228,43.021275,45.624130\n",
    "                       ]\n",
    "       } \n",
    "fig22 = pd.DataFrame(dataf22)\n",
    "Year = pd.Categorical(fig22.Year)\n",
    "fig22 = fig22.set_index([ 'Year'])"
   ]
  },
  {
   "cell_type": "code",
   "execution_count": 29,
   "metadata": {},
   "outputs": [],
   "source": [
    "fig22['difference']= fig22.Treatment - fig22.Control"
   ]
  },
  {
   "cell_type": "code",
   "execution_count": 30,
   "metadata": {},
   "outputs": [
    {
     "data": {
      "image/png": "[encoded data removed]",
      "text/plain": [
       "<Figure size 1000x800 with 1 Axes>"
      ]
     },
     "metadata": {},
     "output_type": "display_data"
    }
   ],
   "source": [
    "fig, ax = plt.subplots(figsize=(10,8),dpi=100)\n",
    "plt.style.use('seaborn-colorblind')\n",
    "plt.plot(fig22, linestyle='--' , linewidth=3)\n",
    "\n",
    "plt.title('Figure 2A. Urbanization Rates, by Treatment Group')\n",
    "plt.legend(['Control (Whole Sample)','Treatment','Difference'])\n",
    "plt.xlabel('Year')\n",
    "plt.xlabel('Urbanization Rate')\n",
    "\n",
    "\n",
    "\n",
    "plt.show()"
   ]
  },
  {
   "cell_type": "markdown",
   "metadata": {},
   "source": [
    "## Table 3 - Urbanization In Germany"
   ]
  },
  {
   "cell_type": "markdown",
   "metadata": {},
   "source": [
    "Table 3 contains 4 regresions:\n",
    "#### - Regresion 1: \n",
    "$ Urbrate = \\alpha_{1}fpresence1750 + \\alpha_{2}fpresence1800 + \\alpha_{3}fpresence1850 + \\alpha_{4}fpresence1875 + \\alpha_{5}fpresence1900 +\\beta_{1}yr $\n",
    " \n",
    "For the West of Elbe and weighted by total population in 1750 \n",
    " \n",
    " #### - Regresion 2:\n",
    "$ Urbrate = \\alpha_{1}fpresence1750 + \\alpha_{2}fpresence1800 + \\alpha_{3}fpresence1850 + \\alpha_{4}fpresence1875 + \\alpha_{5}fpresence1900 +\\beta_{1}yr $\n",
    " \n",
    " \n",
    "For the West of Elbe and no weight\n",
    " \n",
    " \n",
    "####  - Regresion 3:\n",
    "$ Urbrate = \\alpha_{1}fpresence1750 + \\alpha_{2}fpresence1800 + \\alpha_{3}fpresence1850 + \\alpha_{4}fpresence1875 + \\alpha_{5}fpresence1900 +\\beta_{1}yr $\n",
    " \n",
    "\n",
    "For the whole sample and weighted by total population in 1750\n",
    " \n",
    " \n",
    "####  - Regresion 4: \n",
    "$ Urbrate = \\alpha_{1}fpresence1750 + \\alpha_{2}fpresence1800 + \\alpha_{3}fpresence1850 + \\alpha_{4}fpresence1875 + \\alpha_{5}fpresence1900 +\\beta_{1}yr $\n",
    " \n",
    "\n",
    "For the whole sample\n",
    " \n",
    "Where:\n",
    "\n",
    "- Urbrate: (urban population /total population) *100\n",
    "- fpresence1750: Is an interacction between fpresence and yr1750\n",
    "- fpresence1800: Is an interacction between fpresence and yr1800\n",
    "- fpresence1850: Is an interacction between fpresence and yr1850\n",
    "- fpresence1875: Is an interacction between fpresence and yr1875\n",
    "- fpresence1900: Is an interacction between fpresence and yr1900\n",
    "- yr*: Abbreviation for 6 Dummy variable = 1 for yr1700, yr1750, yr1800, yr1850, yr1875 and yr1900\n",
    " "
   ]
  },
  {
   "cell_type": "markdown",
   "metadata": {},
   "source": [
    "![Imagen](img/Tabla3.png)"
   ]
  },
  {
   "cell_type": "markdown",
   "metadata": {},
   "source": [
    "![Imagen](img/Tabla3replica.png)"
   ]
  },
  {
   "cell_type": "markdown",
   "metadata": {},
   "source": [
    "In table 3 we can see that by 1800 the areas with more years of French presence were growing slower,and by 1850 there wasn't an statistical effect of years of French presence on the growth of urbanization. By 1900 we saw an positive effect of the French presence over the urbanization rates.\n",
    "Also we can see that for west of the Elby, we got a higher effect of the French presence, relative to all the sample, in 1850, 1875 and 1900. \n",
    "We can see that we didn't got any statisticly significant value, but this is explained by the high correlation between regressors. Thats why we have to look for the F test."
   ]
  },
  {
   "cell_type": "markdown",
   "metadata": {},
   "source": [
    "### Table 3 construcction."
   ]
  },
  {
   "cell_type": "markdown",
   "metadata": {},
   "source": [
    "For the regressions replication, we will start with regression 1 and 3. These are the regressions for the West of the Elbe and for the whole sample, both weighted. Then we will continue with regressions 2 and 4 which are the regressions for the West of the Elbe and Whole sample, both unweighted. The reason for this is because for the unweighted we need to do an extra step by dropping some years. The explanatory variables are 5 interactions between years of French presence and year."
   ]
  },
  {
   "cell_type": "code",
   "execution_count": 233,
   "metadata": {},
   "outputs": [],
   "source": [
    "import statsmodels.api as sm\n",
    "import statsmodels.formula.api as smf\n",
    "from IPython.display import Latex\n",
    "import pandas as pd\n",
    "from sklearn import linear_model\n",
    "import statsmodels.api as sm\n",
    "\n",
    "from linearmodels.panel import PanelOLS\n",
    "import statsmodels.api as sm\n",
    "import linearmodels.panel as pnl\n"
   ]
  },
  {
   "cell_type": "code",
   "execution_count": 234,
   "metadata": {},
   "outputs": [],
   "source": [
    "##First we set the database for the Panel OLS Regression.\n",
    " \n",
    "data = pd.read_stata(pathout + 'replication_dataset.dta')\n",
    "\n",
    "data['ident'] = data.id\n",
    "\n",
    "year = pd.Categorical(data.year)\n",
    "\n",
    "data = data.set_index(['id', 'year'])\n",
    "\n",
    "data['year'] = year"
   ]
  },
  {
   "cell_type": "markdown",
   "metadata": {},
   "source": [
    "#### - Regresion 1: "
   ]
  },
  {
   "cell_type": "code",
   "execution_count": 235,
   "metadata": {},
   "outputs": [],
   "source": [
    "#Now we are going to use the data avalaible only for West of the Elbe \n",
    "dwest = data.drop(data[data.westelbe == 0].index)"
   ]
  },
  {
   "cell_type": "code",
   "execution_count": 236,
   "metadata": {},
   "outputs": [],
   "source": [
    "#Setting exogenous variables.\n",
    "exog_vars = ['fpresence1750','fpresence1800','fpresence1850','fpresence1875','fpresence1900']\n",
    "\n",
    "exog = sm.add_constant(dwest[exog_vars])"
   ]
  },
  {
   "cell_type": "code",
   "execution_count": 237,
   "metadata": {},
   "outputs": [
    {
     "name": "stdout",
     "output_type": "stream",
     "text": [
      "                          PanelOLS Estimation Summary                           \n",
      "================================================================================\n",
      "Dep. Variable:                urbrate   R-squared:                        0.3759\n",
      "Estimator:                   PanelOLS   R-squared (Between):              0.0327\n",
      "No. Observations:                  74   R-squared (Within):               0.3094\n",
      "Date:                Sun, Jun 21 2020   R-squared (Overall):              0.2459\n",
      "Time:                        17:46:20   Log-likelihood                   -199.94\n",
      "Cov. Estimator:             Clustered                                           \n",
      "                                        F-statistic:                      34.165\n",
      "Entities:                          13   P-value                           0.0000\n",
      "Avg Obs:                       5.6923   Distribution:                    F(5,51)\n",
      "Min Obs:                       5.0000                                           \n",
      "Max Obs:                       6.0000   F-statistic (robust):             15.022\n",
      "                                        P-value                           0.0000\n",
      "Time periods:                       6   Distribution:                    F(5,51)\n",
      "Avg Obs:                       12.333                                           \n",
      "Min Obs:                       9.0000                                           \n",
      "Max Obs:                       13.000                                           \n",
      "                                                                                \n",
      "                               Parameter Estimates                               \n",
      "=================================================================================\n",
      "               Parameter  Std. Err.     T-stat    P-value    Lower CI    Upper CI\n",
      "---------------------------------------------------------------------------------\n",
      "const             17.726     1.3315     13.313     0.0000      15.053      20.399\n",
      "fpresence1750    -0.4910     0.2674    -1.8362     0.0722     -1.0279      0.0458\n",
      "fpresence1800    -0.2474     0.2421    -1.0223     0.3115     -0.7334      0.2385\n",
      "fpresence1850    -0.1603     0.2689    -0.5961     0.5538     -0.7002      0.3796\n",
      "fpresence1875     0.4021     0.3501     1.1486     0.2561     -0.3007      1.1050\n",
      "fpresence1900     0.6339     0.4381     1.4468     0.1541     -0.2457      1.5134\n",
      "=================================================================================\n",
      "\n",
      "F-test for Poolability: 21.487\n",
      "P-value: 0.0000\n",
      "Distribution: F(17,51)\n",
      "\n",
      "Included effects: Entity, Time\n"
     ]
    }
   ],
   "source": [
    "#We run the model with fixed effects, time effects and weighted.\n",
    "mod4 = PanelOLS(dwest.urbrate, exog, weights=dwest.totalpop1750 , entity_effects=True,time_effects=True, other_effects=None)\n",
    "\n",
    "fe_res4 = mod4.fit(cov_type='clustered', clusters=dwest.ident)\n",
    "\n",
    "print(fe_res4)"
   ]
  },
  {
   "cell_type": "markdown",
   "metadata": {},
   "source": [
    "####  - Regresion 3:"
   ]
  },
  {
   "cell_type": "code",
   "execution_count": 238,
   "metadata": {},
   "outputs": [],
   "source": [
    "#We now set the exogenous variables and run the regression\n",
    "exog_vars2 = ['fpresence1750','fpresence1800','fpresence1850','fpresence1875','fpresence1900']\n",
    "exog2 = sm.add_constant(data[exog_vars2])"
   ]
  },
  {
   "cell_type": "code",
   "execution_count": 239,
   "metadata": {},
   "outputs": [
    {
     "name": "stdout",
     "output_type": "stream",
     "text": [
      "                          PanelOLS Estimation Summary                           \n",
      "================================================================================\n",
      "Dep. Variable:                urbrate   R-squared:                        0.2261\n",
      "Estimator:                   PanelOLS   R-squared (Between):             -0.0279\n",
      "No. Observations:                 109   R-squared (Within):               0.1964\n",
      "Date:                Sun, Jun 21 2020   R-squared (Overall):              0.1382\n",
      "Time:                        17:46:22   Log-likelihood                   -308.74\n",
      "Cov. Estimator:             Clustered                                           \n",
      "                                        F-statistic:                      36.350\n",
      "Entities:                          19   P-value                           0.0000\n",
      "Avg Obs:                       5.7368   Distribution:                    F(5,80)\n",
      "Min Obs:                       5.0000                                           \n",
      "Max Obs:                       6.0000   F-statistic (robust):             6.0428\n",
      "                                        P-value                           0.0001\n",
      "Time periods:                       6   Distribution:                    F(5,80)\n",
      "Avg Obs:                       18.167                                           \n",
      "Min Obs:                       14.000                                           \n",
      "Max Obs:                       19.000                                           \n",
      "                                                                                \n",
      "                               Parameter Estimates                               \n",
      "=================================================================================\n",
      "               Parameter  Std. Err.     T-stat    P-value    Lower CI    Upper CI\n",
      "---------------------------------------------------------------------------------\n",
      "const             18.728     0.8962     20.897     0.0000      16.944      20.511\n",
      "fpresence1750    -0.4878     0.2540    -1.9204     0.0584     -0.9932      0.0177\n",
      "fpresence1800    -0.2683     0.2458    -1.0917     0.2783     -0.7575      0.2208\n",
      "fpresence1850    -0.2206     0.2698    -0.8177     0.4160     -0.7574      0.3163\n",
      "fpresence1875     0.2659     0.3281     0.8105     0.4201     -0.3870      0.9187\n",
      "fpresence1900     0.5033     0.4066     1.2379     0.2194     -0.3059      1.3125\n",
      "=================================================================================\n",
      "\n",
      "F-test for Poolability: 27.258\n",
      "P-value: 0.0000\n",
      "Distribution: F(23,80)\n",
      "\n",
      "Included effects: Entity, Time\n"
     ]
    }
   ],
   "source": [
    "mod2 = PanelOLS(data.urbrate, exog2, weights=data.totalpop1750 , entity_effects=True,time_effects=True)\n",
    "\n",
    "fe_res2 = mod2.fit(cov_type='clustered', clusters=data.ident)\n",
    "\n",
    "print(fe_res2)"
   ]
  },
  {
   "cell_type": "code",
   "execution_count": 247,
   "metadata": {},
   "outputs": [],
   "source": [
    "# We have to drop columnsyr1880 yr1885 yr1895 yr1905 yr1910 and keep year =1700, 1750, 1800, 1850, 1875,1900\n",
    "dataun = data\n",
    "\n",
    "dataun = dataun.drop('yr1880', axis=1)\n",
    "dataun = dataun.drop('yr1885', axis=1)\n",
    "dataun = dataun.drop('yr1895', axis=1)\n",
    "dataun = dataun.drop('yr1905', axis=1)\n",
    "dataun = dataun.drop('yr1910', axis=1)\n",
    "\n",
    "dataun = dataun.drop(dataun[dataun.year == 1885].index)\n",
    "dataun = dataun.drop(dataun[dataun.year == 1895].index)\n",
    "dataun = dataun.drop(dataun[dataun.year == 1880].index)\n",
    "dataun = dataun.drop(dataun[dataun.year == 1905].index)\n",
    "dataun = dataun.drop(dataun[dataun.year == 1910].index)\n"
   ]
  },
  {
   "cell_type": "markdown",
   "metadata": {},
   "source": [
    " #### - Regresion 2:"
   ]
  },
  {
   "cell_type": "code",
   "execution_count": 248,
   "metadata": {},
   "outputs": [],
   "source": [
    "unwest = dataun.drop(dataun[dataun.westelbe == 0].index)\n",
    "exog_varsunw = ['fpresence1750','fpresence1800','fpresence1850','fpresence1875','fpresence1900']\n",
    "\n",
    "exogunw = sm.add_constant(unwest[exog_varsunw])"
   ]
  },
  {
   "cell_type": "code",
   "execution_count": 249,
   "metadata": {},
   "outputs": [
    {
     "name": "stdout",
     "output_type": "stream",
     "text": [
      "                          PanelOLS Estimation Summary                           \n",
      "================================================================================\n",
      "Dep. Variable:                urbrate   R-squared:                        0.0995\n",
      "Estimator:                   PanelOLS   R-squared (Between):              0.0684\n",
      "No. Observations:                  74   R-squared (Within):               0.1958\n",
      "Date:                Sun, Jun 21 2020   R-squared (Overall):              0.1667\n",
      "Time:                        17:49:06   Log-likelihood                   -225.10\n",
      "Cov. Estimator:             Clustered                                           \n",
      "                                        F-statistic:                      1.1271\n",
      "Entities:                          13   P-value                           0.3580\n",
      "Avg Obs:                       5.6923   Distribution:                    F(5,51)\n",
      "Min Obs:                       5.0000                                           \n",
      "Max Obs:                       6.0000   F-statistic (robust):             8.0912\n",
      "                                        P-value                           0.0000\n",
      "Time periods:                       6   Distribution:                    F(5,51)\n",
      "Avg Obs:                       12.333                                           \n",
      "Min Obs:                       9.0000                                           \n",
      "Max Obs:                       13.000                                           \n",
      "                                                                                \n",
      "                               Parameter Estimates                               \n",
      "=================================================================================\n",
      "               Parameter  Std. Err.     T-stat    P-value    Lower CI    Upper CI\n",
      "---------------------------------------------------------------------------------\n",
      "const             16.704     0.8591     19.443     0.0000      14.980      18.429\n",
      "fpresence1750    -0.2517     0.1853    -1.3583     0.1803     -0.6238      0.1203\n",
      "fpresence1800    -0.0425     0.1650    -0.2579     0.7975     -0.3737      0.2887\n",
      "fpresence1850     0.0332     0.1650     0.2011     0.8414     -0.2981      0.3645\n",
      "fpresence1875     0.3540     0.3171     1.1164     0.2695     -0.2826      0.9907\n",
      "fpresence1900     0.5289     0.4316     1.2253     0.2261     -0.3377      1.3955\n",
      "=================================================================================\n",
      "\n",
      "F-test for Poolability: 12.300\n",
      "P-value: 0.0000\n",
      "Distribution: F(17,51)\n",
      "\n",
      "Included effects: Entity, Time\n"
     ]
    }
   ],
   "source": [
    "#Here you can notice weights = None\n",
    "mod0 = PanelOLS(unwest.urbrate, exogunw, weights=None , entity_effects=True,time_effects=True)\n",
    "\n",
    "fe_res0 = mod0.fit(cov_type='clustered', clusters=unwest.ident)\n",
    "\n",
    "print(fe_res0)"
   ]
  },
  {
   "cell_type": "markdown",
   "metadata": {},
   "source": [
    "####  - Regresion 4: "
   ]
  },
  {
   "cell_type": "code",
   "execution_count": 250,
   "metadata": {},
   "outputs": [],
   "source": [
    "exog_varsun = ['fpresence1750','fpresence1800','fpresence1850','fpresence1875','fpresence1900']\n",
    "\n",
    "exogun = sm.add_constant(dataun[exog_varsun])"
   ]
  },
  {
   "cell_type": "code",
   "execution_count": 253,
   "metadata": {},
   "outputs": [
    {
     "name": "stdout",
     "output_type": "stream",
     "text": [
      "                          PanelOLS Estimation Summary                           \n",
      "================================================================================\n",
      "Dep. Variable:                urbrate   R-squared:                        0.0702\n",
      "Estimator:                   PanelOLS   R-squared (Between):              0.0294\n",
      "No. Observations:                 109   R-squared (Within):               0.1281\n",
      "Date:                Sun, Jun 21 2020   R-squared (Overall):              0.1030\n",
      "Time:                        17:49:40   Log-likelihood                   -329.94\n",
      "Cov. Estimator:             Clustered                                           \n",
      "                                        F-statistic:                      1.2085\n",
      "Entities:                          19   P-value                           0.3128\n",
      "Avg Obs:                       5.7368   Distribution:                    F(5,80)\n",
      "Min Obs:                       5.0000                                           \n",
      "Max Obs:                       6.0000   F-statistic (robust):             2.2659\n",
      "                                        P-value                           0.0557\n",
      "Time periods:                       6   Distribution:                    F(5,80)\n",
      "Avg Obs:                       18.167                                           \n",
      "Min Obs:                       14.000                                           \n",
      "Max Obs:                       19.000                                           \n",
      "                                                                                \n",
      "                               Parameter Estimates                               \n",
      "=================================================================================\n",
      "               Parameter  Std. Err.     T-stat    P-value    Lower CI    Upper CI\n",
      "---------------------------------------------------------------------------------\n",
      "const             17.424     0.6774     25.722     0.0000      16.076      18.772\n",
      "fpresence1750    -0.1973     0.1772    -1.1139     0.2686     -0.5499      0.1552\n",
      "fpresence1800    -0.0471     0.1931    -0.2438     0.8080     -0.4313      0.3372\n",
      "fpresence1850    -0.0235     0.1962    -0.1197     0.9050     -0.4139      0.3669\n",
      "fpresence1875     0.2524     0.3238     0.7796     0.4379     -0.3919      0.8967\n",
      "fpresence1900     0.5060     0.4577     1.1054     0.2723     -0.4050      1.4169\n",
      "=================================================================================\n",
      "\n",
      "F-test for Poolability: 18.427\n",
      "P-value: 0.0000\n",
      "Distribution: F(23,80)\n",
      "\n",
      "Included effects: Entity, Time\n"
     ]
    }
   ],
   "source": [
    "mod1 = PanelOLS(dataun.urbrate, exogun, weights=None , entity_effects=True,time_effects=True)\n",
    "\n",
    "fe_res1 = mod1.fit(cov_type='clustered', clusters=dataun.ident)\n",
    "\n",
    "print(fe_res1)"
   ]
  },
  {
   "cell_type": "code",
   "execution_count": 254,
   "metadata": {},
   "outputs": [],
   "source": [
    "#Now we are going to export the regressions\n",
    "import statsmodels.api as sm\n",
    "import linearmodels as ln\n",
    "from pystout import pystout"
   ]
  },
  {
   "cell_type": "code",
   "execution_count": 255,
   "metadata": {},
   "outputs": [],
   "source": [
    "#For making the tables I use pystout. It will creat a file .tex that I will put into latex and then bring here the table\n",
    "pystout(models=[fe_res4,fe_res0,fe_res2,fe_res1],\n",
    "        file='tabla2.tex',\n",
    "        addnotes=['Weighted by total population in 1750.' ,'*$p < 0.1$ , ** $p < 0.05$ , *** $p < 0.01$',\n",
    "                  'Standar errors in parentheses.'],\n",
    "        digits=3,\n",
    "        endog_names=['Weighted','Unweighted','Weighted','Unweighted'],\n",
    "        varlabels={'const':'Constant','displacement':'Disp','mpg':'MPG'},\n",
    "        \n",
    "        mgroups={'West of the Elbe':[1,2],'All':[3,4]},\n",
    "        modstat={'nobs':'Obs','rsquared':'R\\sym{2}','fvalue':'F-stat'},\n",
    "        stars={.1:'*',.05:'**',.01:'***'}\n",
    "        )"
   ]
  },
  {
   "cell_type": "markdown",
   "metadata": {},
   "source": [
    "## Table 4 - Urbanization In Germany, Controls.\n"
   ]
  },
  {
   "cell_type": "markdown",
   "metadata": {},
   "source": [
    "Table 4 contains 8 regresions:\n",
    "#### - Regresion 1: \n",
    "\n",
    "$ Urbrate = \\alpha_{1}fpresence1750 + \\alpha_{2}fpresence1800 + \\alpha_{3}fpresence1850 + \\alpha_{4}fpresence1875 + \\alpha_{5}fpresence1900 +\\beta_{1}yr $\n",
    "\n",
    " \n",
    "For the West of Elbe withour Mark, weighted by total population in 1750 and clustered.\n",
    " \n",
    " #### - Regresion 2:\n",
    " $ Urbrate = \\alpha_{1}fpresence1750 + \\alpha_{2}fpresence1800 + \\alpha{3}fpresence1850 + \\alpha_{4}fpresence1875 + \\alpha_{5}fpresence1900 +\\beta_{1}yr +\\beta_{2}protestant1 $\n",
    " \n",
    "For the West of Elbe, weighted by total population in 1750 and clustered.\n",
    " \n",
    " \n",
    "####  - Regresion 3:\n",
    "\n",
    "$ Urbrate = \\alpha_{1}fpresence1750 + \\alpha_{2}fpresence1800 + \\alpha_{3}fpresence1850 + \\alpha_{4}fpresence1875 + \\alpha_{5}fpresence1900 +\\beta_{1}yr +\\beta_{2}latitude1$\n",
    "\n",
    "For the West of Elbe, weighted by total population in 1750 and clustered.\n",
    " \n",
    "####  - Regresion 4: \n",
    "$ Urbrate = \\alpha_{1}fpresence1750 + \\alpha_{2}fpresence1800 + \\alpha_{3}fpresence1850 + \\alpha_{4}fpresence1875 + \\alpha_{5}fpresence1900 +\\beta_{1}yr +\\beta_{2}longitude1 $\n",
    "\n",
    "For the West of Elbe, weighted by total population in 1750 and clustered.\n",
    "\n",
    "####  - Regresion 5: \n",
    "$ Urbrate = \\alpha_{1}fpresence1750 + \\alpha_{2}fpresence1800 + \\alpha_{3}fpresence1850 + \\alpha_{4}fpresence1875 + \\alpha_{5}fpresence1900 +\\beta_{1}yr +\\beta_{2}distpa1 $\n",
    "\n",
    "For the West of Elbe, weighted by total population in 1750 and clustered.\n",
    "\n",
    "\n",
    "####  - Regresion 6: \n",
    "$ Urbrate = \\alpha_{1}fpresence1750 + \\alpha_{2}fpresence1800 + \\alpha_{3}fpresence1850 + \\alpha_{4}fpresence1875 + \\alpha_{5}fpresence1900 +\\beta_{1}yr +\\beta_{2}territories1 $\n",
    "\n",
    "For the West of Elbe, weighted by total population in 1750 and clustered.\n",
    "\n",
    "####  - Regresion 7: \n",
    "$ Urbrate = \\alpha_{1}fpresence1750 + \\alpha_{2}fpresence1800 + \\alpha_{3}fpresence1850 + \\alpha_{4}fpresence1875 + \\alpha_{5}fpresence1900 +\\beta_{1}yr +\\beta_{2}urbanization17501 $\n",
    "\n",
    "For the West of Elbe, weighted by total population in 1750 and clustered.\n",
    "\n",
    "####  - Regresion 8: \n",
    "$ Urbrate = \\alpha_{1}fpresence1750 + \\alpha_{2}fpresence1800 + \\alpha_{3}fpresence1850 + \\alpha_{4}fpresence1875 + \\alpha_{5}fpresence1900 +\\beta_{1}yr, $  robust noleveleq\n",
    "\n",
    "For the West of Elbe, weighted by total population in 1750 and clustered.\n",
    "\n",
    "Where:\n",
    "\n",
    "- Urbrate: (urban population /total population) *100\n",
    "- fpresence1750: Is an interacction between fpresence and yr1750\n",
    "- fpresence1800: Is an interacction between fpresence and yr1800\n",
    "- fpresence1850: Is an interacction between fpresence and yr1850\n",
    "- fpresence1875: Is an interacction between fpresence and yr1875\n",
    "- fpresence1900: Is an interacction between fpresence and yr1900\n",
    "- yr*: Abbreviation for 6 Dummy variable = 1 for yr1700, yr1750, yr1800, yr1850, yr1875 and yr1900\n",
    "- protestant1* Abbreviation for the interacction between protestant and yrt, for t = 1750, 1800, 1850, 1875 and 1900\n",
    "- latitude1* Abbreviation for the interacction between latitude and yrt, for t = 1750, 1800, 1850, 1875 and 1900\n",
    "- longitude* Abbreviation for the interacction between longitude and yrt, for t = 1750, 1800, 1850, 1875 and 1900\n",
    "- distpa* Abbreviation for the interacction between distpa and yrt, for t = 1750, 1800, 1850, 1875 and 1900\n",
    "- territories* Abbreviation for the interacction between territories and yrt, for t = 1750, 1800, 1850, 1875 and 1900\n",
    "- urbanization1750* Abbreviation for the interacction between urbanization1750 and yrt, for t = 1800, 1850, 1875 and 1900\n",
    "\n"
   ]
  },
  {
   "cell_type": "markdown",
   "metadata": {},
   "source": [
    "![Imagen](img/Tabla4.png)"
   ]
  },
  {
   "cell_type": "markdown",
   "metadata": {},
   "source": [
    "![Imagen](img/Tabla4replica.png)"
   ]
  },
  {
   "cell_type": "markdown",
   "metadata": {},
   "source": [
    "Table 4 looks to control for robustness. We can see that the authors control for many geographic characteristics and some others like protestant rates or excluding Mark.\n",
    "The authors drop Mark since the presence of coal might have created a differential growth advantage, but as we can see, the results remain almost the same.\n",
    "Columns 2 - 6 controls for time invariant characteristics, and column 7, tries to control for any mean reversion effects or preexisting trends. The reason of this is because the presence of negative point estimates for 1750 and 1800. All results remained very similar to the baseline regressions.\n",
    "In conclusion there is no evidence of preexisting trends favoring areas subsequently occupied by the French. "
   ]
  },
  {
   "cell_type": "markdown",
   "metadata": {},
   "source": [
    "### Table 4 construcction"
   ]
  },
  {
   "cell_type": "markdown",
   "metadata": {},
   "source": [
    "For table 4 we will add different controls to test robustness. As you saw at the beginning of the section, all the regressions will be made for West of the Elbe, and weighted by the total population in 1750.\n",
    "The model will remain the same in all regressions. We will just change the exogenous variables and in regression 1, the sample by excluding Mark."
   ]
  },
  {
   "cell_type": "markdown",
   "metadata": {},
   "source": [
    "#### Regresion 1: \n"
   ]
  },
  {
   "cell_type": "code",
   "execution_count": 257,
   "metadata": {},
   "outputs": [],
   "source": [
    "# Keep the values for Mark\n",
    "datat2 = pd.read_stata(pathout + 'replication_dataset.dta')\n",
    "datat2 = datat2.drop(datat2[datat2.westelbe == 0].index)\n",
    "datat2 = datat2.drop(datat2[datat2.id == 2].index)\n",
    "datat2['ident'] = datat2.id"
   ]
  },
  {
   "cell_type": "code",
   "execution_count": 258,
   "metadata": {},
   "outputs": [],
   "source": [
    "#Setting the dataframe for panel regression\n",
    "year = pd.Categorical(datat2.year)\n",
    "datat2 = datat2.set_index(['id', 'year'])\n",
    "datat2['year'] = year\n"
   ]
  },
  {
   "cell_type": "code",
   "execution_count": 259,
   "metadata": {},
   "outputs": [],
   "source": [
    "#Setting exogenous variables\n",
    "exog_varst = ['fpresence1750','fpresence1800','fpresence1850','fpresence1875','fpresence1900']\n",
    "\n",
    "exogt2 = sm.add_constant(datat2[exog_varst])"
   ]
  },
  {
   "cell_type": "code",
   "execution_count": 261,
   "metadata": {},
   "outputs": [
    {
     "name": "stdout",
     "output_type": "stream",
     "text": [
      "                          PanelOLS Estimation Summary                           \n",
      "================================================================================\n",
      "Dep. Variable:                urbrate   R-squared:                        0.4455\n",
      "Estimator:                   PanelOLS   R-squared (Between):             -0.0644\n",
      "No. Observations:                  68   R-squared (Within):               0.3168\n",
      "Date:                Sun, Jun 21 2020   R-squared (Overall):              0.2262\n",
      "Time:                        17:54:16   Log-likelihood                   -174.11\n",
      "Cov. Estimator:             Clustered                                           \n",
      "                                        F-statistic:                      34.846\n",
      "Entities:                          12   P-value                           0.0000\n",
      "Avg Obs:                       5.6667   Distribution:                    F(5,46)\n",
      "Min Obs:                       5.0000                                           \n",
      "Max Obs:                       6.0000   F-statistic (robust):             16.409\n",
      "                                        P-value                           0.0000\n",
      "Time periods:                       6   Distribution:                    F(5,46)\n",
      "Avg Obs:                       11.333                                           \n",
      "Min Obs:                       8.0000                                           \n",
      "Max Obs:                       12.000                                           \n",
      "                                                                                \n",
      "                               Parameter Estimates                               \n",
      "=================================================================================\n",
      "               Parameter  Std. Err.     T-stat    P-value    Lower CI    Upper CI\n",
      "---------------------------------------------------------------------------------\n",
      "const             17.930     1.3804     12.989     0.0000      15.151      20.709\n",
      "fpresence1750    -0.5646     0.3022    -1.8685     0.0681     -1.1729      0.0436\n",
      "fpresence1800    -0.3238     0.2671    -1.2122     0.2316     -0.8616      0.2139\n",
      "fpresence1850    -0.2352     0.2955    -0.7959     0.4302     -0.8300      0.3596\n",
      "fpresence1875     0.3240     0.3481     0.9308     0.3568     -0.3767      1.0247\n",
      "fpresence1900     0.5518     0.4412     1.2507     0.2174     -0.3363      1.4398\n",
      "=================================================================================\n",
      "\n",
      "F-test for Poolability: 26.391\n",
      "P-value: 0.0000\n",
      "Distribution: F(16,46)\n",
      "\n",
      "Included effects: Entity, Time\n"
     ]
    }
   ],
   "source": [
    "#Here we make the panel regression, weighted, with feixed and time effects.\n",
    "mod41 = PanelOLS(datat2.urbrate, exogt2, weights=datat2.totalpop1750 , entity_effects=True,time_effects=True, other_effects=None)\n",
    "reg1 = mod41.fit(cov_type='clustered', clusters=datat2.ident)\n",
    "print(reg1)\n"
   ]
  },
  {
   "cell_type": "markdown",
   "metadata": {},
   "source": [
    " #### Regresion 2:\n"
   ]
  },
  {
   "cell_type": "code",
   "execution_count": 262,
   "metadata": {},
   "outputs": [],
   "source": [
    "#As you will notide, table 4 is for west of the Elby, so you will se that i will drop the data for westelbe = 0\n",
    "#Also we have to set year and id as index, since we are doing panel ols\n",
    "data3 = pd.read_stata(pathout + 'replication_dataset.dta')\n",
    "\n",
    "data3 = data3.drop(data3[data3.westelbe == 0].index)\n",
    "data3['ident']=data3.id\n",
    "year = pd.Categorical(data3.year)\n",
    "data3 = data3.set_index(['id', 'year'])\n",
    "data3['year'] = year\n"
   ]
  },
  {
   "cell_type": "code",
   "execution_count": 263,
   "metadata": {},
   "outputs": [],
   "source": [
    "#Setting exogenous variables and adding a constant.\n",
    "exog_prot = ['fpresence1750','fpresence1800','fpresence1850','fpresence1875','fpresence1900','protestant1750','protestant1800','protestant1850',\n",
    "              'protestant1875','protestant1900']\n",
    "\n",
    "exogprot = sm.add_constant(data3[exog_prot])"
   ]
  },
  {
   "cell_type": "code",
   "execution_count": 265,
   "metadata": {},
   "outputs": [
    {
     "name": "stdout",
     "output_type": "stream",
     "text": [
      "                          PanelOLS Estimation Summary                           \n",
      "================================================================================\n",
      "Dep. Variable:                urbrate   R-squared:                        0.3939\n",
      "Estimator:                   PanelOLS   R-squared (Between):             -0.0568\n",
      "No. Observations:                  74   R-squared (Within):               0.3805\n",
      "Date:                Sun, Jun 21 2020   R-squared (Overall):              0.2801\n",
      "Time:                        17:55:05   Log-likelihood                   -198.86\n",
      "Cov. Estimator:             Clustered                                           \n",
      "                                        F-statistic:                      16.003\n",
      "Entities:                          13   P-value                           0.0000\n",
      "Avg Obs:                       5.6923   Distribution:                   F(10,46)\n",
      "Min Obs:                       5.0000                                           \n",
      "Max Obs:                       6.0000   F-statistic (robust):             91.553\n",
      "                                        P-value                           0.0000\n",
      "Time periods:                       6   Distribution:                   F(10,46)\n",
      "Avg Obs:                       12.333                                           \n",
      "Min Obs:                       9.0000                                           \n",
      "Max Obs:                       13.000                                           \n",
      "                                                                                \n",
      "                               Parameter Estimates                                \n",
      "==================================================================================\n",
      "                Parameter  Std. Err.     T-stat    P-value    Lower CI    Upper CI\n",
      "----------------------------------------------------------------------------------\n",
      "const              15.463     1.4384     10.750     0.0000      12.568      18.358\n",
      "fpresence1750     -0.5472     0.3343    -1.6371     0.1084     -1.2201      0.1256\n",
      "fpresence1800     -0.3362     0.3209    -1.0478     0.3002     -0.9821      0.3096\n",
      "fpresence1850     -0.2292     0.3369    -0.6801     0.4998     -0.9073      0.4490\n",
      "fpresence1875      0.3532     0.3393     1.0410     0.3033     -0.3298      1.0362\n",
      "fpresence1900      0.5734     0.4024     1.4250     0.1609     -0.2366      1.3835\n",
      "protestant1750     5.6376     1.5965     3.5312     0.0010      2.4240      8.8513\n",
      "protestant1800     3.3537     1.1294     2.9694     0.0047      1.0803      5.6271\n",
      "protestant1850     4.7500     2.9141     1.6300     0.1099     -1.1158      10.616\n",
      "protestant1875     6.1476     5.7828     1.0631     0.2933     -5.4926      17.788\n",
      "protestant1900     5.3416     8.7428     0.6110     0.5442     -12.257      22.940\n",
      "==================================================================================\n",
      "\n",
      "F-test for Poolability: 9.2036\n",
      "P-value: 0.0000\n",
      "Distribution: F(17,46)\n",
      "\n",
      "Included effects: Entity, Time\n"
     ]
    }
   ],
   "source": [
    "#We run the regression for panel ols with fixed and time efects. Also weighted.\n",
    "mod42 = PanelOLS(data3.urbrate, exogprot, weights=data3.totalpop1750 , entity_effects=True,time_effects=True, other_effects=None)\n",
    "\n",
    "reg2 = mod42.fit(cov_type='clustered', clusters=data3.ident)\n",
    "\n",
    "print(reg2)"
   ]
  },
  {
   "cell_type": "markdown",
   "metadata": {},
   "source": [
    "####  Regresion 3:\n"
   ]
  },
  {
   "cell_type": "code",
   "execution_count": 267,
   "metadata": {},
   "outputs": [
    {
     "name": "stdout",
     "output_type": "stream",
     "text": [
      "                          PanelOLS Estimation Summary                           \n",
      "================================================================================\n",
      "Dep. Variable:                urbrate   R-squared:                        0.3890\n",
      "Estimator:                   PanelOLS   R-squared (Between):              0.2010\n",
      "No. Observations:                  74   R-squared (Within):               0.0100\n",
      "Date:                Sun, Jun 21 2020   R-squared (Overall):              0.0538\n",
      "Time:                        17:55:19   Log-likelihood                   -199.15\n",
      "Cov. Estimator:             Clustered                                           \n",
      "                                        F-statistic:                      15.839\n",
      "Entities:                          13   P-value                           0.0000\n",
      "Avg Obs:                       5.6923   Distribution:                   F(10,46)\n",
      "Min Obs:                       5.0000                                           \n",
      "Max Obs:                       6.0000   F-statistic (robust):             32.749\n",
      "                                        P-value                           0.0000\n",
      "Time periods:                       6   Distribution:                   F(10,46)\n",
      "Avg Obs:                       12.333                                           \n",
      "Min Obs:                       9.0000                                           \n",
      "Max Obs:                       13.000                                           \n",
      "                                                                                \n",
      "                               Parameter Estimates                               \n",
      "=================================================================================\n",
      "               Parameter  Std. Err.     T-stat    P-value    Lower CI    Upper CI\n",
      "---------------------------------------------------------------------------------\n",
      "const            -22.703     34.533    -0.6574     0.5142     -92.214      46.808\n",
      "fpresence1750    -0.5997     0.3863    -1.5525     0.1274     -1.3773      0.1779\n",
      "fpresence1800    -0.3564     0.3522    -1.0121     0.3168     -1.0654      0.3525\n",
      "fpresence1850    -0.2613     0.3862    -0.6767     0.5020     -1.0386      0.5160\n",
      "fpresence1875     0.2920     0.4067     0.7179     0.4765     -0.5267      1.1107\n",
      "fpresence1900     0.5120     0.4899     1.0450     0.3015     -0.4742      1.4981\n",
      "latitude1750      0.8846     0.6110     1.4477     0.1545     -0.3453      2.1145\n",
      "latitude1800      0.8923     0.5163     1.7283     0.0906     -0.1469      1.9315\n",
      "latitude1850      0.6777     0.7022     0.9651     0.3395     -0.7358      2.0912\n",
      "latitude1875      0.9225     1.1098     0.8312     0.4101     -1.3114      3.1563\n",
      "latitude1900      1.2384     1.6790     0.7376     0.4645     -2.1412      4.6181\n",
      "=================================================================================\n",
      "\n",
      "F-test for Poolability: 6.1273\n",
      "P-value: 0.0000\n",
      "Distribution: F(17,46)\n",
      "\n",
      "Included effects: Entity, Time\n"
     ]
    }
   ],
   "source": [
    "#We will keep using data3, but the exogenous variables change for latitude. The regression settings keep the same\n",
    "exog_lat = ['fpresence1750','fpresence1800','fpresence1850','fpresence1875','fpresence1900',\n",
    "            'latitude1750','latitude1800','latitude1850',\n",
    "             'latitude1875', 'latitude1900']\n",
    "\n",
    "exoglat = sm.add_constant(data3[exog_lat])\n",
    "\n",
    "mod43 = PanelOLS(data3.urbrate, exoglat, weights=data3.totalpop1750 , entity_effects=True,time_effects=True, other_effects=None)\n",
    "\n",
    "reg3 = mod43.fit(cov_type='clustered', clusters=data3.ident)\n",
    "\n",
    "print(reg3)\n"
   ]
  },
  {
   "cell_type": "markdown",
   "metadata": {},
   "source": [
    "####  Regresion 4: \n"
   ]
  },
  {
   "cell_type": "code",
   "execution_count": 268,
   "metadata": {},
   "outputs": [
    {
     "name": "stdout",
     "output_type": "stream",
     "text": [
      "                          PanelOLS Estimation Summary                           \n",
      "================================================================================\n",
      "Dep. Variable:                urbrate   R-squared:                        0.4299\n",
      "Estimator:                   PanelOLS   R-squared (Between):              0.2583\n",
      "No. Observations:                  74   R-squared (Within):               0.7541\n",
      "Date:                Sun, Jun 21 2020   R-squared (Overall):              0.6403\n",
      "Time:                        17:55:29   Log-likelihood                   -196.59\n",
      "Cov. Estimator:             Clustered                                           \n",
      "                                        F-statistic:                      17.304\n",
      "Entities:                          13   P-value                           0.0000\n",
      "Avg Obs:                       5.6923   Distribution:                   F(10,46)\n",
      "Min Obs:                       5.0000                                           \n",
      "Max Obs:                       6.0000   F-statistic (robust):             30.408\n",
      "                                        P-value                           0.0000\n",
      "Time periods:                       6   Distribution:                   F(10,46)\n",
      "Avg Obs:                       12.333                                           \n",
      "Min Obs:                       9.0000                                           \n",
      "Max Obs:                       13.000                                           \n",
      "                                                                                \n",
      "                               Parameter Estimates                               \n",
      "=================================================================================\n",
      "               Parameter  Std. Err.     T-stat    P-value    Lower CI    Upper CI\n",
      "---------------------------------------------------------------------------------\n",
      "const             8.8817     9.6583     0.9196     0.3626     -10.559      28.323\n",
      "fpresence1750    -0.4350     0.2656    -1.6380     0.1082     -0.9695      0.0996\n",
      "fpresence1800    -0.2558     0.2332    -1.0967     0.2785     -0.7252      0.2136\n",
      "fpresence1850     0.0182     0.2286     0.0797     0.9368     -0.4419      0.4783\n",
      "fpresence1875     0.6226     0.2717     2.2913     0.0266      0.0757      1.1695\n",
      "fpresence1900     0.8927     0.3490     2.5582     0.0139      0.1903      1.5951\n",
      "longitude1750     0.4192     0.4844     0.8654     0.3913     -0.5558      1.3942\n",
      "longitude1800     0.0251     0.5662     0.0443     0.9649     -1.1147      1.1648\n",
      "longitude1850     1.1693     0.5856     1.9966     0.0518     -0.0095      2.3481\n",
      "longitude1875     1.4263     1.6253     0.8775     0.3848     -1.8453      4.6979\n",
      "longitude1900     1.6614     2.4553     0.6766     0.5020     -3.2810      6.6037\n",
      "=================================================================================\n",
      "\n",
      "F-test for Poolability: 4.8372\n",
      "P-value: 0.0000\n",
      "Distribution: F(17,46)\n",
      "\n",
      "Included effects: Entity, Time\n"
     ]
    }
   ],
   "source": [
    "#We will keep using data3, but changing exogenous variables to longitud and year interacctions. \n",
    "#The regression settings remain the same\n",
    "\n",
    "exog_long = ['fpresence1750','fpresence1800','fpresence1850','fpresence1875','fpresence1900',\n",
    "            'longitude1750','longitude1800','longitude1850',\n",
    "             'longitude1875', 'longitude1900']\n",
    "\n",
    "exoglong = sm.add_constant(data3[exog_long])\n",
    "\n",
    "mod44 = PanelOLS(data3.urbrate, exoglong, weights=data3.totalpop1750 , entity_effects=True,time_effects=True, other_effects=None)\n",
    "\n",
    "reg4 = mod44.fit(cov_type='clustered', clusters=data3.ident)\n",
    "\n",
    "print(reg4)\n",
    "\n"
   ]
  },
  {
   "cell_type": "markdown",
   "metadata": {},
   "source": [
    "####  Regresion 5: \n"
   ]
  },
  {
   "cell_type": "code",
   "execution_count": 55,
   "metadata": {},
   "outputs": [],
   "source": [
    "#We will keep using data3, but changing exogenous variables to distance to paris and year interacctions. \n",
    "#The regression settings remain the same\n",
    "\n",
    "exog_dist = ['fpresence1750','fpresence1800','fpresence1850','fpresence1875','fpresence1900',\n",
    "            'distpa1750','distpa1800','distpa1850',\n",
    "             'distpa1875', 'distpa1900']\n"
   ]
  },
  {
   "cell_type": "code",
   "execution_count": 269,
   "metadata": {},
   "outputs": [
    {
     "name": "stdout",
     "output_type": "stream",
     "text": [
      "                          PanelOLS Estimation Summary                           \n",
      "================================================================================\n",
      "Dep. Variable:                urbrate   R-squared:                        0.4138\n",
      "Estimator:                   PanelOLS   R-squared (Between):              0.2003\n",
      "No. Observations:                  74   R-squared (Within):               0.6900\n",
      "Date:                Sun, Jun 21 2020   R-squared (Overall):              0.5777\n",
      "Time:                        17:55:41   Log-likelihood                   -197.62\n",
      "Cov. Estimator:             Clustered                                           \n",
      "                                        F-statistic:                      16.702\n",
      "Entities:                          13   P-value                           0.0000\n",
      "Avg Obs:                       5.6923   Distribution:                   F(10,46)\n",
      "Min Obs:                       5.0000                                           \n",
      "Max Obs:                       6.0000   F-statistic (robust):             98.981\n",
      "                                        P-value                           0.0000\n",
      "Time periods:                       6   Distribution:                   F(10,46)\n",
      "Avg Obs:                       12.333                                           \n",
      "Min Obs:                       9.0000                                           \n",
      "Max Obs:                       13.000                                           \n",
      "                                                                                \n",
      "                               Parameter Estimates                               \n",
      "=================================================================================\n",
      "               Parameter  Std. Err.     T-stat    P-value    Lower CI    Upper CI\n",
      "---------------------------------------------------------------------------------\n",
      "const             10.337     7.1615     1.4433     0.1557     -4.0788      24.752\n",
      "fpresence1750    -0.4464     0.3016    -1.4799     0.1457     -1.0535      0.1608\n",
      "fpresence1800    -0.2441     0.2695    -0.9059     0.3697     -0.7866      0.2983\n",
      "fpresence1850    -0.0269     0.2626    -0.1024     0.9189     -0.5554      0.5016\n",
      "fpresence1875     0.5610     0.2939     1.9091     0.0625     -0.0305      1.1525\n",
      "fpresence1900     0.8363     0.3533     2.3670     0.0222      0.1251      1.5474\n",
      "distpa1750        0.0076     0.0061     1.2472     0.2186     -0.0047      0.0199\n",
      "distpa1800        0.0040     0.0056     0.7143     0.4786     -0.0072      0.0152\n",
      "distpa1850        0.0154     0.0077     2.0018     0.0512  -8.554e-05      0.0308\n",
      "distpa1875        0.0176     0.0212     0.8321     0.4096     -0.0250      0.0602\n",
      "distpa1900        0.0214     0.0310     0.6903     0.4935     -0.0410      0.0839\n",
      "=================================================================================\n",
      "\n",
      "F-test for Poolability: 4.8345\n",
      "P-value: 0.0000\n",
      "Distribution: F(17,46)\n",
      "\n",
      "Included effects: Entity, Time\n"
     ]
    }
   ],
   "source": [
    "\n",
    "exogdist = sm.add_constant(data3[exog_dist])\n",
    "\n",
    "mod45 = PanelOLS(data3.urbrate, exogdist, weights=data3.totalpop1750 , entity_effects=True,time_effects=True, other_effects=None)\n",
    "\n",
    "reg5 = mod45.fit(cov_type='clustered', clusters=data3.ident)\n",
    "\n",
    "print(reg5)"
   ]
  },
  {
   "cell_type": "markdown",
   "metadata": {},
   "source": [
    "#### Regresion 6: \n"
   ]
  },
  {
   "cell_type": "code",
   "execution_count": 270,
   "metadata": {},
   "outputs": [],
   "source": [
    "#We will keep using data3, but changing exogenous variables to territories and year interacctions. \n",
    "#The regression settings remain the same\n",
    "\n",
    "exog_terr = ['fpresence1750','fpresence1800','fpresence1850','fpresence1875','fpresence1900',\n",
    "            'territories1850','territories1875', 'territories1900']\n",
    "exogterr = sm.add_constant(data3[exog_terr])"
   ]
  },
  {
   "cell_type": "code",
   "execution_count": 271,
   "metadata": {},
   "outputs": [
    {
     "name": "stdout",
     "output_type": "stream",
     "text": [
      "                          PanelOLS Estimation Summary                           \n",
      "================================================================================\n",
      "Dep. Variable:                urbrate   R-squared:                        0.3848\n",
      "Estimator:                   PanelOLS   R-squared (Between):             -0.0098\n",
      "No. Observations:                  74   R-squared (Within):               0.2890\n",
      "Date:                Sun, Jun 21 2020   R-squared (Overall):              0.2204\n",
      "Time:                        17:55:53   Log-likelihood                   -199.41\n",
      "Cov. Estimator:             Clustered                                           \n",
      "                                        F-statistic:                      20.476\n",
      "Entities:                          13   P-value                           0.0000\n",
      "Avg Obs:                       5.6923   Distribution:                    F(8,48)\n",
      "Min Obs:                       5.0000                                           \n",
      "Max Obs:                       6.0000   F-statistic (robust):             45.010\n",
      "                                        P-value                           0.0000\n",
      "Time periods:                       6   Distribution:                    F(8,48)\n",
      "Avg Obs:                       12.333                                           \n",
      "Min Obs:                       9.0000                                           \n",
      "Max Obs:                       13.000                                           \n",
      "                                                                                \n",
      "                                Parameter Estimates                                \n",
      "===================================================================================\n",
      "                 Parameter  Std. Err.     T-stat    P-value    Lower CI    Upper CI\n",
      "-----------------------------------------------------------------------------------\n",
      "const               18.203     2.0142     9.0372     0.0000      14.153      22.252\n",
      "fpresence1750      -0.5315     0.3180    -1.6711     0.1012     -1.1709      0.1080\n",
      "fpresence1800      -0.2879     0.2851    -1.0099     0.3176     -0.8610      0.2853\n",
      "fpresence1850      -0.1140     0.2775    -0.4107     0.6831     -0.6719      0.4439\n",
      "fpresence1875       0.3741     0.3295     1.1353     0.2619     -0.2885      1.0367\n",
      "fpresence1900       0.6560     0.4136     1.5859     0.1193     -0.1757      1.4876\n",
      "territories1850    -0.0681     0.0310    -2.2004     0.0326     -0.1304     -0.0059\n",
      "territories1875    -0.0098     0.0968    -0.1009     0.9200     -0.2043      0.1848\n",
      "territories1900    -0.0491     0.1543    -0.3183     0.7516     -0.3593      0.2611\n",
      "===================================================================================\n",
      "\n",
      "F-test for Poolability: 18.192\n",
      "P-value: 0.0000\n",
      "Distribution: F(17,48)\n",
      "\n",
      "Included effects: Entity, Time\n"
     ]
    }
   ],
   "source": [
    "\n",
    "mod46 = PanelOLS(data3.urbrate, exogterr, weights=data3.totalpop1750 , entity_effects=True,time_effects=True, other_effects=None)\n",
    "\n",
    "reg6 = mod46.fit(cov_type='clustered', clusters=data3.ident)\n",
    "\n",
    "print(reg6)"
   ]
  },
  {
   "cell_type": "markdown",
   "metadata": {},
   "source": [
    "#### Regresion 7: \n"
   ]
  },
  {
   "cell_type": "code",
   "execution_count": 59,
   "metadata": {},
   "outputs": [],
   "source": [
    "#Regresion 7\n",
    "#We will keep using data3, but changing exogenous variables to urbanization rates in 1750 and year interacctions. \n",
    "#The regression settings remain the same\n",
    "\n",
    "exog_urb = ['fpresence1750','fpresence1800','fpresence1850','fpresence1875','fpresence1900',\n",
    "            'urbanization17501800','urbanization17501850','urbanization17501875', 'urbanization17501900']\n",
    "exogurb = sm.add_constant(data3[exog_urb])"
   ]
  },
  {
   "cell_type": "code",
   "execution_count": 272,
   "metadata": {},
   "outputs": [
    {
     "name": "stdout",
     "output_type": "stream",
     "text": [
      "                          PanelOLS Estimation Summary                           \n",
      "================================================================================\n",
      "Dep. Variable:                urbrate   R-squared:                        0.4234\n",
      "Estimator:                   PanelOLS   R-squared (Between):              0.2118\n",
      "No. Observations:                  74   R-squared (Within):               0.4952\n",
      "Date:                Sun, Jun 21 2020   R-squared (Overall):              0.4302\n",
      "Time:                        17:56:03   Log-likelihood                   -197.01\n",
      "Cov. Estimator:             Clustered                                           \n",
      "                                        F-statistic:                      19.365\n",
      "Entities:                          13   P-value                           0.0000\n",
      "Avg Obs:                       5.6923   Distribution:                    F(9,47)\n",
      "Min Obs:                       5.0000                                           \n",
      "Max Obs:                       6.0000   F-statistic (robust):             9.8631\n",
      "                                        P-value                           0.0000\n",
      "Time periods:                       6   Distribution:                    F(9,47)\n",
      "Avg Obs:                       12.333                                           \n",
      "Min Obs:                       9.0000                                           \n",
      "Max Obs:                       13.000                                           \n",
      "                                                                                \n",
      "                                  Parameter Estimates                                   \n",
      "========================================================================================\n",
      "                      Parameter  Std. Err.     T-stat    P-value    Lower CI    Upper CI\n",
      "----------------------------------------------------------------------------------------\n",
      "const                    16.078     2.5307     6.3534     0.0000      10.987      21.169\n",
      "fpresence1750           -0.4580     0.2892    -1.5834     0.1200     -1.0398      0.1239\n",
      "fpresence1800           -0.2093     0.2657    -0.7876     0.4349     -0.7439      0.3253\n",
      "fpresence1850           -0.1363     0.2828    -0.4820     0.6321     -0.7052      0.4326\n",
      "fpresence1875            0.4183     0.3074     1.3609     0.1800     -0.2001      1.0367\n",
      "fpresence1900            0.6502     0.3930     1.6545     0.1047     -0.1404      1.4407\n",
      "urbanization17501800    -0.1488     0.1220    -1.2195     0.2287     -0.3944      0.0967\n",
      "urbanization17501850     0.2649     0.1728     1.5330     0.1320     -0.0827      0.6126\n",
      "urbanization17501875     0.4935     0.6022     0.8195     0.4166     -0.7179      1.7050\n",
      "urbanization17501900     0.4900     0.9421     0.5201     0.6054     -1.4052      2.3852\n",
      "========================================================================================\n",
      "\n",
      "F-test for Poolability: 5.3138\n",
      "P-value: 0.0000\n",
      "Distribution: F(17,47)\n",
      "\n",
      "Included effects: Entity, Time\n"
     ]
    }
   ],
   "source": [
    "mod47 = PanelOLS(data3.urbrate, exogurb, weights=data3.totalpop1750 , entity_effects=True,time_effects=True, other_effects=None)\n",
    "\n",
    "reg7 = mod47.fit(cov_type='clustered', clusters=data3.ident)\n",
    "\n",
    "print(reg7)"
   ]
  },
  {
   "cell_type": "code",
   "execution_count": 276,
   "metadata": {},
   "outputs": [],
   "source": [
    "pystout(models=[reg1, reg2,reg3,reg4,reg5,reg6,reg7],\n",
    "        file='tabla3.tex',\n",
    "        addnotes=['Weighted by total population in 1750.' ,'*$p < 0.1$ , ** $p < 0.05$ , *** $p < 0.01$',\n",
    "                  'Standar errors in parentheses.'],\n",
    "        digits=3,\n",
    "        endog_names=['Without Mark','Protestant','Latitude','Longitide','Distance to Paris','Number of old territories',\n",
    "                    'Initial Urbanization'],\n",
    "        varlabels={'const':'Constant','displacement':'Disp','mpg':'MPG'},\n",
    "       \n",
    "        modstat={'nobs':'Obs','rsquared':'R\\sym{2}','fvalue':'F-stat'},\n",
    "        stars={.1:'*',.05:'**',.01:'***'}\n",
    "        )"
   ]
  },
  {
   "cell_type": "markdown",
   "metadata": {},
   "source": [
    "## Table 5 -  Occupational Shares In Germany."
   ]
  },
  {
   "cell_type": "markdown",
   "metadata": {},
   "source": [
    "`All Regresions will be made for year = 1849,  1882, 1895 and 1907`\n",
    "#### - Regresion 1: \n",
    "$ agric = \\beta_{0} + \\beta_{1}fpresence $\n",
    "\n",
    "For West of the Elbe. Weighted.\n",
    "\n",
    "#### - Regresion 2:\n",
    "$ agric = \\beta_{0} + \\beta_{1}fpresence $\n",
    "\n",
    "For West of the Elbe. Unweighted.\n",
    " \n",
    "####  - Regresion 3:\n",
    " \n",
    " $ agric = \\beta_{0} + \\beta_{1}fpresence $\n",
    "\n",
    "For the whole sample. Weighted.\n",
    "\n",
    "####  - Regresion 4: \n",
    " $ industry = \\beta_{0} + \\beta_{1}fpresence $\n",
    "\n",
    "For West of the Elbe. Weighted.\n",
    "\n",
    "\n",
    "####  - Regresion 5: \n",
    " $ industry = \\beta_{0} + \\beta_{1}fpresence $\n",
    "\n",
    "For West of the Elbe. Weighted.\n",
    "\n",
    "\n",
    "####  - Regresion 6: \n",
    " $ industry = \\beta_{0} + \\beta_{1}fpresence $\n",
    "\n",
    "For the whole sample. Weighted.\n",
    "\n",
    "Where:\n",
    "\n",
    "- agric: % of population employed in agriculture\n",
    "- industry: % of population employed in industry\n",
    "- fpresence: Years of French Presence\n"
   ]
  },
  {
   "cell_type": "markdown",
   "metadata": {},
   "source": [
    "![Imagen](img/Tabla5.png)"
   ]
  },
  {
   "cell_type": "markdown",
   "metadata": {},
   "source": [
    "![Imagen](img/Tabla5replica.png)"
   ]
  },
  {
   "cell_type": "markdown",
   "metadata": {},
   "source": [
    "Using data for 1849, 1882, 1895, and 1907 of share of agricultural and indusrty employment the authors can look for the composition of the economy. As there isn't too much information, it is not posible to check any pre-French trends.\n",
    "On the other hand, by looking at the regression 5 table we can see that by 1850 there was more industry employment relative to agricuture, for West of the Elby and for all the sample. This results for 1850 are not statisticly significant but as we can see, by 1882 there is evidence of a more rapid industrialization in areas with more significant reforms because of French occupation and invasion."
   ]
  },
  {
   "cell_type": "markdown",
   "metadata": {},
   "source": [
    "### Table 5 Construcction"
   ]
  },
  {
   "cell_type": "markdown",
   "metadata": {},
   "source": [
    "`IMPORTANT:` For this part, we have to do 24 regressions since the author made 6 different configurations but divided each one by years. I will make the regressions here but I will not print them, so I don't wast to much space. Also, I will explain only the first regressions because the other ones are basically the same but changing the year.\n",
    "You will be able to watch every regression by typing\n",
    "`print(resultsT.summary())` with T = 1,2,3,4,...24. I will let regression 1 as an example.`"
   ]
  },
  {
   "cell_type": "markdown",
   "metadata": {},
   "source": [
    "### Regression 1 - Dependent variable: share of population employed in agriculture\n",
    "West of the Elbe - Weighted - French Presence 1849"
   ]
  },
  {
   "cell_type": "code",
   "execution_count": 62,
   "metadata": {},
   "outputs": [],
   "source": [
    "import numpy as np\n",
    "from scipy import stats\n",
    "import statsmodels.api as sm\n",
    "import matplotlib.pyplot as plt\n",
    "from statsmodels.sandbox.regression.predstd import wls_prediction_std\n",
    "from statsmodels.iolib.table import (SimpleTable, default_txt_fmt)"
   ]
  },
  {
   "cell_type": "code",
   "execution_count": 63,
   "metadata": {},
   "outputs": [],
   "source": [
    "#We have to set the dataframe for regression 1 by 1849, west of the elbe and not imputed.\n",
    "datat5 = pd.read_stata(pathout + 'replication_dataset_t5.dta')\n",
    "datat5 = datat5.drop(datat5[datat5.year > 1914].index)\n",
    "datat5 = datat5.drop(datat5[datat5.imputed != 0].index)\n",
    "datat5 = datat5.drop(datat5[datat5.westelbe != 1].index)\n",
    "datat5 = datat5.drop(datat5[datat5.year != 1849].index)"
   ]
  },
  {
   "cell_type": "code",
   "execution_count": 64,
   "metadata": {},
   "outputs": [],
   "source": [
    "exog_5 = ['fpresence']\n",
    "exog5 = sm.add_constant(datat5[exog_5])"
   ]
  },
  {
   "cell_type": "code",
   "execution_count": 277,
   "metadata": {},
   "outputs": [
    {
     "name": "stdout",
     "output_type": "stream",
     "text": [
      "                            WLS Regression Results                            \n",
      "==============================================================================\n",
      "Dep. Variable:                  agric   R-squared:                       0.053\n",
      "Model:                            WLS   Adj. R-squared:                  0.008\n",
      "Method:                 Least Squares   F-statistic:                     1.171\n",
      "Date:                Sun, 21 Jun 2020   Prob (F-statistic):              0.291\n",
      "Time:                        18:04:01   Log-Likelihood:                -95.448\n",
      "No. Observations:                  23   AIC:                             194.9\n",
      "Df Residuals:                      21   BIC:                             197.2\n",
      "Df Model:                           1                                         \n",
      "Covariance Type:            nonrobust                                         \n",
      "==============================================================================\n",
      "                 coef    std err          t      P>|t|      [0.025      0.975]\n",
      "------------------------------------------------------------------------------\n",
      "const         59.1070      4.141     14.273      0.000      50.495      67.719\n",
      "fpresence     -0.4298      0.397     -1.082      0.291      -1.256       0.396\n",
      "==============================================================================\n",
      "Omnibus:                        1.506   Durbin-Watson:                   1.208\n",
      "Prob(Omnibus):                  0.471   Jarque-Bera (JB):                0.984\n",
      "Skew:                          -0.503   Prob(JB):                        0.611\n",
      "Kurtosis:                       2.872   Cond. No.                         13.5\n",
      "==============================================================================\n",
      "\n",
      "Warnings:\n",
      "[1] Standard Errors assume that the covariance matrix of the errors is correctly specified.\n"
     ]
    }
   ],
   "source": [
    "#As you can see, we are using weighted least square regression in order to get the same rasults as the author.\n",
    "#The weight for all the regressions will be the estimation of the population in 1849.\n",
    "modelo1 = sm.WLS(datat5.agric, exog5, weights=datat5.pop1849)\n",
    "results1 = modelo1.fit()\n",
    "print(results1.summary())"
   ]
  },
  {
   "cell_type": "markdown",
   "metadata": {},
   "source": [
    "West of the Elbe - Weighted - French Presence 1882"
   ]
  },
  {
   "cell_type": "code",
   "execution_count": 66,
   "metadata": {},
   "outputs": [],
   "source": [
    "data5 = pd.read_stata(pathout + 'replication_dataset_t5.dta')\n",
    "data5 = data5.drop(data5[data5.year > 1914].index)\n",
    "data5 = data5.drop(data5[data5.imputed != 0].index)\n",
    "data5 = data5.drop(data5[data5.westelbe != 1].index)\n",
    "data5 = data5.drop(data5[data5.year != 1882].index)"
   ]
  },
  {
   "cell_type": "code",
   "execution_count": 67,
   "metadata": {},
   "outputs": [],
   "source": [
    "exog_a = ['fpresence']\n",
    "exoga = sm.add_constant(data5[exog_a])"
   ]
  },
  {
   "cell_type": "code",
   "execution_count": 68,
   "metadata": {},
   "outputs": [],
   "source": [
    "modelo2 = sm.WLS(data5.agric, exoga, weights=data5.pop1849)\n",
    "results2 = modelo2.fit()"
   ]
  },
  {
   "cell_type": "markdown",
   "metadata": {},
   "source": [
    "West of the Elbe - Weighted - French Presence 1895"
   ]
  },
  {
   "cell_type": "code",
   "execution_count": 69,
   "metadata": {},
   "outputs": [],
   "source": [
    "dataa = pd.read_stata(pathout + 'replication_dataset_t5.dta')\n",
    "dataa1 = dataa\n",
    "dataa1 = dataa1.drop(dataa1[dataa1.year > 1914].index)\n",
    "dataa1 = dataa1.drop(dataa1[dataa1.imputed != 0].index)\n",
    "dataa1 = dataa1.drop(dataa1[dataa1.westelbe != 1].index)\n",
    "dataa1 = dataa1.drop(dataa1[dataa1.year != 1895].index)"
   ]
  },
  {
   "cell_type": "code",
   "execution_count": 70,
   "metadata": {},
   "outputs": [],
   "source": [
    "exog_a1 = ['fpresence']\n",
    "exoga1 = sm.add_constant(dataa1[exog_a])"
   ]
  },
  {
   "cell_type": "code",
   "execution_count": 71,
   "metadata": {},
   "outputs": [],
   "source": [
    "modelo3 = sm.WLS(dataa1.agric, exoga1, weights=data5.pop1849)\n",
    "results3 = modelo3.fit()"
   ]
  },
  {
   "cell_type": "markdown",
   "metadata": {},
   "source": [
    "West of the Elbe - Weighted - French Presence 1907"
   ]
  },
  {
   "cell_type": "code",
   "execution_count": 72,
   "metadata": {},
   "outputs": [],
   "source": [
    "datat4 = dataa\n",
    "datat4 = datat4.drop(datat4[datat4.year > 1914].index)\n",
    "datat4 = datat4.drop(datat4[datat4.imputed != 0].index)\n",
    "datat4 = datat4.drop(datat4[datat4.westelbe != 1].index)\n",
    "datat4 = datat4.drop(datat4[datat4.year != 1907].index)"
   ]
  },
  {
   "cell_type": "code",
   "execution_count": 73,
   "metadata": {},
   "outputs": [],
   "source": [
    "exog_a4 = ['fpresence']\n",
    "exoga4 = sm.add_constant(datat4[exog_a4])"
   ]
  },
  {
   "cell_type": "code",
   "execution_count": 74,
   "metadata": {},
   "outputs": [],
   "source": [
    "modelo4 = sm.WLS(datat4.agric, exoga4, weights=datat4.pop1849)\n",
    "results4 = modelo4.fit()"
   ]
  },
  {
   "cell_type": "markdown",
   "metadata": {},
   "source": [
    "### Regression 2 - Dependent variable: share of population employed in agriculture\n",
    "West of the Elbe - Unweighted - French Presence 1849"
   ]
  },
  {
   "cell_type": "code",
   "execution_count": 75,
   "metadata": {},
   "outputs": [],
   "source": [
    "#Just using the data made before but changing the specifications of the model to unweighted.\n",
    "modelo5 = sm.WLS(datat5.agric, exog5)\n",
    "results5 = modelo5.fit()"
   ]
  },
  {
   "cell_type": "markdown",
   "metadata": {},
   "source": [
    "West of the Elbe - Unweighted - French Presence 1882"
   ]
  },
  {
   "cell_type": "code",
   "execution_count": 76,
   "metadata": {},
   "outputs": [],
   "source": [
    "modelo6 = sm.WLS(data5.agric, exoga)\n",
    "results6 = modelo6.fit()"
   ]
  },
  {
   "cell_type": "markdown",
   "metadata": {},
   "source": [
    "West of the Elbe - Unweighted - French Presence 1895"
   ]
  },
  {
   "cell_type": "code",
   "execution_count": 77,
   "metadata": {},
   "outputs": [],
   "source": [
    "modelo7 = sm.WLS(dataa1.agric, exoga1)\n",
    "results7 = modelo7.fit()"
   ]
  },
  {
   "cell_type": "markdown",
   "metadata": {},
   "source": [
    "West of the Elbe - Unweighted - French Presence 1907"
   ]
  },
  {
   "cell_type": "code",
   "execution_count": 78,
   "metadata": {},
   "outputs": [],
   "source": [
    "modelo8 = sm.WLS(datat4.agric, exoga4)\n",
    "results8 = modelo8.fit()"
   ]
  },
  {
   "cell_type": "markdown",
   "metadata": {},
   "source": [
    "### Regression 3 - Dependent variable: share of population employed in agriculture\n",
    "Whole Sample - Weighted - French Presence 1849"
   ]
  },
  {
   "cell_type": "code",
   "execution_count": 79,
   "metadata": {},
   "outputs": [],
   "source": [
    "dataT2 = dataa\n",
    "dataT2 = dataT2.drop(dataT2[dataT2.year > 1914].index)\n",
    "dataT2 = dataT2.drop(dataT2[dataT2.imputed != 0].index)\n",
    "dataT2 = dataT2.drop(dataT2[dataT2.year != 1849].index)"
   ]
  },
  {
   "cell_type": "code",
   "execution_count": 80,
   "metadata": {},
   "outputs": [],
   "source": [
    "exog_T2 = ['fpresence']\n",
    "exogT2 = sm.add_constant(dataT2[exog_T2])"
   ]
  },
  {
   "cell_type": "code",
   "execution_count": 81,
   "metadata": {},
   "outputs": [],
   "source": [
    "modelo9 = sm.WLS(dataT2.agric, exogT2, weights=dataT2.pop1849)\n",
    "results9 = modelo9.fit()"
   ]
  },
  {
   "cell_type": "markdown",
   "metadata": {},
   "source": [
    "Whole Sample - Weighted - French Presence 1882"
   ]
  },
  {
   "cell_type": "code",
   "execution_count": 82,
   "metadata": {},
   "outputs": [],
   "source": [
    "dataT3 = dataa\n",
    "dataT3 = dataT3.drop(dataT3[dataT3.year > 1914].index)\n",
    "dataT3 = dataT3.drop(dataT3[dataT3.imputed != 0].index)\n",
    "dataT3 = dataT3.drop(dataT3[dataT3.year != 1882].index)"
   ]
  },
  {
   "cell_type": "code",
   "execution_count": 83,
   "metadata": {},
   "outputs": [],
   "source": [
    "exog_T3 = ['fpresence']\n",
    "exogT3 = sm.add_constant(dataT3[exog_T3])"
   ]
  },
  {
   "cell_type": "code",
   "execution_count": 84,
   "metadata": {},
   "outputs": [],
   "source": [
    "modelo10 = sm.WLS(dataT3.agric, exogT3, weights=dataT3.pop1849)\n",
    "results10 = modelo10.fit()"
   ]
  },
  {
   "cell_type": "markdown",
   "metadata": {},
   "source": [
    "Whole Sample - Weighted - French Presence 1895"
   ]
  },
  {
   "cell_type": "code",
   "execution_count": 85,
   "metadata": {},
   "outputs": [],
   "source": [
    "dataT4 = dataa\n",
    "dataT4 = dataT4.drop(dataT4[dataT4.year > 1914].index)\n",
    "dataT4 = dataT4.drop(dataT4[dataT4.imputed != 0].index)\n",
    "dataT4 = dataT4.drop(dataT4[dataT4.year != 1895].index)"
   ]
  },
  {
   "cell_type": "code",
   "execution_count": 86,
   "metadata": {},
   "outputs": [],
   "source": [
    "exog_T4 = ['fpresence']\n",
    "exogT4 = sm.add_constant(dataT4[exog_T4])"
   ]
  },
  {
   "cell_type": "code",
   "execution_count": 87,
   "metadata": {},
   "outputs": [],
   "source": [
    "modelo11 = sm.WLS(dataT4.agric, exogT4, weights=dataT4.pop1849)\n",
    "results11 = modelo11.fit()"
   ]
  },
  {
   "cell_type": "markdown",
   "metadata": {},
   "source": [
    "Whole Sample - Weighted - French Presence 1907"
   ]
  },
  {
   "cell_type": "code",
   "execution_count": 88,
   "metadata": {},
   "outputs": [],
   "source": [
    "dataT5 = dataa\n",
    "dataT5 = dataT5.drop(dataT5[dataT5.year > 1914].index)\n",
    "dataT5 = dataT5.drop(dataT5[dataT5.imputed != 0].index)\n",
    "dataT5 = dataT5.drop(dataT5[dataT5.year != 1907].index)"
   ]
  },
  {
   "cell_type": "code",
   "execution_count": 89,
   "metadata": {},
   "outputs": [],
   "source": [
    "exog_T5 = ['fpresence']\n",
    "exogT5 = sm.add_constant(dataT5[exog_T5])"
   ]
  },
  {
   "cell_type": "code",
   "execution_count": 90,
   "metadata": {},
   "outputs": [],
   "source": [
    "modelo12 = sm.WLS(dataT5.agric, exogT5, weights=dataT5.pop1849)\n",
    "results12 = modelo12.fit()"
   ]
  },
  {
   "cell_type": "markdown",
   "metadata": {},
   "source": [
    "### Regression 4 - Dependent variable: share of population employed in industry\n",
    "West of the Elbe - Weighted - French Presence 1849\n"
   ]
  },
  {
   "cell_type": "code",
   "execution_count": 91,
   "metadata": {},
   "outputs": [],
   "source": [
    "#Now we start the regressions for industry. We are now going to drop the years we are not using, and the not imputed territories\n",
    "#Also we drop the territories that aren't part of West of the Elbe\n",
    "dataT6 = dataa\n",
    "dataT6 = dataT6.drop(dataT6[dataT6.year > 1914].index)\n",
    "dataT6 = dataT6.drop(dataT6[dataT6.imputed != 0].index)\n",
    "dataT6 = dataT6.drop(dataT6[dataT6.year != 1849].index)\n",
    "dataT6 = dataT6.drop(dataT6[dataT6.westelbe != 1].index)"
   ]
  },
  {
   "cell_type": "code",
   "execution_count": 92,
   "metadata": {},
   "outputs": [],
   "source": [
    "exog_T6 = ['fpresence']\n",
    "exogT6 = sm.add_constant(dataT6[exog_T6])"
   ]
  },
  {
   "cell_type": "code",
   "execution_count": 93,
   "metadata": {},
   "outputs": [],
   "source": [
    "#As you can see, we will keep the weighted least square method for all the regressions in table 5.\n",
    "modelo13 = sm.WLS(dataT6.industry, exogT6, weights=dataT6.pop1849)\n",
    "results13 = modelo13.fit()"
   ]
  },
  {
   "cell_type": "markdown",
   "metadata": {},
   "source": [
    "West of the Elbe - Weighted - French Presence 1882"
   ]
  },
  {
   "cell_type": "code",
   "execution_count": 94,
   "metadata": {},
   "outputs": [],
   "source": [
    "dataT7 = dataa\n",
    "dataT7 = dataT7.drop(dataT7[dataT7.year > 1914].index)\n",
    "dataT7 = dataT7.drop(dataT7[dataT7.imputed != 0].index)\n",
    "dataT7 = dataT7.drop(dataT7[dataT7.year != 1882].index)\n",
    "dataT7 = dataT7.drop(dataT7[dataT7.westelbe != 1].index)"
   ]
  },
  {
   "cell_type": "code",
   "execution_count": 95,
   "metadata": {},
   "outputs": [],
   "source": [
    "exog_T7 = ['fpresence']\n",
    "exogT7 = sm.add_constant(dataT7[exog_T7])"
   ]
  },
  {
   "cell_type": "code",
   "execution_count": 96,
   "metadata": {},
   "outputs": [],
   "source": [
    "modelo14 = sm.WLS(dataT7.industry, exogT7, weights=dataT7.pop1849)\n",
    "results14 = modelo14.fit()"
   ]
  },
  {
   "cell_type": "markdown",
   "metadata": {},
   "source": [
    "West of the Elbe - Weighted - French Presence 1895"
   ]
  },
  {
   "cell_type": "code",
   "execution_count": 97,
   "metadata": {},
   "outputs": [],
   "source": [
    "dataT8 = dataa\n",
    "dataT8 = dataT8.drop(dataT8[dataT8.year > 1914].index)\n",
    "dataT8 = dataT8.drop(dataT8[dataT8.imputed != 0].index)\n",
    "dataT8 = dataT8.drop(dataT8[dataT8.year != 1895].index)\n",
    "dataT8 = dataT8.drop(dataT8[dataT8.westelbe != 1].index)"
   ]
  },
  {
   "cell_type": "code",
   "execution_count": 98,
   "metadata": {},
   "outputs": [],
   "source": [
    "exog_T8 = ['fpresence']\n",
    "exogT8 = sm.add_constant(dataT8[exog_T8])"
   ]
  },
  {
   "cell_type": "code",
   "execution_count": 99,
   "metadata": {},
   "outputs": [],
   "source": [
    "modelo15 = sm.WLS(dataT8.industry, exogT8, weights=dataT8.pop1849)\n",
    "results15 = modelo15.fit()"
   ]
  },
  {
   "cell_type": "markdown",
   "metadata": {},
   "source": [
    "West of the Elbe - Weighted - French Presence 1907"
   ]
  },
  {
   "cell_type": "code",
   "execution_count": 100,
   "metadata": {},
   "outputs": [],
   "source": [
    "dataT9 = dataa\n",
    "dataT9 = dataT9.drop(dataT9[dataT9.year > 1914].index)\n",
    "dataT9 = dataT9.drop(dataT9[dataT9.imputed != 0].index)\n",
    "dataT9 = dataT9.drop(dataT9[dataT9.year != 1907].index)\n",
    "dataT9 = dataT9.drop(dataT9[dataT9.westelbe != 1].index)"
   ]
  },
  {
   "cell_type": "code",
   "execution_count": 101,
   "metadata": {},
   "outputs": [],
   "source": [
    "exog_T9 = ['fpresence']\n",
    "exogT9 = sm.add_constant(dataT9[exog_T9])"
   ]
  },
  {
   "cell_type": "code",
   "execution_count": 102,
   "metadata": {},
   "outputs": [],
   "source": [
    "modelo16 = sm.WLS(dataT9.industry, exogT9, weights=dataT9.pop1849)\n",
    "results16 = modelo16.fit()\n"
   ]
  },
  {
   "cell_type": "markdown",
   "metadata": {},
   "source": [
    "### Regression 5 - Dependent variable: share of population employed in industry\n",
    "West of the Elbe - Unweighted - French Presence 1849"
   ]
  },
  {
   "cell_type": "code",
   "execution_count": 103,
   "metadata": {},
   "outputs": [],
   "source": [
    "#Now i will use the regression 4 settings, but unweighted.\n",
    "modelo17 = sm.WLS(dataT6.industry, exogT6)\n",
    "results17 = modelo17.fit()"
   ]
  },
  {
   "cell_type": "markdown",
   "metadata": {},
   "source": [
    "West of the Elbe - Unweighted - French Presence 1882"
   ]
  },
  {
   "cell_type": "code",
   "execution_count": 104,
   "metadata": {},
   "outputs": [],
   "source": [
    "modelo18 = sm.WLS(dataT7.industry, exogT7)\n",
    "results18 = modelo18.fit()"
   ]
  },
  {
   "cell_type": "markdown",
   "metadata": {},
   "source": [
    "West of the Elbe - Unweighted - French Presence 1895"
   ]
  },
  {
   "cell_type": "code",
   "execution_count": 105,
   "metadata": {},
   "outputs": [],
   "source": [
    "modelo19 = sm.WLS(dataT8.industry, exogT8)\n",
    "results19 = modelo19.fit()"
   ]
  },
  {
   "cell_type": "markdown",
   "metadata": {},
   "source": [
    "West of the Elbe - Unweighted - French Presence 1907"
   ]
  },
  {
   "cell_type": "code",
   "execution_count": 106,
   "metadata": {},
   "outputs": [],
   "source": [
    "modelo20 = sm.WLS(dataT9.industry, exogT9)\n",
    "results20 = modelo20.fit()"
   ]
  },
  {
   "cell_type": "markdown",
   "metadata": {},
   "source": [
    "### Regression 6 - Dependent variable: share of population employed in industry\n",
    "West of the Elbe - Weighted - French Presence 1849"
   ]
  },
  {
   "cell_type": "code",
   "execution_count": 107,
   "metadata": {},
   "outputs": [],
   "source": [
    "modelo21 = sm.WLS(dataT2.industry, exogT2, weights=dataT2.pop1849)\n",
    "results21 = modelo21.fit()"
   ]
  },
  {
   "cell_type": "markdown",
   "metadata": {},
   "source": [
    "West of the Elbe - Weighted - French Presence 1882"
   ]
  },
  {
   "cell_type": "code",
   "execution_count": 108,
   "metadata": {},
   "outputs": [],
   "source": [
    "modelo22 = sm.WLS(dataT3.industry, exogT3, weights=dataT3.pop1849)\n",
    "results22 = modelo22.fit()"
   ]
  },
  {
   "cell_type": "markdown",
   "metadata": {},
   "source": [
    "West of the Elbe - Weighted - French Presence 1895"
   ]
  },
  {
   "cell_type": "code",
   "execution_count": 109,
   "metadata": {},
   "outputs": [],
   "source": [
    "modelo23 = sm.WLS(dataT4.industry, exogT4, weights=dataT4.pop1849)\n",
    "results23 = modelo23.fit()"
   ]
  },
  {
   "cell_type": "markdown",
   "metadata": {},
   "source": [
    "West of the Elbe - Weighted - French Presence 1907"
   ]
  },
  {
   "cell_type": "code",
   "execution_count": 110,
   "metadata": {},
   "outputs": [],
   "source": [
    "modelo24 = sm.WLS(dataT5.industry, exogT5, weights=dataT5.pop1849)\n",
    "results24 = modelo24.fit()"
   ]
  },
  {
   "cell_type": "code",
   "execution_count": 111,
   "metadata": {},
   "outputs": [],
   "source": [
    "pystout(models=[results1,results5,results9,results13,results17,results21],\n",
    "        file='tabla51.tex',\n",
    "        addnotes=['*$p < 0.1$ , ** $p < 0.05$ , *** $p < 0.01$',\n",
    "                  'Standar errors in parentheses.'],\n",
    "        digits=3,\n",
    "        endog_names=['Weighted','Unweighted','Weighted','Weighted','Unweighted','Weighted'],\n",
    "        varlabels={'const':'Constant','displacement':'Disp','mpg':'MPG'},\n",
    "        \n",
    "        mgroups={'West of the Elbe':[1,2,3],'All':[4,5]},\n",
    "        modstat={'nobs':'Obs','rsquared':'R\\sym{2}','fvalue':'F-stat'},\n",
    "        stars={.1:'*',.05:'**',.01:'***'}\n",
    "        )"
   ]
  },
  {
   "cell_type": "code",
   "execution_count": 112,
   "metadata": {},
   "outputs": [],
   "source": [
    "pystout(models=[results2,results6,results10,results14,results18,results22],\n",
    "        file='tabla52.tex',\n",
    "        addnotes=['*$p < 0.1$ , ** $p < 0.05$ , *** $p < 0.01$',\n",
    "                  'Standar errors in parentheses.'],\n",
    "        digits=3,\n",
    "        endog_names=['Weighted','Unweighted','Weighted','Weighted','Unweighted','Weighted'],\n",
    "        varlabels={'const':'Constant','displacement':'Disp','mpg':'MPG'},\n",
    "        \n",
    "        mgroups={'West of the Elbe':[1,2,3],'All':[4,5]},\n",
    "        modstat={'nobs':'Obs','rsquared':'R\\sym{2}','fvalue':'F-stat'},\n",
    "        stars={.1:'*',.05:'**',.01:'***'}\n",
    "        )"
   ]
  },
  {
   "cell_type": "code",
   "execution_count": 113,
   "metadata": {},
   "outputs": [],
   "source": [
    "pystout(models=[results3,results7,results11,results15,results19,results23],\n",
    "        file='tabla53.tex',\n",
    "        addnotes=['*$p < 0.1$ , ** $p < 0.05$ , *** $p < 0.01$',\n",
    "                  'Standar errors in parentheses.'],\n",
    "        digits=3,\n",
    "        endog_names=['Weighted','Unweighted','Weighted','Weighted','Unweighted','Weighted'],\n",
    "        varlabels={'const':'Constant','displacement':'Disp','mpg':'MPG'},\n",
    "        \n",
    "        mgroups={'West of the Elbe':[1,2,3],'All':[4,5]},\n",
    "        modstat={'nobs':'Obs','rsquared':'R\\sym{2}','fvalue':'F-stat'},\n",
    "        stars={.1:'*',.05:'**',.01:'***'}\n",
    "        )"
   ]
  },
  {
   "cell_type": "code",
   "execution_count": 114,
   "metadata": {},
   "outputs": [],
   "source": [
    "pystout(models=[results4,results8,results12,results16,results20,results24],\n",
    "        file='tabla54.tex',\n",
    "        addnotes=['*$p < 0.1$ , ** $p < 0.05$ , *** $p < 0.01$',\n",
    "                  'Standar errors in parentheses.'],\n",
    "        digits=3,\n",
    "        endog_names=['Weighted','Unweighted','Weighted','Weighted','Unweighted','Weighted'],\n",
    "        varlabels={'const':'Constant','displacement':'Disp','mpg':'MPG'},\n",
    "        \n",
    "        mgroups={'West of the Elbe':[1,2,3],'All':[4,5]},\n",
    "        modstat={'nobs':'Obs','rsquared':'R\\sym{2}','fvalue':'F-stat'},\n",
    "        stars={.1:'*',.05:'**',.01:'***'}\n",
    "        )"
   ]
  },
  {
   "cell_type": "markdown",
   "metadata": {},
   "source": [
    "## Table 6 - Urbanization in Germany, Impact of Reforms."
   ]
  },
  {
   "cell_type": "markdown",
   "metadata": {},
   "source": [
    "\n",
    "`All regressions will be made for the whole sample, only west of the Elby, weighted and unweighted`\n",
    "\n",
    "`Weight: totalpop1750`\n",
    "\n",
    "#### - Regresion - Panel A. ols estimation: \n",
    "\n",
    "$ urbrate = \\beta_{0} + \\beta_{1}yearsref + \\beta_{2}yr1750 + \\beta_{3}yr1800 + \\beta_{4}yr1850 + \\beta_{5}yr1875 + \\beta_{6}yr1900 $\n",
    "\n",
    "With robust errors, and clustered.\n",
    "\n",
    "\n",
    "#### - Regresion - Panel B. first stage:\n",
    "\n",
    "$yearsref = \\beta_{0} + \\beta_{1}fpresenceXpostXtrend + \\beta_{2}yr1750 + \\beta_{3}yr1800 + \\beta_{4}yr1850 + \\beta_{5}yr1875 + \\beta_{6}yr1900 $\n",
    "        \n",
    "With robust errors, and clustered.\n",
    "\n",
    " \n",
    "####  - Regresion - Panel c. 2sls estimation :\n",
    " \n",
    "$ urbrate = \\beta_{0} + \\beta_{1}yearsref + \\beta_{2}yr1750 + \\beta_{3}yr1800 + \\beta_{4}yr1850 + \\beta_{5}yr1875 + \\beta_{6}yr1900 $\n",
    " \n",
    "Using `yearsref` as an endogenous variable and `fpresenceXpostXtrend` as the instrument. Also clustered.\n",
    "\n",
    "\n",
    "\n",
    "Where:\n",
    "\n",
    "- urbrate: urbanpop/totalpop*100\n",
    "- yearsref: Reforms Index\n",
    "- fpresenceXpostXtrend:  Interaction term: post1800*trend*fpresence\n",
    "- trend: time tendence\n",
    "- post1800: 1 if year>1800, o if not\n",
    "- totalpop1750: Total population in 1750\n"
   ]
  },
  {
   "cell_type": "markdown",
   "metadata": {},
   "source": [
    "![Imagen](img/tabla6.png)"
   ]
  },
  {
   "cell_type": "markdown",
   "metadata": {},
   "source": [
    "![Imagen](img/Tabla6replica.png)"
   ]
  },
  {
   "cell_type": "markdown",
   "metadata": {},
   "source": [
    "`Table 6 Note:` You will notice that my estimations for panel B and C are not exactly de same that the authors's estimations. The reason of this is that for panel B and C, the author's used the instrumental variable regression method with fixed effects. I was not able to find how to add the fixed effects since it is not possible using `linearmodels IV2SLS` . The results you will see in the table 6 replication are obtained using instrumental variables 2SLS but without the fixed effects."
   ]
  },
  {
   "cell_type": "markdown",
   "metadata": {},
   "source": [
    "For table 6, the authors were looking for the relationship between French occupation and reforms. The final objective is to get the effect of the reform index created before and the urbanization rate. The authors start by using a panel ols regression, then switch to first stage and finally, end with a two stages method.\n",
    "The idea of 2SLS is to show a clear relationship between reforms index and economic growth. The authors also try to get an \"overidentification tests to investigate whether we can reject the hypothesis that the effects of French occupation are working primarily or solely through the institutional reforms.\"\n",
    "\n",
    "As result, we will see that for Panel A we got estimations highly significant for all the regressions, showing evidence of the relationship wanted.\n",
    "For panel B we can see that we got very high F statistics, leading us to highly joint significance. The authors attribute this to a cancelation between 3 possible bias: timing of reform is endogenous, many of the “control” polities also underwent reforms and the extent of reform is measured with error and also because, conceptually, the reform index is only a proxy for a broader range of institutional reforms undertaken during this era.\n",
    "For panel C, the authors got results vey similar to panel A, supporting the interpretation made before. \n",
    "\n",
    "As the authors said \"(...) occupation by the French induced significant institutional reforms and that these reforms paved the way for more rapid economic development, particularly in the second half of the nineteenth century.\""
   ]
  },
  {
   "cell_type": "markdown",
   "metadata": {},
   "source": [
    "### Table 6 construction\n",
    "For table 6 you will see that we have 5 different specifications for the sample. \n",
    "West of the Elbe Weighted, Weighted overidentified, Unweighted, and for the whole sample weighted and Unweighted.\n",
    "We will make 3 different regressions in each, starting with a simple OLS estimation on Reforms index over the urbanization rate, then we will continue with a first stage regression and we finish with 2SLS."
   ]
  },
  {
   "cell_type": "markdown",
   "metadata": {},
   "source": [
    "### Regresion 1 - OLS Estimation Reform Index"
   ]
  },
  {
   "cell_type": "code",
   "execution_count": 158,
   "metadata": {},
   "outputs": [],
   "source": [
    "dataF = pd.read_stata(pathout + 'replication_dataset.dta')\n",
    "data6 = dataF\n"
   ]
  },
  {
   "cell_type": "code",
   "execution_count": 159,
   "metadata": {},
   "outputs": [],
   "source": [
    "## We will delete data for some years and keep the data if the territory is part of west of the elby.\n",
    "data6 = data6.drop(data6[data6.year == 1880].index)\n",
    "data6 = data6.drop(data6[data6.year == 1885].index)\n",
    "data6 = data6.drop(data6[data6.year == 1895].index)\n",
    "data6 = data6.drop(data6[data6.year == 1905].index)\n",
    "data6 = data6.drop(data6[data6.year == 1910].index)\n",
    "data6 = data6.drop(data6[data6.westelbe != 1].index)"
   ]
  },
  {
   "cell_type": "code",
   "execution_count": 160,
   "metadata": {},
   "outputs": [],
   "source": [
    "#We are now setting the data frame for panel. id and year will be set as index.\n",
    "year = pd.Categorical(data6.year)\n",
    "data6['ident']=data6.id\n",
    "data6 = data6.set_index(['id', 'year'])\n",
    "data6['year'] = year\n",
    "data6['id'] = data6.ident\n"
   ]
  },
  {
   "cell_type": "code",
   "execution_count": 161,
   "metadata": {},
   "outputs": [],
   "source": [
    "#Getting the exogenous variables for the regression\n",
    "exog_F1 = ['yearsref']\n",
    "exogF1 = sm.add_constant(data6[exog_F1])"
   ]
  },
  {
   "cell_type": "code",
   "execution_count": 180,
   "metadata": {},
   "outputs": [
    {
     "name": "stdout",
     "output_type": "stream",
     "text": [
      "                          PanelOLS Estimation Summary                           \n",
      "================================================================================\n",
      "Dep. Variable:                urbrate   R-squared:                        0.2721\n",
      "Estimator:                   PanelOLS   R-squared (Between):              0.3196\n",
      "No. Observations:                  74   R-squared (Within):               0.7200\n",
      "Date:                Sun, Jun 21 2020   R-squared (Overall):              0.6281\n",
      "Time:                        17:22:00   Log-likelihood                   -205.63\n",
      "Cov. Estimator:             Clustered                                           \n",
      "                                        F-statistic:                      150.11\n",
      "Entities:                          13   P-value                           0.0000\n",
      "Avg Obs:                       5.6923   Distribution:                    F(1,55)\n",
      "Min Obs:                       5.0000                                           \n",
      "Max Obs:                       6.0000   F-statistic (robust):             5.3064\n",
      "                                        P-value                           0.0251\n",
      "Time periods:                       6   Distribution:                    F(1,55)\n",
      "Avg Obs:                       12.333                                           \n",
      "Min Obs:                       9.0000                                           \n",
      "Max Obs:                       13.000                                           \n",
      "                                                                                \n",
      "                             Parameter Estimates                              \n",
      "==============================================================================\n",
      "            Parameter  Std. Err.     T-stat    P-value    Lower CI    Upper CI\n",
      "------------------------------------------------------------------------------\n",
      "const          11.272     2.8581     3.9440     0.0002      5.5446      17.000\n",
      "yearsref       0.2808     0.1219     2.3036     0.0251      0.0365      0.5251\n",
      "==============================================================================\n",
      "\n",
      "F-test for Poolability: 9.2329\n",
      "P-value: 0.0000\n",
      "Distribution: F(17,55)\n",
      "\n",
      "Included effects: Entity, Time\n"
     ]
    }
   ],
   "source": [
    "#Making panel regression\n",
    "modFC = PanelOLS(data6.urbrate, exogF1, weights=data6.totalpop1750 , entity_effects=True,time_effects=True, other_effects=None)\n",
    "modF1 = modFC.fit(cov_type='clustered', clusters=data6.ident)\n",
    "print(modF1) "
   ]
  },
  {
   "cell_type": "markdown",
   "metadata": {},
   "source": [
    "### Regresion 1 - First Stage"
   ]
  },
  {
   "cell_type": "code",
   "execution_count": 164,
   "metadata": {},
   "outputs": [],
   "source": [
    "import numpy as np\n",
    "from linearmodels.iv import IV2SLS\n"
   ]
  },
  {
   "cell_type": "code",
   "execution_count": 165,
   "metadata": {},
   "outputs": [],
   "source": [
    "datafs = dataF"
   ]
  },
  {
   "cell_type": "code",
   "execution_count": 166,
   "metadata": {},
   "outputs": [],
   "source": [
    "datafs = datafs.drop(datafs[datafs.westelbe != 1].index)\n",
    "datafs = datafs.dropna()"
   ]
  },
  {
   "cell_type": "code",
   "execution_count": 167,
   "metadata": {},
   "outputs": [],
   "source": [
    "#Here, we set the formula for regression\n",
    "formula = 'yearsref ~ fpresenceXpostXtrend + yr1750 + yr1800 + yr1850 + yr1875 + yr1900 '"
   ]
  },
  {
   "cell_type": "code",
   "execution_count": 181,
   "metadata": {},
   "outputs": [
    {
     "name": "stdout",
     "output_type": "stream",
     "text": [
      "                            OLS Estimation Summary                            \n",
      "==============================================================================\n",
      "Dep. Variable:               yearsref   R-squared:                      0.9474\n",
      "Estimator:                        OLS   Adj. R-squared:                 0.9427\n",
      "No. Observations:                  74   F-statistic:                    6492.5\n",
      "Date:                Sun, Jun 21 2020   P-value (F-stat)                0.0000\n",
      "Time:                        17:22:22   Distribution:                  chi2(6)\n",
      "Cov. Estimator:             clustered                                         \n",
      "                                                                              \n",
      "                                  Parameter Estimates                                   \n",
      "========================================================================================\n",
      "                      Parameter  Std. Err.     T-stat    P-value    Lower CI    Upper CI\n",
      "----------------------------------------------------------------------------------------\n",
      "Intercept            -8.527e-14  1.082e-07 -7.883e-07     1.0000   -2.12e-07    2.12e-07\n",
      "fpresenceXpostXtrend     1.1738     0.1126     10.429     0.0000      0.9532      1.3944\n",
      "yr1750                5.684e-14                                                         \n",
      "yr1800                   0.6395     0.3607     1.7731     0.0762     -0.0674      1.3464\n",
      "yr1850                   13.303     3.0705     4.3327     0.0000      7.2854      19.321\n",
      "yr1875                   31.407     3.3976     9.2438     0.0000      24.747      38.066\n",
      "yr1900                   52.391     3.8299     13.679     0.0000      44.884      59.897\n",
      "========================================================================================\n"
     ]
    }
   ],
   "source": [
    "#We use the instrumental variables method of regression here.\n",
    "moFSC = IV2SLS.from_formula(formula, datafs, weights=datafs.totalpop1750)\n",
    "\n",
    "moFS = moFSC.fit(cov_type='clustered', clusters=datafs.id)\n",
    "print(moFS) "
   ]
  },
  {
   "cell_type": "markdown",
   "metadata": {},
   "source": [
    "### Regresion 1 -  2sls estimation"
   ]
  },
  {
   "cell_type": "code",
   "execution_count": 126,
   "metadata": {},
   "outputs": [],
   "source": [
    "#Setting the formula for the regression\n",
    "formulareg1 = 'urbrate ~ 1 + [yearsref ~fpresenceXpostXtrend ] + yr1750 + yr1800 + yr1850 + yr1875 + yr1900'"
   ]
  },
  {
   "cell_type": "code",
   "execution_count": 129,
   "metadata": {},
   "outputs": [
    {
     "name": "stdout",
     "output_type": "stream",
     "text": [
      "                          IV-2SLS Estimation Summary                          \n",
      "==============================================================================\n",
      "Dep. Variable:                urbrate   R-squared:                      0.7692\n",
      "Estimator:                    IV-2SLS   Adj. R-squared:                 0.7485\n",
      "No. Observations:                  74   F-statistic:                    668.20\n",
      "Date:                Sun, Jun 21 2020   P-value (F-stat)                0.0000\n",
      "Time:                        14:30:02   Distribution:                  chi2(6)\n",
      "Cov. Estimator:             clustered                                         \n",
      "                                                                              \n",
      "                             Parameter Estimates                              \n",
      "==============================================================================\n",
      "            Parameter  Std. Err.     T-stat    P-value    Lower CI    Upper CI\n",
      "------------------------------------------------------------------------------\n",
      "Intercept      5.8602     1.4056     4.1690     0.0000      3.1051      8.6152\n",
      "yr1750         2.0330     0.8606     2.3623     0.0182      0.3462      3.7199\n",
      "yr1800         4.1300     0.9891     4.1755     0.0000      2.1914      6.0686\n",
      "yr1850        -1.4008     4.5568    -0.3074     0.7585     -10.332      7.5303\n",
      "yr1875         3.7129     6.9920     0.5310     0.5954     -9.9912      17.417\n",
      "yr1900         10.024     9.9556     1.0069     0.3140     -9.4887      29.537\n",
      "yearsref       0.3728     0.1367     2.7275     0.0064      0.1049      0.6407\n",
      "==============================================================================\n",
      "\n",
      "Endogenous: yearsref\n",
      "Instruments: fpresenceXpostXtrend\n",
      "Clustered Covariance (One-Way)\n",
      "Debiased: False\n",
      "Num Clusters: 13\n"
     ]
    }
   ],
   "source": [
    "#Instrumental Variables regression\n",
    "moireg1 = IV2SLS.from_formula(formulareg1, datafs , weights=datafs.totalpop1750).fit(cov_type='clustered', clusters=datafs.id)\n",
    "print (moireg1) "
   ]
  },
  {
   "cell_type": "markdown",
   "metadata": {},
   "source": [
    "### Regresion 2 - OLS estimation Reform Index"
   ]
  },
  {
   "cell_type": "markdown",
   "metadata": {},
   "source": [
    "It's the same regresion 1 - OLS estimation reform index"
   ]
  },
  {
   "cell_type": "markdown",
   "metadata": {},
   "source": [
    "### Regresion 2 - First Stage"
   ]
  },
  {
   "cell_type": "markdown",
   "metadata": {},
   "source": [
    "There is no regresion 2 with first stage"
   ]
  },
  {
   "cell_type": "markdown",
   "metadata": {},
   "source": [
    "### Regresion 2 -  2sls estimation"
   ]
  },
  {
   "cell_type": "code",
   "execution_count": 204,
   "metadata": {},
   "outputs": [],
   "source": [
    "#Formula for the regression\n",
    "formulaSSS = 'urbrate ~ 1 + [yearsref ~ fpresence1850 + fpresence1875 + fpresence1900] + yr1750 + yr1800 + yr1850 + yr1875 + yr1900'"
   ]
  },
  {
   "cell_type": "code",
   "execution_count": 205,
   "metadata": {},
   "outputs": [],
   "source": [
    "#Instrumantal variables regression.\n",
    "moFSS = IV2SLS.from_formula(formulaSSS, datafs , weights=datafs.totalpop1750)\n",
    "moFSSS = moFSS.fit()"
   ]
  },
  {
   "cell_type": "code",
   "execution_count": 206,
   "metadata": {},
   "outputs": [],
   "source": [
    "moFSSS_clustered = moFSS.fit(cov_type='clustered', clusters=datafs.id)"
   ]
  },
  {
   "cell_type": "code",
   "execution_count": 207,
   "metadata": {},
   "outputs": [
    {
     "name": "stdout",
     "output_type": "stream",
     "text": [
      "                          IV-2SLS Estimation Summary                          \n",
      "==============================================================================\n",
      "Dep. Variable:                urbrate   R-squared:                      0.7679\n",
      "Estimator:                    IV-2SLS   Adj. R-squared:                 0.7471\n",
      "No. Observations:                  74   F-statistic:                    667.49\n",
      "Date:                Sun, Jun 21 2020   P-value (F-stat)                0.0000\n",
      "Time:                        17:23:38   Distribution:                  chi2(6)\n",
      "Cov. Estimator:             clustered                                         \n",
      "                                                                              \n",
      "                             Parameter Estimates                              \n",
      "==============================================================================\n",
      "            Parameter  Std. Err.     T-stat    P-value    Lower CI    Upper CI\n",
      "------------------------------------------------------------------------------\n",
      "Intercept      5.8602     1.4056     4.1690     0.0000      3.1051      8.6152\n",
      "yr1750         2.0330     0.8606     2.3623     0.0182      0.3462      3.7199\n",
      "yr1800         4.1224     0.9879     4.1731     0.0000      2.1863      6.0586\n",
      "yr1850        -1.6952     4.6706    -0.3630     0.7166     -10.849      7.4590\n",
      "yr1875         3.2034     7.1426     0.4485     0.6538     -10.796      17.203\n",
      "yr1900         9.2654     10.160     0.9120     0.3618     -10.647      29.178\n",
      "yearsref       0.3846     0.1397     2.7532     0.0059      0.1108      0.6584\n",
      "==============================================================================\n",
      "\n",
      "Endogenous: yearsref\n",
      "Instruments: fpresence1850, fpresence1875, fpresence1900\n",
      "Clustered Covariance (One-Way)\n",
      "Debiased: False\n",
      "Num Clusters: 13\n"
     ]
    }
   ],
   "source": [
    "print (moFSSS_clustered)  "
   ]
  },
  {
   "cell_type": "markdown",
   "metadata": {},
   "source": [
    "### Regresion 3 - OLS estimation Reform Index"
   ]
  },
  {
   "cell_type": "code",
   "execution_count": 170,
   "metadata": {},
   "outputs": [
    {
     "name": "stdout",
     "output_type": "stream",
     "text": [
      "                          PanelOLS Estimation Summary                           \n",
      "================================================================================\n",
      "Dep. Variable:                urbrate   R-squared:                        0.1086\n",
      "Estimator:                   PanelOLS   R-squared (Between):              0.0835\n",
      "No. Observations:                  74   R-squared (Within):               0.5764\n",
      "Date:                Sun, Jun 21 2020   R-squared (Overall):              0.4688\n",
      "Time:                        17:12:53   Log-likelihood                   -224.72\n",
      "Cov. Estimator:             Clustered                                           \n",
      "                                        F-statistic:                      6.7002\n",
      "Entities:                          13   P-value                           0.0123\n",
      "Avg Obs:                       5.6923   Distribution:                    F(1,55)\n",
      "Min Obs:                       5.0000                                           \n",
      "Max Obs:                       6.0000   F-statistic (robust):             2.8537\n",
      "                                        P-value                           0.0968\n",
      "Time periods:                       6   Distribution:                    F(1,55)\n",
      "Avg Obs:                       12.333                                           \n",
      "Min Obs:                       9.0000                                           \n",
      "Max Obs:                       13.000                                           \n",
      "                                                                                \n",
      "                             Parameter Estimates                              \n",
      "==============================================================================\n",
      "            Parameter  Std. Err.     T-stat    P-value    Lower CI    Upper CI\n",
      "------------------------------------------------------------------------------\n",
      "const          12.196     3.0218     4.0361     0.0002      6.1404      18.252\n",
      "yearsref       0.2196     0.1300     1.6893     0.0968     -0.0409      0.4800\n",
      "==============================================================================\n",
      "\n",
      "F-test for Poolability: 7.5427\n",
      "P-value: 0.0000\n",
      "Distribution: F(17,55)\n",
      "\n",
      "Included effects: Entity, Time\n"
     ]
    }
   ],
   "source": [
    "#We use the same database for reg 1\n",
    "modF3 = PanelOLS(data6.urbrate, exogF1, weights=None , entity_effects=True,time_effects=True, other_effects=None)\n",
    "regF3 = modF3.fit(cov_type='clustered', clusters=data6.ident)\n",
    "\n",
    "print(regF3) "
   ]
  },
  {
   "cell_type": "markdown",
   "metadata": {},
   "source": [
    "### Regresion 3 - First Stage"
   ]
  },
  {
   "cell_type": "code",
   "execution_count": 184,
   "metadata": {},
   "outputs": [
    {
     "name": "stdout",
     "output_type": "stream",
     "text": [
      "                            OLS Estimation Summary                            \n",
      "==============================================================================\n",
      "Dep. Variable:               yearsref   R-squared:                      0.9329\n",
      "Estimator:                        OLS   Adj. R-squared:                 0.9269\n",
      "No. Observations:                  74   F-statistic:                    2310.5\n",
      "Date:                Sun, Jun 21 2020   P-value (F-stat)                0.0000\n",
      "Time:                        17:22:52   Distribution:                  chi2(6)\n",
      "Cov. Estimator:             clustered                                         \n",
      "                                                                              \n",
      "                                  Parameter Estimates                                   \n",
      "========================================================================================\n",
      "                      Parameter  Std. Err.     T-stat    P-value    Lower CI    Upper CI\n",
      "----------------------------------------------------------------------------------------\n",
      "Intercept             2.842e-14                                                         \n",
      "fpresenceXpostXtrend     1.1057     0.1569     7.0467     0.0000      0.7981      1.4132\n",
      "yr1750                5.684e-14                                                         \n",
      "yr1800                   0.5962     0.3403     1.7520     0.0798     -0.0708      1.2631\n",
      "yr1850                   13.828     3.4741     3.9804     0.0001      7.0193      20.638\n",
      "yr1875                   31.716     3.8517     8.2342     0.0000      24.167      39.265\n",
      "yr1900                   52.238     4.2463     12.302     0.0000      43.915      60.561\n",
      "========================================================================================\n"
     ]
    }
   ],
   "source": [
    "moFSU = IV2SLS.from_formula(formula, datafs, weights=None).fit(cov_type='clustered', clusters=datafs.id)\n",
    "print (moFSU)  "
   ]
  },
  {
   "cell_type": "markdown",
   "metadata": {},
   "source": [
    "### Regresion 3 - 2SLS estimation"
   ]
  },
  {
   "cell_type": "code",
   "execution_count": 185,
   "metadata": {},
   "outputs": [
    {
     "name": "stdout",
     "output_type": "stream",
     "text": [
      "                          IV-2SLS Estimation Summary                          \n",
      "==============================================================================\n",
      "Dep. Variable:                urbrate   R-squared:                      0.6817\n",
      "Estimator:                    IV-2SLS   Adj. R-squared:                 0.6532\n",
      "No. Observations:                  74   F-statistic:                    318.14\n",
      "Date:                Sun, Jun 21 2020   P-value (F-stat)                0.0000\n",
      "Time:                        17:22:55   Distribution:                  chi2(6)\n",
      "Cov. Estimator:             clustered                                         \n",
      "                                                                              \n",
      "                             Parameter Estimates                              \n",
      "==============================================================================\n",
      "            Parameter  Std. Err.     T-stat    P-value    Lower CI    Upper CI\n",
      "------------------------------------------------------------------------------\n",
      "Intercept      4.9657     1.3845     3.5866     0.0003      2.2521      7.6793\n",
      "yr1750         2.7389     1.2418     2.2056     0.0274      0.3050      5.1729\n",
      "yr1800         5.1266     1.2685     4.0416     0.0001      2.6404      7.6127\n",
      "yr1850         2.3315     5.4844     0.4251     0.6707     -8.4177      13.081\n",
      "yr1875         9.0805     8.9850     1.0106     0.3122     -8.5297      26.691\n",
      "yr1900         18.725     13.438     1.3934     0.1635     -7.6129      45.064\n",
      "yearsref       0.2434     0.2092     1.1635     0.2446     -0.1666      0.6534\n",
      "==============================================================================\n",
      "\n",
      "Endogenous: yearsref\n",
      "Instruments: fpresenceXpostXtrend\n",
      "Clustered Covariance (One-Way)\n",
      "Debiased: False\n",
      "Num Clusters: 13\n"
     ]
    }
   ],
   "source": [
    "moireg3 = IV2SLS.from_formula(formulareg1, datafs , weights=None).fit(cov_type='clustered', clusters=datafs.id)\n",
    "print (moireg3) "
   ]
  },
  {
   "cell_type": "markdown",
   "metadata": {},
   "source": [
    "### Regresion 4 - OLS estimation Reform Index"
   ]
  },
  {
   "cell_type": "code",
   "execution_count": 186,
   "metadata": {},
   "outputs": [],
   "source": [
    "#Same method in regression 1\n",
    "datall = dataF"
   ]
  },
  {
   "cell_type": "code",
   "execution_count": 187,
   "metadata": {},
   "outputs": [],
   "source": [
    "year = pd.Categorical(datall.year)\n",
    "datall['ident']=datall.id\n",
    "datall = datall.set_index(['id', 'year'])\n",
    "datall['year'] = year"
   ]
  },
  {
   "cell_type": "code",
   "execution_count": 188,
   "metadata": {},
   "outputs": [],
   "source": [
    "exog_FF = ['yearsref']\n",
    "exogFF = sm.add_constant(datall[exog_FF])"
   ]
  },
  {
   "cell_type": "code",
   "execution_count": 189,
   "metadata": {},
   "outputs": [
    {
     "name": "stdout",
     "output_type": "stream",
     "text": [
      "                          PanelOLS Estimation Summary                           \n",
      "================================================================================\n",
      "Dep. Variable:                urbrate   R-squared:                        0.1799\n",
      "Estimator:                   PanelOLS   R-squared (Between):              0.1891\n",
      "No. Observations:                 109   R-squared (Within):               0.6857\n",
      "Date:                Sun, Jun 21 2020   R-squared (Overall):              0.5568\n",
      "Time:                        17:22:57   Log-likelihood                   -311.90\n",
      "Cov. Estimator:             Clustered                                           \n",
      "                                        F-statistic:                      175.36\n",
      "Entities:                          19   P-value                           0.0000\n",
      "Avg Obs:                       5.7368   Distribution:                    F(1,84)\n",
      "Min Obs:                       5.0000                                           \n",
      "Max Obs:                       6.0000   F-statistic (robust):             5.0893\n",
      "                                        P-value                           0.0267\n",
      "Time periods:                       6   Distribution:                    F(1,84)\n",
      "Avg Obs:                       18.167                                           \n",
      "Min Obs:                       14.000                                           \n",
      "Max Obs:                       19.000                                           \n",
      "                                                                                \n",
      "                             Parameter Estimates                              \n",
      "==============================================================================\n",
      "            Parameter  Std. Err.     T-stat    P-value    Lower CI    Upper CI\n",
      "------------------------------------------------------------------------------\n",
      "const          12.369     2.7567     4.4869     0.0000      6.8871      17.851\n",
      "yearsref       0.2678     0.1187     2.2560     0.0267      0.0317      0.5038\n",
      "==============================================================================\n",
      "\n",
      "F-test for Poolability: 11.455\n",
      "P-value: 0.0000\n",
      "Distribution: F(23,84)\n",
      "\n",
      "Included effects: Entity, Time\n"
     ]
    }
   ],
   "source": [
    "modFF = PanelOLS(datall.urbrate, exogFF, weights=datall.totalpop1750 , entity_effects=True,time_effects=True, other_effects=None)\n",
    "regFF = modFF.fit(cov_type='clustered', clusters=datall.ident)\n",
    "print(regFF) "
   ]
  },
  {
   "cell_type": "markdown",
   "metadata": {},
   "source": [
    "### Regresion 4 - First Stage"
   ]
  },
  {
   "cell_type": "code",
   "execution_count": 190,
   "metadata": {},
   "outputs": [],
   "source": [
    "datall4 = pd.read_stata(pathout + 'replication_dataset.dta')"
   ]
  },
  {
   "cell_type": "code",
   "execution_count": 191,
   "metadata": {},
   "outputs": [],
   "source": [
    "datall4 = datall4.dropna()"
   ]
  },
  {
   "cell_type": "code",
   "execution_count": 192,
   "metadata": {},
   "outputs": [],
   "source": [
    "moFS4 = IV2SLS.from_formula(formula, datall4, weights=datall4.totalpop1750).fit(cov_type='clustered', clusters=datall4.id)"
   ]
  },
  {
   "cell_type": "code",
   "execution_count": 193,
   "metadata": {},
   "outputs": [
    {
     "name": "stdout",
     "output_type": "stream",
     "text": [
      "                            OLS Estimation Summary                            \n",
      "==============================================================================\n",
      "Dep. Variable:               yearsref   R-squared:                      0.9366\n",
      "Estimator:                        OLS   Adj. R-squared:                 0.9329\n",
      "No. Observations:                 108   F-statistic:                    3844.3\n",
      "Date:                Sun, Jun 21 2020   P-value (F-stat)                0.0000\n",
      "Time:                        17:22:58   Distribution:                  chi2(6)\n",
      "Cov. Estimator:             clustered                                         \n",
      "                                                                              \n",
      "                                  Parameter Estimates                                   \n",
      "========================================================================================\n",
      "                      Parameter  Std. Err.     T-stat    P-value    Lower CI    Upper CI\n",
      "----------------------------------------------------------------------------------------\n",
      "Intercept            -5.684e-14  1.053e-07 -5.396e-07     1.0000  -2.065e-07   2.065e-07\n",
      "fpresenceXpostXtrend     1.0223     0.1061     9.6339     0.0000      0.8143      1.2302\n",
      "yr1750                2.842e-14  1.196e-07  2.377e-07     1.0000  -2.343e-07   2.343e-07\n",
      "yr1800                   0.4550     0.2677     1.6995     0.0892     -0.0697      0.9797\n",
      "yr1850                   17.780     2.6095     6.8137     0.0000      12.666      22.895\n",
      "yr1875                   35.757     2.9119     12.280     0.0000      30.050      41.464\n",
      "yr1900                   56.111     3.0293     18.523     0.0000      50.174      62.048\n",
      "========================================================================================\n"
     ]
    }
   ],
   "source": [
    "print(moFS4) "
   ]
  },
  {
   "cell_type": "markdown",
   "metadata": {},
   "source": [
    "### Regresion 4 - 2sls estimation"
   ]
  },
  {
   "cell_type": "code",
   "execution_count": 194,
   "metadata": {},
   "outputs": [],
   "source": [
    "mo2S4 = IV2SLS.from_formula(formulareg1, datall4, weights=datall4.totalpop1750).fit(cov_type='clustered', clusters=datall4.id)"
   ]
  },
  {
   "cell_type": "code",
   "execution_count": 195,
   "metadata": {},
   "outputs": [
    {
     "name": "stdout",
     "output_type": "stream",
     "text": [
      "                          IV-2SLS Estimation Summary                          \n",
      "==============================================================================\n",
      "Dep. Variable:                urbrate   R-squared:                      0.7040\n",
      "Estimator:                    IV-2SLS   Adj. R-squared:                 0.6864\n",
      "No. Observations:                 108   F-statistic:                    411.60\n",
      "Date:                Sun, Jun 21 2020   P-value (F-stat)                0.0000\n",
      "Time:                        17:22:58   Distribution:                  chi2(6)\n",
      "Cov. Estimator:             clustered                                         \n",
      "                                                                              \n",
      "                             Parameter Estimates                              \n",
      "==============================================================================\n",
      "            Parameter  Std. Err.     T-stat    P-value    Lower CI    Upper CI\n",
      "------------------------------------------------------------------------------\n",
      "Intercept      7.2681     1.6246     4.4739     0.0000      4.0840      10.452\n",
      "yr1750         1.3203     0.8822     1.4966     0.1345     -0.4088      3.0495\n",
      "yr1800         3.3882     0.8989     3.7694     0.0002      1.6265      5.1499\n",
      "yr1850        -0.9632     4.5229    -0.2130     0.8314     -9.8280      7.9016\n",
      "yr1875         4.8843     7.1306     0.6850     0.4934     -9.0914      18.860\n",
      "yr1900         11.836     10.373     1.1411     0.2538     -8.4942      32.166\n",
      "yearsref       0.3335     0.1492     2.2344     0.0255      0.0410      0.6260\n",
      "==============================================================================\n",
      "\n",
      "Endogenous: yearsref\n",
      "Instruments: fpresenceXpostXtrend\n",
      "Clustered Covariance (One-Way)\n",
      "Debiased: False\n",
      "Num Clusters: 19\n"
     ]
    }
   ],
   "source": [
    "print (mo2S4)  "
   ]
  },
  {
   "cell_type": "markdown",
   "metadata": {},
   "source": [
    "### Regresion 5 - OLS estimation Reform Index"
   ]
  },
  {
   "cell_type": "code",
   "execution_count": 196,
   "metadata": {},
   "outputs": [
    {
     "name": "stdout",
     "output_type": "stream",
     "text": [
      "                          PanelOLS Estimation Summary                           \n",
      "================================================================================\n",
      "Dep. Variable:                urbrate   R-squared:                        0.0745\n",
      "Estimator:                   PanelOLS   R-squared (Between):              0.1907\n",
      "No. Observations:                 169   R-squared (Within):               0.5388\n",
      "Date:                Sun, Jun 21 2020   R-squared (Overall):              0.4288\n",
      "Time:                        17:22:59   Log-likelihood                   -503.53\n",
      "Cov. Estimator:             Clustered                                           \n",
      "                                        F-statistic:                      11.184\n",
      "Entities:                          19   P-value                           0.0011\n",
      "Avg Obs:                       8.8947   Distribution:                   F(1,139)\n",
      "Min Obs:                       5.0000                                           \n",
      "Max Obs:                       11.000   F-statistic (robust):             2.3976\n",
      "                                        P-value                           0.1238\n",
      "Time periods:                      11   Distribution:                   F(1,139)\n",
      "Avg Obs:                       15.364                                           \n",
      "Min Obs:                       12.000                                           \n",
      "Max Obs:                       19.000                                           \n",
      "                                                                                \n",
      "                             Parameter Estimates                              \n",
      "==============================================================================\n",
      "            Parameter  Std. Err.     T-stat    P-value    Lower CI    Upper CI\n",
      "------------------------------------------------------------------------------\n",
      "const          16.928     4.3779     3.8667     0.0002      8.2724      25.584\n",
      "yearsref       0.1886     0.1218     1.5484     0.1238     -0.0522      0.4293\n",
      "==============================================================================\n",
      "\n",
      "F-test for Poolability: 17.422\n",
      "P-value: 0.0000\n",
      "Distribution: F(28,139)\n",
      "\n",
      "Included effects: Entity, Time\n"
     ]
    }
   ],
   "source": [
    "modFFU = PanelOLS(datall.urbrate, exogFF, weights=None , entity_effects=True,time_effects=True, other_effects=None)\n",
    "regFFU = modFFU.fit(cov_type='clustered', clusters=datall.ident)\n",
    "print(regFFU) "
   ]
  },
  {
   "cell_type": "markdown",
   "metadata": {},
   "source": [
    "### Regresion 5 - First Stage"
   ]
  },
  {
   "cell_type": "code",
   "execution_count": 197,
   "metadata": {},
   "outputs": [],
   "source": [
    "moFS4U = IV2SLS.from_formula(formula,datall4, weights=None).fit(cov_type='clustered', clusters=datall4.id)"
   ]
  },
  {
   "cell_type": "code",
   "execution_count": 198,
   "metadata": {},
   "outputs": [
    {
     "name": "stdout",
     "output_type": "stream",
     "text": [
      "                            OLS Estimation Summary                            \n",
      "==============================================================================\n",
      "Dep. Variable:               yearsref   R-squared:                      0.9215\n",
      "Estimator:                        OLS   Adj. R-squared:                 0.9168\n",
      "No. Observations:                 108   F-statistic:                    4172.5\n",
      "Date:                Sun, Jun 21 2020   P-value (F-stat)                0.0000\n",
      "Time:                        17:22:59   Distribution:                  chi2(6)\n",
      "Cov. Estimator:             clustered                                         \n",
      "                                                                              \n",
      "                                  Parameter Estimates                                   \n",
      "========================================================================================\n",
      "                      Parameter  Std. Err.     T-stat    P-value    Lower CI    Upper CI\n",
      "----------------------------------------------------------------------------------------\n",
      "Intercept                0.0000                                                         \n",
      "fpresenceXpostXtrend     0.9611     0.1444     6.6567     0.0000      0.6781      1.2440\n",
      "yr1750               -2.842e-14                                                         \n",
      "yr1800                   0.4079     0.2413     1.6901     0.0910     -0.0651      0.8809\n",
      "yr1850                   17.724     2.5213     7.0298     0.0000      12.783      22.666\n",
      "yr1875                   35.266     2.8989     12.165     0.0000      29.584      40.948\n",
      "yr1900                   55.242     3.0465     18.133     0.0000      49.271      61.213\n",
      "========================================================================================\n"
     ]
    }
   ],
   "source": [
    "print(moFS4U)  "
   ]
  },
  {
   "cell_type": "markdown",
   "metadata": {},
   "source": [
    "### Regresion 5 - 2sls estimation\n"
   ]
  },
  {
   "cell_type": "code",
   "execution_count": 199,
   "metadata": {},
   "outputs": [],
   "source": [
    "mo2S4U = IV2SLS.from_formula(formulareg1, datall4, weights=None).fit(cov_type='clustered', clusters=datall4.id)"
   ]
  },
  {
   "cell_type": "code",
   "execution_count": 200,
   "metadata": {},
   "outputs": [
    {
     "name": "stdout",
     "output_type": "stream",
     "text": [
      "                          IV-2SLS Estimation Summary                          \n",
      "==============================================================================\n",
      "Dep. Variable:                urbrate   R-squared:                      0.6504\n",
      "Estimator:                    IV-2SLS   Adj. R-squared:                 0.6297\n",
      "No. Observations:                 108   F-statistic:                    182.74\n",
      "Date:                Sun, Jun 21 2020   P-value (F-stat)                0.0000\n",
      "Time:                        17:23:00   Distribution:                  chi2(6)\n",
      "Cov. Estimator:             clustered                                         \n",
      "                                                                              \n",
      "                             Parameter Estimates                              \n",
      "==============================================================================\n",
      "            Parameter  Std. Err.     T-stat    P-value    Lower CI    Upper CI\n",
      "------------------------------------------------------------------------------\n",
      "Intercept      6.4243     1.4682     4.3756     0.0000      3.5466      9.3019\n",
      "yr1750         1.6655     1.0383     1.6040     0.1087     -0.3695      3.7004\n",
      "yr1800         4.2922     1.0377     4.1363     0.0000      2.2584      6.3260\n",
      "yr1850         3.0205     5.6912     0.5307     0.5956     -8.1341      14.175\n",
      "yr1875         10.513     9.3748     1.1214     0.2621     -7.8617      28.887\n",
      "yr1900         20.185     13.956     1.4463     0.1481     -7.1685      47.539\n",
      "yearsref       0.1987     0.2233     0.8897     0.3736     -0.2390      0.6363\n",
      "==============================================================================\n",
      "\n",
      "Endogenous: yearsref\n",
      "Instruments: fpresenceXpostXtrend\n",
      "Clustered Covariance (One-Way)\n",
      "Debiased: False\n",
      "Num Clusters: 19\n"
     ]
    }
   ],
   "source": [
    "print (mo2S4U)"
   ]
  },
  {
   "cell_type": "code",
   "execution_count": 201,
   "metadata": {},
   "outputs": [],
   "source": [
    "pystout(models=[regF1, regF1 , regF3, regFF, regFFU],\n",
    "        file='tabla6ols.tex',\n",
    "        addnotes=['*$p < 0.1$ , ** $p < 0.05$ , *** $p < 0.01$',\n",
    "                  'Standar errors in parentheses.'],\n",
    "        digits=3,\n",
    "        endog_names=['Weighted','Weighted overid','Unweighted','Weighted','Unweighted'],\n",
    "        varlabels={'const':'Constant','displacement':'Disp','mpg':'MPG'},\n",
    "        \n",
    "        mgroups={'West of the Elbe':[1,2,3],'All':[4,5]},\n",
    "        modstat={'nobs':'Obs','rsquared':'R\\sym{2}','fvalue':'F-stat'},\n",
    "        stars={.1:'*',.05:'**',.01:'***'}\n",
    "        )"
   ]
  },
  {
   "cell_type": "code",
   "execution_count": 202,
   "metadata": {},
   "outputs": [
    {
     "name": "stderr",
     "output_type": "stream",
     "text": [
      "/Users/juanestebanrincon/opt/anaconda3/envs/GeoPython38env/lib/python3.8/site-packages/pystout/pystout.py:186: RuntimeWarning: invalid value encountered in double_scalars\n",
      "  y = m.cov.loc[x,x]**.5\n"
     ]
    }
   ],
   "source": [
    "pystout(models=[moFS ,moFS, moFSU, moFS4, moFS4U],\n",
    "        file='tabla6fs.tex',\n",
    "        addnotes=['*$p < 0.1$ , ** $p < 0.05$ , *** $p < 0.01$',\n",
    "                  'Standar errors in parentheses.'],\n",
    "        digits=3,\n",
    "        endog_names=['Weighted','Weighted overid','Unweighted','Weighted','Unweighted'],\n",
    "        varlabels={'const':'Constant','displacement':'Disp','mpg':'MPG'},\n",
    "        \n",
    "        mgroups={'West of the Elbe':[1,3],'All':[4,5]},\n",
    "        modstat={'nobs':'Obs','rsquared':'R\\sym{2}','fvalue':'F-stat'},\n",
    "        stars={.1:'*',.05:'**',.01:'***'}\n",
    "        )"
   ]
  },
  {
   "cell_type": "code",
   "execution_count": 208,
   "metadata": {},
   "outputs": [],
   "source": [
    "\n",
    "\n",
    "pystout(models=[moireg1, moFSSS_clustered, moireg3 ,mo2S4, mo2S4U],\n",
    "        file='tabla62l.tex',\n",
    "        addnotes=['*$p < 0.1$ , ** $p < 0.05$ , *** $p < 0.01$',\n",
    "                  'Standar errors in parentheses.'],\n",
    "        digits=3,\n",
    "        endog_names=['Weighted','Weighted overid','Unweighted','Weighted','Unweighted'],\n",
    "        varlabels={'const':'Constant','displacement':'Disp','mpg':'MPG'},\n",
    "        \n",
    "        mgroups={'West of the Elbe':[1,3],'All':[4,5]},\n",
    "        modstat={'nobs':'Obs','rsquared':'R\\sym{2}','fvalue':'F-stat'},\n",
    "        stars={.1:'*',.05:'**',.01:'***'}\n",
    "        )"
   ]
  },
  {
   "cell_type": "markdown",
   "metadata": {},
   "source": [
    "## Conclusions"
   ]
  },
  {
   "cell_type": "markdown",
   "metadata": {},
   "source": [
    "Thanks to Daron Acemoglu, Davide Cantoni, Simon Johnson, and James A. Robinson we were able to test the way on which the French revolution had an impact on the territories subjected. This impact was made by the institutions that the revolution was able to impose in some German territories. Evidently, the territories with te greater effect were those who had more years of French presence. There was a doubt that the imposed policies could have a negative effect on economic growth but authonr's found no evidence of this. In fact, the authors were able to show that the french revolution had a positive effects over urbanization rates and therefore over development and economic growth. \n",
    "\n",
    "This results is important because it shows that depending on the kind of imposed politics and on the context, we can get a positive effect in the long run. For the case of the French revolution we saw that, old German institutions like feudal land and labor relations, urban oligarchies and guilds, and lack of equality before the law, were in fact delaying the economic growth and prosperity.\n",
    "\n",
    "As the author's said, is important to remember that results from one historical episode cannot always be extrapolated to other eras, and as I said before, all depends on the context. We can now start thinking about what are these institutional or cultural characteristics in those, this imposed politics can have a positive effect."
   ]
  },
  {
   "cell_type": "markdown",
   "metadata": {},
   "source": [
    "## BIBLIOGRAPHY\n",
    "\n",
    "- Acemoglu D. Cantoni D. Johnson S. Robinson J. (2011). American Economic Review 101, pages 3286–3307. Available Online: http://www.aeaweb.org/articles.php?doi=10.1257/aer.101.7.3286\n",
    "\n",
    "\n",
    "- Open ICPSR. (2019). Replication data for: The Consequences of Radical Reform: The French Revolution. Avalaible online: https://www.openicpsr.org/openicpsr/project/112481/version/V1/view;jsessionid=3DB87FB5E54F68F038A0B2C1A8DB246D?path=/openicpsr/112481/fcr:versions/V1/20100816_replication10&type=folder\n",
    "\n",
    "\n",
    "- Ozak O. (2020). Economic data analisys. Available online: https://github.com/econgrowth/econgrowth.github.io/blob/master/notebooks/EconomicDataAnalysis.ipynb\n",
    "\n",
    "\n",
    "- Sullivan D. Stata to Python Equivalents. Available online:\n",
    "http://www.danielmsullivan.com/pages/tutorial_stata_to_python.html\n",
    "\n",
    "\n",
    "- Sheppard K. (2017). Models for Panel Data. Available online: https://bashtage.github.io/linearmodels/doc/panel/models.html#linearmodels.panel.model.PanelOLS\n",
    "\n",
    "\n",
    "- Sheppard K. (2017).Instrumental Variable Estimation. Available online: \n",
    "https://bashtage.github.io/linearmodels/doc/iv/index.html\n",
    "\n"
   ]
  }
 ],
 "metadata": {
  "kernelspec": {
   "display_name": "Python 3",
   "language": "python",
   "name": "python3"
  },
  "language_info": {
   "codemirror_mode": {
    "name": "ipython",
    "version": 3
   },
   "file_extension": ".py",
   "mimetype": "text/x-python",
   "name": "python",
   "nbconvert_exporter": "python",
   "pygments_lexer": "ipython3",
   "version": "3.8.3"
  },
  "nbTranslate": {
   "displayLangs": [
    "*"
   ],
   "hotkey": "alt-t",
   "langInMainMenu": true,
   "sourceLang": "en",
   "targetLang": "fr",
   "useGoogleTranslate": true
  }
 },
 "nbformat": 4,
 "nbformat_minor": 4
}
