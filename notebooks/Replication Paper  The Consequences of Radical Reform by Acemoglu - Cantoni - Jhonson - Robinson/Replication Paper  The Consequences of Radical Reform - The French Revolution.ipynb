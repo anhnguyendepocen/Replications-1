{
 "cells": [
  {
   "cell_type": "markdown",
   "metadata": {},
   "source": [
    "# Replication Paper - The Consequences of Radical Reform: The French Revolution, By Daron Acemoglu, Davide Cantoni, Simon Johnson, and James A. Robinson\n",
    "\n",
    "### Juan Esteban Rincon Poveda"
   ]
  },
  {
   "cell_type": "markdown",
   "metadata": {},
   "source": [
    "\n",
    "## Introduction\n",
    "The paper \"The Consequences of Radical Reform: The French Revolution\" by Daron Acemoglu, Davide Cantoni, Simon Johnson, and James A. Robinson, analyze the effect that the institutional changes introduced by the French revolution had in Europe. Most exactly, the effect of this imposed changes in politics, in some German territories.\n",
    "The political changes imposed during the French Revolution were: civil legal code, the abolition of guilds and the remnants of feudalism, the introduction of equality before the law, and the undermining of aristocratic privileges.\n",
    "The idea is that this changes could have had an effect over the economic growth of some territories, but this effect can be negative, via the negative results of having imposed politics of a foreign country or positive via the elimination of the oligarchies, some entry barriers, and restrictions on trade in labor and other markets.\n",
    "\n",
    "The authors, start with an analysis of the relationship between the years of French occupation in each territory and the urbanization rate, using this as an estimate of \"French treatment\" and economic prosperity respectively. Then, they look for a relationship between the changes in polities, institutional outcomes and long term economic growth, by using data of the moment in which the institutional reforms where implemented. As it will be shown later, the authors find \"no evidence that the reforms imposed by the French had negative economic consequences. On the contrary, evidence from a variety of different empirical strategies shows that they had positive effects\" (p 3287).\n",
    "\n",
    "#### Historical Overview\n",
    "Before the French Revolution, Europe was mostly dominated by two big oligarchies; the landed nobility in agriculture and the urban-based oligarchy controlling commerce. A certain type of feudalism remained working with unfree labor relationships and serfdom. In some special cases, serfdom was replaced with different types of taxes that had to been paid to landowners. On the other hand, there were many occupations controlled by guilds, who could control the entry to those professions and in some cases restrict the adoption of new technologies.\n",
    "\n",
    "By 1795 with napoleon's leadership, France had begun to control some territories, and even in 1802 territories like Rhineland were officially incorporated into France. Many of the institutional changes were introduced during the invasion of the French revolutionary armies. For example, between 1795 and 1798 the seigneurial regime and the guilds were abolished, therefore, as we will see, it was approximately during this period where many of the imposed changes occured. Most of this reforms remained until 1815 after the final colapse of Napoleon, and depending on the circumstances some of those reforms were suppressed or not. "
   ]
  },
  {
   "cell_type": "markdown",
   "metadata": {},
   "source": [
    "#### Data\n",
    "For the investigation, the authors use information period 1798 - 1900, about 19 different preunity policies in Germany, some of which are independent states or provinces of larger states. Some of these territories will be used as a treatment group with 1 year or more of French control, and some others as control group without any year of French control. Besides, an index of reforms will be created by adding the number of years each particular reform had been in place and dividing by 4. This index will help the authors later to make clearer the difference between the treatment group and the control group.\n",
    "\n",
    "Also the urbanization rate will be used as a measure of economic prosperity, and data on the sectoral composition of employment for 64 German districts for the years 1849, 1882, 1895, and 1907, as a measure of industrialization."
   ]
  },
  {
   "cell_type": "markdown",
   "metadata": {},
   "source": [
    "## Replication\n"
   ]
  },
  {
   "cell_type": "markdown",
   "metadata": {},
   "source": [
    "#### Before start:\n",
    "\n",
    "- The replication will follow the next order:\n",
    "\n",
    "\n",
    "    1. A short introducction to the figure (table or graph) and what was the idea of each.\n",
    "    \n",
    "    2. Show the original figure made by the authors.\n",
    "    \n",
    "    3. If available, show the stata commands used by the authors.\n",
    "    \n",
    "    4. Show the replication\n",
    "    \n",
    "    5. Show the python commands that I used to make the replication.\n",
    "    \n",
    "    \n",
    "- Also, I use the usual significance levels in economy literature.\n",
    "\n",
    " `*p < 0.1 , ** p < 0.05 , *** p < 0.01`\n",
    " \n",
    "\n",
    " - For regressions I will use linearmodels package and for the regression tables pystout package.\n",
    " "
   ]
  },
  {
   "cell_type": "markdown",
   "metadata": {},
   "source": [
    "On the bibliography you can find all the files I will use for the repliction. These files are:\n",
    "\n",
    "\n",
    "1. `replication_dataset_t5:`This is the main dataset with urbanization data for 19 pre-unitary German polities, and a series of covariates\n",
    "\n",
    "2. `replication_dataset:` This is the dataset with data on sectoral shares of employment, needed for Table 5.\n",
    "\n",
    "3. `20100816_replication10:` This is the do-file to replicate tables 2–6 of the paper."
   ]
  },
  {
   "cell_type": "code",
   "execution_count": 4,
   "metadata": {},
   "outputs": [
    {
     "name": "stdout",
     "output_type": "stream",
     "text": [
      "Using matplotlib backend: MacOSX\n",
      "Populating the interactive namespace from numpy and matplotlib\n"
     ]
    }
   ],
   "source": [
    "\n",
    "#Import all the packages\n",
    "from __future__ import division\n",
    "%pylab --no-import-all\n",
    "%matplotlib inline\n",
    "import pandas as pd\n",
    "import numpy as np\n",
    "import os\n",
    "\n",
    "\n",
    "pathout = './data/'\n",
    "\n",
    "if not os.path.exists(pathout):\n",
    "    os.mkdir(pathout)\n",
    "    \n",
    "pathgraphs = './graphs/'\n",
    "if not os.path.exists(pathgraphs):\n",
    "    os.mkdir(pathgraphs)\n",
    "    \n",
    "    import matplotlib as mpl\n",
    "import seaborn as sns\n",
    "sns.set()"
   ]
  },
  {
   "cell_type": "code",
   "execution_count": 5,
   "metadata": {},
   "outputs": [],
   "source": [
    "#Import the first database\n",
    "data1 = pd.read_stata(pathout + 'replication_dataset.dta')"
   ]
  },
  {
   "cell_type": "markdown",
   "metadata": {},
   "source": [
    "# Table 1 - Territories And Reforms\n",
    "\n",
    "As we will see later, the authors will use 3 main groups. Panel A, panel B, and panel C. All the calculations will be made using the total population in 1750 as weights and without using it. Also, there will be some regressions made for the whole sample and only for West of the Elbe. This is because, the west of the Elbe in Germany was a place invaded, ruled directly by France or through satellite states, and reformed.\n",
    "\n",
    "The civil code, years of French presence, abolition of serfdom, etc, will be used to make an index to catch if the French revolution had or not an important control over the territories.\n",
    "\n",
    "For example, in table 1 the reforms index is on average, higher in Panel A for years 1850 and 1900. We will use this variable as dependent for some regressions later."
   ]
  },
  {
   "cell_type": "markdown",
   "metadata": {},
   "source": [
    "## Original"
   ]
  },
  {
   "cell_type": "markdown",
   "metadata": {},
   "source": [
    "\n",
    "![Imagen](img/Tabla1.png)\n"
   ]
  },
  {
   "cell_type": "markdown",
   "metadata": {},
   "source": [
    "## Replication\n",
    "For table 1 we have some general information about the main variables that the authors use. I decide to make the tables on latex in order to get something similar to those made by the authors. The information here is all contained in the database."
   ]
  },
  {
   "cell_type": "markdown",
   "metadata": {},
   "source": [
    "#### Table 1 — Replication. Territories and Reforms"
   ]
  },
  {
   "cell_type": "markdown",
   "metadata": {},
   "source": [
    "![Imagen](img/TABLA1D.png)"
   ]
  },
  {
   "cell_type": "markdown",
   "metadata": {},
   "source": [
    "`If you find it useful here is an example of how I made all the tables. This is a regression table I will present later` **made with pystout**`, but it can be used as a template for any kind of table.`\n",
    "\n",
    "https://www.overleaf.com/read/ngwjbktsknym\n",
    "\n",
    "There you can find a link to get pystout (It will be also in the bibliography)."
   ]
  },
  {
   "cell_type": "markdown",
   "metadata": {},
   "source": [
    "# Figure 1 - Reforms Index, by Treatment Group"
   ]
  },
  {
   "cell_type": "markdown",
   "metadata": {},
   "source": [
    "## Original"
   ]
  },
  {
   "cell_type": "markdown",
   "metadata": {},
   "source": [
    "![Imagen](img/Figura1.png)"
   ]
  },
  {
   "cell_type": "code",
   "execution_count": 6,
   "metadata": {},
   "outputs": [],
   "source": [
    "from matplotlib import pyplot as plt\n",
    "import numpy as np\n",
    "import pandas as pd\n",
    "from matplotlib.pyplot import figure\n"
   ]
  },
  {
   "cell_type": "markdown",
   "metadata": {},
   "source": [
    "## Replication\n",
    "For Figure 1 we will use the variable `yearsref`, available on the original database. We will graph the mean of the reform index in the control and treatment group over time. Doing this we can get a picture of the strong of the French revolution in both groups, treatment and control. On average we will find that treatment group has a higher index."
   ]
  },
  {
   "cell_type": "code",
   "execution_count": 9,
   "metadata": {},
   "outputs": [],
   "source": [
    "data1['napoleon']=np.where(data1['fpresence']>0,1,0) "
   ]
  },
  {
   "cell_type": "code",
   "execution_count": 10,
   "metadata": {},
   "outputs": [],
   "source": [
    "means = data1.groupby(['year', 'napoleon'])['yearsref'].mean().unstack()"
   ]
  },
  {
   "cell_type": "code",
   "execution_count": 11,
   "metadata": {},
   "outputs": [
    {
     "data": {
      "text/plain": [
       "Text(0, 0.5, 'Reform Index')"
      ]
     },
     "execution_count": 11,
     "metadata": {},
     "output_type": "execute_result"
    },
    {
     "data": {
      "image/png": "[encoded data removed]",
      "text/plain": [
       "<Figure size 1500x1200 with 1 Axes>"
      ]
     },
     "metadata": {},
     "output_type": "display_data"
    }
   ],
   "source": [
    "fig, ax = plt.subplots(figsize=(10,8),dpi=150)\n",
    "sns.lineplot(data=means , alpha=1,palette=\"ch:9.9,.5\", style=\"choice\",\n",
    "                dashes=False, markers=True)\n",
    "\n",
    "plt.title('Reforms Index, By Treatment Group - Replication')\n",
    "plt.legend(['Control','Treatment'])\n",
    "plt.xlabel('Year')\n",
    "plt.ylabel('Reform Index')"
   ]
  },
  {
   "cell_type": "markdown",
   "metadata": {},
   "source": [
    "## Table 2 -  Descriptive Statistics"
   ]
  },
  {
   "cell_type": "markdown",
   "metadata": {},
   "source": [
    "By using the descriptive statistics shown here we can look if there was an important difference in variables like urbanization rates between territories and between years before and after the French revolution. We can also get an idea of how differences in geographic characteristics like latitude or longitude could affect this urbanization rate."
   ]
  },
  {
   "cell_type": "markdown",
   "metadata": {},
   "source": [
    "## Original"
   ]
  },
  {
   "cell_type": "markdown",
   "metadata": {},
   "source": [
    "![Imagen](img/Tabla2.png)"
   ]
  },
  {
   "cell_type": "markdown",
   "metadata": {},
   "source": [
    "### How the author's made it"
   ]
  },
  {
   "cell_type": "code",
   "execution_count": 12,
   "metadata": {},
   "outputs": [
    {
     "name": "stdout",
     "output_type": "stream",
     "text": [
      "IPyStata is loaded in batch mode.\n"
     ]
    }
   ],
   "source": [
    "import ipystata\n",
    "from ipystata.config import config_stata\n",
    "config_stata('/Applications/Stata/StataMP.app/Contents/MacOS/stataMP')"
   ]
  },
  {
   "cell_type": "code",
   "execution_count": 13,
   "metadata": {},
   "outputs": [],
   "source": [
    "datastata = pd.read_stata(pathout + 'replication_dataset.dta')"
   ]
  },
  {
   "cell_type": "code",
   "execution_count": 14,
   "metadata": {},
   "outputs": [
    {
     "name": "stdout",
     "output_type": "stream",
     "text": [
      "\n",
      "--------------------------------------------------------------------------------------------------------------------------------------------------------------------------------------------------------\n",
      "-> year = 1700\n",
      "\n",
      "    Variable |     Obs      Weight        Mean   Std. Dev.       Min        Max\n",
      "-------------+-----------------------------------------------------------------\n",
      "     urbrate |       9  5908932.31    5.860151   4.220067          0   14.17178\n",
      "\n",
      "--------------------------------------------------------------------------------------------------------------------------------------------------------------------------------------------------------\n",
      "-> year = 1750\n",
      "\n",
      "    Variable |     Obs      Weight        Mean   Std. Dev.       Min        Max\n",
      "-------------+-----------------------------------------------------------------\n",
      "     urbrate |      13  8640353.31    7.893195   4.116747   2.091131   19.41308\n",
      "\n",
      "--------------------------------------------------------------------------------------------------------------------------------------------------------------------------------------------------------\n",
      "-> year = 1800\n",
      "\n",
      "    Variable |     Obs      Weight        Mean   Std. Dev.       Min        Max\n",
      "-------------+-----------------------------------------------------------------\n",
      "     urbrate |      13  8640353.31    10.22854   4.365894   3.393513   18.64353\n",
      "\n",
      "--------------------------------------------------------------------------------------------------------------------------------------------------------------------------------------------------------\n",
      "-> year = 1850\n",
      "\n",
      "    Variable |     Obs      Weight        Mean   Std. Dev.       Min        Max\n",
      "-------------+-----------------------------------------------------------------\n",
      "     urbrate |      13  8640353.31    13.77543   6.011579   5.441833   22.83488\n",
      "\n",
      "--------------------------------------------------------------------------------------------------------------------------------------------------------------------------------------------------------\n",
      "-> year = 1875\n",
      "\n",
      "    Variable |     Obs      Weight        Mean   Std. Dev.       Min        Max\n",
      "-------------+-----------------------------------------------------------------\n",
      "     urbrate |      13  8640353.31    25.69709   10.70079   15.04583    42.8204\n",
      "\n",
      "--------------------------------------------------------------------------------------------------------------------------------------------------------------------------------------------------------\n",
      "-> year = 1880\n",
      "\n",
      "    Variable |     Obs      Weight        Mean   Std. Dev.       Min        Max\n",
      "-------------+-----------------------------------------------------------------\n",
      "     urbrate |       0           0\n",
      "\n",
      "--------------------------------------------------------------------------------------------------------------------------------------------------------------------------------------------------------\n",
      "-> year = 1885\n",
      "\n",
      "    Variable |     Obs      Weight        Mean   Std. Dev.       Min        Max\n",
      "-------------+-----------------------------------------------------------------\n",
      "     urbrate |       0           0\n",
      "\n",
      "--------------------------------------------------------------------------------------------------------------------------------------------------------------------------------------------------------\n",
      "-> year = 1895\n",
      "\n",
      "    Variable |     Obs      Weight        Mean   Std. Dev.       Min        Max\n",
      "-------------+-----------------------------------------------------------------\n",
      "     urbrate |       0           0\n",
      "\n",
      "--------------------------------------------------------------------------------------------------------------------------------------------------------------------------------------------------------\n",
      "-> year = 1900\n",
      "\n",
      "    Variable |     Obs      Weight        Mean   Std. Dev.       Min        Max\n",
      "-------------+-----------------------------------------------------------------\n",
      "     urbrate |      13  8640353.31    39.89016   13.91802   23.53321   74.91717\n",
      "\n",
      "--------------------------------------------------------------------------------------------------------------------------------------------------------------------------------------------------------\n",
      "-> year = 1905\n",
      "\n",
      "    Variable |     Obs      Weight        Mean   Std. Dev.       Min        Max\n",
      "-------------+-----------------------------------------------------------------\n",
      "     urbrate |       0           0\n",
      "\n",
      "--------------------------------------------------------------------------------------------------------------------------------------------------------------------------------------------------------\n",
      "-> year = 1910\n",
      "\n",
      "    Variable |     Obs      Weight        Mean   Std. Dev.       Min        Max\n",
      "-------------+-----------------------------------------------------------------\n",
      "     urbrate |       0           0\n",
      "\n",
      "\n",
      "--------------------------------------------------------------------------------------------------------------------------------------------------------------------------------------------------------\n",
      "-> year = 1700\n",
      "\n",
      "    Variable |     Obs      Weight        Mean   Std. Dev.       Min        Max\n",
      "-------------+-----------------------------------------------------------------\n",
      "     urbrate |       5  2536356.31    6.350245   5.928381          0   14.17178\n",
      "\n",
      "--------------------------------------------------------------------------------------------------------------------------------------------------------------------------------------------------------\n",
      "-> year = 1750\n",
      "\n",
      "    Variable |     Obs      Weight        Mean   Std. Dev.       Min        Max\n",
      "-------------+-----------------------------------------------------------------\n",
      "     urbrate |       8  4658559.31    8.092629   4.398074   2.091131   19.41308\n",
      "\n",
      "--------------------------------------------------------------------------------------------------------------------------------------------------------------------------------------------------------\n",
      "-> year = 1800\n",
      "\n",
      "    Variable |     Obs      Weight        Mean   Std. Dev.       Min        Max\n",
      "-------------+-----------------------------------------------------------------\n",
      "     urbrate |       8  4658559.31    11.75142   4.705931   5.200878   18.64353\n",
      "\n",
      "--------------------------------------------------------------------------------------------------------------------------------------------------------------------------------------------------------\n",
      "-> year = 1850\n",
      "\n",
      "    Variable |     Obs      Weight        Mean   Std. Dev.       Min        Max\n",
      "-------------+-----------------------------------------------------------------\n",
      "     urbrate |       8  4658559.31    14.96461   6.651643   5.441833   22.83488\n",
      "\n",
      "--------------------------------------------------------------------------------------------------------------------------------------------------------------------------------------------------------\n",
      "-> year = 1875\n",
      "\n",
      "    Variable |     Obs      Weight        Mean   Std. Dev.       Min        Max\n",
      "-------------+-----------------------------------------------------------------\n",
      "     urbrate |       8  4658559.31    28.66785   11.69078   16.08664    42.8204\n",
      "\n",
      "--------------------------------------------------------------------------------------------------------------------------------------------------------------------------------------------------------\n",
      "-> year = 1880\n",
      "\n",
      "    Variable |     Obs      Weight        Mean   Std. Dev.       Min        Max\n",
      "-------------+-----------------------------------------------------------------\n",
      "     urbrate |       0           0\n",
      "\n",
      "--------------------------------------------------------------------------------------------------------------------------------------------------------------------------------------------------------\n",
      "-> year = 1885\n",
      "\n",
      "    Variable |     Obs      Weight        Mean   Std. Dev.       Min        Max\n",
      "-------------+-----------------------------------------------------------------\n",
      "     urbrate |       0           0\n",
      "\n",
      "--------------------------------------------------------------------------------------------------------------------------------------------------------------------------------------------------------\n",
      "-> year = 1895\n",
      "\n",
      "    Variable |     Obs      Weight        Mean   Std. Dev.       Min        Max\n",
      "-------------+-----------------------------------------------------------------\n",
      "     urbrate |       0           0\n",
      "\n",
      "--------------------------------------------------------------------------------------------------------------------------------------------------------------------------------------------------------\n",
      "-> year = 1900\n",
      "\n",
      "    Variable |     Obs      Weight        Mean   Std. Dev.       Min        Max\n",
      "-------------+-----------------------------------------------------------------\n",
      "     urbrate |       8  4658559.31     43.5536   15.19762   23.53321   74.91717\n",
      "\n",
      "--------------------------------------------------------------------------------------------------------------------------------------------------------------------------------------------------------\n",
      "-> year = 1905\n",
      "\n",
      "    Variable |     Obs      Weight        Mean   Std. Dev.       Min        Max\n",
      "-------------+-----------------------------------------------------------------\n",
      "     urbrate |       0           0\n",
      "\n",
      "--------------------------------------------------------------------------------------------------------------------------------------------------------------------------------------------------------\n",
      "-> year = 1910\n",
      "\n",
      "    Variable |     Obs      Weight        Mean   Std. Dev.       Min        Max\n",
      "-------------+-----------------------------------------------------------------\n",
      "     urbrate |       0           0\n",
      "\n",
      "\n",
      "--------------------------------------------------------------------------------------------------------------------------------------------------------------------------------------------------------\n",
      "-> year = 1700\n",
      "\n",
      "    Variable |     Obs      Weight        Mean   Std. Dev.       Min        Max\n",
      "-------------+-----------------------------------------------------------------\n",
      "     urbrate |       4     3372576    5.491573   2.892219          0   8.817565\n",
      "\n",
      "--------------------------------------------------------------------------------------------------------------------------------------------------------------------------------------------------------\n",
      "-> year = 1750\n",
      "\n",
      "    Variable |     Obs      Weight        Mean   Std. Dev.       Min        Max\n",
      "-------------+-----------------------------------------------------------------\n",
      "     urbrate |       5     3981794    7.659864   4.189866   4.159165   13.92161\n",
      "\n",
      "--------------------------------------------------------------------------------------------------------------------------------------------------------------------------------------------------------\n",
      "-> year = 1800\n",
      "\n",
      "    Variable |     Obs      Weight        Mean   Std. Dev.       Min        Max\n",
      "-------------+-----------------------------------------------------------------\n",
      "     urbrate |       5     3981794    8.446825   3.467918   3.393513   13.50772\n",
      "\n",
      "--------------------------------------------------------------------------------------------------------------------------------------------------------------------------------------------------------\n",
      "-> year = 1850\n",
      "\n",
      "    Variable |     Obs      Weight        Mean   Std. Dev.       Min        Max\n",
      "-------------+-----------------------------------------------------------------\n",
      "     urbrate |       5     3981794    12.38412   5.420351   8.286361   20.48866\n",
      "\n",
      "--------------------------------------------------------------------------------------------------------------------------------------------------------------------------------------------------------\n",
      "-> year = 1875\n",
      "\n",
      "    Variable |     Obs      Weight        Mean   Std. Dev.       Min        Max\n",
      "-------------+-----------------------------------------------------------------\n",
      "     urbrate |       5     3981794     22.2214   9.154251   15.04583   36.09332\n",
      "\n",
      "--------------------------------------------------------------------------------------------------------------------------------------------------------------------------------------------------------\n",
      "-> year = 1880\n",
      "\n",
      "    Variable |     Obs      Weight        Mean   Std. Dev.       Min        Max\n",
      "-------------+-----------------------------------------------------------------\n",
      "     urbrate |       0           0\n",
      "\n",
      "--------------------------------------------------------------------------------------------------------------------------------------------------------------------------------------------------------\n",
      "-> year = 1885\n",
      "\n",
      "    Variable |     Obs      Weight        Mean   Std. Dev.       Min        Max\n",
      "-------------+-----------------------------------------------------------------\n",
      "     urbrate |       0           0\n",
      "\n",
      "--------------------------------------------------------------------------------------------------------------------------------------------------------------------------------------------------------\n",
      "-> year = 1895\n",
      "\n",
      "    Variable |     Obs      Weight        Mean   Std. Dev.       Min        Max\n",
      "-------------+-----------------------------------------------------------------\n",
      "     urbrate |       0           0\n",
      "\n",
      "--------------------------------------------------------------------------------------------------------------------------------------------------------------------------------------------------------\n",
      "-> year = 1900\n",
      "\n",
      "    Variable |     Obs      Weight        Mean   Std. Dev.       Min        Max\n",
      "-------------+-----------------------------------------------------------------\n",
      "     urbrate |       5     3981794    35.60405   12.11888   27.75277   54.02274\n",
      "\n",
      "--------------------------------------------------------------------------------------------------------------------------------------------------------------------------------------------------------\n",
      "-> year = 1905\n",
      "\n",
      "    Variable |     Obs      Weight        Mean   Std. Dev.       Min        Max\n",
      "-------------+-----------------------------------------------------------------\n",
      "     urbrate |       0           0\n",
      "\n",
      "--------------------------------------------------------------------------------------------------------------------------------------------------------------------------------------------------------\n",
      "-> year = 1910\n",
      "\n",
      "    Variable |     Obs      Weight        Mean   Std. Dev.       Min        Max\n",
      "-------------+-----------------------------------------------------------------\n",
      "     urbrate |       0           0\n",
      "\n",
      "\n",
      "    Variable |     Obs      Weight        Mean   Std. Dev.       Min        Max\n",
      "-------------+-----------------------------------------------------------------\n",
      "  protestant |      78  51842119.9    .5787749   .3434565        .05          1\n",
      "    latitude |      78  51842119.9    50.43043    1.49958   48.13334   52.36666\n",
      "   longitude |      78  51842119.9    9.885727   2.006996        7.6   13.73333\n",
      "      distpa |      78  51842119.9    592.3754   146.2944   413.0552   848.7664\n",
      "\n",
      "    Variable |     Obs      Weight        Mean   Std. Dev.       Min        Max\n",
      "-------------+-----------------------------------------------------------------\n",
      "  protestant |      48  27951355.9    .6184135    .302984        .25        .95\n",
      "    latitude |      48  27951355.9    51.41224   .9765205   49.31944   52.36666\n",
      "   longitude |      48  27951355.9    9.027449   1.505143        7.6   11.61667\n",
      "      distpa |      48  27951355.9     558.657   128.1925   413.0552    748.983\n",
      "\n",
      "    Variable |     Obs      Weight        Mean   Std. Dev.       Min        Max\n",
      "-------------+-----------------------------------------------------------------\n",
      "  protestant |      30    23890764    .5323991   .3853424        .05          1\n",
      "    latitude |      30    23890764    49.28174   1.149553   48.13334      51.05\n",
      "   longitude |      30    23890764    10.88988   2.075268        8.4   13.73333\n",
      "      distpa |      30    23890764    631.8247    158.007   441.8782   848.7664\n"
     ]
    }
   ],
   "source": [
    "%%stata -d datastata\n",
    "sort year \n",
    "gen napoleon = (fpresence>0)\n",
    "by year: sum urbrate if westelbe==1 [aweight=totalpop1750], format\n",
    "by year: sum urbrate if westelbe==1 & napoleon==1 [aweight=totalpop1750], format\n",
    "by year: sum urbrate if westelbe==1 & napoleon==0 [aweight=totalpop1750], format\n",
    "sum protestant latitude longitude distpa if westelbe==1 [aweight=totalpop1750]\n",
    "sum protestant latitude longitude distpa if westelbe==1 & napoleon==1 [aweight=totalpop1750]\n",
    "sum protestant latitude longitude distpa if westelbe==1 & napoleon==0 [aweight=totalpop1750]"
   ]
  },
  {
   "cell_type": "code",
   "execution_count": 15,
   "metadata": {
    "scrolled": true
   },
   "outputs": [
    {
     "name": "stdout",
     "output_type": "stream",
     "text": [
      "\n",
      "--------------------------------------------------------------------------------------------------------------------------------------------------------------------------------------------------------\n",
      "-> year = 1700\n",
      "\n",
      "    Variable |     Obs      Weight        Mean   Std. Dev.       Min        Max\n",
      "-------------+-----------------------------------------------------------------\n",
      "     urbrate |      14  8359312.31    7.079631   5.608046          0   19.02585\n",
      "\n",
      "--------------------------------------------------------------------------------------------------------------------------------------------------------------------------------------------------------\n",
      "-> year = 1750\n",
      "\n",
      "    Variable |     Obs      Weight        Mean   Std. Dev.       Min        Max\n",
      "-------------+-----------------------------------------------------------------\n",
      "     urbrate |      19  12144187.3    8.588471   4.612347   2.091131   19.41308\n",
      "\n",
      "--------------------------------------------------------------------------------------------------------------------------------------------------------------------------------------------------------\n",
      "-> year = 1800\n",
      "\n",
      "    Variable |     Obs      Weight        Mean   Std. Dev.       Min        Max\n",
      "-------------+-----------------------------------------------------------------\n",
      "     urbrate |      19  12144187.3    10.80805   4.919694   3.393513   22.50661\n",
      "\n",
      "--------------------------------------------------------------------------------------------------------------------------------------------------------------------------------------------------------\n",
      "-> year = 1850\n",
      "\n",
      "    Variable |     Obs      Weight        Mean   Std. Dev.       Min        Max\n",
      "-------------+-----------------------------------------------------------------\n",
      "     urbrate |      19  12144187.3    14.64817   7.255715   5.441833   33.29086\n",
      "\n",
      "--------------------------------------------------------------------------------------------------------------------------------------------------------------------------------------------------------\n",
      "-> year = 1875\n",
      "\n",
      "    Variable |     Obs      Weight        Mean   Std. Dev.       Min        Max\n",
      "-------------+-----------------------------------------------------------------\n",
      "     urbrate |      19  12144187.3    26.52273   11.21135   15.04583   50.23087\n",
      "\n",
      "--------------------------------------------------------------------------------------------------------------------------------------------------------------------------------------------------------\n",
      "-> year = 1880\n",
      "\n",
      "    Variable |     Obs      Weight        Mean   Std. Dev.       Min        Max\n",
      "-------------+-----------------------------------------------------------------\n",
      "     urbrate |       0           0\n",
      "\n",
      "--------------------------------------------------------------------------------------------------------------------------------------------------------------------------------------------------------\n",
      "-> year = 1885\n",
      "\n",
      "    Variable |     Obs      Weight        Mean   Std. Dev.       Min        Max\n",
      "-------------+-----------------------------------------------------------------\n",
      "     urbrate |       0           0\n",
      "\n",
      "--------------------------------------------------------------------------------------------------------------------------------------------------------------------------------------------------------\n",
      "-> year = 1895\n",
      "\n",
      "    Variable |     Obs      Weight        Mean   Std. Dev.       Min        Max\n",
      "-------------+-----------------------------------------------------------------\n",
      "     urbrate |       0           0\n",
      "\n",
      "--------------------------------------------------------------------------------------------------------------------------------------------------------------------------------------------------------\n",
      "-> year = 1900\n",
      "\n",
      "    Variable |     Obs      Weight        Mean   Std. Dev.       Min        Max\n",
      "-------------+-----------------------------------------------------------------\n",
      "     urbrate |      19  12144187.3    40.29405   14.54132   20.97348   74.91717\n",
      "\n",
      "--------------------------------------------------------------------------------------------------------------------------------------------------------------------------------------------------------\n",
      "-> year = 1905\n",
      "\n",
      "    Variable |     Obs      Weight        Mean   Std. Dev.       Min        Max\n",
      "-------------+-----------------------------------------------------------------\n",
      "     urbrate |       0           0\n",
      "\n",
      "--------------------------------------------------------------------------------------------------------------------------------------------------------------------------------------------------------\n",
      "-> year = 1910\n",
      "\n",
      "    Variable |     Obs      Weight        Mean   Std. Dev.       Min        Max\n",
      "-------------+-----------------------------------------------------------------\n",
      "     urbrate |       0           0\n",
      "\n",
      "\n",
      "--------------------------------------------------------------------------------------------------------------------------------------------------------------------------------------------------------\n",
      "-> year = 1700\n",
      "\n",
      "    Variable |     Obs      Weight        Mean   Std. Dev.       Min        Max\n",
      "-------------+-----------------------------------------------------------------\n",
      "     urbrate |       5  2536356.31    6.350245   5.928381          0   14.17178\n",
      "\n",
      "--------------------------------------------------------------------------------------------------------------------------------------------------------------------------------------------------------\n",
      "-> year = 1750\n",
      "\n",
      "    Variable |     Obs      Weight        Mean   Std. Dev.       Min        Max\n",
      "-------------+-----------------------------------------------------------------\n",
      "     urbrate |       8  4658559.31    8.092629   4.398074   2.091131   19.41308\n",
      "\n",
      "--------------------------------------------------------------------------------------------------------------------------------------------------------------------------------------------------------\n",
      "-> year = 1800\n",
      "\n",
      "    Variable |     Obs      Weight        Mean   Std. Dev.       Min        Max\n",
      "-------------+-----------------------------------------------------------------\n",
      "     urbrate |       8  4658559.31    11.75142   4.705931   5.200878   18.64353\n",
      "\n",
      "--------------------------------------------------------------------------------------------------------------------------------------------------------------------------------------------------------\n",
      "-> year = 1850\n",
      "\n",
      "    Variable |     Obs      Weight        Mean   Std. Dev.       Min        Max\n",
      "-------------+-----------------------------------------------------------------\n",
      "     urbrate |       8  4658559.31    14.96461   6.651643   5.441833   22.83488\n",
      "\n",
      "--------------------------------------------------------------------------------------------------------------------------------------------------------------------------------------------------------\n",
      "-> year = 1875\n",
      "\n",
      "    Variable |     Obs      Weight        Mean   Std. Dev.       Min        Max\n",
      "-------------+-----------------------------------------------------------------\n",
      "     urbrate |       8  4658559.31    28.66785   11.69078   16.08664    42.8204\n",
      "\n",
      "--------------------------------------------------------------------------------------------------------------------------------------------------------------------------------------------------------\n",
      "-> year = 1880\n",
      "\n",
      "    Variable |     Obs      Weight        Mean   Std. Dev.       Min        Max\n",
      "-------------+-----------------------------------------------------------------\n",
      "     urbrate |       0           0\n",
      "\n",
      "--------------------------------------------------------------------------------------------------------------------------------------------------------------------------------------------------------\n",
      "-> year = 1885\n",
      "\n",
      "    Variable |     Obs      Weight        Mean   Std. Dev.       Min        Max\n",
      "-------------+-----------------------------------------------------------------\n",
      "     urbrate |       0           0\n",
      "\n",
      "--------------------------------------------------------------------------------------------------------------------------------------------------------------------------------------------------------\n",
      "-> year = 1895\n",
      "\n",
      "    Variable |     Obs      Weight        Mean   Std. Dev.       Min        Max\n",
      "-------------+-----------------------------------------------------------------\n",
      "     urbrate |       0           0\n",
      "\n",
      "--------------------------------------------------------------------------------------------------------------------------------------------------------------------------------------------------------\n",
      "-> year = 1900\n",
      "\n",
      "    Variable |     Obs      Weight        Mean   Std. Dev.       Min        Max\n",
      "-------------+-----------------------------------------------------------------\n",
      "     urbrate |       8  4658559.31     43.5536   15.19762   23.53321   74.91717\n",
      "\n",
      "--------------------------------------------------------------------------------------------------------------------------------------------------------------------------------------------------------\n",
      "-> year = 1905\n",
      "\n",
      "    Variable |     Obs      Weight        Mean   Std. Dev.       Min        Max\n",
      "-------------+-----------------------------------------------------------------\n",
      "     urbrate |       0           0\n",
      "\n",
      "--------------------------------------------------------------------------------------------------------------------------------------------------------------------------------------------------------\n",
      "-> year = 1910\n",
      "\n",
      "    Variable |     Obs      Weight        Mean   Std. Dev.       Min        Max\n",
      "-------------+-----------------------------------------------------------------\n",
      "     urbrate |       0           0\n",
      "\n",
      "\n",
      "--------------------------------------------------------------------------------------------------------------------------------------------------------------------------------------------------------\n",
      "-> year = 1700\n",
      "\n",
      "    Variable |     Obs      Weight        Mean   Std. Dev.       Min        Max\n",
      "-------------+-----------------------------------------------------------------\n",
      "     urbrate |       9     5822956    7.397336   5.745669          0   19.02585\n",
      "\n",
      "--------------------------------------------------------------------------------------------------------------------------------------------------------------------------------------------------------\n",
      "-> year = 1750\n",
      "\n",
      "    Variable |     Obs      Weight        Mean   Std. Dev.       Min        Max\n",
      "-------------+-----------------------------------------------------------------\n",
      "     urbrate |      11     7485628     8.89705   4.909872   2.767438   18.95673\n",
      "\n",
      "--------------------------------------------------------------------------------------------------------------------------------------------------------------------------------------------------------\n",
      "-> year = 1800\n",
      "\n",
      "    Variable |     Obs      Weight        Mean   Std. Dev.       Min        Max\n",
      "-------------+-----------------------------------------------------------------\n",
      "     urbrate |      11     7485628    10.22095   5.163879   3.393513   22.50661\n",
      "\n",
      "--------------------------------------------------------------------------------------------------------------------------------------------------------------------------------------------------------\n",
      "-> year = 1850\n",
      "\n",
      "    Variable |     Obs      Weight        Mean   Std. Dev.       Min        Max\n",
      "-------------+-----------------------------------------------------------------\n",
      "     urbrate |      11     7485628    14.45124   7.898807   8.286361   33.29086\n",
      "\n",
      "--------------------------------------------------------------------------------------------------------------------------------------------------------------------------------------------------------\n",
      "-> year = 1875\n",
      "\n",
      "    Variable |     Obs      Weight        Mean   Std. Dev.       Min        Max\n",
      "-------------+-----------------------------------------------------------------\n",
      "     urbrate |      11     7485628    25.18774   11.20386   15.04583   50.23087\n",
      "\n",
      "--------------------------------------------------------------------------------------------------------------------------------------------------------------------------------------------------------\n",
      "-> year = 1880\n",
      "\n",
      "    Variable |     Obs      Weight        Mean   Std. Dev.       Min        Max\n",
      "-------------+-----------------------------------------------------------------\n",
      "     urbrate |       0           0\n",
      "\n",
      "--------------------------------------------------------------------------------------------------------------------------------------------------------------------------------------------------------\n",
      "-> year = 1885\n",
      "\n",
      "    Variable |     Obs      Weight        Mean   Std. Dev.       Min        Max\n",
      "-------------+-----------------------------------------------------------------\n",
      "     urbrate |       0           0\n",
      "\n",
      "--------------------------------------------------------------------------------------------------------------------------------------------------------------------------------------------------------\n",
      "-> year = 1895\n",
      "\n",
      "    Variable |     Obs      Weight        Mean   Std. Dev.       Min        Max\n",
      "-------------+-----------------------------------------------------------------\n",
      "     urbrate |       0           0\n",
      "\n",
      "--------------------------------------------------------------------------------------------------------------------------------------------------------------------------------------------------------\n",
      "-> year = 1900\n",
      "\n",
      "    Variable |     Obs      Weight        Mean   Std. Dev.       Min        Max\n",
      "-------------+-----------------------------------------------------------------\n",
      "     urbrate |      11     7485628    38.26551   14.39923   20.97348   68.47894\n",
      "\n",
      "--------------------------------------------------------------------------------------------------------------------------------------------------------------------------------------------------------\n",
      "-> year = 1905\n",
      "\n",
      "    Variable |     Obs      Weight        Mean   Std. Dev.       Min        Max\n",
      "-------------+-----------------------------------------------------------------\n",
      "     urbrate |       0           0\n",
      "\n",
      "--------------------------------------------------------------------------------------------------------------------------------------------------------------------------------------------------------\n",
      "-> year = 1910\n",
      "\n",
      "    Variable |     Obs      Weight        Mean   Std. Dev.       Min        Max\n",
      "-------------+-----------------------------------------------------------------\n",
      "     urbrate |       0           0\n",
      "\n",
      "\n",
      "    Variable |     Obs      Weight        Mean   Std. Dev.       Min        Max\n",
      "-------------+-----------------------------------------------------------------\n",
      "  protestant |     114  72865123.9    .6544285   .3304862        .05          1\n",
      "    latitude |     114  72865123.9    51.13919   1.851429   48.13334   54.73333\n",
      "   longitude |     114  72865123.9    11.34197   3.418309        7.6   20.48333\n",
      "      distpa |     114  72865123.9    712.8788   251.0056   413.0552   1401.567\n",
      "\n",
      "    Variable |     Obs      Weight        Mean   Std. Dev.       Min        Max\n",
      "-------------+-----------------------------------------------------------------\n",
      "  protestant |      48  27951355.9    .6184135    .302984        .25        .95\n",
      "    latitude |      48  27951355.9    51.41224   .9765205   49.31944   52.36666\n",
      "   longitude |      48  27951355.9    9.027449   1.505143        7.6   11.61667\n",
      "      distpa |      48  27951355.9     558.657   128.1925   413.0552    748.983\n",
      "\n",
      "    Variable |     Obs      Weight        Mean   Std. Dev.       Min        Max\n",
      "-------------+-----------------------------------------------------------------\n",
      "  protestant |      66    44913768    .6768419   .3467146        .05          1\n",
      "    latitude |      66    44913768    50.96926   2.220491   48.13334   54.73333\n",
      "   longitude |      66    44913768    12.78237   3.490838        8.4   20.48333\n",
      "      distpa |      66    44913768    808.8563   261.3894   441.8782   1401.567\n"
     ]
    }
   ],
   "source": [
    "%%stata -d datastata\n",
    "sort year \n",
    "gen napoleon = (fpresence>0)\n",
    "by year: sum urbrate [aweight=totalpop1750], format\n",
    "by year: sum urbrate if napoleon==1 [aweight=totalpop1750], format\t\n",
    "by year: sum urbrate if napoleon==0 [aweight=totalpop1750], format\n",
    "sum protestant latitude longitude distpa [aweight=totalpop1750] \t\n",
    "sum protestant latitude longitude distpa if napoleon==1 [aweight=totalpop1750]\n",
    "sum protestant latitude longitude distpa if napoleon==0 [aweight=totalpop1750] "
   ]
  },
  {
   "cell_type": "markdown",
   "metadata": {},
   "source": [
    "## Replication\n",
    "For table 2 we will start getting the mean and standar deviation values for the urbanization rates differentiating by West of the Elbe, and all the sample. Also differentiating by control and treatment group.\n",
    "\n",
    "I had to do one by one because even if I can get mean by year \"easly\", numpy.std doesn't have an option for weighted standard deviation.\n",
    "\n",
    "You will find some variables with .mean or .std at the end. These repressent the mean and the standard deviation for each variable. I will show the mean values but if you want to take a look on the standard deviation you just have to delete the `#` and run the commands."
   ]
  },
  {
   "cell_type": "markdown",
   "metadata": {},
   "source": [
    "![Imagen](img/TABLA2D.png)"
   ]
  },
  {
   "cell_type": "code",
   "execution_count": 14,
   "metadata": {},
   "outputs": [],
   "source": [
    "from statsmodels.stats.weightstats import DescrStatsW"
   ]
  },
  {
   "cell_type": "code",
   "execution_count": 15,
   "metadata": {},
   "outputs": [],
   "source": [
    "DATA = pd.read_stata(pathout + 'replication_dataset.dta')"
   ]
  },
  {
   "cell_type": "code",
   "execution_count": 16,
   "metadata": {},
   "outputs": [],
   "source": [
    "DATAWEST = DATA.drop(DATA[DATA.westelbe == 0].index)\n",
    "DATAWEST = DATAWEST.dropna()"
   ]
  },
  {
   "cell_type": "code",
   "execution_count": 17,
   "metadata": {},
   "outputs": [],
   "source": [
    "DATAWEST['napoleon']=np.where(DATAWEST['fpresence']>0,1,0) "
   ]
  },
  {
   "cell_type": "markdown",
   "metadata": {},
   "source": [
    "#### Column 1\n",
    "#### West of the Elbe - All"
   ]
  },
  {
   "cell_type": "code",
   "execution_count": 18,
   "metadata": {},
   "outputs": [],
   "source": [
    "#Urban rate 1700\n",
    "DATAWESTURBAN1700 = DATAWEST[['urbrate', 'totalpop1750','year','napoleon']].copy()\n",
    "DATAWESTURBAN1700 = DATAWESTURBAN1700.drop(DATAWESTURBAN1700[DATAWESTURBAN1700.year != 1700].index)"
   ]
  },
  {
   "cell_type": "code",
   "execution_count": 19,
   "metadata": {},
   "outputs": [
    {
     "data": {
      "text/plain": [
       "5.860150524338271"
      ]
     },
     "execution_count": 19,
     "metadata": {},
     "output_type": "execute_result"
    }
   ],
   "source": [
    "WESTURBAN1700 = DescrStatsW(DATAWESTURBAN1700.urbrate, weights=DATAWESTURBAN1700.totalpop1750, ddof=680000)\n",
    "WESTURBAN1700.mean\n",
    "#WESTURBAN1700.std"
   ]
  },
  {
   "cell_type": "code",
   "execution_count": 21,
   "metadata": {},
   "outputs": [],
   "source": [
    "#Urban rate 1750\n",
    "DATAWESTURBAN1750 = DATAWEST[['urbrate', 'totalpop1750','year','napoleon']].copy()\n",
    "DATAWESTURBAN1750 = DATAWESTURBAN1750.drop(DATAWESTURBAN1750[DATAWESTURBAN1750.year != 1750].index)"
   ]
  },
  {
   "cell_type": "code",
   "execution_count": 22,
   "metadata": {},
   "outputs": [
    {
     "data": {
      "text/plain": [
       "7.89319522275969"
      ]
     },
     "execution_count": 22,
     "metadata": {},
     "output_type": "execute_result"
    }
   ],
   "source": [
    "WESTURBAN1750 = DescrStatsW(DATAWESTURBAN1750.urbrate, weights=DATAWESTURBAN1750.totalpop1750, ddof=680000)\n",
    "WESTURBAN1750.mean\n",
    "#WESTURBAN1750.std"
   ]
  },
  {
   "cell_type": "code",
   "execution_count": 23,
   "metadata": {},
   "outputs": [],
   "source": [
    "#Urban rate 1800\n",
    "DATAWESTURBAN1800 = DATAWEST[['urbrate', 'totalpop1750','year','napoleon']].copy()\n",
    "DATAWESTURBAN1800 = DATAWESTURBAN1800.drop(DATAWESTURBAN1800[DATAWESTURBAN1800.year != 1800].index)"
   ]
  },
  {
   "cell_type": "code",
   "execution_count": 24,
   "metadata": {},
   "outputs": [
    {
     "data": {
      "text/plain": [
       "10.228541974834817"
      ]
     },
     "execution_count": 24,
     "metadata": {},
     "output_type": "execute_result"
    }
   ],
   "source": [
    "WESTURBAN1800 = DescrStatsW(DATAWESTURBAN1800.urbrate, weights=DATAWESTURBAN1800.totalpop1750, ddof=680000)\n",
    "#WESTURBAN1800.std\n",
    "WESTURBAN1800.mean"
   ]
  },
  {
   "cell_type": "code",
   "execution_count": 25,
   "metadata": {},
   "outputs": [],
   "source": [
    "#Urban rate 1850\n",
    "DATAWESTURBAN1850 = DATAWEST[['urbrate', 'totalpop1750','year','napoleon']].copy()\n",
    "DATAWESTURBAN1850 = DATAWESTURBAN1850.drop(DATAWESTURBAN1850[DATAWESTURBAN1850.year != 1850].index)"
   ]
  },
  {
   "cell_type": "code",
   "execution_count": 26,
   "metadata": {},
   "outputs": [
    {
     "data": {
      "text/plain": [
       "13.77542598424837"
      ]
     },
     "execution_count": 26,
     "metadata": {},
     "output_type": "execute_result"
    }
   ],
   "source": [
    "WESTURBAN1850 = DescrStatsW(DATAWESTURBAN1850.urbrate, weights=DATAWESTURBAN1850.totalpop1750, ddof=680000)\n",
    "#WESTURBAN1850.std\n",
    "WESTURBAN1850.mean"
   ]
  },
  {
   "cell_type": "code",
   "execution_count": 28,
   "metadata": {},
   "outputs": [],
   "source": [
    "#Urban rate 1875\n",
    "DATAWESTURBAN1875 = DATAWEST[['urbrate', 'totalpop1750','year','napoleon']].copy()\n",
    "DATAWESTURBAN1875 = DATAWESTURBAN1875.drop(DATAWESTURBAN1875[DATAWESTURBAN1875.year != 1875].index)"
   ]
  },
  {
   "cell_type": "code",
   "execution_count": 29,
   "metadata": {},
   "outputs": [
    {
     "data": {
      "text/plain": [
       "25.697089352918738"
      ]
     },
     "execution_count": 29,
     "metadata": {},
     "output_type": "execute_result"
    }
   ],
   "source": [
    "WESTURBAN1875 = DescrStatsW(DATAWESTURBAN1875.urbrate, weights=DATAWESTURBAN1875.totalpop1750, ddof=680000)\n",
    "#WESTURBAN1875.std\n",
    "WESTURBAN1875.mean"
   ]
  },
  {
   "cell_type": "code",
   "execution_count": 30,
   "metadata": {},
   "outputs": [],
   "source": [
    "#Urban rate 1900\n",
    "DATAWESTURBAN1900 = DATAWEST[['urbrate', 'totalpop1750','year','napoleon']].copy()\n",
    "DATAWESTURBAN1900 = DATAWESTURBAN1900.drop(DATAWESTURBAN1900[DATAWESTURBAN1900.year != 1900].index)"
   ]
  },
  {
   "cell_type": "code",
   "execution_count": 31,
   "metadata": {},
   "outputs": [
    {
     "data": {
      "text/plain": [
       "39.89015547475725"
      ]
     },
     "execution_count": 31,
     "metadata": {},
     "output_type": "execute_result"
    }
   ],
   "source": [
    "WESTURBAN1900 = DescrStatsW(DATAWESTURBAN1900.urbrate, weights=DATAWESTURBAN1900.totalpop1750, ddof=680000)\n",
    "#WESTURBAN1900.std\n",
    "WESTURBAN1900.mean"
   ]
  },
  {
   "cell_type": "code",
   "execution_count": 32,
   "metadata": {},
   "outputs": [
    {
     "data": {
      "text/plain": [
       "0.5926223718361531"
      ]
     },
     "execution_count": 32,
     "metadata": {},
     "output_type": "execute_result"
    }
   ],
   "source": [
    "##Protestant\n",
    "DATAWESTPROT = DATAWEST[['protestant', 'totalpop1750','napoleon']].copy()\n",
    "WESTPROT = DescrStatsW(DATAWESTPROT.protestant, weights=DATAWESTPROT.totalpop1750, ddof=680000)\n",
    "WESTPROT.mean\n",
    "#WESTPROT.std"
   ]
  },
  {
   "cell_type": "code",
   "execution_count": 33,
   "metadata": {},
   "outputs": [
    {
     "data": {
      "text/plain": [
       "50.427998061272795"
      ]
     },
     "execution_count": 33,
     "metadata": {},
     "output_type": "execute_result"
    }
   ],
   "source": [
    "##Latitude\n",
    "DATAWESTLAT = DATAWEST[['latitude', 'totalpop1750','napoleon']].copy()\n",
    "WESTLAT = DescrStatsW(DATAWESTLAT.latitude, weights=DATAWESTLAT.totalpop1750, ddof=680000)\n",
    "WESTLAT.mean\n",
    "#WESTLAT.std"
   ]
  },
  {
   "cell_type": "code",
   "execution_count": 34,
   "metadata": {},
   "outputs": [
    {
     "data": {
      "text/plain": [
       "9.993392778532831"
      ]
     },
     "execution_count": 34,
     "metadata": {},
     "output_type": "execute_result"
    }
   ],
   "source": [
    "##Longitude\n",
    "DATAWESTLON = DATAWEST[['longitude', 'totalpop1750','napoleon']].copy()\n",
    "WESTLON = DescrStatsW(DATAWESTLON.longitude, weights=DATAWESTLON.totalpop1750, ddof=680000)\n",
    "WESTLON.mean\n",
    "#WESTLON.std"
   ]
  },
  {
   "cell_type": "code",
   "execution_count": 35,
   "metadata": {},
   "outputs": [
    {
     "data": {
      "text/plain": [
       "600.0817845753669"
      ]
     },
     "execution_count": 35,
     "metadata": {},
     "output_type": "execute_result"
    }
   ],
   "source": [
    "##Distance to Paris\n",
    "DATAWESTDIS = DATAWEST[['distpa', 'totalpop1750','napoleon']].copy()\n",
    "WESTDIS = DescrStatsW(DATAWESTDIS.distpa, weights=DATAWESTDIS.totalpop1750, ddof=680000)\n",
    "WESTDIS.mean\n",
    "#WESTDIS.std"
   ]
  },
  {
   "cell_type": "markdown",
   "metadata": {},
   "source": [
    "#### Column 2\n",
    "#### West of the Elbe - Control"
   ]
  },
  {
   "cell_type": "code",
   "execution_count": 37,
   "metadata": {},
   "outputs": [],
   "source": [
    "#Urban rate 1700 control\n",
    "DATAWESTURBAN1700CONTROL = DATAWESTURBAN1700\n",
    "DATAWESTURBAN1700CONTROL = DATAWESTURBAN1700CONTROL.drop(DATAWESTURBAN1700CONTROL[DATAWESTURBAN1700CONTROL.napoleon != 0].index)"
   ]
  },
  {
   "cell_type": "code",
   "execution_count": 38,
   "metadata": {},
   "outputs": [
    {
     "data": {
      "text/plain": [
       "5.4915732504309895"
      ]
     },
     "execution_count": 38,
     "metadata": {},
     "output_type": "execute_result"
    }
   ],
   "source": [
    "WESTURBAN1700CONTROL = DescrStatsW(DATAWESTURBAN1700CONTROL.urbrate, weights=DATAWESTURBAN1700CONTROL.totalpop1750, ddof=850000)\n",
    "WESTURBAN1700CONTROL.mean\n",
    "#WESTURBAN1700CONTROL.std"
   ]
  },
  {
   "cell_type": "code",
   "execution_count": 39,
   "metadata": {},
   "outputs": [
    {
     "data": {
      "text/plain": [
       "7.659864411790428"
      ]
     },
     "execution_count": 39,
     "metadata": {},
     "output_type": "execute_result"
    }
   ],
   "source": [
    "#Urban rate 1750 control\n",
    "DATAWESTURBAN1750CONTROL = DATAWESTURBAN1750\n",
    "DATAWESTURBAN1750CONTROL = DATAWESTURBAN1750CONTROL.drop(DATAWESTURBAN1750CONTROL[DATAWESTURBAN1750CONTROL.napoleon != 0].index)\n",
    "\n",
    "WESTURBAN1750CONTROL = DescrStatsW(DATAWESTURBAN1750CONTROL.urbrate, weights=DATAWESTURBAN1750CONTROL.totalpop1750, ddof=850000)\n",
    "WESTURBAN1750CONTROL.mean\n",
    "#WESTURBAN1750CONTROL.std"
   ]
  },
  {
   "cell_type": "code",
   "execution_count": 40,
   "metadata": {},
   "outputs": [
    {
     "data": {
      "text/plain": [
       "8.446825259047744"
      ]
     },
     "execution_count": 40,
     "metadata": {},
     "output_type": "execute_result"
    }
   ],
   "source": [
    "#Urban rate 1800 control\n",
    "DATAWESTURBAN1800CONTROL = DATAWESTURBAN1800\n",
    "DATAWESTURBAN1800CONTROL = DATAWESTURBAN1800CONTROL.drop(DATAWESTURBAN1800CONTROL[DATAWESTURBAN1800CONTROL.napoleon != 0].index)\n",
    "\n",
    "WESTURBAN1800CONTROL = DescrStatsW(DATAWESTURBAN1800CONTROL.urbrate, weights=DATAWESTURBAN1800CONTROL.totalpop1750, ddof=850000)\n",
    "WESTURBAN1800CONTROL.mean\n",
    "#WESTURBAN1800CONTROL.std"
   ]
  },
  {
   "cell_type": "code",
   "execution_count": 41,
   "metadata": {},
   "outputs": [
    {
     "data": {
      "text/plain": [
       "12.384123046889094"
      ]
     },
     "execution_count": 41,
     "metadata": {},
     "output_type": "execute_result"
    }
   ],
   "source": [
    "#Urban rate 1850 control\n",
    "DATAWESTURBAN1850CONTROL = DATAWESTURBAN1850\n",
    "DATAWESTURBAN1850CONTROL = DATAWESTURBAN1850CONTROL.drop(DATAWESTURBAN1850CONTROL[DATAWESTURBAN1850CONTROL.napoleon != 0].index)\n",
    "\n",
    "WESTURBAN1850CONTROL = DescrStatsW(DATAWESTURBAN1850CONTROL.urbrate, weights=DATAWESTURBAN1850CONTROL.totalpop1750, ddof=850000)\n",
    "WESTURBAN1850CONTROL.mean\n",
    "#WESTURBAN1850CONTROL.std"
   ]
  },
  {
   "cell_type": "code",
   "execution_count": 42,
   "metadata": {},
   "outputs": [
    {
     "data": {
      "text/plain": [
       "22.22139893059001"
      ]
     },
     "execution_count": 42,
     "metadata": {},
     "output_type": "execute_result"
    }
   ],
   "source": [
    "#Urban rate 1875 control\n",
    "DATAWESTURBAN1875CONTROL = DATAWESTURBAN1875\n",
    "DATAWESTURBAN1875CONTROL = DATAWESTURBAN1875CONTROL.drop(DATAWESTURBAN1875CONTROL[DATAWESTURBAN1875CONTROL.napoleon != 0].index)\n",
    "\n",
    "WESTURBAN1875CONTROL = DescrStatsW(DATAWESTURBAN1875CONTROL.urbrate, weights=DATAWESTURBAN1875CONTROL.totalpop1750, ddof=850000)\n",
    "WESTURBAN1875CONTROL.mean\n",
    "#WESTURBAN1875CONTROL.std"
   ]
  },
  {
   "cell_type": "code",
   "execution_count": 43,
   "metadata": {},
   "outputs": [
    {
     "data": {
      "text/plain": [
       "35.604048155797585"
      ]
     },
     "execution_count": 43,
     "metadata": {},
     "output_type": "execute_result"
    }
   ],
   "source": [
    "#Urban rate 1900 control\n",
    "DATAWESTURBAN1900CONTROL = DATAWESTURBAN1900\n",
    "DATAWESTURBAN1900CONTROL = DATAWESTURBAN1900CONTROL.drop(DATAWESTURBAN1900CONTROL[DATAWESTURBAN1900CONTROL.napoleon != 0].index)\n",
    "\n",
    "WESTURBAN1900CONTROL = DescrStatsW(DATAWESTURBAN1900CONTROL.urbrate, weights=DATAWESTURBAN1900CONTROL.totalpop1750, ddof=850000)\n",
    "WESTURBAN1900CONTROL.mean\n",
    "#WESTURBAN1900CONTROL.std"
   ]
  },
  {
   "cell_type": "code",
   "execution_count": 44,
   "metadata": {},
   "outputs": [
    {
     "data": {
      "text/plain": [
       "0.5384803609811151"
      ]
     },
     "execution_count": 44,
     "metadata": {},
     "output_type": "execute_result"
    }
   ],
   "source": [
    "##Protestant control\n",
    "DATAWESTPROTC = DATAWEST[['protestant', 'totalpop1750','napoleon']].copy()\n",
    "DATAWESTPROTC = DATAWESTPROTC.drop(DATAWESTPROTC[DATAWESTPROTC.napoleon != 0].index)\n",
    "WESTPROTC = DescrStatsW(DATAWESTPROTC.protestant, weights=DATAWESTPROTC.totalpop1750, ddof=680000)\n",
    "\n",
    "WESTPROTC.mean\n",
    "#WESTPROTC.std"
   ]
  },
  {
   "cell_type": "code",
   "execution_count": 45,
   "metadata": {},
   "outputs": [
    {
     "data": {
      "text/plain": [
       "49.28867510775836"
      ]
     },
     "execution_count": 45,
     "metadata": {},
     "output_type": "execute_result"
    }
   ],
   "source": [
    "##Latitude control\n",
    "DATAWESTLATC = DATAWEST[['latitude', 'totalpop1750','napoleon']].copy()\n",
    "DATAWESTLATC = DATAWESTLATC.drop(DATAWESTLATC[DATAWESTLATC.napoleon != 0].index)\n",
    "WESTLATC = DescrStatsW(DATAWESTLATC.latitude, weights=DATAWESTLATC.totalpop1750, ddof=680000)\n",
    "\n",
    "WESTLATC.mean\n",
    "#WESTLATC.std"
   ]
  },
  {
   "cell_type": "code",
   "execution_count": 46,
   "metadata": {},
   "outputs": [
    {
     "data": {
      "text/plain": [
       "10.955034897515946"
      ]
     },
     "execution_count": 46,
     "metadata": {},
     "output_type": "execute_result"
    }
   ],
   "source": [
    "##Longitude control\n",
    "DATAWESTLONC = DATAWEST[['longitude', 'totalpop1750','napoleon']].copy()\n",
    "DATAWESTLONC = DATAWESTLONC.drop(DATAWESTLONC[DATAWESTLONC.napoleon != 0].index)\n",
    "WESTLONC = DescrStatsW(DATAWESTLONC.longitude, weights=DATAWESTLONC.totalpop1750, ddof=680000)\n",
    "\n",
    "WESTLONC.mean\n",
    "#WESTLONC.std"
   ]
  },
  {
   "cell_type": "code",
   "execution_count": 47,
   "metadata": {},
   "outputs": [
    {
     "data": {
      "text/plain": [
       "636.7951291299598"
      ]
     },
     "execution_count": 47,
     "metadata": {},
     "output_type": "execute_result"
    }
   ],
   "source": [
    "##Distance to Paris control\n",
    "DATAWESTDISC = DATAWEST[['distpa', 'totalpop1750','napoleon']].copy()\n",
    "DATAWESTDISC = DATAWESTDISC.drop(DATAWESTDISC[DATAWESTDISC.napoleon != 0].index)\n",
    "WESTDISC = DescrStatsW(DATAWESTDISC.distpa, weights=DATAWESTDISC.totalpop1750, ddof=680000)\n",
    "\n",
    "WESTDISC.mean\n",
    "#WESTDISC.std"
   ]
  },
  {
   "cell_type": "markdown",
   "metadata": {},
   "source": [
    "#### Column 3\n",
    "#### West of the Elbe - Treated"
   ]
  },
  {
   "cell_type": "code",
   "execution_count": 49,
   "metadata": {},
   "outputs": [],
   "source": [
    "DATAWESTURBAN1700TREATED = DATAWESTURBAN1700\n",
    "DATAWESTURBAN1700TREATED = DATAWESTURBAN1700TREATED.drop(DATAWESTURBAN1700TREATED[DATAWESTURBAN1700TREATED.napoleon != 1].index)"
   ]
  },
  {
   "cell_type": "code",
   "execution_count": 50,
   "metadata": {},
   "outputs": [
    {
     "data": {
      "text/plain": [
       "6.350245256690717"
      ]
     },
     "execution_count": 50,
     "metadata": {},
     "output_type": "execute_result"
    }
   ],
   "source": [
    "#Urban 1700 Treated\n",
    "WESTURBAN1700TREATED = DescrStatsW(DATAWESTURBAN1700TREATED.urbrate, weights=DATAWESTURBAN1700TREATED.totalpop1750, ddof=510000)\n",
    "\n",
    "#WESTURBAN1700TREATED.std\n",
    "WESTURBAN1700TREATED.mean\n"
   ]
  },
  {
   "cell_type": "code",
   "execution_count": 51,
   "metadata": {},
   "outputs": [
    {
     "data": {
      "text/plain": [
       "8.092629245342511"
      ]
     },
     "execution_count": 51,
     "metadata": {},
     "output_type": "execute_result"
    }
   ],
   "source": [
    "#Urban 1750 Treated\n",
    "DATAWESTURBAN1750TREATED = DATAWESTURBAN1750\n",
    "DATAWESTURBAN1750TREATED = DATAWESTURBAN1750TREATED.drop(DATAWESTURBAN1750TREATED[DATAWESTURBAN1750TREATED.napoleon != 1].index)\n",
    "\n",
    "WESTURBAN1750TREATED = DescrStatsW(DATAWESTURBAN1750TREATED.urbrate, weights=DATAWESTURBAN1750TREATED.totalpop1750, ddof=580000)\n",
    "\n",
    "#WESTURBAN1750TREATED.std\n",
    "WESTURBAN1750TREATED.mean"
   ]
  },
  {
   "cell_type": "code",
   "execution_count": 52,
   "metadata": {},
   "outputs": [
    {
     "data": {
      "text/plain": [
       "11.751422430512319"
      ]
     },
     "execution_count": 52,
     "metadata": {},
     "output_type": "execute_result"
    }
   ],
   "source": [
    "#Urban 1800 Treated\n",
    "DATAWESTURBAN1800TREATED = DATAWESTURBAN1800\n",
    "DATAWESTURBAN1800TREATED = DATAWESTURBAN1800TREATED.drop(DATAWESTURBAN1800TREATED[DATAWESTURBAN1800TREATED.napoleon != 1].index)\n",
    "\n",
    "WESTURBAN1800TREATED = DescrStatsW(DATAWESTURBAN1800TREATED.urbrate, weights=DATAWESTURBAN1800TREATED.totalpop1750, ddof=580000)\n",
    "\n",
    "#WESTURBAN1800TREATED.std\n",
    "WESTURBAN1800TREATED.mean"
   ]
  },
  {
   "cell_type": "code",
   "execution_count": 53,
   "metadata": {},
   "outputs": [
    {
     "data": {
      "text/plain": [
       "14.964609445601916"
      ]
     },
     "execution_count": 53,
     "metadata": {},
     "output_type": "execute_result"
    }
   ],
   "source": [
    "#Urban 1850 Treated\n",
    "DATAWESTURBAN1850TREATED = DATAWESTURBAN1850\n",
    "DATAWESTURBAN1850TREATED = DATAWESTURBAN1850TREATED.drop(DATAWESTURBAN1850TREATED[DATAWESTURBAN1850TREATED.napoleon != 1].index)\n",
    "\n",
    "WESTURBAN1850TREATED = DescrStatsW(DATAWESTURBAN1850TREATED.urbrate, weights=DATAWESTURBAN1850TREATED.totalpop1750, ddof=580000)\n",
    "\n",
    "#WESTURBAN1850TREATED.std\n",
    "WESTURBAN1850TREATED.mean"
   ]
  },
  {
   "cell_type": "code",
   "execution_count": 54,
   "metadata": {},
   "outputs": [
    {
     "data": {
      "text/plain": [
       "28.667853990894137"
      ]
     },
     "execution_count": 54,
     "metadata": {},
     "output_type": "execute_result"
    }
   ],
   "source": [
    "#Urban 1875 Treated\n",
    "DATAWESTURBAN1875TREATED = DATAWESTURBAN1875\n",
    "DATAWESTURBAN1875TREATED = DATAWESTURBAN1875TREATED.drop(DATAWESTURBAN1875TREATED[DATAWESTURBAN1875TREATED.napoleon != 1].index)\n",
    "\n",
    "WESTURBAN1875TREATED = DescrStatsW(DATAWESTURBAN1875TREATED.urbrate, weights=DATAWESTURBAN1875TREATED.totalpop1750, ddof=580000)\n",
    "\n",
    "#WESTURBAN1875TREATED.std\n",
    "WESTURBAN1875TREATED.mean"
   ]
  },
  {
   "cell_type": "code",
   "execution_count": 55,
   "metadata": {},
   "outputs": [
    {
     "data": {
      "text/plain": [
       "43.55360489359293"
      ]
     },
     "execution_count": 55,
     "metadata": {},
     "output_type": "execute_result"
    }
   ],
   "source": [
    "#Urban 1900 Treated\n",
    "DATAWESTURBAN1900TREATED = DATAWESTURBAN1900\n",
    "DATAWESTURBAN1900TREATED = DATAWESTURBAN1900TREATED.drop(DATAWESTURBAN1900TREATED[DATAWESTURBAN1900TREATED.napoleon != 1].index)\n",
    "\n",
    "WESTURBAN1900TREATED = DescrStatsW(DATAWESTURBAN1900TREATED.urbrate, weights=DATAWESTURBAN1900TREATED.totalpop1750, ddof=580000)\n",
    "\n",
    "#WESTURBAN1900TREATED.std\n",
    "WESTURBAN1900TREATED.mean"
   ]
  },
  {
   "cell_type": "code",
   "execution_count": 56,
   "metadata": {},
   "outputs": [
    {
     "data": {
      "text/plain": [
       "0.6414241936517694"
      ]
     },
     "execution_count": 56,
     "metadata": {},
     "output_type": "execute_result"
    }
   ],
   "source": [
    "##Protestant control\n",
    "DATAWESTPROTT = DATAWEST[['protestant', 'totalpop1750','napoleon']].copy()\n",
    "DATAWESTPROTT = DATAWESTPROTT.drop(DATAWESTPROTT[DATAWESTPROTT.napoleon != 1].index)\n",
    "WESTPROTT = DescrStatsW(DATAWESTPROTT.protestant, weights=DATAWESTPROTT.totalpop1750, ddof=580000)\n",
    "\n",
    "WESTPROTT.mean\n",
    "#WESTPROTT.std"
   ]
  },
  {
   "cell_type": "code",
   "execution_count": 57,
   "metadata": {},
   "outputs": [
    {
     "data": {
      "text/plain": [
       "51.45494617217177"
      ]
     },
     "execution_count": 57,
     "metadata": {},
     "output_type": "execute_result"
    }
   ],
   "source": [
    "##Latitude control\n",
    "DATAWESTLATT = DATAWEST[['latitude', 'totalpop1750','napoleon']].copy()\n",
    "DATAWESTLATT = DATAWESTLATT.drop(DATAWESTLATT[DATAWESTLATT.napoleon != 1].index)\n",
    "WESTLATT = DescrStatsW(DATAWESTLATT.latitude, weights=DATAWESTLATT.totalpop1750, ddof=580000)\n",
    "\n",
    "WESTLATT.mean\n",
    "#WESTLATT.std"
   ]
  },
  {
   "cell_type": "code",
   "execution_count": 58,
   "metadata": {},
   "outputs": [
    {
     "data": {
      "text/plain": [
       "9.126600308141258"
      ]
     },
     "execution_count": 58,
     "metadata": {},
     "output_type": "execute_result"
    }
   ],
   "source": [
    "##Longitude control\n",
    "DATAWESTLONT = DATAWEST[['longitude', 'totalpop1750','napoleon']].copy()\n",
    "DATAWESTLONT = DATAWESTLONT.drop(DATAWESTLONT[DATAWESTLONT.napoleon != 1].index)\n",
    "WESTLONT = DescrStatsW(DATAWESTLONT.longitude, weights=DATAWESTLONT.totalpop1750, ddof=580000)\n",
    "\n",
    "WESTLONT.mean\n",
    "#WESTLONT.std"
   ]
  },
  {
   "cell_type": "code",
   "execution_count": 59,
   "metadata": {},
   "outputs": [
    {
     "data": {
      "text/plain": [
       "566.9895873903439"
      ]
     },
     "execution_count": 59,
     "metadata": {},
     "output_type": "execute_result"
    }
   ],
   "source": [
    "##Distance to Paris control\n",
    "DATAWESTDIST = DATAWEST[['distpa', 'totalpop1750','napoleon']].copy()\n",
    "DATAWESTDIST = DATAWESTDIST.drop(DATAWESTDIST[DATAWESTDIST.napoleon != 1].index)\n",
    "WESTDIST = DescrStatsW(DATAWESTDIST.distpa, weights=DATAWESTDIST.totalpop1750, ddof=580000)\n",
    "\n",
    "WESTDIST.mean\n",
    "#WESTDIST.std"
   ]
  },
  {
   "cell_type": "markdown",
   "metadata": {},
   "source": [
    "#### Column 4\n",
    "#### Whole Sample - Control"
   ]
  },
  {
   "cell_type": "code",
   "execution_count": 60,
   "metadata": {},
   "outputs": [],
   "source": [
    "DATALL = DATA\n",
    "DATALL = DATALL.dropna()"
   ]
  },
  {
   "cell_type": "code",
   "execution_count": 62,
   "metadata": {},
   "outputs": [
    {
     "name": "stderr",
     "output_type": "stream",
     "text": [
      "<ipython-input-62-dcd29439a100>:1: SettingWithCopyWarning: \n",
      "A value is trying to be set on a copy of a slice from a DataFrame.\n",
      "Try using .loc[row_indexer,col_indexer] = value instead\n",
      "\n",
      "See the caveats in the documentation: https://pandas.pydata.org/pandas-docs/stable/user_guide/indexing.html#returning-a-view-versus-a-copy\n",
      "  DATALL['napoleon']=np.where(DATALL['fpresence']>0,1,0)\n"
     ]
    }
   ],
   "source": [
    "DATALL['napoleon']=np.where(DATALL['fpresence']>0,1,0)  "
   ]
  },
  {
   "cell_type": "code",
   "execution_count": 63,
   "metadata": {},
   "outputs": [],
   "source": [
    "#Urban rate 1700\n",
    "DATALLURBAN1700 = DATALL[['urbrate', 'totalpop1750','year','napoleon']].copy()\n",
    "DATALLURBAN1700 = DATALLURBAN1700.drop(DATALLURBAN1700[DATALLURBAN1700.year != 1700].index)"
   ]
  },
  {
   "cell_type": "code",
   "execution_count": 64,
   "metadata": {},
   "outputs": [
    {
     "data": {
      "text/plain": [
       "7.683413524646402"
      ]
     },
     "execution_count": 64,
     "metadata": {},
     "output_type": "execute_result"
    }
   ],
   "source": [
    "#Urban rate 1700 control Whole sample\n",
    "DATALLURBAN1700CONTROL = DATALLURBAN1700\n",
    "DATALLURBAN1700CONTROL = DATALLURBAN1700CONTROL.drop(DATALLURBAN1700CONTROL[DATALLURBAN1700CONTROL.napoleon != 0].index)\n",
    "\n",
    "ALLURBAN1700CONTROL = DescrStatsW(DATALLURBAN1700CONTROL.urbrate, weights=DATALLURBAN1700CONTROL.totalpop1750, ddof=850000)\n",
    "ALLURBAN1700CONTROL.mean\n",
    "#ALLURBAN1700CONTROL.std"
   ]
  },
  {
   "cell_type": "code",
   "execution_count": 65,
   "metadata": {},
   "outputs": [
    {
     "data": {
      "text/plain": [
       "8.897049936929093"
      ]
     },
     "execution_count": 65,
     "metadata": {},
     "output_type": "execute_result"
    }
   ],
   "source": [
    "#Urban rate 1750 control Whole sample\n",
    "\n",
    "DATALLURBAN1750 = DATALL[['urbrate', 'totalpop1750','year','napoleon']].copy()\n",
    "DATALLURBAN1750 = DATALLURBAN1750.drop(DATALLURBAN1750[DATALLURBAN1750.year != 1750].index)\n",
    "\n",
    "DATALLURBAN1750CONTROL = DATALLURBAN1750\n",
    "DATALLURBAN1750CONTROL = DATALLURBAN1750CONTROL.drop(DATALLURBAN1750CONTROL[DATALLURBAN1750CONTROL.napoleon != 0].index)\n",
    "\n",
    "ALLURBAN1750CONTROL = DescrStatsW(DATALLURBAN1750CONTROL.urbrate, weights=DATALLURBAN1750CONTROL.totalpop1750, ddof=680000)\n",
    "ALLURBAN1750CONTROL.mean\n",
    "#ALLURBAN1750CONTROL.std"
   ]
  },
  {
   "cell_type": "code",
   "execution_count": 66,
   "metadata": {},
   "outputs": [
    {
     "data": {
      "text/plain": [
       "10.220954941665136"
      ]
     },
     "execution_count": 66,
     "metadata": {},
     "output_type": "execute_result"
    }
   ],
   "source": [
    "#Urban rate 1800 control Whole sample\n",
    "\n",
    "DATALLURBAN1800 = DATALL[['urbrate', 'totalpop1750','year','napoleon']].copy()\n",
    "DATALLURBAN1800 = DATALLURBAN1800.drop(DATALLURBAN1800[DATALLURBAN1800.year != 1800].index)\n",
    "\n",
    "DATALLURBAN1800CONTROL = DATALLURBAN1800\n",
    "DATALLURBAN1800CONTROL = DATALLURBAN1800CONTROL.drop(DATALLURBAN1800CONTROL[DATALLURBAN1800CONTROL.napoleon != 0].index)\n",
    "\n",
    "ALLURBAN1800CONTROL = DescrStatsW(DATALLURBAN1800CONTROL.urbrate, weights=DATALLURBAN1800CONTROL.totalpop1750, ddof=680000)\n",
    "ALLURBAN1800CONTROL.mean\n",
    "#ALLURBAN1800CONTROL.std"
   ]
  },
  {
   "cell_type": "code",
   "execution_count": 67,
   "metadata": {},
   "outputs": [
    {
     "data": {
      "text/plain": [
       "14.451243450754959"
      ]
     },
     "execution_count": 67,
     "metadata": {},
     "output_type": "execute_result"
    }
   ],
   "source": [
    "#Urban rate 1850 control Whole sample\n",
    "\n",
    "DATALLURBAN1850 = DATALL[['urbrate', 'totalpop1750','year','napoleon']].copy()\n",
    "DATALLURBAN1850 = DATALLURBAN1850.drop(DATALLURBAN1850[DATALLURBAN1850.year != 1850].index)\n",
    "\n",
    "DATALLURBAN1850CONTROL = DATALLURBAN1850\n",
    "DATALLURBAN1850CONTROL = DATALLURBAN1850CONTROL.drop(DATALLURBAN1850CONTROL[DATALLURBAN1850CONTROL.napoleon != 0].index)\n",
    "\n",
    "ALLURBAN1850CONTROL = DescrStatsW(DATALLURBAN1850CONTROL.urbrate, weights=DATALLURBAN1850CONTROL.totalpop1750, ddof=680000)\n",
    "ALLURBAN1850CONTROL.mean\n",
    "#ALLURBAN1850CONTROL.std"
   ]
  },
  {
   "cell_type": "code",
   "execution_count": 68,
   "metadata": {},
   "outputs": [
    {
     "data": {
      "text/plain": [
       "25.1877393434764"
      ]
     },
     "execution_count": 68,
     "metadata": {},
     "output_type": "execute_result"
    }
   ],
   "source": [
    "#Urban rate 1875 control Whole sample\n",
    "\n",
    "DATALLURBAN1875 = DATALL[['urbrate', 'totalpop1750','year','napoleon']].copy()\n",
    "DATALLURBAN1875 = DATALLURBAN1875.drop(DATALLURBAN1875[DATALLURBAN1875.year != 1875].index)\n",
    "\n",
    "DATALLURBAN1875CONTROL = DATALLURBAN1875\n",
    "DATALLURBAN1875CONTROL = DATALLURBAN1875CONTROL.drop(DATALLURBAN1875CONTROL[DATALLURBAN1875CONTROL.napoleon != 0].index)\n",
    "\n",
    "ALLURBAN1875CONTROL = DescrStatsW(DATALLURBAN1875CONTROL.urbrate, weights=DATALLURBAN1875CONTROL.totalpop1750, ddof=680000)\n",
    "ALLURBAN1875CONTROL.mean\n",
    "#ALLURBAN1875CONTROL.std"
   ]
  },
  {
   "cell_type": "code",
   "execution_count": 69,
   "metadata": {},
   "outputs": [
    {
     "data": {
      "text/plain": [
       "38.26551108490451"
      ]
     },
     "execution_count": 69,
     "metadata": {},
     "output_type": "execute_result"
    }
   ],
   "source": [
    "#Urban rate 1900 control Whole sample\n",
    "\n",
    "DATALLURBAN1900 = DATALL[['urbrate', 'totalpop1750','year','napoleon']].copy()\n",
    "DATALLURBAN1900 = DATALLURBAN1900.drop(DATALLURBAN1900[DATALLURBAN1900.year != 1900].index)\n",
    "\n",
    "DATALLURBAN1900CONTROL = DATALLURBAN1900\n",
    "DATALLURBAN1900CONTROL = DATALLURBAN1900CONTROL.drop(DATALLURBAN1900CONTROL[DATALLURBAN1900CONTROL.napoleon != 0].index)\n",
    "\n",
    "ALLURBAN1900CONTROL = DescrStatsW(DATALLURBAN1900CONTROL.urbrate, weights=DATALLURBAN1900CONTROL.totalpop1750, ddof=680000)\n",
    "ALLURBAN1900CONTROL.mean\n",
    "#ALLURBAN1900CONTROL.std"
   ]
  },
  {
   "cell_type": "code",
   "execution_count": 70,
   "metadata": {},
   "outputs": [
    {
     "data": {
      "text/plain": [
       "0.6836536241209011"
      ]
     },
     "execution_count": 70,
     "metadata": {},
     "output_type": "execute_result"
    }
   ],
   "source": [
    "##Protestant control whole sample\n",
    "DATALLPROTT = DATALL[['protestant', 'totalpop1750','napoleon']].copy()\n",
    "DATALLPROTT = DATALLPROTT.drop(DATALLPROTT[DATALLPROTT.napoleon != 0].index)\n",
    "ALLPROTT = DescrStatsW(DATALLPROTT.protestant, weights=DATALLPROTT.totalpop1750, ddof=580000)\n",
    "\n",
    "ALLPROTT.mean\n",
    "#ALLPROTT.std"
   ]
  },
  {
   "cell_type": "code",
   "execution_count": 71,
   "metadata": {},
   "outputs": [
    {
     "data": {
      "text/plain": [
       "50.97987287042815"
      ]
     },
     "execution_count": 71,
     "metadata": {},
     "output_type": "execute_result"
    }
   ],
   "source": [
    "##Latitude control whole sample\n",
    "DATALLLATC = DATALL[['latitude', 'totalpop1750','napoleon']].copy()\n",
    "DATALLLATC = DATALLLATC.drop(DATALLLATC[DATALLLATC.napoleon != 0].index)\n",
    "ALLLATC = DescrStatsW(DATALLLATC.latitude, weights=DATALLLATC.totalpop1750, ddof=580000)\n",
    "\n",
    "ALLLATC.mean\n",
    "#ALLLATC.std"
   ]
  },
  {
   "cell_type": "code",
   "execution_count": 72,
   "metadata": {},
   "outputs": [
    {
     "data": {
      "text/plain": [
       "12.747230735698333"
      ]
     },
     "execution_count": 72,
     "metadata": {},
     "output_type": "execute_result"
    }
   ],
   "source": [
    "##Longitude control whole sample\n",
    "DATALLLONC = DATALL[['longitude', 'totalpop1750','napoleon']].copy()\n",
    "DATALLLONC = DATALLLONC.drop(DATALLLONC[DATALLLONC.napoleon != 0].index)\n",
    "ALLLONC = DescrStatsW(DATALLLONC.longitude, weights=DATALLLONC.totalpop1750, ddof=580000)\n",
    "\n",
    "ALLLONC.mean\n",
    "#ALLLONC.std"
   ]
  },
  {
   "cell_type": "code",
   "execution_count": 73,
   "metadata": {},
   "outputs": [
    {
     "data": {
      "text/plain": [
       "807.4158938639672"
      ]
     },
     "execution_count": 73,
     "metadata": {},
     "output_type": "execute_result"
    }
   ],
   "source": [
    "##Distance to Paris control whole sample\n",
    "DATALLDISTC = DATALL[['distpa', 'totalpop1750','napoleon']].copy()\n",
    "DATALLDISTC = DATALLDISTC.drop(DATALLDISTC[DATALLDISTC.napoleon != 0].index)\n",
    "ALLDISTC = DescrStatsW(DATALLDISTC.distpa, weights=DATALLDISTC.totalpop1750, ddof=580000)\n",
    "\n",
    "ALLDISTC.mean\n",
    "#ALLDISTC.std"
   ]
  },
  {
   "cell_type": "markdown",
   "metadata": {},
   "source": [
    "#### Column 5\n",
    "#### Whole Sample - ALL"
   ]
  },
  {
   "cell_type": "code",
   "execution_count": 74,
   "metadata": {},
   "outputs": [
    {
     "data": {
      "text/plain": [
       "7.268137191100369"
      ]
     },
     "execution_count": 74,
     "metadata": {},
     "output_type": "execute_result"
    }
   ],
   "source": [
    "#Urban rate 1700 ALL - Whole sample\n",
    "DATALLURBAN1700 = DATALL[['urbrate', 'totalpop1750','year','napoleon']].copy()\n",
    "DATALLURBAN1700 = DATALLURBAN1700.drop(DATALLURBAN1700[DATALLURBAN1700.year != 1700].index)\n",
    "\n",
    "ALLURBAN1700 = DescrStatsW(DATALLURBAN1700.urbrate, weights=DATALLURBAN1700.totalpop1750, ddof=640000)\n",
    "ALLURBAN1700.mean\n",
    "#ALLURBAN1700.std"
   ]
  },
  {
   "cell_type": "code",
   "execution_count": 75,
   "metadata": {},
   "outputs": [
    {
     "data": {
      "text/plain": [
       "8.588470909981682"
      ]
     },
     "execution_count": 75,
     "metadata": {},
     "output_type": "execute_result"
    }
   ],
   "source": [
    "#Urban rate 1750 ALL - Whole sample\n",
    "DATALLURBAN1750 = DATALL[['urbrate', 'totalpop1750','year','napoleon']].copy()\n",
    "DATALLURBAN1750 = DATALLURBAN1750.drop(DATALLURBAN1750[DATALLURBAN1750.year != 1750].index)\n",
    "\n",
    "ALLURBAN1750 = DescrStatsW(DATALLURBAN1750.urbrate, weights=DATALLURBAN1750.totalpop1750, ddof=640000)\n",
    "ALLURBAN1750.mean\n",
    "#ALLURBAN1750.std"
   ]
  },
  {
   "cell_type": "code",
   "execution_count": 76,
   "metadata": {},
   "outputs": [
    {
     "data": {
      "text/plain": [
       "10.808048453085934"
      ]
     },
     "execution_count": 76,
     "metadata": {},
     "output_type": "execute_result"
    }
   ],
   "source": [
    "#Urban rate 1800 ALL - Whole sample\n",
    "DATALLURBAN1800 = DATALL[['urbrate', 'totalpop1750','year','napoleon']].copy()\n",
    "DATALLURBAN1800 = DATALLURBAN1800.drop(DATALLURBAN1800[DATALLURBAN1800.year != 1800].index)\n",
    "\n",
    "ALLURBAN1800 = DescrStatsW(DATALLURBAN1800.urbrate, weights=DATALLURBAN1800.totalpop1750, ddof=640000)\n",
    "ALLURBAN1800.mean\n",
    "#ALLURBAN1800.std"
   ]
  },
  {
   "cell_type": "code",
   "execution_count": 77,
   "metadata": {},
   "outputs": [
    {
     "data": {
      "text/plain": [
       "14.648172720246174"
      ]
     },
     "execution_count": 77,
     "metadata": {},
     "output_type": "execute_result"
    }
   ],
   "source": [
    "#Urban rate 1850 ALL - Whole sample\n",
    "DATALLURBAN1850 = DATALL[['urbrate', 'totalpop1750','year','napoleon']].copy()\n",
    "DATALLURBAN1850 = DATALLURBAN1850.drop(DATALLURBAN1850[DATALLURBAN1850.year != 1850].index)\n",
    "\n",
    "ALLURBAN1850 = DescrStatsW(DATALLURBAN1850.urbrate, weights=DATALLURBAN1850.totalpop1750, ddof=640000)\n",
    "ALLURBAN1850.mean\n",
    "#ALLURBAN1850.std"
   ]
  },
  {
   "cell_type": "code",
   "execution_count": 78,
   "metadata": {},
   "outputs": [
    {
     "data": {
      "text/plain": [
       "26.52272538100303"
      ]
     },
     "execution_count": 78,
     "metadata": {},
     "output_type": "execute_result"
    }
   ],
   "source": [
    "#Urban rate 1875 ALL - Whole sample\n",
    "DATALLURBAN1875 = DATALL[['urbrate', 'totalpop1750','year','napoleon']].copy()\n",
    "DATALLURBAN1875 = DATALLURBAN1875.drop(DATALLURBAN1875[DATALLURBAN1875.year != 1875].index)\n",
    "ALLURBAN1875 = DescrStatsW(DATALLURBAN1875.urbrate, weights=DATALLURBAN1875.totalpop1750, ddof=640000)\n",
    "ALLURBAN1875.mean\n",
    "#ALLURBAN1875.std"
   ]
  },
  {
   "cell_type": "code",
   "execution_count": 79,
   "metadata": {},
   "outputs": [
    {
     "data": {
      "text/plain": [
       "40.2940452324701"
      ]
     },
     "execution_count": 79,
     "metadata": {},
     "output_type": "execute_result"
    }
   ],
   "source": [
    "#Urban rate 1900 ALL - Whole sample\n",
    "DATALLURBAN1900 = DATALL[['urbrate', 'totalpop1750','year','napoleon']].copy()\n",
    "DATALLURBAN1900 = DATALLURBAN1900.drop(DATALLURBAN1900[DATALLURBAN1900.year != 1900].index)\n",
    "\n",
    "ALLURBAN1900 = DescrStatsW(DATALLURBAN1900.urbrate, weights=DATALLURBAN1900.totalpop1750, ddof=640000)\n",
    "ALLURBAN1900.mean\n",
    "#ALLURBAN1900.std"
   ]
  },
  {
   "cell_type": "code",
   "execution_count": 80,
   "metadata": {},
   "outputs": [
    {
     "data": {
      "text/plain": [
       "0.6678142994268015"
      ]
     },
     "execution_count": 80,
     "metadata": {},
     "output_type": "execute_result"
    }
   ],
   "source": [
    "##Protestant control whole sample\n",
    "DATALLPROT = DATALL[['protestant', 'totalpop1750','napoleon']].copy()\n",
    "\n",
    "ALLPROT = DescrStatsW(DATALLPROT.protestant, weights=DATALLPROT.totalpop1750, ddof=640000)\n",
    "\n",
    "ALLPROT.mean\n",
    "#ALLPROT.std"
   ]
  },
  {
   "cell_type": "code",
   "execution_count": 81,
   "metadata": {},
   "outputs": [
    {
     "data": {
      "text/plain": [
       "51.15806235099232"
      ]
     },
     "execution_count": 81,
     "metadata": {},
     "output_type": "execute_result"
    }
   ],
   "source": [
    "##Latitude control whole sample\n",
    "DATALLLAT = DATALL[['latitude', 'totalpop1750','napoleon']].copy()\n",
    "ALLLAT = DescrStatsW(DATALLLAT.latitude, weights=DATALLLAT.totalpop1750, ddof=640000)\n",
    "\n",
    "ALLLAT.mean\n",
    "#ALLLAT.std"
   ]
  },
  {
   "cell_type": "code",
   "execution_count": 82,
   "metadata": {},
   "outputs": [
    {
     "data": {
      "text/plain": [
       "11.389212398668352"
      ]
     },
     "execution_count": 82,
     "metadata": {},
     "output_type": "execute_result"
    }
   ],
   "source": [
    "##Longitude control whole sample\n",
    "DATALLLON = DATALL[['longitude', 'totalpop1750','napoleon']].copy()\n",
    "ALLLON = DescrStatsW(DATALLLON.longitude, weights=DATALLLON.totalpop1750, ddof=640000)\n",
    "\n",
    "ALLLON.mean\n",
    "#ALLLON.std"
   ]
  },
  {
   "cell_type": "code",
   "execution_count": 83,
   "metadata": {},
   "outputs": [
    {
     "data": {
      "text/plain": [
       "717.2373077231358"
      ]
     },
     "execution_count": 83,
     "metadata": {},
     "output_type": "execute_result"
    }
   ],
   "source": [
    "##Distance to Paris control whole sample\n",
    "DATALLDIST = DATALL[['distpa', 'totalpop1750','napoleon']].copy()\n",
    "ALLDIST = DescrStatsW(DATALLDIST.distpa, weights=DATALLDIST.totalpop1750, ddof=640000)\n",
    "\n",
    "ALLDIST.mean\n",
    "#ALLDIST.std"
   ]
  },
  {
   "cell_type": "markdown",
   "metadata": {},
   "source": [
    "# Figure 2A. Urbanization Rates, by Treatment Group\n",
    "\n",
    "For figure 2A we will just use the information about the urban rate, differentiating by control, and treatment group. You can also see the difference between these 2, and analyze how this difference is bigger since 1705.\n",
    "\n",
    "## Original\n",
    "The author doesn't show how he makes graphs."
   ]
  },
  {
   "cell_type": "markdown",
   "metadata": {},
   "source": [
    "![Imagen](img/Figura21.png)"
   ]
  },
  {
   "cell_type": "markdown",
   "metadata": {},
   "source": [
    "## Replication"
   ]
  },
  {
   "cell_type": "code",
   "execution_count": 390,
   "metadata": {},
   "outputs": [],
   "source": [
    "datafig2 = pd.read_stata(pathout + 'replication_dataset.dta')"
   ]
  },
  {
   "cell_type": "code",
   "execution_count": 391,
   "metadata": {},
   "outputs": [],
   "source": [
    "meansfig = data1.groupby(['year', 'napoleon'])['urbrate'].mean().unstack()\n",
    "meansfig2 = data1.groupby(['year', 'westelbe'])['urbrate'].mean().unstack()"
   ]
  },
  {
   "cell_type": "code",
   "execution_count": 394,
   "metadata": {},
   "outputs": [],
   "source": [
    "\n",
    "dataf2 = {'Year': [1700, 1750, 1800, 1850,1875,1880,1885,1895,1900], \n",
    "        'West': [4.965689 ,7.704638 ,10.237379 ,13.382242 ,24.521772 ,28.461521 ,\n",
    "                   30.805981 ,38.269096 ,39.198532], \n",
    "          'treatment': [5.359634,8.161680,11.891592,14.509822,26.807312,30.080849,32.355259,40.437576,42.384228\n",
    "]\n",
    "       } \n",
    "\n",
    "fig2 = pd.DataFrame(dataf2)\n",
    "Year = pd.Categorical(fig2.Year)\n",
    "fig2 = fig2.set_index([ 'Year'])\n"
   ]
  },
  {
   "cell_type": "code",
   "execution_count": 395,
   "metadata": {},
   "outputs": [],
   "source": [
    "\n",
    "fig2['Diference']=  fig2.treatment - fig2.West \n"
   ]
  },
  {
   "cell_type": "code",
   "execution_count": 396,
   "metadata": {},
   "outputs": [
    {
     "data": {
      "image/png": "[encoded data removed]",
      "text/plain": [
       "<Figure size 1000x800 with 1 Axes>"
      ]
     },
     "metadata": {},
     "output_type": "display_data"
    }
   ],
   "source": [
    "fig, ax = plt.subplots(figsize=(10,8),dpi=100)\n",
    "plt.style.use('seaborn-colorblind')\n",
    "sns.lineplot(data=fig2 , alpha=1,palette=\"ch:8.5,.45\", style=\"choice\",\n",
    "                dashes=False, markers=True)\n",
    "\n",
    "plt.title('Figure 2A. Urbanization Rates, by Treatment Group')\n",
    "plt.legend(['Control (Westof the Elbe)','Treatment','Diference'])\n",
    "plt.xlabel('Year')\n",
    "plt.ylabel('Urbanization Rate')\n",
    "\n",
    "\n",
    "\n",
    "plt.show()"
   ]
  },
  {
   "cell_type": "markdown",
   "metadata": {},
   "source": [
    "# Figure 2B. Urbanization Rates, by Treatment Group\n",
    "\n",
    "The idea is the same that in figure 2A. Now we will use the whole sample to see the difference between the territories with high French influence and territories with low or any French influence.\n",
    "\n",
    "## Original\n",
    "The author doesn't show how he makes graphs."
   ]
  },
  {
   "cell_type": "markdown",
   "metadata": {},
   "source": [
    "![Imagen](img/Figura22.png)"
   ]
  },
  {
   "cell_type": "markdown",
   "metadata": {},
   "source": [
    "## Replication"
   ]
  },
  {
   "cell_type": "code",
   "execution_count": 403,
   "metadata": {},
   "outputs": [],
   "source": [
    "meansfig = data1.groupby(['year', 'napoleon'])['urbrate'].mean().unstack()"
   ]
  },
  {
   "cell_type": "code",
   "execution_count": 404,
   "metadata": {},
   "outputs": [],
   "source": [
    "dataf22 = {'Year': [1700, 1750, 1800, 1850,1875,1880,1885,1895,1900], \n",
    "        'Control': [6.301950,8.037416,10.001850,14.123228,24.170938,23.895399,26.050716,31.349073,\n",
    "                    36.435326], \n",
    "          \n",
    "          'Treatment': [5.359634,8.161680,11.891592,14.509822,26.807312,30.080849,32.355259,\n",
    "                        40.437576,42.384228\n",
    "                       ]\n",
    "       } \n",
    "fig22 = pd.DataFrame(dataf22)\n",
    "Year = pd.Categorical(fig22.Year)\n",
    "fig22 = fig22.set_index([ 'Year'])"
   ]
  },
  {
   "cell_type": "code",
   "execution_count": 405,
   "metadata": {},
   "outputs": [],
   "source": [
    "fig22['difference']= fig22.Treatment - fig22.Control"
   ]
  },
  {
   "cell_type": "code",
   "execution_count": 406,
   "metadata": {},
   "outputs": [
    {
     "data": {
      "image/png": "[encoded data removed]",
      "text/plain": [
       "<Figure size 1000x800 with 1 Axes>"
      ]
     },
     "metadata": {},
     "output_type": "display_data"
    }
   ],
   "source": [
    "fig, ax = plt.subplots(figsize=(10,8),dpi=100)\n",
    "plt.style.use('seaborn-colorblind')\n",
    "sns.lineplot(data=fig22 , alpha=1,palette=\"ch:2.1,.25\", style=\"choice\",\n",
    "                dashes=False, markers=True)\n",
    "\n",
    "plt.title('Figure 2A. Urbanization Rates, by Treatment Group')\n",
    "plt.legend(['Control (Whole Sample)','Treatment','Difference'])\n",
    "plt.xlabel('Year')\n",
    "plt.ylabel('Urbanization Rate')\n",
    "\n",
    "\n",
    "\n",
    "plt.show()"
   ]
  },
  {
   "cell_type": "markdown",
   "metadata": {},
   "source": [
    "# Table 3 - Urbanization In Germany"
   ]
  },
  {
   "cell_type": "markdown",
   "metadata": {},
   "source": [
    "Table 3 contains 4 regresions:\n",
    "#### - Regresion 1: \n",
    "$ Urbrate = \\alpha_{1}fpresence1750 + \\alpha_{2}fpresence1800 + \\alpha_{3}fpresence1850 + \\alpha_{4}fpresence1875 + \\alpha_{5}fpresence1900 +\\beta_{1}yr $\n",
    " \n",
    "For the West of Elbe and weighted by total population in 1750 \n",
    " \n",
    " #### - Regresion 2:\n",
    "$ Urbrate = \\alpha_{1}fpresence1750 + \\alpha_{2}fpresence1800 + \\alpha_{3}fpresence1850 + \\alpha_{4}fpresence1875 + \\alpha_{5}fpresence1900 +\\beta_{1}yr $\n",
    " \n",
    " \n",
    "For the West of Elbe and no weight\n",
    " \n",
    " \n",
    "####  - Regresion 3:\n",
    "$ Urbrate = \\alpha_{1}fpresence1750 + \\alpha_{2}fpresence1800 + \\alpha_{3}fpresence1850 + \\alpha_{4}fpresence1875 + \\alpha_{5}fpresence1900 +\\beta_{1}yr $\n",
    " \n",
    "\n",
    "For the whole sample and weighted by total population in 1750\n",
    " \n",
    " \n",
    "####  - Regresion 4: \n",
    "$ Urbrate = \\alpha_{1}fpresence1750 + \\alpha_{2}fpresence1800 + \\alpha_{3}fpresence1850 + \\alpha_{4}fpresence1875 + \\alpha_{5}fpresence1900 +\\beta_{1}yr $\n",
    " \n",
    "\n",
    "For the whole sample\n",
    " \n",
    "Where:\n",
    "\n",
    "- Urbrate: (urban population /total population) *100\n",
    "- fpresence1750: Is an interacction between fpresence and yr1750\n",
    "- fpresence1800: Is an interacction between fpresence and yr1800\n",
    "- fpresence1850: Is an interacction between fpresence and yr1850\n",
    "- fpresence1875: Is an interacction between fpresence and yr1875\n",
    "- fpresence1900: Is an interacction between fpresence and yr1900\n",
    "- yr*: Abbreviation for 6 Dummy variable = 1 for yr1700, yr1750, yr1800, yr1850, yr1875 and yr1900\n",
    " "
   ]
  },
  {
   "cell_type": "markdown",
   "metadata": {},
   "source": [
    "In table 3 we can see that by 1800 the areas with more years of French presence were growing slower,and by 1850 there wasn't an statistical effect of years of French presence on the growth of urbanization. By 1900 we saw an positive effect of the French presence over the urbanization rates.\n",
    "Also we can see that for west of the Elby, we got a higher effect of the French presence, relative to all the sample, in 1850, 1875 and 1900. \n",
    "We can see that we didn't got any statisticly significant value, but this is explained by the high correlation between regressors. Thats why we have to look for the F test."
   ]
  },
  {
   "cell_type": "markdown",
   "metadata": {},
   "source": [
    "## Original"
   ]
  },
  {
   "cell_type": "markdown",
   "metadata": {},
   "source": [
    "![Imagen](img/Tabla3.png)"
   ]
  },
  {
   "cell_type": "code",
   "execution_count": 33,
   "metadata": {},
   "outputs": [],
   "source": [
    "import ipystata\n",
    "from ipystata.config import config_stata\n",
    "config_stata('/Applications/Stata/StataMP.app/Contents/MacOS/stataMP')"
   ]
  },
  {
   "cell_type": "markdown",
   "metadata": {},
   "source": [
    "#### Regression 1 - By author"
   ]
  },
  {
   "cell_type": "code",
   "execution_count": 34,
   "metadata": {},
   "outputs": [
    {
     "name": "stdout",
     "output_type": "stream",
     "text": [
      "\n",
      "note: yr1900 omitted because of collinearity\n",
      "note: yr1880 omitted because of collinearity\n",
      "note: yr1885 omitted because of collinearity\n",
      "note: yr1895 omitted because of collinearity\n",
      "note: yr1905 omitted because of collinearity\n",
      "note: yr1910 omitted because of collinearity\n",
      "\n",
      "Fixed-effects (within) regression               Number of obs     =         74\n",
      "Group variable: id                              Number of groups  =         13\n",
      "\n",
      "R-sq:                                           Obs per group:\n",
      "     within  = 0.9188                                         min =          5\n",
      "     between = 0.1275                                         avg =        5.7\n",
      "     overall = 0.6743                                         max =          6\n",
      "\n",
      "                                                F(10,12)          =     935.92\n",
      "corr(u_i, Xb)  = 0.0165                         Prob > F          =     0.0000\n",
      "\n",
      "                                     (Std. Err. adjusted for 13 clusters in id)\n",
      "-------------------------------------------------------------------------------\n",
      "              |               Robust\n",
      "      urbrate |      Coef.   Std. Err.      t    P>|t|     [95% Conf. Interval]\n",
      "--------------+----------------------------------------------------------------\n",
      "fpresence1750 |  -.4910237   .2487343    -1.97   0.072    -1.032969    .0509218\n",
      "fpresence1800 |  -.2474441   .2251383    -1.10   0.293    -.7379783      .24309\n",
      "fpresence1850 |  -.1602948   .2501326    -0.64   0.534    -.7052869    .3846972\n",
      "fpresence1875 |    .402126   .3256276     1.23   0.240    -.3073556    1.111608\n",
      "fpresence1900 |   .6338689   .4075106     1.56   0.146    -.2540205    1.521758\n",
      "       yr1700 |  -29.21852   4.246675    -6.88   0.000    -38.47123   -19.96581\n",
      "       yr1750 |  -25.94389   3.390967    -7.65   0.000    -33.33217   -18.55561\n",
      "       yr1800 |  -24.91925   3.599626    -6.92   0.000    -32.76216   -17.07634\n",
      "       yr1850 |  -21.84132   2.862168    -7.63   0.000    -28.07745   -15.60519\n",
      "       yr1875 |  -12.94605   1.372624    -9.43   0.000    -15.93674   -9.955362\n",
      "       yr1900 |          0  (omitted)\n",
      "       yr1880 |          0  (omitted)\n",
      "       yr1885 |          0  (omitted)\n",
      "       yr1895 |          0  (omitted)\n",
      "       yr1905 |          0  (omitted)\n",
      "       yr1910 |          0  (omitted)\n",
      "        _cons |   36.31077    3.37137    10.77   0.000     28.96519    43.65636\n",
      "--------------+----------------------------------------------------------------\n",
      "      sigma_u |  6.7749955\n",
      "      sigma_e |  4.3452422\n",
      "          rho |   .7085422   (fraction of variance due to u_i)\n",
      "-------------------------------------------------------------------------------\n"
     ]
    }
   ],
   "source": [
    "%%stata -d datastata\n",
    "sort id year\n",
    "xtreg urbrate fpresence1750 fpresence1800 fpresence1850 fpresence1875 fpresence1900 yr* if westelbe==1 [aweight=totalpop1750], fe i(id) cluster(id)"
   ]
  },
  {
   "cell_type": "markdown",
   "metadata": {},
   "source": [
    "#### Regression 2 By author"
   ]
  },
  {
   "cell_type": "code",
   "execution_count": 35,
   "metadata": {},
   "outputs": [
    {
     "name": "stdout",
     "output_type": "stream",
     "text": [
      "\n",
      "note: yr1910 omitted because of collinearity\n",
      "\n",
      "Fixed-effects (within) regression               Number of obs     =        114\n",
      "Group variable: id                              Number of groups  =         13\n",
      "\n",
      "R-sq:                                           Obs per group:\n",
      "     within  = 0.8797                                         min =          5\n",
      "     between = 0.3578                                         avg =        8.8\n",
      "     overall = 0.6795                                         max =         11\n",
      "\n",
      "                                                F(12,12)          =          .\n",
      "corr(u_i, Xb)  = 0.0518                         Prob > F          =          .\n",
      "\n",
      "                                     (Std. Err. adjusted for 13 clusters in id)\n",
      "-------------------------------------------------------------------------------\n",
      "              |               Robust\n",
      "      urbrate |      Coef.   Std. Err.      t    P>|t|     [95% Conf. Interval]\n",
      "--------------+----------------------------------------------------------------\n",
      "fpresence1750 |  -.6085734   .4538037    -1.34   0.205    -1.597327      .38018\n",
      "fpresence1800 |  -.3993874   .4175717    -0.96   0.358    -1.309198    .5104232\n",
      "fpresence1850 |  -.3236506   .3934473    -0.82   0.427    -1.180899    .5335975\n",
      "fpresence1875 |  -.0027979   .1088029    -0.03   0.980    -.2398589    .2342632\n",
      "fpresence1900 |   .1720475   .1018707     1.69   0.117    -.0499096    .3940047\n",
      "       yr1700 |  -37.46348    3.48919   -10.74   0.000    -45.06577   -29.86119\n",
      "       yr1750 |  -32.48406   3.610559    -9.00   0.000    -40.35079   -24.61732\n",
      "       yr1800 |  -31.09379   3.435074    -9.05   0.000    -38.57818   -23.60941\n",
      "       yr1850 |  -28.36257   3.040272    -9.33   0.000    -34.98675   -21.73839\n",
      "       yr1875 |  -18.97539   2.093831    -9.06   0.000    -23.53745   -14.41332\n",
      "       yr1900 |  -5.253555   2.562767    -2.05   0.063    -10.83734    .3302344\n",
      "       yr1880 |  -16.80716   1.436508   -11.70   0.000    -19.93704   -13.67728\n",
      "       yr1885 |   -14.4627    1.28813   -11.23   0.000     -17.2693   -11.65611\n",
      "       yr1895 |  -6.999587    2.03394    -3.44   0.005    -11.43116   -2.568012\n",
      "       yr1905 |  -2.934876   .2613185   -11.23   0.000     -3.50424   -2.365512\n",
      "       yr1910 |          0  (omitted)\n",
      "        _cons |   44.04315   1.845931    23.86   0.000     40.02121    48.06508\n",
      "--------------+----------------------------------------------------------------\n",
      "      sigma_u |  8.4108853\n",
      "      sigma_e |   5.469798\n",
      "          rho |  .70277976   (fraction of variance due to u_i)\n",
      "-------------------------------------------------------------------------------\n"
     ]
    }
   ],
   "source": [
    "%%stata -d datastata\n",
    "sort id year\n",
    "xtreg urbrate fpresence1750 fpresence1800 fpresence1850 fpresence1875 fpresence1900 yr* if westelbe==1, fe i(id) cluster(id)"
   ]
  },
  {
   "cell_type": "markdown",
   "metadata": {},
   "source": [
    "#### Regression 3 By author"
   ]
  },
  {
   "cell_type": "code",
   "execution_count": 36,
   "metadata": {},
   "outputs": [
    {
     "name": "stdout",
     "output_type": "stream",
     "text": [
      "\n",
      "note: yr1900 omitted because of collinearity\n",
      "note: yr1880 omitted because of collinearity\n",
      "note: yr1885 omitted because of collinearity\n",
      "note: yr1895 omitted because of collinearity\n",
      "note: yr1905 omitted because of collinearity\n",
      "note: yr1910 omitted because of collinearity\n",
      "\n",
      "Fixed-effects (within) regression               Number of obs     =        109\n",
      "Group variable: id                              Number of groups  =         19\n",
      "\n",
      "R-sq:                                           Obs per group:\n",
      "     within  = 0.8948                                         min =          5\n",
      "     between = 0.0170                                         avg =        5.7\n",
      "     overall = 0.6401                                         max =          6\n",
      "\n",
      "                                                F(10,18)          =     222.22\n",
      "corr(u_i, Xb)  = 0.0007                         Prob > F          =     0.0000\n",
      "\n",
      "                                     (Std. Err. adjusted for 19 clusters in id)\n",
      "-------------------------------------------------------------------------------\n",
      "              |               Robust\n",
      "      urbrate |      Coef.   Std. Err.      t    P>|t|     [95% Conf. Interval]\n",
      "--------------+----------------------------------------------------------------\n",
      "fpresence1750 |  -.4877689   .2346843    -2.08   0.052    -.9808224    .0052846\n",
      "fpresence1800 |  -.2683187   .2271092    -1.18   0.253    -.7454574      .20882\n",
      "fpresence1850 |  -.2205774   .2492595    -0.88   0.388    -.7442522    .3030974\n",
      "fpresence1875 |     .26588   .3031231     0.88   0.392     -.370958    .9027179\n",
      "fpresence1900 |   .5033205   .3757051     1.34   0.197    -.2860066    1.292648\n",
      "       yr1700 |  -30.76349   3.623264    -8.49   0.000    -38.37568   -23.15129\n",
      "       yr1750 |   -27.9112   3.143763    -8.88   0.000      -34.516    -21.3064\n",
      "       yr1800 |  -26.53178   3.043012    -8.72   0.000    -32.92491   -20.13865\n",
      "       yr1850 |  -22.87444    2.21262   -10.34   0.000    -27.52298   -18.22589\n",
      "       yr1875 |  -12.86228   1.168029   -11.01   0.000    -15.31622   -10.40834\n",
      "       yr1900 |          0  (omitted)\n",
      "       yr1880 |          0  (omitted)\n",
      "       yr1885 |          0  (omitted)\n",
      "       yr1895 |          0  (omitted)\n",
      "       yr1905 |          0  (omitted)\n",
      "       yr1910 |          0  (omitted)\n",
      "        _cons |   38.30368    2.66125    14.39   0.000      32.7126    43.89476\n",
      "--------------+----------------------------------------------------------------\n",
      "      sigma_u |  7.2220801\n",
      "      sigma_e |   4.798038\n",
      "          rho |  .69378441   (fraction of variance due to u_i)\n",
      "-------------------------------------------------------------------------------\n"
     ]
    }
   ],
   "source": [
    "%%stata -d datastata\n",
    "sort id year\n",
    "xtreg urbrate fpresence1750 fpresence1800 fpresence1850 fpresence1875 fpresence1900 yr* [aweight=totalpop1750], fe i(id) cluster(id)"
   ]
  },
  {
   "cell_type": "markdown",
   "metadata": {},
   "source": [
    "#### Regression 4 By author"
   ]
  },
  {
   "cell_type": "code",
   "execution_count": 37,
   "metadata": {},
   "outputs": [
    {
     "name": "stdout",
     "output_type": "stream",
     "text": [
      "\n",
      "note: yr1910 omitted because of collinearity\n",
      "\n",
      "Fixed-effects (within) regression               Number of obs     =        169\n",
      "Group variable: id                              Number of groups  =         19\n",
      "\n",
      "R-sq:                                           Obs per group:\n",
      "     within  = 0.8714                                         min =          5\n",
      "     between = 0.1489                                         avg =        8.9\n",
      "     overall = 0.6454                                         max =         11\n",
      "\n",
      "                                                F(15,18)          =     457.18\n",
      "corr(u_i, Xb)  = -0.0179                        Prob > F          =     0.0000\n",
      "\n",
      "                                     (Std. Err. adjusted for 19 clusters in id)\n",
      "-------------------------------------------------------------------------------\n",
      "              |               Robust\n",
      "      urbrate |      Coef.   Std. Err.      t    P>|t|     [95% Conf. Interval]\n",
      "--------------+----------------------------------------------------------------\n",
      "fpresence1750 |  -.5834996    .415473    -1.40   0.177    -1.456376    .2893769\n",
      "fpresence1800 |  -.4332343   .3714887    -1.17   0.259    -1.213703    .3472346\n",
      "fpresence1850 |  -.4096446   .3552715    -1.15   0.264    -1.156042     .336753\n",
      "fpresence1875 |  -.1337471   .1222668    -1.09   0.288    -.3906201     .123126\n",
      "fpresence1900 |   .1198377   .1656726     0.72   0.479    -.2282276    .4679029\n",
      "       yr1700 |  -35.98833    3.04028   -11.84   0.000    -42.37572   -29.60094\n",
      "       yr1750 |  -32.31138   2.917017   -11.08   0.000    -38.43981   -26.18296\n",
      "       yr1800 |  -30.16511    2.81409   -10.72   0.000    -36.07729   -24.25292\n",
      "       yr1850 |  -26.76478   2.479797   -10.79   0.000    -31.97464   -21.55492\n",
      "       yr1875 |  -16.80078    1.90751    -8.81   0.000    -20.80831   -12.79325\n",
      "       yr1900 |  -4.089254   1.882724    -2.17   0.043     -8.04471   -.1337978\n",
      "       yr1880 |  -16.10263   1.143876   -14.08   0.000    -18.50583   -13.69944\n",
      "       yr1885 |  -13.89769   1.058367   -13.13   0.000    -16.12124   -11.67415\n",
      "       yr1895 |  -7.439355   1.380671    -5.39   0.000    -10.34004   -4.538673\n",
      "       yr1905 |  -2.726412   .2870057    -9.50   0.000    -3.329389   -2.123435\n",
      "       yr1910 |          0  (omitted)\n",
      "        _cons |   42.52733   1.520584    27.97   0.000      39.3327    45.72196\n",
      "--------------+----------------------------------------------------------------\n",
      "      sigma_u |  8.5171586\n",
      "      sigma_e |  5.3118324\n",
      "          rho |  .71996578   (fraction of variance due to u_i)\n",
      "-------------------------------------------------------------------------------\n"
     ]
    }
   ],
   "source": [
    "%%stata -d datastata\n",
    "sort id year\n",
    "xtreg urbrate fpresence1750 fpresence1800 fpresence1850 fpresence1875 fpresence1900 yr*, fe i(id) cluster(id)"
   ]
  },
  {
   "cell_type": "markdown",
   "metadata": {},
   "source": [
    "## Replication"
   ]
  },
  {
   "cell_type": "markdown",
   "metadata": {},
   "source": [
    "![Imagen](img/Tabla3replica.png)"
   ]
  },
  {
   "cell_type": "markdown",
   "metadata": {},
   "source": [
    "### Table 3 construcction."
   ]
  },
  {
   "cell_type": "markdown",
   "metadata": {},
   "source": [
    "For the regressions replication, we will start with regression 1 and 3. These are the regressions for the West of the Elbe and for the whole sample, both weighted. Then we will continue with regressions 2 and 4 which are the regressions for the West of the Elbe and Whole sample, both unweighted. The reason for this is because for the unweighted we need to do an extra step by dropping some years. The explanatory variables are 5 interactions between years of French presence and year."
   ]
  },
  {
   "cell_type": "code",
   "execution_count": 38,
   "metadata": {},
   "outputs": [],
   "source": [
    "import statsmodels.api as sm\n",
    "import statsmodels.formula.api as smf\n",
    "from IPython.display import Latex\n",
    "import pandas as pd\n",
    "from sklearn import linear_model\n",
    "import statsmodels.api as sm\n",
    "\n",
    "from linearmodels.panel import PanelOLS\n",
    "import statsmodels.api as sm\n",
    "import linearmodels.panel as pnl\n"
   ]
  },
  {
   "cell_type": "code",
   "execution_count": 39,
   "metadata": {},
   "outputs": [],
   "source": [
    "##First we set the database for the Panel OLS Regression.\n",
    " \n",
    "data = pd.read_stata(pathout + 'replication_dataset.dta')\n",
    "\n",
    "data['ident'] = data.id\n",
    "\n",
    "year = pd.Categorical(data.year)\n",
    "\n",
    "data = data.set_index(['id', 'year'])\n",
    "\n",
    "data['year'] = year"
   ]
  },
  {
   "cell_type": "markdown",
   "metadata": {},
   "source": [
    "#### - Regresion 1: "
   ]
  },
  {
   "cell_type": "code",
   "execution_count": 40,
   "metadata": {},
   "outputs": [],
   "source": [
    "#Now we are going to use the data avalaible only for West of the Elbe \n",
    "dwest = data.drop(data[data.westelbe == 0].index)"
   ]
  },
  {
   "cell_type": "code",
   "execution_count": 41,
   "metadata": {},
   "outputs": [],
   "source": [
    "#Setting exogenous variables.\n",
    "exog_vars = ['fpresence1750','fpresence1800','fpresence1850','fpresence1875','fpresence1900']\n",
    "\n",
    "exog = sm.add_constant(dwest[exog_vars])"
   ]
  },
  {
   "cell_type": "code",
   "execution_count": 42,
   "metadata": {},
   "outputs": [
    {
     "name": "stderr",
     "output_type": "stream",
     "text": [
      "/Users/juanestebanrincon/opt/anaconda3/envs/GeoPython38env/lib/python3.8/site-packages/linearmodels/utility.py:549: MissingValueWarning: \n",
      "Inputs contain missing values. Dropping rows with missing observations.\n",
      "  warnings.warn(missing_value_warning_msg, MissingValueWarning)\n"
     ]
    },
    {
     "name": "stdout",
     "output_type": "stream",
     "text": [
      "                          PanelOLS Estimation Summary                           \n",
      "================================================================================\n",
      "Dep. Variable:                urbrate   R-squared:                        0.3759\n",
      "Estimator:                   PanelOLS   R-squared (Between):              0.0327\n",
      "No. Observations:                  74   R-squared (Within):               0.3094\n",
      "Date:                Thu, Jun 25 2020   R-squared (Overall):              0.2459\n",
      "Time:                        10:41:10   Log-likelihood                   -199.94\n",
      "Cov. Estimator:             Clustered                                           \n",
      "                                        F-statistic:                      34.165\n",
      "Entities:                          13   P-value                           0.0000\n",
      "Avg Obs:                       5.6923   Distribution:                    F(5,51)\n",
      "Min Obs:                       5.0000                                           \n",
      "Max Obs:                       6.0000   F-statistic (robust):             15.022\n",
      "                                        P-value                           0.0000\n",
      "Time periods:                       6   Distribution:                    F(5,51)\n",
      "Avg Obs:                       12.333                                           \n",
      "Min Obs:                       9.0000                                           \n",
      "Max Obs:                       13.000                                           \n",
      "                                                                                \n",
      "                               Parameter Estimates                               \n",
      "=================================================================================\n",
      "               Parameter  Std. Err.     T-stat    P-value    Lower CI    Upper CI\n",
      "---------------------------------------------------------------------------------\n",
      "const             17.726     1.3315     13.313     0.0000      15.053      20.399\n",
      "fpresence1750    -0.4910     0.2674    -1.8362     0.0722     -1.0279      0.0458\n",
      "fpresence1800    -0.2474     0.2421    -1.0223     0.3115     -0.7334      0.2385\n",
      "fpresence1850    -0.1603     0.2689    -0.5961     0.5538     -0.7002      0.3796\n",
      "fpresence1875     0.4021     0.3501     1.1486     0.2561     -0.3007      1.1050\n",
      "fpresence1900     0.6339     0.4381     1.4468     0.1541     -0.2457      1.5134\n",
      "=================================================================================\n",
      "\n",
      "F-test for Poolability: 21.487\n",
      "P-value: 0.0000\n",
      "Distribution: F(17,51)\n",
      "\n",
      "Included effects: Entity, Time\n"
     ]
    }
   ],
   "source": [
    "#We run the model with fixed effects, time effects and weighted.\n",
    "mod4 = PanelOLS(dwest.urbrate, exog, weights=dwest.totalpop1750 , entity_effects=True,time_effects=True, other_effects=None)\n",
    "\n",
    "fe_res4 = mod4.fit(cov_type='clustered', clusters=dwest.ident)\n",
    "\n",
    "print(fe_res4)"
   ]
  },
  {
   "cell_type": "markdown",
   "metadata": {},
   "source": [
    "####  - Regresion 3:"
   ]
  },
  {
   "cell_type": "code",
   "execution_count": 43,
   "metadata": {},
   "outputs": [],
   "source": [
    "#We now set the exogenous variables and run the regression\n",
    "exog_vars2 = ['fpresence1750','fpresence1800','fpresence1850','fpresence1875','fpresence1900']\n",
    "exog2 = sm.add_constant(data[exog_vars2])"
   ]
  },
  {
   "cell_type": "code",
   "execution_count": 44,
   "metadata": {},
   "outputs": [
    {
     "name": "stdout",
     "output_type": "stream",
     "text": [
      "                          PanelOLS Estimation Summary                           \n",
      "================================================================================\n",
      "Dep. Variable:                urbrate   R-squared:                        0.2261\n",
      "Estimator:                   PanelOLS   R-squared (Between):             -0.0279\n",
      "No. Observations:                 109   R-squared (Within):               0.1964\n",
      "Date:                Thu, Jun 25 2020   R-squared (Overall):              0.1382\n",
      "Time:                        10:41:12   Log-likelihood                   -308.74\n",
      "Cov. Estimator:             Clustered                                           \n",
      "                                        F-statistic:                      36.350\n",
      "Entities:                          19   P-value                           0.0000\n",
      "Avg Obs:                       5.7368   Distribution:                    F(5,80)\n",
      "Min Obs:                       5.0000                                           \n",
      "Max Obs:                       6.0000   F-statistic (robust):             6.0428\n",
      "                                        P-value                           0.0001\n",
      "Time periods:                       6   Distribution:                    F(5,80)\n",
      "Avg Obs:                       18.167                                           \n",
      "Min Obs:                       14.000                                           \n",
      "Max Obs:                       19.000                                           \n",
      "                                                                                \n",
      "                               Parameter Estimates                               \n",
      "=================================================================================\n",
      "               Parameter  Std. Err.     T-stat    P-value    Lower CI    Upper CI\n",
      "---------------------------------------------------------------------------------\n",
      "const             18.728     0.8962     20.897     0.0000      16.944      20.511\n",
      "fpresence1750    -0.4878     0.2540    -1.9204     0.0584     -0.9932      0.0177\n",
      "fpresence1800    -0.2683     0.2458    -1.0917     0.2783     -0.7575      0.2208\n",
      "fpresence1850    -0.2206     0.2698    -0.8177     0.4160     -0.7574      0.3163\n",
      "fpresence1875     0.2659     0.3281     0.8105     0.4201     -0.3870      0.9187\n",
      "fpresence1900     0.5033     0.4066     1.2379     0.2194     -0.3059      1.3125\n",
      "=================================================================================\n",
      "\n",
      "F-test for Poolability: 27.258\n",
      "P-value: 0.0000\n",
      "Distribution: F(23,80)\n",
      "\n",
      "Included effects: Entity, Time\n"
     ]
    }
   ],
   "source": [
    "mod2 = PanelOLS(data.urbrate, exog2, weights=data.totalpop1750 , entity_effects=True,time_effects=True)\n",
    "\n",
    "fe_res2 = mod2.fit(cov_type='clustered', clusters=data.ident)\n",
    "\n",
    "print(fe_res2)"
   ]
  },
  {
   "cell_type": "code",
   "execution_count": 45,
   "metadata": {},
   "outputs": [],
   "source": [
    "# We have to drop columnsyr1880 yr1885 yr1895 yr1905 yr1910 and keep year =1700, 1750, 1800, 1850, 1875,1900\n",
    "dataun = data\n",
    "\n",
    "dataun = dataun.drop('yr1880', axis=1)\n",
    "dataun = dataun.drop('yr1885', axis=1)\n",
    "dataun = dataun.drop('yr1895', axis=1)\n",
    "dataun = dataun.drop('yr1905', axis=1)\n",
    "dataun = dataun.drop('yr1910', axis=1)\n",
    "\n",
    "dataun = dataun.drop(dataun[dataun.year == 1885].index)\n",
    "dataun = dataun.drop(dataun[dataun.year == 1895].index)\n",
    "dataun = dataun.drop(dataun[dataun.year == 1880].index)\n",
    "dataun = dataun.drop(dataun[dataun.year == 1905].index)\n",
    "dataun = dataun.drop(dataun[dataun.year == 1910].index)\n"
   ]
  },
  {
   "cell_type": "markdown",
   "metadata": {},
   "source": [
    " #### - Regresion 2:"
   ]
  },
  {
   "cell_type": "code",
   "execution_count": 46,
   "metadata": {},
   "outputs": [],
   "source": [
    "unwest = dataun.drop(dataun[dataun.westelbe == 0].index)\n",
    "exog_varsunw = ['fpresence1750','fpresence1800','fpresence1850','fpresence1875','fpresence1900']\n",
    "\n",
    "exogunw = sm.add_constant(unwest[exog_varsunw])"
   ]
  },
  {
   "cell_type": "code",
   "execution_count": 47,
   "metadata": {},
   "outputs": [
    {
     "name": "stdout",
     "output_type": "stream",
     "text": [
      "                          PanelOLS Estimation Summary                           \n",
      "================================================================================\n",
      "Dep. Variable:                urbrate   R-squared:                        0.0995\n",
      "Estimator:                   PanelOLS   R-squared (Between):              0.0684\n",
      "No. Observations:                  74   R-squared (Within):               0.1958\n",
      "Date:                Thu, Jun 25 2020   R-squared (Overall):              0.1667\n",
      "Time:                        10:41:14   Log-likelihood                   -225.10\n",
      "Cov. Estimator:             Clustered                                           \n",
      "                                        F-statistic:                      1.1271\n",
      "Entities:                          13   P-value                           0.3580\n",
      "Avg Obs:                       5.6923   Distribution:                    F(5,51)\n",
      "Min Obs:                       5.0000                                           \n",
      "Max Obs:                       6.0000   F-statistic (robust):             8.0912\n",
      "                                        P-value                           0.0000\n",
      "Time periods:                       6   Distribution:                    F(5,51)\n",
      "Avg Obs:                       12.333                                           \n",
      "Min Obs:                       9.0000                                           \n",
      "Max Obs:                       13.000                                           \n",
      "                                                                                \n",
      "                               Parameter Estimates                               \n",
      "=================================================================================\n",
      "               Parameter  Std. Err.     T-stat    P-value    Lower CI    Upper CI\n",
      "---------------------------------------------------------------------------------\n",
      "const             16.704     0.8591     19.443     0.0000      14.980      18.429\n",
      "fpresence1750    -0.2517     0.1853    -1.3583     0.1803     -0.6238      0.1203\n",
      "fpresence1800    -0.0425     0.1650    -0.2579     0.7975     -0.3737      0.2887\n",
      "fpresence1850     0.0332     0.1650     0.2011     0.8414     -0.2981      0.3645\n",
      "fpresence1875     0.3540     0.3171     1.1164     0.2695     -0.2826      0.9907\n",
      "fpresence1900     0.5289     0.4316     1.2253     0.2261     -0.3377      1.3955\n",
      "=================================================================================\n",
      "\n",
      "F-test for Poolability: 12.300\n",
      "P-value: 0.0000\n",
      "Distribution: F(17,51)\n",
      "\n",
      "Included effects: Entity, Time\n"
     ]
    }
   ],
   "source": [
    "#Here you can notice weights = None\n",
    "mod0 = PanelOLS(unwest.urbrate, exogunw, weights=None , entity_effects=True,time_effects=True)\n",
    "\n",
    "fe_res0 = mod0.fit(cov_type='clustered', clusters=unwest.ident)\n",
    "\n",
    "print(fe_res0)"
   ]
  },
  {
   "cell_type": "markdown",
   "metadata": {},
   "source": [
    "####  - Regresion 4: "
   ]
  },
  {
   "cell_type": "code",
   "execution_count": 48,
   "metadata": {},
   "outputs": [],
   "source": [
    "exog_varsun = ['fpresence1750','fpresence1800','fpresence1850','fpresence1875','fpresence1900']\n",
    "\n",
    "exogun = sm.add_constant(dataun[exog_varsun])"
   ]
  },
  {
   "cell_type": "code",
   "execution_count": 49,
   "metadata": {},
   "outputs": [
    {
     "name": "stdout",
     "output_type": "stream",
     "text": [
      "                          PanelOLS Estimation Summary                           \n",
      "================================================================================\n",
      "Dep. Variable:                urbrate   R-squared:                        0.0702\n",
      "Estimator:                   PanelOLS   R-squared (Between):              0.0294\n",
      "No. Observations:                 109   R-squared (Within):               0.1281\n",
      "Date:                Thu, Jun 25 2020   R-squared (Overall):              0.1030\n",
      "Time:                        10:41:16   Log-likelihood                   -329.94\n",
      "Cov. Estimator:             Clustered                                           \n",
      "                                        F-statistic:                      1.2085\n",
      "Entities:                          19   P-value                           0.3128\n",
      "Avg Obs:                       5.7368   Distribution:                    F(5,80)\n",
      "Min Obs:                       5.0000                                           \n",
      "Max Obs:                       6.0000   F-statistic (robust):             2.2659\n",
      "                                        P-value                           0.0557\n",
      "Time periods:                       6   Distribution:                    F(5,80)\n",
      "Avg Obs:                       18.167                                           \n",
      "Min Obs:                       14.000                                           \n",
      "Max Obs:                       19.000                                           \n",
      "                                                                                \n",
      "                               Parameter Estimates                               \n",
      "=================================================================================\n",
      "               Parameter  Std. Err.     T-stat    P-value    Lower CI    Upper CI\n",
      "---------------------------------------------------------------------------------\n",
      "const             17.424     0.6774     25.722     0.0000      16.076      18.772\n",
      "fpresence1750    -0.1973     0.1772    -1.1139     0.2686     -0.5499      0.1552\n",
      "fpresence1800    -0.0471     0.1931    -0.2438     0.8080     -0.4313      0.3372\n",
      "fpresence1850    -0.0235     0.1962    -0.1197     0.9050     -0.4139      0.3669\n",
      "fpresence1875     0.2524     0.3238     0.7796     0.4379     -0.3919      0.8967\n",
      "fpresence1900     0.5060     0.4577     1.1054     0.2723     -0.4050      1.4169\n",
      "=================================================================================\n",
      "\n",
      "F-test for Poolability: 18.427\n",
      "P-value: 0.0000\n",
      "Distribution: F(23,80)\n",
      "\n",
      "Included effects: Entity, Time\n"
     ]
    }
   ],
   "source": [
    "mod1 = PanelOLS(dataun.urbrate, exogun, weights=None , entity_effects=True,time_effects=True)\n",
    "\n",
    "fe_res1 = mod1.fit(cov_type='clustered', clusters=dataun.ident)\n",
    "\n",
    "print(fe_res1)"
   ]
  },
  {
   "cell_type": "code",
   "execution_count": 50,
   "metadata": {},
   "outputs": [],
   "source": [
    "#Now we are going to export the regressions\n",
    "import statsmodels.api as sm\n",
    "import linearmodels as ln\n",
    "from pystout import pystout"
   ]
  },
  {
   "cell_type": "code",
   "execution_count": 51,
   "metadata": {},
   "outputs": [],
   "source": [
    "#For making the tables I use pystout. It will creat a file .tex that I will put into latex and then bring here the table\n",
    "pystout(models=[fe_res4,fe_res0,fe_res2,fe_res1],\n",
    "        file='tabla2.tex',\n",
    "        addnotes=['Weighted by total population in 1750.' ,'*$p < 0.1$ , ** $p < 0.05$ , *** $p < 0.01$',\n",
    "                  'Standar errors in parentheses.'],\n",
    "        digits=3,\n",
    "        endog_names=['Weighted','Unweighted','Weighted','Unweighted'],\n",
    "        varlabels={'const':'Constant','displacement':'Disp','mpg':'MPG'},\n",
    "        \n",
    "        mgroups={'West of the Elbe':[1,2],'All':[3,4]},\n",
    "        modstat={'nobs':'Obs','rsquared':'R\\sym{2}','fvalue':'F-stat'},\n",
    "        stars={.1:'*',.05:'**',.01:'***'}\n",
    "        )"
   ]
  },
  {
   "cell_type": "markdown",
   "metadata": {},
   "source": [
    "## Table 4 - Urbanization In Germany, Controls.\n"
   ]
  },
  {
   "cell_type": "markdown",
   "metadata": {},
   "source": [
    "Table 4 contains 8 regresions:\n",
    "#### - Regresion 1: \n",
    "\n",
    "$ Urbrate = \\alpha_{1}fpresence1750 + \\alpha_{2}fpresence1800 + \\alpha_{3}fpresence1850 + \\alpha_{4}fpresence1875 + \\alpha_{5}fpresence1900 +\\beta_{1}yr $\n",
    "\n",
    " \n",
    "For the West of Elbe withour Mark, weighted by total population in 1750 and clustered.\n",
    " \n",
    " #### - Regresion 2:\n",
    " $ Urbrate = \\alpha_{1}fpresence1750 + \\alpha_{2}fpresence1800 + \\alpha{3}fpresence1850 + \\alpha_{4}fpresence1875 + \\alpha_{5}fpresence1900 +\\beta_{1}yr +\\beta_{2}protestant1 $\n",
    " \n",
    "For the West of Elbe, weighted by total population in 1750 and clustered.\n",
    " \n",
    " \n",
    "####  - Regresion 3:\n",
    "\n",
    "$ Urbrate = \\alpha_{1}fpresence1750 + \\alpha_{2}fpresence1800 + \\alpha_{3}fpresence1850 + \\alpha_{4}fpresence1875 + \\alpha_{5}fpresence1900 +\\beta_{1}yr +\\beta_{2}latitude1$\n",
    "\n",
    "For the West of Elbe, weighted by total population in 1750 and clustered.\n",
    " \n",
    "####  - Regresion 4: \n",
    "$ Urbrate = \\alpha_{1}fpresence1750 + \\alpha_{2}fpresence1800 + \\alpha_{3}fpresence1850 + \\alpha_{4}fpresence1875 + \\alpha_{5}fpresence1900 +\\beta_{1}yr +\\beta_{2}longitude1 $\n",
    "\n",
    "For the West of Elbe, weighted by total population in 1750 and clustered.\n",
    "\n",
    "####  - Regresion 5: \n",
    "$ Urbrate = \\alpha_{1}fpresence1750 + \\alpha_{2}fpresence1800 + \\alpha_{3}fpresence1850 + \\alpha_{4}fpresence1875 + \\alpha_{5}fpresence1900 +\\beta_{1}yr +\\beta_{2}distpa1 $\n",
    "\n",
    "For the West of Elbe, weighted by total population in 1750 and clustered.\n",
    "\n",
    "\n",
    "####  - Regresion 6: \n",
    "$ Urbrate = \\alpha_{1}fpresence1750 + \\alpha_{2}fpresence1800 + \\alpha_{3}fpresence1850 + \\alpha_{4}fpresence1875 + \\alpha_{5}fpresence1900 +\\beta_{1}yr +\\beta_{2}territories1 $\n",
    "\n",
    "For the West of Elbe, weighted by total population in 1750 and clustered.\n",
    "\n",
    "####  - Regresion 7: \n",
    "$ Urbrate = \\alpha_{1}fpresence1750 + \\alpha_{2}fpresence1800 + \\alpha_{3}fpresence1850 + \\alpha_{4}fpresence1875 + \\alpha_{5}fpresence1900 +\\beta_{1}yr +\\beta_{2}urbanization17501 $\n",
    "\n",
    "For the West of Elbe, weighted by total population in 1750 and clustered.\n",
    "\n",
    "####  - Regresion 8: \n",
    "$ Urbrate = \\alpha_{1}fpresence1750 + \\alpha_{2}fpresence1800 + \\alpha_{3}fpresence1850 + \\alpha_{4}fpresence1875 + \\alpha_{5}fpresence1900 +\\beta_{1}yr, $  robust noleveleq\n",
    "\n",
    "For the West of Elbe, weighted by total population in 1750 and clustered.\n",
    "\n",
    "Where:\n",
    "\n",
    "- Urbrate: (urban population /total population) *100\n",
    "- fpresence1750: Is an interacction between fpresence and yr1750\n",
    "- fpresence1800: Is an interacction between fpresence and yr1800\n",
    "- fpresence1850: Is an interacction between fpresence and yr1850\n",
    "- fpresence1875: Is an interacction between fpresence and yr1875\n",
    "- fpresence1900: Is an interacction between fpresence and yr1900\n",
    "- yr*: Abbreviation for 6 Dummy variable = 1 for yr1700, yr1750, yr1800, yr1850, yr1875 and yr1900\n",
    "- protestant1* Abbreviation for the interacction between protestant and yrt, for t = 1750, 1800, 1850, 1875 and 1900\n",
    "- latitude1* Abbreviation for the interacction between latitude and yrt, for t = 1750, 1800, 1850, 1875 and 1900\n",
    "- longitude* Abbreviation for the interacction between longitude and yrt, for t = 1750, 1800, 1850, 1875 and 1900\n",
    "- distpa* Abbreviation for the interacction between distpa and yrt, for t = 1750, 1800, 1850, 1875 and 1900\n",
    "- territories* Abbreviation for the interacction between territories and yrt, for t = 1750, 1800, 1850, 1875 and 1900\n",
    "- urbanization1750* Abbreviation for the interacction between urbanization1750 and yrt, for t = 1800, 1850, 1875 and 1900\n",
    "\n"
   ]
  },
  {
   "cell_type": "markdown",
   "metadata": {},
   "source": [
    "Table 4 looks to control for robustness. We can see that the authors control for many geographic characteristics and some others like protestant rates or excluding Mark.\n",
    "The authors drop Mark since the presence of coal might have created a differential growth advantage, but as we can see, the results remain almost the same.\n",
    "Columns 2 - 6 controls for time invariant characteristics, and column 7, tries to control for any mean reversion effects or preexisting trends. The reason of this is because the presence of negative point estimates for 1750 and 1800. All results remained very similar to the baseline regressions.\n",
    "In conclusion there is no evidence of preexisting trends favoring areas subsequently occupied by the French. \n",
    "\n",
    "For table 4 we will add different controls to test robustness. As you saw at the beginning of the section, all the regressions will be made for West of the Elbe, and weighted by the total population in 1750.\n",
    "The model will remain the same in all regressions. We will just change the exogenous variables and in regression 1, the sample by excluding Mark."
   ]
  },
  {
   "cell_type": "markdown",
   "metadata": {},
   "source": [
    "# Original"
   ]
  },
  {
   "cell_type": "markdown",
   "metadata": {},
   "source": [
    "![Imagen](img/Tabla4.png)"
   ]
  },
  {
   "cell_type": "markdown",
   "metadata": {},
   "source": [
    "#### Regression 1 by authors"
   ]
  },
  {
   "cell_type": "code",
   "execution_count": 52,
   "metadata": {},
   "outputs": [
    {
     "name": "stdout",
     "output_type": "stream",
     "text": [
      "\n",
      "note: yr1900 omitted because of collinearity\n",
      "note: yr1880 omitted because of collinearity\n",
      "note: yr1885 omitted because of collinearity\n",
      "note: yr1895 omitted because of collinearity\n",
      "note: yr1905 omitted because of collinearity\n",
      "note: yr1910 omitted because of collinearity\n",
      "\n",
      "Fixed-effects (within) regression               Number of obs     =         68\n",
      "Group variable: id                              Number of groups  =         12\n",
      "\n",
      "R-sq:                                           Obs per group:\n",
      "     within  = 0.9352                                         min =          5\n",
      "     between = 0.0999                                         avg =        5.7\n",
      "     overall = 0.6984                                         max =          6\n",
      "\n",
      "                                                F(10,11)          =    1107.56\n",
      "corr(u_i, Xb)  = 0.0139                         Prob > F          =     0.0000\n",
      "\n",
      "                                     (Std. Err. adjusted for 12 clusters in id)\n",
      "-------------------------------------------------------------------------------\n",
      "              |               Robust\n",
      "      urbrate |      Coef.   Std. Err.      t    P>|t|     [95% Conf. Interval]\n",
      "--------------+----------------------------------------------------------------\n",
      "fpresence1750 |  -.5646331   .2814492    -2.01   0.070    -1.184099    .0548323\n",
      "fpresence1800 |  -.3238465   .2488094    -1.30   0.220    -.8714722    .2237792\n",
      "fpresence1850 |  -.2351954   .2752158    -0.85   0.411    -.8409412    .3705504\n",
      "fpresence1875 |   .3240238   .3242079     1.00   0.339    -.3895528    1.037601\n",
      "fpresence1900 |   .5517881   .4109023     1.34   0.206    -.3526017    1.456178\n",
      "       yr1700 |   -28.6496    4.29595    -6.67   0.000    -38.10493   -19.19428\n",
      "       yr1750 |  -25.30296    3.43311    -7.37   0.000    -32.85919   -17.74674\n",
      "       yr1800 |  -24.48963   3.671679    -6.67   0.000    -32.57095   -16.40832\n",
      "       yr1850 |  -21.29807   2.892704    -7.36   0.000    -27.66487   -14.93128\n",
      "       yr1875 |  -12.64504   1.368273    -9.24   0.000    -15.65658   -9.633487\n",
      "       yr1900 |          0  (omitted)\n",
      "       yr1880 |          0  (omitted)\n",
      "       yr1885 |          0  (omitted)\n",
      "       yr1895 |          0  (omitted)\n",
      "       yr1905 |          0  (omitted)\n",
      "       yr1910 |          0  (omitted)\n",
      "        _cons |   36.09887   3.488833    10.35   0.000        28.42    43.77774\n",
      "--------------+----------------------------------------------------------------\n",
      "      sigma_u |    6.59596\n",
      "      sigma_e |  3.8074117\n",
      "          rho |  .75007559   (fraction of variance due to u_i)\n",
      "-------------------------------------------------------------------------------\n"
     ]
    }
   ],
   "source": [
    "%%stata -d datastata\n",
    "sort id year\n",
    "xtreg urbrate fpresence1750 fpresence1800 fpresence1850 fpresence1875 fpresence1900 yr* if westelbe==1 & id~=2 [aweight=totalpop1750], fe i(id) cluster(id)"
   ]
  },
  {
   "cell_type": "markdown",
   "metadata": {},
   "source": [
    "#### Regression 2 by authors"
   ]
  },
  {
   "cell_type": "code",
   "execution_count": 53,
   "metadata": {},
   "outputs": [
    {
     "name": "stdout",
     "output_type": "stream",
     "text": [
      "\n",
      "note: yr1900 omitted because of collinearity\n",
      "note: yr1880 omitted because of collinearity\n",
      "note: yr1885 omitted because of collinearity\n",
      "note: yr1895 omitted because of collinearity\n",
      "note: yr1905 omitted because of collinearity\n",
      "note: yr1910 omitted because of collinearity\n",
      "\n",
      "Fixed-effects (within) regression               Number of obs     =         74\n",
      "Group variable: id                              Number of groups  =         13\n",
      "\n",
      "R-sq:                                           Obs per group:\n",
      "     within  = 0.9211                                         min =          5\n",
      "     between = 0.0881                                         avg =        5.7\n",
      "     overall = 0.6737                                         max =          6\n",
      "\n",
      "                                                F(12,12)          =          .\n",
      "corr(u_i, Xb)  = 0.0118                         Prob > F          =          .\n",
      "\n",
      "                                      (Std. Err. adjusted for 13 clusters in id)\n",
      "--------------------------------------------------------------------------------\n",
      "               |               Robust\n",
      "       urbrate |      Coef.   Std. Err.      t    P>|t|     [95% Conf. Interval]\n",
      "---------------+----------------------------------------------------------------\n",
      " fpresence1750 |  -.5472211   .3077457    -1.78   0.101    -1.217741    .1232993\n",
      " fpresence1800 |  -.3362161   .2954003    -1.14   0.277    -.9798381    .3074059\n",
      " fpresence1850 |  -.2291525   .3101788    -0.74   0.474     -.904974    .4466691\n",
      " fpresence1875 |   .3532015    .312367     1.13   0.280    -.3273877    1.033791\n",
      " fpresence1900 |   .5734494   .3704862     1.55   0.148    -.2337706    1.380669\n",
      "protestant1750 |    5.63764   1.469835     3.84   0.002     2.435144    8.840135\n",
      "protestant1800 |   3.353731   1.039788     3.23   0.007     1.088228    5.619235\n",
      "protestant1850 |   4.749989   2.682842     1.77   0.102    -1.095421     10.5954\n",
      "protestant1875 |   6.147564   5.323917     1.15   0.271    -5.452254    17.74738\n",
      "protestant1900 |   5.341618   8.048966     0.66   0.519    -12.19557    22.87881\n",
      "        yr1700 |  -25.68818    2.53087   -10.15   0.000    -31.20247   -20.17389\n",
      "        yr1750 |  -26.13794   2.527539   -10.34   0.000    -31.64497   -20.63091\n",
      "        yr1800 |  -23.61615   2.298145   -10.28   0.000    -28.62337   -18.60892\n",
      "        yr1850 |  -21.45349   3.079873    -6.97   0.000    -28.16396   -14.74303\n",
      "        yr1875 |  -13.47437   1.337833   -10.07   0.000    -16.38926   -10.55948\n",
      "        yr1900 |          0  (omitted)\n",
      "        yr1880 |          0  (omitted)\n",
      "        yr1885 |          0  (omitted)\n",
      "        yr1895 |          0  (omitted)\n",
      "        yr1905 |          0  (omitted)\n",
      "        yr1910 |          0  (omitted)\n",
      "         _cons |   33.45239   2.692112    12.43   0.000     27.58678      39.318\n",
      "---------------+----------------------------------------------------------------\n",
      "       sigma_u |   6.794631\n",
      "       sigma_e |  4.5087891\n",
      "           rho |  .69428054   (fraction of variance due to u_i)\n",
      "--------------------------------------------------------------------------------\n"
     ]
    }
   ],
   "source": [
    "%%stata -d datastata\n",
    "sort id year\n",
    "xtreg urbrate fpresence1750 fpresence1800 fpresence1850 fpresence1875 fpresence1900 protestant1* yr* if westelbe==1 [aweight=totalpop1750], fe i(id) cluster(id)"
   ]
  },
  {
   "cell_type": "markdown",
   "metadata": {},
   "source": [
    "#### Regression 3 by authors"
   ]
  },
  {
   "cell_type": "code",
   "execution_count": 54,
   "metadata": {},
   "outputs": [
    {
     "name": "stdout",
     "output_type": "stream",
     "text": [
      "\n",
      "note: yr1900 omitted because of collinearity\n",
      "note: yr1880 omitted because of collinearity\n",
      "note: yr1885 omitted because of collinearity\n",
      "note: yr1895 omitted because of collinearity\n",
      "note: yr1905 omitted because of collinearity\n",
      "note: yr1910 omitted because of collinearity\n",
      "\n",
      "Fixed-effects (within) regression               Number of obs     =         74\n",
      "Group variable: id                              Number of groups  =         13\n",
      "\n",
      "R-sq:                                           Obs per group:\n",
      "     within  = 0.9205                                         min =          5\n",
      "     between = 0.1601                                         avg =        5.7\n",
      "     overall = 0.6889                                         max =          6\n",
      "\n",
      "                                                F(12,12)          =          .\n",
      "corr(u_i, Xb)  = 0.0254                         Prob > F          =          .\n",
      "\n",
      "                                     (Std. Err. adjusted for 13 clusters in id)\n",
      "-------------------------------------------------------------------------------\n",
      "              |               Robust\n",
      "      urbrate |      Coef.   Std. Err.      t    P>|t|     [95% Conf. Interval]\n",
      "--------------+----------------------------------------------------------------\n",
      "fpresence1750 |  -.5997352   .3556487    -1.69   0.118    -1.374627    .1751567\n",
      "fpresence1800 |  -.3564435   .3242422    -1.10   0.293    -1.062907    .3500195\n",
      "fpresence1850 |  -.2612966   .3555124    -0.73   0.476    -1.035892    .5132984\n",
      "fpresence1875 |   .2920026   .3744716     0.78   0.451    -.5239009    1.107906\n",
      "fpresence1900 |   .5119696   .4510269     1.14   0.278    -.4707337    1.494673\n",
      " latitude1750 |   .8845717     .56252     1.57   0.142     -.341054    2.110197\n",
      " latitude1800 |   .8922969   .4753124     1.88   0.085    -.1433198    1.927914\n",
      " latitude1850 |   .6777035   .6464962     1.05   0.315    -.7308906    2.086298\n",
      " latitude1875 |   .9224543   1.021686     0.90   0.384    -1.303607    3.148516\n",
      " latitude1900 |   1.238425   1.545768     0.80   0.439    -2.129514    4.606364\n",
      "       yr1700 |   32.87328   74.65078     0.44   0.668    -129.7768    195.5234\n",
      "       yr1750 |  -8.169869   66.48261    -0.12   0.904     -153.023    136.6833\n",
      "       yr1800 |  -7.533263   65.97844    -0.11   0.911    -151.2879    136.2214\n",
      "       yr1850 |   6.323669   60.92901     0.10   0.919    -126.4292    139.0766\n",
      "       yr1875 |    2.92513   31.75393     0.09   0.928    -66.26073    72.11099\n",
      "       yr1900 |          0  (omitted)\n",
      "       yr1880 |          0  (omitted)\n",
      "       yr1885 |          0  (omitted)\n",
      "       yr1895 |          0  (omitted)\n",
      "       yr1905 |          0  (omitted)\n",
      "       yr1910 |          0  (omitted)\n",
      "        _cons |   -25.5229   75.49589    -0.34   0.741    -190.0143    138.9685\n",
      "--------------+----------------------------------------------------------------\n",
      "      sigma_u |  6.5991448\n",
      "      sigma_e |  4.5267994\n",
      "          rho |  .68001697   (fraction of variance due to u_i)\n",
      "-------------------------------------------------------------------------------\n"
     ]
    }
   ],
   "source": [
    "%%stata -d datastata\n",
    "sort id year\n",
    "xtreg urbrate fpresence1750 fpresence1800 fpresence1850 fpresence1875 fpresence1900 latitude1* yr* if westelbe==1 [aweight=totalpop1750], fe i(id) cluster(id)"
   ]
  },
  {
   "cell_type": "markdown",
   "metadata": {},
   "source": [
    "#### Regression 4 by authors"
   ]
  },
  {
   "cell_type": "code",
   "execution_count": 55,
   "metadata": {},
   "outputs": [
    {
     "name": "stdout",
     "output_type": "stream",
     "text": [
      "\n",
      "note: yr1900 omitted because of collinearity\n",
      "note: yr1880 omitted because of collinearity\n",
      "note: yr1885 omitted because of collinearity\n",
      "note: yr1895 omitted because of collinearity\n",
      "note: yr1905 omitted because of collinearity\n",
      "note: yr1910 omitted because of collinearity\n",
      "\n",
      "Fixed-effects (within) regression               Number of obs     =         74\n",
      "Group variable: id                              Number of groups  =         13\n",
      "\n",
      "R-sq:                                           Obs per group:\n",
      "     within  = 0.9258                                         min =          5\n",
      "     between = 0.3637                                         avg =        5.7\n",
      "     overall = 0.6918                                         max =          6\n",
      "\n",
      "                                                F(12,12)          =          .\n",
      "corr(u_i, Xb)  = 0.0480                         Prob > F          =          .\n",
      "\n",
      "                                     (Std. Err. adjusted for 13 clusters in id)\n",
      "-------------------------------------------------------------------------------\n",
      "              |               Robust\n",
      "      urbrate |      Coef.   Std. Err.      t    P>|t|     [95% Conf. Interval]\n",
      "--------------+----------------------------------------------------------------\n",
      "fpresence1750 |  -.4349868   .2444864    -1.78   0.101    -.9676768    .0977033\n",
      "fpresence1800 |  -.2557556   .2146896    -1.19   0.257    -.7235239    .2120128\n",
      "fpresence1850 |   .0182107   .2104272     0.09   0.932    -.4402707    .4766921\n",
      "fpresence1875 |   .6225973   .2501543     2.49   0.028      .077558    1.167637\n",
      "fpresence1900 |   .8927226   .3212702     2.78   0.017     .1927351     1.59271\n",
      "longitude1750 |   .4191913   .4459439     0.94   0.366     -.552437     1.39082\n",
      "longitude1800 |   .0250866   .5212957     0.05   0.962    -1.110719    1.160892\n",
      "longitude1850 |   1.169256   .5391525     2.17   0.051    -.0054566    2.343968\n",
      "longitude1875 |   1.426277   1.496343     0.95   0.359    -1.833975    4.686529\n",
      "longitude1900 |   1.661352   2.260496     0.73   0.476    -3.263844    6.586549\n",
      "       yr1700 |  -10.96036    22.4269    -0.49   0.634    -59.82436    37.90365\n",
      "       yr1750 |  -12.57286   18.54058    -0.68   0.511    -52.96931    27.82358\n",
      "       yr1800 |  -7.305953   18.19711    -0.40   0.695    -46.95406    32.34215\n",
      "       yr1850 |  -16.54423   17.63044    -0.94   0.367    -54.95766     21.8692\n",
      "       yr1875 |  -10.41563   8.660048    -1.20   0.252    -29.28425    8.452997\n",
      "       yr1900 |          0  (omitted)\n",
      "       yr1880 |          0  (omitted)\n",
      "       yr1885 |          0  (omitted)\n",
      "       yr1895 |          0  (omitted)\n",
      "       yr1905 |          0  (omitted)\n",
      "       yr1910 |          0  (omitted)\n",
      "        _cons |   18.44107   22.31695     0.83   0.425    -30.18339    67.06553\n",
      "--------------+----------------------------------------------------------------\n",
      "      sigma_u |  6.3013146\n",
      "      sigma_e |  4.3727806\n",
      "          rho |  .67496289   (fraction of variance due to u_i)\n",
      "-------------------------------------------------------------------------------\n"
     ]
    }
   ],
   "source": [
    "%%stata -d datastata\n",
    "sort id year\n",
    "xtreg urbrate fpresence1750 fpresence1800 fpresence1850 fpresence1875 fpresence1900 longitude1* yr* if westelbe==1 [aweight=totalpop1750], fe i(id) cluster(id)"
   ]
  },
  {
   "cell_type": "markdown",
   "metadata": {},
   "source": [
    "#### Regression 5 by authors"
   ]
  },
  {
   "cell_type": "code",
   "execution_count": 56,
   "metadata": {},
   "outputs": [
    {
     "name": "stdout",
     "output_type": "stream",
     "text": [
      "\n",
      "note: yr1900 omitted because of collinearity\n",
      "note: yr1880 omitted because of collinearity\n",
      "note: yr1885 omitted because of collinearity\n",
      "note: yr1895 omitted because of collinearity\n",
      "note: yr1905 omitted because of collinearity\n",
      "note: yr1910 omitted because of collinearity\n",
      "\n",
      "Fixed-effects (within) regression               Number of obs     =         74\n",
      "Group variable: id                              Number of groups  =         13\n",
      "\n",
      "R-sq:                                           Obs per group:\n",
      "     within  = 0.9237                                         min =          5\n",
      "     between = 0.3840                                         avg =        5.7\n",
      "     overall = 0.6996                                         max =          6\n",
      "\n",
      "                                                F(12,12)          =          .\n",
      "corr(u_i, Xb)  = 0.0537                         Prob > F          =          .\n",
      "\n",
      "                                     (Std. Err. adjusted for 13 clusters in id)\n",
      "-------------------------------------------------------------------------------\n",
      "              |               Robust\n",
      "      urbrate |      Coef.   Std. Err.      t    P>|t|     [95% Conf. Interval]\n",
      "--------------+----------------------------------------------------------------\n",
      "fpresence1750 |   -.446352   .2776764    -1.61   0.134    -1.051357    .1586529\n",
      "fpresence1800 |  -.2441306   .2481142    -0.98   0.345    -.7847249    .2964638\n",
      "fpresence1850 |  -.0268965   .2417252    -0.11   0.913    -.5535704    .4997774\n",
      "fpresence1875 |   .5610088   .2705418     2.07   0.060    -.0284512    1.150469\n",
      "fpresence1900 |   .8362633   .3252641     2.57   0.024     .1275737    1.544953\n",
      "   distpa1750 |   .0075956   .0056067     1.35   0.200    -.0046203    .0198114\n",
      "   distpa1800 |   .0039692   .0051155     0.78   0.453    -.0071766     .015115\n",
      "   distpa1850 |   .0153753   .0070714     2.17   0.050    -.0000319    .0307824\n",
      "   distpa1875 |   .0176098   .0194829     0.90   0.384    -.0248398    .0600594\n",
      "   distpa1900 |    .021425   .0285734     0.75   0.468    -.0408311     .083681\n",
      "       yr1700 |  -14.90013   16.41987    -0.91   0.382    -50.67596    20.87569\n",
      "       yr1750 |  -16.90298   13.70989    -1.23   0.241    -46.77427    12.96832\n",
      "       yr1800 |  -13.50762   14.16948    -0.95   0.359    -44.38026    17.36501\n",
      "       yr1850 |  -17.88635   12.60197    -1.42   0.181    -45.34369    9.570984\n",
      "       yr1875 |   -10.4519   5.979602    -1.75   0.106    -23.48033    2.576534\n",
      "       yr1900 |          0  (omitted)\n",
      "       yr1880 |          0  (omitted)\n",
      "       yr1885 |          0  (omitted)\n",
      "       yr1895 |          0  (omitted)\n",
      "       yr1905 |          0  (omitted)\n",
      "       yr1910 |          0  (omitted)\n",
      "        _cons |   22.46536   16.47041     1.36   0.198    -13.42058    58.35131\n",
      "--------------+----------------------------------------------------------------\n",
      "      sigma_u |  6.2394289\n",
      "      sigma_e |  4.4341531\n",
      "          rho |  .66443113   (fraction of variance due to u_i)\n",
      "-------------------------------------------------------------------------------\n"
     ]
    }
   ],
   "source": [
    "%%stata -d datastata\n",
    "sort id year\n",
    "xtreg urbrate fpresence1750 fpresence1800 fpresence1850 fpresence1875 fpresence1900 distpa1* yr* if westelbe==1 [aweight=totalpop1750], fe i(id) cluster(id)"
   ]
  },
  {
   "cell_type": "markdown",
   "metadata": {},
   "source": [
    "#### Regression 6 by authors"
   ]
  },
  {
   "cell_type": "code",
   "execution_count": 57,
   "metadata": {},
   "outputs": [
    {
     "name": "stdout",
     "output_type": "stream",
     "text": [
      "\n",
      "note: yr1900 omitted because of collinearity\n",
      "note: yr1880 omitted because of collinearity\n",
      "note: yr1885 omitted because of collinearity\n",
      "note: yr1895 omitted because of collinearity\n",
      "note: yr1905 omitted because of collinearity\n",
      "note: yr1910 omitted because of collinearity\n",
      "\n",
      "Fixed-effects (within) regression               Number of obs     =         74\n",
      "Group variable: id                              Number of groups  =         13\n",
      "\n",
      "R-sq:                                           Obs per group:\n",
      "     within  = 0.9199                                         min =          5\n",
      "     between = 0.1695                                         avg =        5.7\n",
      "     overall = 0.6768                                         max =          6\n",
      "\n",
      "                                                F(12,12)          =          .\n",
      "corr(u_i, Xb)  = 0.0204                         Prob > F          =          .\n",
      "\n",
      "                                       (Std. Err. adjusted for 13 clusters in id)\n",
      "---------------------------------------------------------------------------------\n",
      "                |               Robust\n",
      "        urbrate |      Coef.   Std. Err.      t    P>|t|     [95% Conf. Interval]\n",
      "----------------+----------------------------------------------------------------\n",
      "  fpresence1750 |   -.531467   .2940743    -1.81   0.096      -1.1722    .1092658\n",
      "  fpresence1800 |  -.2878874   .2635772    -1.09   0.296    -.8621729    .2863981\n",
      "  fpresence1850 |  -.1139662   .2565591    -0.44   0.665    -.6729604    .4450281\n",
      "  fpresence1875 |   .3741163   .3047059     1.23   0.243    -.2897808    1.038013\n",
      "  fpresence1900 |   .6559553   .3824571     1.72   0.112    -.1773473    1.489258\n",
      "territories1850 |  -.0681386   .0286325    -2.38   0.035    -.1305234   -.0057538\n",
      "territories1875 |  -.0097636   .0894687    -0.11   0.915    -.2046991    .1851719\n",
      "territories1900 |  -.0491021   .1426399    -0.34   0.737    -.3598878    .2616836\n",
      "         yr1700 |  -29.85604   5.729942    -5.21   0.000    -42.34051   -17.37157\n",
      "         yr1750 |  -26.56999   4.949102    -5.37   0.000    -37.35316   -15.78683\n",
      "         yr1800 |  -25.54535   5.162918    -4.95   0.000    -36.79439   -14.29632\n",
      "         yr1850 |  -21.59858   4.295363    -5.03   0.000    -30.95738   -12.23979\n",
      "         yr1875 |  -13.44766   1.833864    -7.33   0.000    -17.44331   -9.452012\n",
      "         yr1900 |          0  (omitted)\n",
      "         yr1880 |          0  (omitted)\n",
      "         yr1885 |          0  (omitted)\n",
      "         yr1895 |          0  (omitted)\n",
      "         yr1905 |          0  (omitted)\n",
      "         yr1910 |          0  (omitted)\n",
      "          _cons |   37.12969   5.150788     7.21   0.000     25.90709    48.35229\n",
      "----------------+----------------------------------------------------------------\n",
      "        sigma_u |    6.75409\n",
      "        sigma_e |  4.4468383\n",
      "            rho |  .69760308   (fraction of variance due to u_i)\n",
      "---------------------------------------------------------------------------------\n"
     ]
    }
   ],
   "source": [
    "%%stata -d datastata\n",
    "sort id year\n",
    "xtreg urbrate fpresence1750 fpresence1800 fpresence1850 fpresence1875 fpresence1900 territories1* yr* if westelbe==1 [aweight=totalpop1750], fe i(id) cluster(id)"
   ]
  },
  {
   "cell_type": "markdown",
   "metadata": {},
   "source": [
    "#### Regression 7 by authors"
   ]
  },
  {
   "cell_type": "code",
   "execution_count": 58,
   "metadata": {},
   "outputs": [
    {
     "name": "stdout",
     "output_type": "stream",
     "text": [
      "\n",
      "note: yr1900 omitted because of collinearity\n",
      "note: yr1880 omitted because of collinearity\n",
      "note: yr1885 omitted because of collinearity\n",
      "note: yr1895 omitted because of collinearity\n",
      "note: yr1905 omitted because of collinearity\n",
      "note: yr1910 omitted because of collinearity\n",
      "\n",
      "Fixed-effects (within) regression               Number of obs     =         74\n",
      "Group variable: id                              Number of groups  =         13\n",
      "\n",
      "R-sq:                                           Obs per group:\n",
      "     within  = 0.9249                                         min =          5\n",
      "     between = 0.4098                                         avg =        5.7\n",
      "     overall = 0.6974                                         max =          6\n",
      "\n",
      "                                                F(12,12)          =          .\n",
      "corr(u_i, Xb)  = 0.0568                         Prob > F          =          .\n",
      "\n",
      "                                            (Std. Err. adjusted for 13 clusters in id)\n",
      "--------------------------------------------------------------------------------------\n",
      "                     |               Robust\n",
      "             urbrate |      Coef.   Std. Err.      t    P>|t|     [95% Conf. Interval]\n",
      "---------------------+----------------------------------------------------------------\n",
      "       fpresence1750 |  -.4579774    .266864    -1.72   0.112    -1.039424    .1234693\n",
      "       fpresence1800 |  -.2093105   .2451975    -0.85   0.410    -.7435499    .3249289\n",
      "       fpresence1850 |  -.1363046   .2609417    -0.52   0.611    -.7048477    .4322386\n",
      "       fpresence1875 |   .4183036   .2836068     1.47   0.166    -.1996225     1.03623\n",
      "       fpresence1900 |    .650167   .3625768     1.79   0.098    -.1398199    1.440154\n",
      "urbanization17501800 |  -.1488343   .1126074    -1.32   0.211    -.3941847    .0965162\n",
      "urbanization17501850 |   .2649439   .1594646     1.66   0.123    -.0824997    .6123874\n",
      "urbanization17501875 |    .493511   .5556287     0.89   0.392    -.7170998    1.704122\n",
      "urbanization17501900 |   .4899849   .8692344     0.56   0.583    -1.403914    2.383884\n",
      "              yr1700 |  -25.28871   5.035249    -5.02   0.000    -36.25958   -14.31785\n",
      "              yr1750 |  -22.16647   5.017806    -4.42   0.001    -33.09933   -11.23361\n",
      "              yr1800 |  -19.99442   4.205289    -4.75   0.000    -29.15696   -10.83189\n",
      "              yr1850 |  -20.10642   4.257897    -4.72   0.000    -29.38358   -10.82926\n",
      "              yr1875 |  -12.97324   2.271669    -5.71   0.000    -17.92278   -8.023695\n",
      "              yr1900 |          0  (omitted)\n",
      "              yr1880 |          0  (omitted)\n",
      "              yr1885 |          0  (omitted)\n",
      "              yr1895 |          0  (omitted)\n",
      "              yr1905 |          0  (omitted)\n",
      "              yr1910 |          0  (omitted)\n",
      "               _cons |   32.35859   5.409833     5.98   0.000     20.57157     44.1456\n",
      "---------------------+----------------------------------------------------------------\n",
      "             sigma_u |  6.1570262\n",
      "             sigma_e |  4.3505432\n",
      "                 rho |  .66698641   (fraction of variance due to u_i)\n",
      "--------------------------------------------------------------------------------------\n"
     ]
    }
   ],
   "source": [
    "%%stata -d datastata\n",
    "sort id year\n",
    "xtreg urbrate fpresence1750 fpresence1800 fpresence1850 fpresence1875 fpresence1900 urbanization17501* yr* if westelbe==1 [aweight=totalpop1750], fe i(id) cluster(id)"
   ]
  },
  {
   "cell_type": "markdown",
   "metadata": {},
   "source": [
    "Note: For all regressions authors performe test f for ```fpresence1850 fpresence1875 fpresence1900```\n",
    "\n",
    "Command: `test fpresence1850 fpresence1875 fpresence1900`\n",
    "\n",
    "As you will see, python regressions already have the value for the F test and P-value"
   ]
  },
  {
   "cell_type": "markdown",
   "metadata": {},
   "source": [
    "## Replication"
   ]
  },
  {
   "cell_type": "markdown",
   "metadata": {},
   "source": [
    "![Imagen](img/Tabla4replica.png)"
   ]
  },
  {
   "cell_type": "markdown",
   "metadata": {},
   "source": [
    "#### Regresion 1: \n"
   ]
  },
  {
   "cell_type": "code",
   "execution_count": 59,
   "metadata": {},
   "outputs": [],
   "source": [
    "# Keep the values for Mark\n",
    "datat2 = pd.read_stata(pathout + 'replication_dataset.dta')\n",
    "datat2 = datat2.drop(datat2[datat2.westelbe == 0].index)\n",
    "datat2 = datat2.drop(datat2[datat2.id == 2].index)\n",
    "datat2['ident'] = datat2.id"
   ]
  },
  {
   "cell_type": "code",
   "execution_count": 60,
   "metadata": {},
   "outputs": [],
   "source": [
    "#Setting the dataframe for panel regression\n",
    "year = pd.Categorical(datat2.year)\n",
    "datat2 = datat2.set_index(['id', 'year'])\n",
    "datat2['year'] = year\n"
   ]
  },
  {
   "cell_type": "code",
   "execution_count": 61,
   "metadata": {},
   "outputs": [],
   "source": [
    "#Setting exogenous variables\n",
    "exog_varst = ['fpresence1750','fpresence1800','fpresence1850','fpresence1875','fpresence1900']\n",
    "\n",
    "exogt2 = sm.add_constant(datat2[exog_varst])"
   ]
  },
  {
   "cell_type": "code",
   "execution_count": 62,
   "metadata": {},
   "outputs": [
    {
     "name": "stdout",
     "output_type": "stream",
     "text": [
      "                          PanelOLS Estimation Summary                           \n",
      "================================================================================\n",
      "Dep. Variable:                urbrate   R-squared:                        0.4455\n",
      "Estimator:                   PanelOLS   R-squared (Between):             -0.0644\n",
      "No. Observations:                  68   R-squared (Within):               0.3168\n",
      "Date:                Thu, Jun 25 2020   R-squared (Overall):              0.2262\n",
      "Time:                        10:41:33   Log-likelihood                   -174.11\n",
      "Cov. Estimator:             Clustered                                           \n",
      "                                        F-statistic:                      34.846\n",
      "Entities:                          12   P-value                           0.0000\n",
      "Avg Obs:                       5.6667   Distribution:                    F(5,46)\n",
      "Min Obs:                       5.0000                                           \n",
      "Max Obs:                       6.0000   F-statistic (robust):             16.409\n",
      "                                        P-value                           0.0000\n",
      "Time periods:                       6   Distribution:                    F(5,46)\n",
      "Avg Obs:                       11.333                                           \n",
      "Min Obs:                       8.0000                                           \n",
      "Max Obs:                       12.000                                           \n",
      "                                                                                \n",
      "                               Parameter Estimates                               \n",
      "=================================================================================\n",
      "               Parameter  Std. Err.     T-stat    P-value    Lower CI    Upper CI\n",
      "---------------------------------------------------------------------------------\n",
      "const             17.930     1.3804     12.989     0.0000      15.151      20.709\n",
      "fpresence1750    -0.5646     0.3022    -1.8685     0.0681     -1.1729      0.0436\n",
      "fpresence1800    -0.3238     0.2671    -1.2122     0.2316     -0.8616      0.2139\n",
      "fpresence1850    -0.2352     0.2955    -0.7959     0.4302     -0.8300      0.3596\n",
      "fpresence1875     0.3240     0.3481     0.9308     0.3568     -0.3767      1.0247\n",
      "fpresence1900     0.5518     0.4412     1.2507     0.2174     -0.3363      1.4398\n",
      "=================================================================================\n",
      "\n",
      "F-test for Poolability: 26.391\n",
      "P-value: 0.0000\n",
      "Distribution: F(16,46)\n",
      "\n",
      "Included effects: Entity, Time\n"
     ]
    }
   ],
   "source": [
    "#Here we make the panel regression, weighted, with feixed and time effects.\n",
    "mod41 = PanelOLS(datat2.urbrate, exogt2, weights=datat2.totalpop1750 , entity_effects=True,time_effects=True, other_effects=None)\n",
    "reg1 = mod41.fit(cov_type='clustered', clusters=datat2.ident)\n",
    "print(reg1)\n"
   ]
  },
  {
   "cell_type": "markdown",
   "metadata": {},
   "source": [
    " #### Regresion 2:\n"
   ]
  },
  {
   "cell_type": "code",
   "execution_count": 63,
   "metadata": {},
   "outputs": [],
   "source": [
    "#As you will notide, table 4 is for west of the Elby, so you will se that i will drop the data for westelbe = 0\n",
    "#Also we have to set year and id as index, since we are doing panel ols\n",
    "data3 = pd.read_stata(pathout + 'replication_dataset.dta')\n",
    "\n",
    "data3 = data3.drop(data3[data3.westelbe == 0].index)\n",
    "data3['ident']=data3.id\n",
    "year = pd.Categorical(data3.year)\n",
    "data3 = data3.set_index(['id', 'year'])\n",
    "data3['year'] = year\n"
   ]
  },
  {
   "cell_type": "code",
   "execution_count": 64,
   "metadata": {},
   "outputs": [],
   "source": [
    "#Setting exogenous variables and adding a constant.\n",
    "exog_prot = ['fpresence1750','fpresence1800','fpresence1850','fpresence1875','fpresence1900','protestant1750','protestant1800','protestant1850',\n",
    "              'protestant1875','protestant1900']\n",
    "\n",
    "exogprot = sm.add_constant(data3[exog_prot])"
   ]
  },
  {
   "cell_type": "code",
   "execution_count": 65,
   "metadata": {},
   "outputs": [
    {
     "name": "stdout",
     "output_type": "stream",
     "text": [
      "                          PanelOLS Estimation Summary                           \n",
      "================================================================================\n",
      "Dep. Variable:                urbrate   R-squared:                        0.3939\n",
      "Estimator:                   PanelOLS   R-squared (Between):             -0.0568\n",
      "No. Observations:                  74   R-squared (Within):               0.3805\n",
      "Date:                Thu, Jun 25 2020   R-squared (Overall):              0.2801\n",
      "Time:                        10:41:34   Log-likelihood                   -198.86\n",
      "Cov. Estimator:             Clustered                                           \n",
      "                                        F-statistic:                      16.003\n",
      "Entities:                          13   P-value                           0.0000\n",
      "Avg Obs:                       5.6923   Distribution:                   F(10,46)\n",
      "Min Obs:                       5.0000                                           \n",
      "Max Obs:                       6.0000   F-statistic (robust):             91.553\n",
      "                                        P-value                           0.0000\n",
      "Time periods:                       6   Distribution:                   F(10,46)\n",
      "Avg Obs:                       12.333                                           \n",
      "Min Obs:                       9.0000                                           \n",
      "Max Obs:                       13.000                                           \n",
      "                                                                                \n",
      "                               Parameter Estimates                                \n",
      "==================================================================================\n",
      "                Parameter  Std. Err.     T-stat    P-value    Lower CI    Upper CI\n",
      "----------------------------------------------------------------------------------\n",
      "const              15.463     1.4384     10.750     0.0000      12.568      18.358\n",
      "fpresence1750     -0.5472     0.3343    -1.6371     0.1084     -1.2201      0.1256\n",
      "fpresence1800     -0.3362     0.3209    -1.0478     0.3002     -0.9821      0.3096\n",
      "fpresence1850     -0.2292     0.3369    -0.6801     0.4998     -0.9073      0.4490\n",
      "fpresence1875      0.3532     0.3393     1.0410     0.3033     -0.3298      1.0362\n",
      "fpresence1900      0.5734     0.4024     1.4250     0.1609     -0.2366      1.3835\n",
      "protestant1750     5.6376     1.5965     3.5312     0.0010      2.4240      8.8513\n",
      "protestant1800     3.3537     1.1294     2.9694     0.0047      1.0803      5.6271\n",
      "protestant1850     4.7500     2.9141     1.6300     0.1099     -1.1158      10.616\n",
      "protestant1875     6.1476     5.7828     1.0631     0.2933     -5.4926      17.788\n",
      "protestant1900     5.3416     8.7428     0.6110     0.5442     -12.257      22.940\n",
      "==================================================================================\n",
      "\n",
      "F-test for Poolability: 9.2036\n",
      "P-value: 0.0000\n",
      "Distribution: F(17,46)\n",
      "\n",
      "Included effects: Entity, Time\n"
     ]
    }
   ],
   "source": [
    "#We run the regression for panel ols with fixed and time efects. Also weighted.\n",
    "mod42 = PanelOLS(data3.urbrate, exogprot, weights=data3.totalpop1750 , entity_effects=True,time_effects=True, other_effects=None)\n",
    "\n",
    "reg2 = mod42.fit(cov_type='clustered', clusters=data3.ident)\n",
    "\n",
    "print(reg2)"
   ]
  },
  {
   "cell_type": "markdown",
   "metadata": {},
   "source": [
    "####  Regresion 3:\n"
   ]
  },
  {
   "cell_type": "code",
   "execution_count": 66,
   "metadata": {},
   "outputs": [
    {
     "name": "stdout",
     "output_type": "stream",
     "text": [
      "                          PanelOLS Estimation Summary                           \n",
      "================================================================================\n",
      "Dep. Variable:                urbrate   R-squared:                        0.3890\n",
      "Estimator:                   PanelOLS   R-squared (Between):              0.2010\n",
      "No. Observations:                  74   R-squared (Within):               0.0100\n",
      "Date:                Thu, Jun 25 2020   R-squared (Overall):              0.0538\n",
      "Time:                        10:41:34   Log-likelihood                   -199.15\n",
      "Cov. Estimator:             Clustered                                           \n",
      "                                        F-statistic:                      15.839\n",
      "Entities:                          13   P-value                           0.0000\n",
      "Avg Obs:                       5.6923   Distribution:                   F(10,46)\n",
      "Min Obs:                       5.0000                                           \n",
      "Max Obs:                       6.0000   F-statistic (robust):             32.749\n",
      "                                        P-value                           0.0000\n",
      "Time periods:                       6   Distribution:                   F(10,46)\n",
      "Avg Obs:                       12.333                                           \n",
      "Min Obs:                       9.0000                                           \n",
      "Max Obs:                       13.000                                           \n",
      "                                                                                \n",
      "                               Parameter Estimates                               \n",
      "=================================================================================\n",
      "               Parameter  Std. Err.     T-stat    P-value    Lower CI    Upper CI\n",
      "---------------------------------------------------------------------------------\n",
      "const            -22.703     34.533    -0.6574     0.5142     -92.214      46.808\n",
      "fpresence1750    -0.5997     0.3863    -1.5525     0.1274     -1.3773      0.1779\n",
      "fpresence1800    -0.3564     0.3522    -1.0121     0.3168     -1.0654      0.3525\n",
      "fpresence1850    -0.2613     0.3862    -0.6767     0.5020     -1.0386      0.5160\n",
      "fpresence1875     0.2920     0.4067     0.7179     0.4765     -0.5267      1.1107\n",
      "fpresence1900     0.5120     0.4899     1.0450     0.3015     -0.4742      1.4981\n",
      "latitude1750      0.8846     0.6110     1.4477     0.1545     -0.3453      2.1145\n",
      "latitude1800      0.8923     0.5163     1.7283     0.0906     -0.1469      1.9315\n",
      "latitude1850      0.6777     0.7022     0.9651     0.3395     -0.7358      2.0912\n",
      "latitude1875      0.9225     1.1098     0.8312     0.4101     -1.3114      3.1563\n",
      "latitude1900      1.2384     1.6790     0.7376     0.4645     -2.1412      4.6181\n",
      "=================================================================================\n",
      "\n",
      "F-test for Poolability: 6.1273\n",
      "P-value: 0.0000\n",
      "Distribution: F(17,46)\n",
      "\n",
      "Included effects: Entity, Time\n"
     ]
    }
   ],
   "source": [
    "#We will keep using data3, but the exogenous variables change for latitude. The regression settings keep the same\n",
    "exog_lat = ['fpresence1750','fpresence1800','fpresence1850','fpresence1875','fpresence1900',\n",
    "            'latitude1750','latitude1800','latitude1850',\n",
    "             'latitude1875', 'latitude1900']\n",
    "\n",
    "exoglat = sm.add_constant(data3[exog_lat])\n",
    "\n",
    "mod43 = PanelOLS(data3.urbrate, exoglat, weights=data3.totalpop1750 , entity_effects=True,time_effects=True, other_effects=None)\n",
    "\n",
    "reg3 = mod43.fit(cov_type='clustered', clusters=data3.ident)\n",
    "\n",
    "print(reg3)\n"
   ]
  },
  {
   "cell_type": "markdown",
   "metadata": {},
   "source": [
    "####  Regresion 4: \n"
   ]
  },
  {
   "cell_type": "code",
   "execution_count": 67,
   "metadata": {},
   "outputs": [
    {
     "name": "stdout",
     "output_type": "stream",
     "text": [
      "                          PanelOLS Estimation Summary                           \n",
      "================================================================================\n",
      "Dep. Variable:                urbrate   R-squared:                        0.4299\n",
      "Estimator:                   PanelOLS   R-squared (Between):              0.2583\n",
      "No. Observations:                  74   R-squared (Within):               0.7541\n",
      "Date:                Thu, Jun 25 2020   R-squared (Overall):              0.6403\n",
      "Time:                        10:41:35   Log-likelihood                   -196.59\n",
      "Cov. Estimator:             Clustered                                           \n",
      "                                        F-statistic:                      17.304\n",
      "Entities:                          13   P-value                           0.0000\n",
      "Avg Obs:                       5.6923   Distribution:                   F(10,46)\n",
      "Min Obs:                       5.0000                                           \n",
      "Max Obs:                       6.0000   F-statistic (robust):             30.408\n",
      "                                        P-value                           0.0000\n",
      "Time periods:                       6   Distribution:                   F(10,46)\n",
      "Avg Obs:                       12.333                                           \n",
      "Min Obs:                       9.0000                                           \n",
      "Max Obs:                       13.000                                           \n",
      "                                                                                \n",
      "                               Parameter Estimates                               \n",
      "=================================================================================\n",
      "               Parameter  Std. Err.     T-stat    P-value    Lower CI    Upper CI\n",
      "---------------------------------------------------------------------------------\n",
      "const             8.8817     9.6583     0.9196     0.3626     -10.559      28.323\n",
      "fpresence1750    -0.4350     0.2656    -1.6380     0.1082     -0.9695      0.0996\n",
      "fpresence1800    -0.2558     0.2332    -1.0967     0.2785     -0.7252      0.2136\n",
      "fpresence1850     0.0182     0.2286     0.0797     0.9368     -0.4419      0.4783\n",
      "fpresence1875     0.6226     0.2717     2.2913     0.0266      0.0757      1.1695\n",
      "fpresence1900     0.8927     0.3490     2.5582     0.0139      0.1903      1.5951\n",
      "longitude1750     0.4192     0.4844     0.8654     0.3913     -0.5558      1.3942\n",
      "longitude1800     0.0251     0.5662     0.0443     0.9649     -1.1147      1.1648\n",
      "longitude1850     1.1693     0.5856     1.9966     0.0518     -0.0095      2.3481\n",
      "longitude1875     1.4263     1.6253     0.8775     0.3848     -1.8453      4.6979\n",
      "longitude1900     1.6614     2.4553     0.6766     0.5020     -3.2810      6.6037\n",
      "=================================================================================\n",
      "\n",
      "F-test for Poolability: 4.8372\n",
      "P-value: 0.0000\n",
      "Distribution: F(17,46)\n",
      "\n",
      "Included effects: Entity, Time\n"
     ]
    }
   ],
   "source": [
    "#We will keep using data3, but changing exogenous variables to longitud and year interacctions. \n",
    "#The regression settings remain the same\n",
    "\n",
    "exog_long = ['fpresence1750','fpresence1800','fpresence1850','fpresence1875','fpresence1900',\n",
    "            'longitude1750','longitude1800','longitude1850',\n",
    "             'longitude1875', 'longitude1900']\n",
    "\n",
    "exoglong = sm.add_constant(data3[exog_long])\n",
    "\n",
    "mod44 = PanelOLS(data3.urbrate, exoglong, weights=data3.totalpop1750 , entity_effects=True,time_effects=True, other_effects=None)\n",
    "\n",
    "reg4 = mod44.fit(cov_type='clustered', clusters=data3.ident)\n",
    "\n",
    "print(reg4)\n",
    "\n"
   ]
  },
  {
   "cell_type": "markdown",
   "metadata": {},
   "source": [
    "####  Regresion 5: \n"
   ]
  },
  {
   "cell_type": "code",
   "execution_count": 68,
   "metadata": {},
   "outputs": [],
   "source": [
    "#We will keep using data3, but changing exogenous variables to distance to paris and year interacctions. \n",
    "#The regression settings remain the same\n",
    "\n",
    "exog_dist = ['fpresence1750','fpresence1800','fpresence1850','fpresence1875','fpresence1900',\n",
    "            'distpa1750','distpa1800','distpa1850',\n",
    "             'distpa1875', 'distpa1900']\n"
   ]
  },
  {
   "cell_type": "code",
   "execution_count": 69,
   "metadata": {},
   "outputs": [
    {
     "name": "stdout",
     "output_type": "stream",
     "text": [
      "                          PanelOLS Estimation Summary                           \n",
      "================================================================================\n",
      "Dep. Variable:                urbrate   R-squared:                        0.4138\n",
      "Estimator:                   PanelOLS   R-squared (Between):              0.2003\n",
      "No. Observations:                  74   R-squared (Within):               0.6900\n",
      "Date:                Thu, Jun 25 2020   R-squared (Overall):              0.5777\n",
      "Time:                        10:41:36   Log-likelihood                   -197.62\n",
      "Cov. Estimator:             Clustered                                           \n",
      "                                        F-statistic:                      16.702\n",
      "Entities:                          13   P-value                           0.0000\n",
      "Avg Obs:                       5.6923   Distribution:                   F(10,46)\n",
      "Min Obs:                       5.0000                                           \n",
      "Max Obs:                       6.0000   F-statistic (robust):             98.981\n",
      "                                        P-value                           0.0000\n",
      "Time periods:                       6   Distribution:                   F(10,46)\n",
      "Avg Obs:                       12.333                                           \n",
      "Min Obs:                       9.0000                                           \n",
      "Max Obs:                       13.000                                           \n",
      "                                                                                \n",
      "                               Parameter Estimates                               \n",
      "=================================================================================\n",
      "               Parameter  Std. Err.     T-stat    P-value    Lower CI    Upper CI\n",
      "---------------------------------------------------------------------------------\n",
      "const             10.337     7.1615     1.4433     0.1557     -4.0788      24.752\n",
      "fpresence1750    -0.4464     0.3016    -1.4799     0.1457     -1.0535      0.1608\n",
      "fpresence1800    -0.2441     0.2695    -0.9059     0.3697     -0.7866      0.2983\n",
      "fpresence1850    -0.0269     0.2626    -0.1024     0.9189     -0.5554      0.5016\n",
      "fpresence1875     0.5610     0.2939     1.9091     0.0625     -0.0305      1.1525\n",
      "fpresence1900     0.8363     0.3533     2.3670     0.0222      0.1251      1.5474\n",
      "distpa1750        0.0076     0.0061     1.2472     0.2186     -0.0047      0.0199\n",
      "distpa1800        0.0040     0.0056     0.7143     0.4786     -0.0072      0.0152\n",
      "distpa1850        0.0154     0.0077     2.0018     0.0512  -8.554e-05      0.0308\n",
      "distpa1875        0.0176     0.0212     0.8321     0.4096     -0.0250      0.0602\n",
      "distpa1900        0.0214     0.0310     0.6903     0.4935     -0.0410      0.0839\n",
      "=================================================================================\n",
      "\n",
      "F-test for Poolability: 4.8345\n",
      "P-value: 0.0000\n",
      "Distribution: F(17,46)\n",
      "\n",
      "Included effects: Entity, Time\n"
     ]
    }
   ],
   "source": [
    "\n",
    "exogdist = sm.add_constant(data3[exog_dist])\n",
    "\n",
    "mod45 = PanelOLS(data3.urbrate, exogdist, weights=data3.totalpop1750 , entity_effects=True,time_effects=True, other_effects=None)\n",
    "\n",
    "reg5 = mod45.fit(cov_type='clustered', clusters=data3.ident)\n",
    "\n",
    "print(reg5)"
   ]
  },
  {
   "cell_type": "markdown",
   "metadata": {},
   "source": [
    "#### Regresion 6: \n"
   ]
  },
  {
   "cell_type": "code",
   "execution_count": 70,
   "metadata": {},
   "outputs": [],
   "source": [
    "#We will keep using data3, but changing exogenous variables to territories and year interacctions. \n",
    "#The regression settings remain the same\n",
    "\n",
    "exog_terr = ['fpresence1750','fpresence1800','fpresence1850','fpresence1875','fpresence1900',\n",
    "            'territories1850','territories1875', 'territories1900']\n",
    "exogterr = sm.add_constant(data3[exog_terr])"
   ]
  },
  {
   "cell_type": "code",
   "execution_count": 71,
   "metadata": {},
   "outputs": [
    {
     "name": "stdout",
     "output_type": "stream",
     "text": [
      "                          PanelOLS Estimation Summary                           \n",
      "================================================================================\n",
      "Dep. Variable:                urbrate   R-squared:                        0.3848\n",
      "Estimator:                   PanelOLS   R-squared (Between):             -0.0098\n",
      "No. Observations:                  74   R-squared (Within):               0.2890\n",
      "Date:                Thu, Jun 25 2020   R-squared (Overall):              0.2204\n",
      "Time:                        10:41:37   Log-likelihood                   -199.41\n",
      "Cov. Estimator:             Clustered                                           \n",
      "                                        F-statistic:                      20.476\n",
      "Entities:                          13   P-value                           0.0000\n",
      "Avg Obs:                       5.6923   Distribution:                    F(8,48)\n",
      "Min Obs:                       5.0000                                           \n",
      "Max Obs:                       6.0000   F-statistic (robust):             45.010\n",
      "                                        P-value                           0.0000\n",
      "Time periods:                       6   Distribution:                    F(8,48)\n",
      "Avg Obs:                       12.333                                           \n",
      "Min Obs:                       9.0000                                           \n",
      "Max Obs:                       13.000                                           \n",
      "                                                                                \n",
      "                                Parameter Estimates                                \n",
      "===================================================================================\n",
      "                 Parameter  Std. Err.     T-stat    P-value    Lower CI    Upper CI\n",
      "-----------------------------------------------------------------------------------\n",
      "const               18.203     2.0142     9.0372     0.0000      14.153      22.252\n",
      "fpresence1750      -0.5315     0.3180    -1.6711     0.1012     -1.1709      0.1080\n",
      "fpresence1800      -0.2879     0.2851    -1.0099     0.3176     -0.8610      0.2853\n",
      "fpresence1850      -0.1140     0.2775    -0.4107     0.6831     -0.6719      0.4439\n",
      "fpresence1875       0.3741     0.3295     1.1353     0.2619     -0.2885      1.0367\n",
      "fpresence1900       0.6560     0.4136     1.5859     0.1193     -0.1757      1.4876\n",
      "territories1850    -0.0681     0.0310    -2.2004     0.0326     -0.1304     -0.0059\n",
      "territories1875    -0.0098     0.0968    -0.1009     0.9200     -0.2043      0.1848\n",
      "territories1900    -0.0491     0.1543    -0.3183     0.7516     -0.3593      0.2611\n",
      "===================================================================================\n",
      "\n",
      "F-test for Poolability: 18.192\n",
      "P-value: 0.0000\n",
      "Distribution: F(17,48)\n",
      "\n",
      "Included effects: Entity, Time\n"
     ]
    }
   ],
   "source": [
    "\n",
    "mod46 = PanelOLS(data3.urbrate, exogterr, weights=data3.totalpop1750 , entity_effects=True,time_effects=True, other_effects=None)\n",
    "\n",
    "reg6 = mod46.fit(cov_type='clustered', clusters=data3.ident)\n",
    "\n",
    "print(reg6)"
   ]
  },
  {
   "cell_type": "markdown",
   "metadata": {},
   "source": [
    "#### Regresion 7: \n"
   ]
  },
  {
   "cell_type": "code",
   "execution_count": 72,
   "metadata": {},
   "outputs": [],
   "source": [
    "#Regresion 7\n",
    "#We will keep using data3, but changing exogenous variables to urbanization rates in 1750 and year interacctions. \n",
    "#The regression settings remain the same\n",
    "\n",
    "exog_urb = ['fpresence1750','fpresence1800','fpresence1850','fpresence1875','fpresence1900',\n",
    "            'urbanization17501800','urbanization17501850','urbanization17501875', 'urbanization17501900']\n",
    "exogurb = sm.add_constant(data3[exog_urb])"
   ]
  },
  {
   "cell_type": "code",
   "execution_count": 73,
   "metadata": {},
   "outputs": [
    {
     "name": "stdout",
     "output_type": "stream",
     "text": [
      "                          PanelOLS Estimation Summary                           \n",
      "================================================================================\n",
      "Dep. Variable:                urbrate   R-squared:                        0.4234\n",
      "Estimator:                   PanelOLS   R-squared (Between):              0.2118\n",
      "No. Observations:                  74   R-squared (Within):               0.4952\n",
      "Date:                Thu, Jun 25 2020   R-squared (Overall):              0.4302\n",
      "Time:                        10:41:38   Log-likelihood                   -197.01\n",
      "Cov. Estimator:             Clustered                                           \n",
      "                                        F-statistic:                      19.365\n",
      "Entities:                          13   P-value                           0.0000\n",
      "Avg Obs:                       5.6923   Distribution:                    F(9,47)\n",
      "Min Obs:                       5.0000                                           \n",
      "Max Obs:                       6.0000   F-statistic (robust):             9.8631\n",
      "                                        P-value                           0.0000\n",
      "Time periods:                       6   Distribution:                    F(9,47)\n",
      "Avg Obs:                       12.333                                           \n",
      "Min Obs:                       9.0000                                           \n",
      "Max Obs:                       13.000                                           \n",
      "                                                                                \n",
      "                                  Parameter Estimates                                   \n",
      "========================================================================================\n",
      "                      Parameter  Std. Err.     T-stat    P-value    Lower CI    Upper CI\n",
      "----------------------------------------------------------------------------------------\n",
      "const                    16.078     2.5307     6.3534     0.0000      10.987      21.169\n",
      "fpresence1750           -0.4580     0.2892    -1.5834     0.1200     -1.0398      0.1239\n",
      "fpresence1800           -0.2093     0.2657    -0.7876     0.4349     -0.7439      0.3253\n",
      "fpresence1850           -0.1363     0.2828    -0.4820     0.6321     -0.7052      0.4326\n",
      "fpresence1875            0.4183     0.3074     1.3609     0.1800     -0.2001      1.0367\n",
      "fpresence1900            0.6502     0.3930     1.6545     0.1047     -0.1404      1.4407\n",
      "urbanization17501800    -0.1488     0.1220    -1.2195     0.2287     -0.3944      0.0967\n",
      "urbanization17501850     0.2649     0.1728     1.5330     0.1320     -0.0827      0.6126\n",
      "urbanization17501875     0.4935     0.6022     0.8195     0.4166     -0.7179      1.7050\n",
      "urbanization17501900     0.4900     0.9421     0.5201     0.6054     -1.4052      2.3852\n",
      "========================================================================================\n",
      "\n",
      "F-test for Poolability: 5.3138\n",
      "P-value: 0.0000\n",
      "Distribution: F(17,47)\n",
      "\n",
      "Included effects: Entity, Time\n"
     ]
    }
   ],
   "source": [
    "mod47 = PanelOLS(data3.urbrate, exogurb, weights=data3.totalpop1750 , entity_effects=True,time_effects=True, other_effects=None)\n",
    "\n",
    "reg7 = mod47.fit(cov_type='clustered', clusters=data3.ident)\n",
    "\n",
    "print(reg7)"
   ]
  },
  {
   "cell_type": "code",
   "execution_count": 74,
   "metadata": {},
   "outputs": [],
   "source": [
    "pystout(models=[reg1, reg2,reg3,reg4,reg5,reg6,reg7],\n",
    "        file='tabla3.tex',\n",
    "        addnotes=['Weighted by total population in 1750.' ,'*$p < 0.1$ , ** $p < 0.05$ , *** $p < 0.01$',\n",
    "                  'Standar errors in parentheses.'],\n",
    "        digits=3,\n",
    "        endog_names=['Without Mark','Protestant','Latitude','Longitide','Distance to Paris','Number of old territories',\n",
    "                    'Initial Urbanization'],\n",
    "        varlabels={'const':'Constant','displacement':'Disp','mpg':'MPG'},\n",
    "       \n",
    "        modstat={'nobs':'Obs','rsquared':'R\\sym{2}','fvalue':'F-stat'},\n",
    "        stars={.1:'*',.05:'**',.01:'***'}\n",
    "        )"
   ]
  },
  {
   "cell_type": "markdown",
   "metadata": {},
   "source": [
    "# Table 5 -  Occupational Shares In Germany."
   ]
  },
  {
   "cell_type": "markdown",
   "metadata": {},
   "source": [
    "`All Regresions will be made for year = 1849,  1882, 1895 and 1907`\n",
    "#### - Regresion 1: \n",
    "$ agric = \\beta_{0} + \\beta_{1}fpresence $\n",
    "\n",
    "For West of the Elbe. Weighted.\n",
    "\n",
    "#### - Regresion 2:\n",
    "$ agric = \\beta_{0} + \\beta_{1}fpresence $\n",
    "\n",
    "For West of the Elbe. Unweighted.\n",
    " \n",
    "####  - Regresion 3:\n",
    " \n",
    " $ agric = \\beta_{0} + \\beta_{1}fpresence $\n",
    "\n",
    "For the whole sample. Weighted.\n",
    "\n",
    "####  - Regresion 4: \n",
    " $ industry = \\beta_{0} + \\beta_{1}fpresence $\n",
    "\n",
    "For West of the Elbe. Weighted.\n",
    "\n",
    "\n",
    "####  - Regresion 5: \n",
    " $ industry = \\beta_{0} + \\beta_{1}fpresence $\n",
    "\n",
    "For West of the Elbe. Weighted.\n",
    "\n",
    "\n",
    "####  - Regresion 6: \n",
    " $ industry = \\beta_{0} + \\beta_{1}fpresence $\n",
    "\n",
    "For the whole sample. Weighted.\n",
    "\n",
    "Where:\n",
    "\n",
    "- agric: % of population employed in agriculture\n",
    "- industry: % of population employed in industry\n",
    "- fpresence: Years of French Presence\n"
   ]
  },
  {
   "cell_type": "markdown",
   "metadata": {},
   "source": [
    "Using data for 1849, 1882, 1895, and 1907 of share of agricultural and indusrty employment the authors can look for the composition of the economy. As there isn't too much information, it is not posible to check any pre-French trends.\n",
    "On the other hand, by looking at the regression 5 table we can see that by 1850 there was more industry employment relative to agricuture, for West of the Elby and for all the sample. This results for 1850 are not statisticly significant but as we can see, by 1882 there is evidence of a more rapid industrialization in areas with more significant reforms because of French occupation and invasion."
   ]
  },
  {
   "cell_type": "markdown",
   "metadata": {},
   "source": [
    "## Original"
   ]
  },
  {
   "cell_type": "markdown",
   "metadata": {},
   "source": [
    "![Imagen](img/Tabla5.png)"
   ]
  },
  {
   "cell_type": "code",
   "execution_count": 75,
   "metadata": {},
   "outputs": [],
   "source": [
    "datastata5 = pd.read_stata(pathout + 'replication_dataset_t5.dta')\n"
   ]
  },
  {
   "cell_type": "markdown",
   "metadata": {},
   "source": [
    "In this part the auhtors make the same regression for 4 different years. I will show only the regression of the year 1849, in order to save space.\n",
    "\n",
    "`The other years used are = 1882, 1895 and 1907`"
   ]
  },
  {
   "cell_type": "markdown",
   "metadata": {},
   "source": [
    "#### Regression 1 by authors\n",
    "Dependent variable: share of population in agriculture\n"
   ]
  },
  {
   "cell_type": "code",
   "execution_count": 76,
   "metadata": {},
   "outputs": [
    {
     "name": "stdout",
     "output_type": "stream",
     "text": [
      "\n",
      "       panel variable:  id (strongly balanced)\n",
      "        time variable:  year, 1849 to 1939, but with gaps\n",
      "                delta:  1 unit\n",
      "(62 observations deleted)\n",
      "(sum of wgt is   1.2276e+07)\n",
      "\n",
      "Linear regression                               Number of obs     =         23\n",
      "                                                F(1, 2)           =       0.84\n",
      "                                                Prob > F          =     0.4558\n",
      "                                                R-squared         =     0.0528\n",
      "                                                Root MSE          =      15.43\n",
      "\n",
      "                                  (Std. Err. adjusted for 3 clusters in state)\n",
      "------------------------------------------------------------------------------\n",
      "             |               Robust\n",
      "       agric |      Coef.   Std. Err.      t    P>|t|     [95% Conf. Interval]\n",
      "-------------+----------------------------------------------------------------\n",
      "   fpresence |  -.4297836    .468454    -0.92   0.456    -2.445378    1.585811\n",
      "       _cons |     59.107   10.03776     5.89   0.028       15.918     102.296\n",
      "------------------------------------------------------------------------------\n"
     ]
    }
   ],
   "source": [
    "%%stata -d datastata5\n",
    "\n",
    "tsset id year\n",
    "drop if year>1914\n",
    "\n",
    "reg agric fpresence if year==1849 & imputed==0 & westelbe==1 [aweight=pop1849], cl(state)"
   ]
  },
  {
   "cell_type": "markdown",
   "metadata": {},
   "source": [
    "#### Regression 2 by authors\n",
    "Dependent variable: share of population in agriculture\n"
   ]
  },
  {
   "cell_type": "code",
   "execution_count": 77,
   "metadata": {},
   "outputs": [
    {
     "name": "stdout",
     "output_type": "stream",
     "text": [
      "\n",
      "       panel variable:  id (strongly balanced)\n",
      "        time variable:  year, 1849 to 1939, but with gaps\n",
      "                delta:  1 unit\n",
      "(62 observations deleted)\n",
      "\n",
      "Linear regression                               Number of obs     =         23\n",
      "                                                F(1, 2)           =       0.80\n",
      "                                                Prob > F          =     0.4656\n",
      "                                                R-squared         =     0.0519\n",
      "                                                Root MSE          =     14.577\n",
      "\n",
      "                                  (Std. Err. adjusted for 3 clusters in state)\n",
      "------------------------------------------------------------------------------\n",
      "             |               Robust\n",
      "       agric |      Coef.   Std. Err.      t    P>|t|     [95% Conf. Interval]\n",
      "-------------+----------------------------------------------------------------\n",
      "   fpresence |  -.4110288   .4596646    -0.89   0.466    -2.388806    1.566748\n",
      "       _cons |   60.19079   9.059996     6.64   0.022     21.20877    99.17281\n",
      "------------------------------------------------------------------------------\n"
     ]
    }
   ],
   "source": [
    "%%stata -d datastata5\n",
    "\n",
    "tsset id year\n",
    "drop if year>1914\n",
    "reg agric fpresence if year==1849 & imputed==0 & westelbe==1, cl(state)"
   ]
  },
  {
   "cell_type": "markdown",
   "metadata": {},
   "source": [
    "#### Regression 3 by authors\n",
    "Dependent variable: share of population in agriculture\n"
   ]
  },
  {
   "cell_type": "code",
   "execution_count": 78,
   "metadata": {},
   "outputs": [
    {
     "name": "stdout",
     "output_type": "stream",
     "text": [
      "\n",
      "       panel variable:  id (strongly balanced)\n",
      "        time variable:  year, 1849 to 1939, but with gaps\n",
      "                delta:  1 unit\n",
      "(sum of wgt is   2.2802e+07)\n",
      "\n",
      "Linear regression                               Number of obs     =         39\n",
      "                                                F(1, 2)           =       2.16\n",
      "                                                Prob > F          =     0.2797\n",
      "                                                R-squared         =     0.0474\n",
      "                                                Root MSE          =     15.873\n",
      "\n",
      "                                  (Std. Err. adjusted for 3 clusters in state)\n",
      "------------------------------------------------------------------------------\n",
      "             |               Robust\n",
      "       agric |      Coef.   Std. Err.      t    P>|t|     [95% Conf. Interval]\n",
      "-------------+----------------------------------------------------------------\n",
      "   fpresence |  -.5082653   .3461245    -1.47   0.280    -1.997519    .9809882\n",
      "       _cons |   60.40703   4.233645    14.27   0.005     42.19113    78.62294\n",
      "------------------------------------------------------------------------------\n"
     ]
    }
   ],
   "source": [
    "%%stata -d datastata5\n",
    "tsset id year\n",
    "reg agric fpresence if year==1849 & imputed==0 [aweight=pop1849], cl(state)"
   ]
  },
  {
   "cell_type": "markdown",
   "metadata": {},
   "source": [
    "#### Regression 4 by authors\n",
    "Dependent variable: share of population in industry and manufacturing"
   ]
  },
  {
   "cell_type": "code",
   "execution_count": 79,
   "metadata": {},
   "outputs": [
    {
     "name": "stdout",
     "output_type": "stream",
     "text": [
      "\n",
      "       panel variable:  id (strongly balanced)\n",
      "        time variable:  year, 1849 to 1939, but with gaps\n",
      "                delta:  1 unit\n",
      "(sum of wgt is   1.2276e+07)\n",
      "\n",
      "Linear regression                               Number of obs     =         23\n",
      "                                                F(1, 2)           =       0.02\n",
      "                                                Prob > F          =     0.8970\n",
      "                                                R-squared         =     0.0015\n",
      "                                                Root MSE          =      12.09\n",
      "\n",
      "                                  (Std. Err. adjusted for 3 clusters in state)\n",
      "------------------------------------------------------------------------------\n",
      "             |               Robust\n",
      "    industry |      Coef.   Std. Err.      t    P>|t|     [95% Conf. Interval]\n",
      "-------------+----------------------------------------------------------------\n",
      "   fpresence |   .0550468    .375748     0.15   0.897    -1.561666     1.67176\n",
      "       _cons |   30.14521   7.512929     4.01   0.057    -2.180316    62.47073\n",
      "------------------------------------------------------------------------------\n"
     ]
    }
   ],
   "source": [
    "%%stata -d datastata5\n",
    "tsset id year\n",
    "reg industry fpresence if year==1849 & imputed==0 & westelbe==1 [aweight=pop1849], cl(state)"
   ]
  },
  {
   "cell_type": "markdown",
   "metadata": {},
   "source": [
    "#### Regression 5 by authors\n",
    "Dependent variable: share of population in industry and manufacturing"
   ]
  },
  {
   "cell_type": "code",
   "execution_count": 80,
   "metadata": {},
   "outputs": [
    {
     "name": "stdout",
     "output_type": "stream",
     "text": [
      "\n",
      "       panel variable:  id (strongly balanced)\n",
      "        time variable:  year, 1849 to 1939, but with gaps\n",
      "                delta:  1 unit\n",
      "\n",
      "Linear regression                               Number of obs     =         23\n",
      "                                                F(1, 2)           =       0.03\n",
      "                                                Prob > F          =     0.8758\n",
      "                                                R-squared         =     0.0019\n",
      "                                                Root MSE          =      11.39\n",
      "\n",
      "                                  (Std. Err. adjusted for 3 clusters in state)\n",
      "------------------------------------------------------------------------------\n",
      "             |               Robust\n",
      "    industry |      Coef.   Std. Err.      t    P>|t|     [95% Conf. Interval]\n",
      "-------------+----------------------------------------------------------------\n",
      "   fpresence |   .0605442   .3420454     0.18   0.876    -1.411158    1.532247\n",
      "       _cons |   29.51224   6.640936     4.44   0.047     .9386047    58.08589\n",
      "------------------------------------------------------------------------------\n"
     ]
    }
   ],
   "source": [
    "%%stata -d datastata5\n",
    "tsset id year\n",
    "reg industry fpresence if year==1849 & imputed==0 & westelbe==1, cluster(state)\n"
   ]
  },
  {
   "cell_type": "markdown",
   "metadata": {},
   "source": [
    "#### Regression 6 by authors"
   ]
  },
  {
   "cell_type": "code",
   "execution_count": 81,
   "metadata": {},
   "outputs": [
    {
     "name": "stdout",
     "output_type": "stream",
     "text": [
      "\n",
      "       panel variable:  id (strongly balanced)\n",
      "        time variable:  year, 1849 to 1939, but with gaps\n",
      "                delta:  1 unit\n",
      "(sum of wgt is   2.2802e+07)\n",
      "\n",
      "Linear regression                               Number of obs     =         39\n",
      "                                                F(1, 2)           =       1.03\n",
      "                                                Prob > F          =     0.4177\n",
      "                                                R-squared         =     0.0419\n",
      "                                                Root MSE          =     12.467\n",
      "\n",
      "                                  (Std. Err. adjusted for 3 clusters in state)\n",
      "------------------------------------------------------------------------------\n",
      "             |               Robust\n",
      "    industry |      Coef.   Std. Err.      t    P>|t|     [95% Conf. Interval]\n",
      "-------------+----------------------------------------------------------------\n",
      "   fpresence |    .374249   .3694955     1.01   0.418    -1.215562     1.96406\n",
      "       _cons |   24.85768   4.051147     6.14   0.026        7.427    42.28835\n",
      "------------------------------------------------------------------------------\n"
     ]
    }
   ],
   "source": [
    "%%stata -d datastata5\n",
    "tsset id year\n",
    "reg industry fpresence if year==1849 & imputed==0 [aweight=pop1849], cluster(state) "
   ]
  },
  {
   "cell_type": "markdown",
   "metadata": {},
   "source": [
    "## Replication"
   ]
  },
  {
   "cell_type": "markdown",
   "metadata": {},
   "source": [
    "![Imagen](img/Tabla5replica.png)"
   ]
  },
  {
   "cell_type": "markdown",
   "metadata": {},
   "source": [
    "### Table 5 Construcction"
   ]
  },
  {
   "cell_type": "markdown",
   "metadata": {},
   "source": [
    "`IMPORTANT:` For this part, we have to do 24 regressions since the author made 6 different configurations but divided each one by years. I will make the regressions here but I will not print them, so I don't wast to much space. Also, I will explain only the first regressions because the other ones are basically the same but changing the year.\n",
    "You will be able to watch every regression by typing\n",
    "`print(resultsT.summary())` with T = 1,2,3,4,...24. I will let regression 1 as an example.`"
   ]
  },
  {
   "cell_type": "markdown",
   "metadata": {},
   "source": [
    "### Regression 1 - Dependent variable: share of population employed in agriculture\n",
    "West of the Elbe - Weighted - French Presence 1849"
   ]
  },
  {
   "cell_type": "code",
   "execution_count": 82,
   "metadata": {},
   "outputs": [],
   "source": [
    "import numpy as np\n",
    "from scipy import stats\n",
    "import statsmodels.api as sm\n",
    "import matplotlib.pyplot as plt\n",
    "from statsmodels.sandbox.regression.predstd import wls_prediction_std\n",
    "from statsmodels.iolib.table import (SimpleTable, default_txt_fmt)"
   ]
  },
  {
   "cell_type": "code",
   "execution_count": 83,
   "metadata": {},
   "outputs": [],
   "source": [
    "#We have to set the dataframe for regression 1 by 1849, west of the elbe and not imputed.\n",
    "datat5 = pd.read_stata(pathout + 'replication_dataset_t5.dta')\n",
    "datat5 = datat5.drop(datat5[datat5.year > 1914].index)\n",
    "datat5 = datat5.drop(datat5[datat5.imputed != 0].index)\n",
    "datat5 = datat5.drop(datat5[datat5.westelbe != 1].index)\n",
    "datat5 = datat5.drop(datat5[datat5.year != 1849].index)"
   ]
  },
  {
   "cell_type": "code",
   "execution_count": 84,
   "metadata": {},
   "outputs": [],
   "source": [
    "exog_5 = ['fpresence']\n",
    "exog5 = sm.add_constant(datat5[exog_5])"
   ]
  },
  {
   "cell_type": "code",
   "execution_count": 85,
   "metadata": {},
   "outputs": [
    {
     "name": "stdout",
     "output_type": "stream",
     "text": [
      "                            WLS Regression Results                            \n",
      "==============================================================================\n",
      "Dep. Variable:                  agric   R-squared:                       0.053\n",
      "Model:                            WLS   Adj. R-squared:                  0.008\n",
      "Method:                 Least Squares   F-statistic:                     1.171\n",
      "Date:                Thu, 25 Jun 2020   Prob (F-statistic):              0.291\n",
      "Time:                        10:41:56   Log-Likelihood:                -95.448\n",
      "No. Observations:                  23   AIC:                             194.9\n",
      "Df Residuals:                      21   BIC:                             197.2\n",
      "Df Model:                           1                                         \n",
      "Covariance Type:            nonrobust                                         \n",
      "==============================================================================\n",
      "                 coef    std err          t      P>|t|      [0.025      0.975]\n",
      "------------------------------------------------------------------------------\n",
      "const         59.1070      4.141     14.273      0.000      50.495      67.719\n",
      "fpresence     -0.4298      0.397     -1.082      0.291      -1.256       0.396\n",
      "==============================================================================\n",
      "Omnibus:                        1.506   Durbin-Watson:                   1.208\n",
      "Prob(Omnibus):                  0.471   Jarque-Bera (JB):                0.984\n",
      "Skew:                          -0.503   Prob(JB):                        0.611\n",
      "Kurtosis:                       2.872   Cond. No.                         13.5\n",
      "==============================================================================\n",
      "\n",
      "Warnings:\n",
      "[1] Standard Errors assume that the covariance matrix of the errors is correctly specified.\n"
     ]
    }
   ],
   "source": [
    "#As you can see, we are using weighted least square regression in order to get the same rasults as the author.\n",
    "#The weight for all the regressions will be the estimation of the population in 1849.\n",
    "modelo1 = sm.WLS(datat5.agric, exog5, weights=datat5.pop1849)\n",
    "results1 = modelo1.fit()\n",
    "print(results1.summary())"
   ]
  },
  {
   "cell_type": "markdown",
   "metadata": {},
   "source": [
    "West of the Elbe - Weighted - French Presence 1882"
   ]
  },
  {
   "cell_type": "code",
   "execution_count": 86,
   "metadata": {},
   "outputs": [],
   "source": [
    "data5 = pd.read_stata(pathout + 'replication_dataset_t5.dta')\n",
    "data5 = data5.drop(data5[data5.year > 1914].index)\n",
    "data5 = data5.drop(data5[data5.imputed != 0].index)\n",
    "data5 = data5.drop(data5[data5.westelbe != 1].index)\n",
    "data5 = data5.drop(data5[data5.year != 1882].index)"
   ]
  },
  {
   "cell_type": "code",
   "execution_count": 87,
   "metadata": {},
   "outputs": [],
   "source": [
    "exog_a = ['fpresence']\n",
    "exoga = sm.add_constant(data5[exog_a])"
   ]
  },
  {
   "cell_type": "code",
   "execution_count": 88,
   "metadata": {},
   "outputs": [],
   "source": [
    "modelo2 = sm.WLS(data5.agric, exoga, weights=data5.pop1849)\n",
    "results2 = modelo2.fit()"
   ]
  },
  {
   "cell_type": "markdown",
   "metadata": {},
   "source": [
    "West of the Elbe - Weighted - French Presence 1895"
   ]
  },
  {
   "cell_type": "code",
   "execution_count": 89,
   "metadata": {},
   "outputs": [],
   "source": [
    "dataa = pd.read_stata(pathout + 'replication_dataset_t5.dta')\n",
    "dataa1 = dataa\n",
    "dataa1 = dataa1.drop(dataa1[dataa1.year > 1914].index)\n",
    "dataa1 = dataa1.drop(dataa1[dataa1.imputed != 0].index)\n",
    "dataa1 = dataa1.drop(dataa1[dataa1.westelbe != 1].index)\n",
    "dataa1 = dataa1.drop(dataa1[dataa1.year != 1895].index)"
   ]
  },
  {
   "cell_type": "code",
   "execution_count": 90,
   "metadata": {},
   "outputs": [],
   "source": [
    "exog_a1 = ['fpresence']\n",
    "exoga1 = sm.add_constant(dataa1[exog_a])"
   ]
  },
  {
   "cell_type": "code",
   "execution_count": 91,
   "metadata": {},
   "outputs": [],
   "source": [
    "modelo3 = sm.WLS(dataa1.agric, exoga1, weights=data5.pop1849)\n",
    "results3 = modelo3.fit()"
   ]
  },
  {
   "cell_type": "markdown",
   "metadata": {},
   "source": [
    "West of the Elbe - Weighted - French Presence 1907"
   ]
  },
  {
   "cell_type": "code",
   "execution_count": 92,
   "metadata": {},
   "outputs": [],
   "source": [
    "datat4 = dataa\n",
    "datat4 = datat4.drop(datat4[datat4.year > 1914].index)\n",
    "datat4 = datat4.drop(datat4[datat4.imputed != 0].index)\n",
    "datat4 = datat4.drop(datat4[datat4.westelbe != 1].index)\n",
    "datat4 = datat4.drop(datat4[datat4.year != 1907].index)"
   ]
  },
  {
   "cell_type": "code",
   "execution_count": 93,
   "metadata": {},
   "outputs": [],
   "source": [
    "exog_a4 = ['fpresence']\n",
    "exoga4 = sm.add_constant(datat4[exog_a4])"
   ]
  },
  {
   "cell_type": "code",
   "execution_count": 94,
   "metadata": {},
   "outputs": [],
   "source": [
    "modelo4 = sm.WLS(datat4.agric, exoga4, weights=datat4.pop1849)\n",
    "results4 = modelo4.fit()"
   ]
  },
  {
   "cell_type": "markdown",
   "metadata": {},
   "source": [
    "### Regression 2 - Dependent variable: share of population employed in agriculture\n",
    "West of the Elbe - Unweighted - French Presence 1849"
   ]
  },
  {
   "cell_type": "code",
   "execution_count": 95,
   "metadata": {},
   "outputs": [],
   "source": [
    "#Just using the data made before but changing the specifications of the model to unweighted.\n",
    "modelo5 = sm.WLS(datat5.agric, exog5)\n",
    "results5 = modelo5.fit()"
   ]
  },
  {
   "cell_type": "markdown",
   "metadata": {},
   "source": [
    "West of the Elbe - Unweighted - French Presence 1882"
   ]
  },
  {
   "cell_type": "code",
   "execution_count": 96,
   "metadata": {},
   "outputs": [],
   "source": [
    "modelo6 = sm.WLS(data5.agric, exoga)\n",
    "results6 = modelo6.fit()"
   ]
  },
  {
   "cell_type": "markdown",
   "metadata": {},
   "source": [
    "West of the Elbe - Unweighted - French Presence 1895"
   ]
  },
  {
   "cell_type": "code",
   "execution_count": 97,
   "metadata": {},
   "outputs": [],
   "source": [
    "modelo7 = sm.WLS(dataa1.agric, exoga1)\n",
    "results7 = modelo7.fit()"
   ]
  },
  {
   "cell_type": "markdown",
   "metadata": {},
   "source": [
    "West of the Elbe - Unweighted - French Presence 1907"
   ]
  },
  {
   "cell_type": "code",
   "execution_count": 98,
   "metadata": {},
   "outputs": [],
   "source": [
    "modelo8 = sm.WLS(datat4.agric, exoga4)\n",
    "results8 = modelo8.fit()"
   ]
  },
  {
   "cell_type": "markdown",
   "metadata": {},
   "source": [
    "### Regression 3 - Dependent variable: share of population employed in agriculture\n",
    "Whole Sample - Weighted - French Presence 1849"
   ]
  },
  {
   "cell_type": "code",
   "execution_count": 99,
   "metadata": {},
   "outputs": [],
   "source": [
    "dataT2 = dataa\n",
    "dataT2 = dataT2.drop(dataT2[dataT2.year > 1914].index)\n",
    "dataT2 = dataT2.drop(dataT2[dataT2.imputed != 0].index)\n",
    "dataT2 = dataT2.drop(dataT2[dataT2.year != 1849].index)"
   ]
  },
  {
   "cell_type": "code",
   "execution_count": 100,
   "metadata": {},
   "outputs": [],
   "source": [
    "exog_T2 = ['fpresence']\n",
    "exogT2 = sm.add_constant(dataT2[exog_T2])"
   ]
  },
  {
   "cell_type": "code",
   "execution_count": 101,
   "metadata": {},
   "outputs": [],
   "source": [
    "modelo9 = sm.WLS(dataT2.agric, exogT2, weights=dataT2.pop1849)\n",
    "results9 = modelo9.fit()"
   ]
  },
  {
   "cell_type": "markdown",
   "metadata": {},
   "source": [
    "Whole Sample - Weighted - French Presence 1882"
   ]
  },
  {
   "cell_type": "code",
   "execution_count": 102,
   "metadata": {},
   "outputs": [],
   "source": [
    "dataT3 = dataa\n",
    "dataT3 = dataT3.drop(dataT3[dataT3.year > 1914].index)\n",
    "dataT3 = dataT3.drop(dataT3[dataT3.imputed != 0].index)\n",
    "dataT3 = dataT3.drop(dataT3[dataT3.year != 1882].index)"
   ]
  },
  {
   "cell_type": "code",
   "execution_count": 103,
   "metadata": {},
   "outputs": [],
   "source": [
    "exog_T3 = ['fpresence']\n",
    "exogT3 = sm.add_constant(dataT3[exog_T3])"
   ]
  },
  {
   "cell_type": "code",
   "execution_count": 104,
   "metadata": {},
   "outputs": [],
   "source": [
    "modelo10 = sm.WLS(dataT3.agric, exogT3, weights=dataT3.pop1849)\n",
    "results10 = modelo10.fit()"
   ]
  },
  {
   "cell_type": "markdown",
   "metadata": {},
   "source": [
    "Whole Sample - Weighted - French Presence 1895"
   ]
  },
  {
   "cell_type": "code",
   "execution_count": 105,
   "metadata": {},
   "outputs": [],
   "source": [
    "dataT4 = dataa\n",
    "dataT4 = dataT4.drop(dataT4[dataT4.year > 1914].index)\n",
    "dataT4 = dataT4.drop(dataT4[dataT4.imputed != 0].index)\n",
    "dataT4 = dataT4.drop(dataT4[dataT4.year != 1895].index)"
   ]
  },
  {
   "cell_type": "code",
   "execution_count": 106,
   "metadata": {},
   "outputs": [],
   "source": [
    "exog_T4 = ['fpresence']\n",
    "exogT4 = sm.add_constant(dataT4[exog_T4])"
   ]
  },
  {
   "cell_type": "code",
   "execution_count": 107,
   "metadata": {},
   "outputs": [],
   "source": [
    "modelo11 = sm.WLS(dataT4.agric, exogT4, weights=dataT4.pop1849)\n",
    "results11 = modelo11.fit()"
   ]
  },
  {
   "cell_type": "markdown",
   "metadata": {},
   "source": [
    "Whole Sample - Weighted - French Presence 1907"
   ]
  },
  {
   "cell_type": "code",
   "execution_count": 108,
   "metadata": {},
   "outputs": [],
   "source": [
    "dataT5 = dataa\n",
    "dataT5 = dataT5.drop(dataT5[dataT5.year > 1914].index)\n",
    "dataT5 = dataT5.drop(dataT5[dataT5.imputed != 0].index)\n",
    "dataT5 = dataT5.drop(dataT5[dataT5.year != 1907].index)"
   ]
  },
  {
   "cell_type": "code",
   "execution_count": 109,
   "metadata": {},
   "outputs": [],
   "source": [
    "exog_T5 = ['fpresence']\n",
    "exogT5 = sm.add_constant(dataT5[exog_T5])"
   ]
  },
  {
   "cell_type": "code",
   "execution_count": 110,
   "metadata": {},
   "outputs": [],
   "source": [
    "modelo12 = sm.WLS(dataT5.agric, exogT5, weights=dataT5.pop1849)\n",
    "results12 = modelo12.fit()"
   ]
  },
  {
   "cell_type": "markdown",
   "metadata": {},
   "source": [
    "### Regression 4 - Dependent variable: share of population employed in industry\n",
    "West of the Elbe - Weighted - French Presence 1849\n"
   ]
  },
  {
   "cell_type": "code",
   "execution_count": 111,
   "metadata": {},
   "outputs": [],
   "source": [
    "#Now we start the regressions for industry. We are now going to drop the years we are not using, and the not imputed territories\n",
    "#Also we drop the territories that aren't part of West of the Elbe\n",
    "dataT6 = dataa\n",
    "dataT6 = dataT6.drop(dataT6[dataT6.year > 1914].index)\n",
    "dataT6 = dataT6.drop(dataT6[dataT6.imputed != 0].index)\n",
    "dataT6 = dataT6.drop(dataT6[dataT6.year != 1849].index)\n",
    "dataT6 = dataT6.drop(dataT6[dataT6.westelbe != 1].index)"
   ]
  },
  {
   "cell_type": "code",
   "execution_count": 112,
   "metadata": {},
   "outputs": [],
   "source": [
    "exog_T6 = ['fpresence']\n",
    "exogT6 = sm.add_constant(dataT6[exog_T6])"
   ]
  },
  {
   "cell_type": "code",
   "execution_count": 113,
   "metadata": {},
   "outputs": [],
   "source": [
    "#As you can see, we will keep the weighted least square method for all the regressions in table 5.\n",
    "modelo13 = sm.WLS(dataT6.industry, exogT6, weights=dataT6.pop1849)\n",
    "results13 = modelo13.fit()"
   ]
  },
  {
   "cell_type": "markdown",
   "metadata": {},
   "source": [
    "West of the Elbe - Weighted - French Presence 1882"
   ]
  },
  {
   "cell_type": "code",
   "execution_count": 114,
   "metadata": {},
   "outputs": [],
   "source": [
    "dataT7 = dataa\n",
    "dataT7 = dataT7.drop(dataT7[dataT7.year > 1914].index)\n",
    "dataT7 = dataT7.drop(dataT7[dataT7.imputed != 0].index)\n",
    "dataT7 = dataT7.drop(dataT7[dataT7.year != 1882].index)\n",
    "dataT7 = dataT7.drop(dataT7[dataT7.westelbe != 1].index)"
   ]
  },
  {
   "cell_type": "code",
   "execution_count": 115,
   "metadata": {},
   "outputs": [],
   "source": [
    "exog_T7 = ['fpresence']\n",
    "exogT7 = sm.add_constant(dataT7[exog_T7])"
   ]
  },
  {
   "cell_type": "code",
   "execution_count": 116,
   "metadata": {},
   "outputs": [],
   "source": [
    "modelo14 = sm.WLS(dataT7.industry, exogT7, weights=dataT7.pop1849)\n",
    "results14 = modelo14.fit()"
   ]
  },
  {
   "cell_type": "markdown",
   "metadata": {},
   "source": [
    "West of the Elbe - Weighted - French Presence 1895"
   ]
  },
  {
   "cell_type": "code",
   "execution_count": 117,
   "metadata": {},
   "outputs": [],
   "source": [
    "dataT8 = dataa\n",
    "dataT8 = dataT8.drop(dataT8[dataT8.year > 1914].index)\n",
    "dataT8 = dataT8.drop(dataT8[dataT8.imputed != 0].index)\n",
    "dataT8 = dataT8.drop(dataT8[dataT8.year != 1895].index)\n",
    "dataT8 = dataT8.drop(dataT8[dataT8.westelbe != 1].index)"
   ]
  },
  {
   "cell_type": "code",
   "execution_count": 118,
   "metadata": {},
   "outputs": [],
   "source": [
    "exog_T8 = ['fpresence']\n",
    "exogT8 = sm.add_constant(dataT8[exog_T8])"
   ]
  },
  {
   "cell_type": "code",
   "execution_count": 119,
   "metadata": {},
   "outputs": [],
   "source": [
    "modelo15 = sm.WLS(dataT8.industry, exogT8, weights=dataT8.pop1849)\n",
    "results15 = modelo15.fit()"
   ]
  },
  {
   "cell_type": "markdown",
   "metadata": {},
   "source": [
    "West of the Elbe - Weighted - French Presence 1907"
   ]
  },
  {
   "cell_type": "code",
   "execution_count": 120,
   "metadata": {},
   "outputs": [],
   "source": [
    "dataT9 = dataa\n",
    "dataT9 = dataT9.drop(dataT9[dataT9.year > 1914].index)\n",
    "dataT9 = dataT9.drop(dataT9[dataT9.imputed != 0].index)\n",
    "dataT9 = dataT9.drop(dataT9[dataT9.year != 1907].index)\n",
    "dataT9 = dataT9.drop(dataT9[dataT9.westelbe != 1].index)"
   ]
  },
  {
   "cell_type": "code",
   "execution_count": 121,
   "metadata": {},
   "outputs": [],
   "source": [
    "exog_T9 = ['fpresence']\n",
    "exogT9 = sm.add_constant(dataT9[exog_T9])"
   ]
  },
  {
   "cell_type": "code",
   "execution_count": 122,
   "metadata": {},
   "outputs": [],
   "source": [
    "modelo16 = sm.WLS(dataT9.industry, exogT9, weights=dataT9.pop1849)\n",
    "results16 = modelo16.fit()\n"
   ]
  },
  {
   "cell_type": "markdown",
   "metadata": {},
   "source": [
    "### Regression 5 - Dependent variable: share of population employed in industry\n",
    "West of the Elbe - Unweighted - French Presence 1849"
   ]
  },
  {
   "cell_type": "code",
   "execution_count": 123,
   "metadata": {},
   "outputs": [],
   "source": [
    "#Now i will use the regression 4 settings, but unweighted.\n",
    "modelo17 = sm.WLS(dataT6.industry, exogT6)\n",
    "results17 = modelo17.fit()"
   ]
  },
  {
   "cell_type": "markdown",
   "metadata": {},
   "source": [
    "West of the Elbe - Unweighted - French Presence 1882"
   ]
  },
  {
   "cell_type": "code",
   "execution_count": 124,
   "metadata": {},
   "outputs": [],
   "source": [
    "modelo18 = sm.WLS(dataT7.industry, exogT7)\n",
    "results18 = modelo18.fit()"
   ]
  },
  {
   "cell_type": "markdown",
   "metadata": {},
   "source": [
    "West of the Elbe - Unweighted - French Presence 1895"
   ]
  },
  {
   "cell_type": "code",
   "execution_count": 125,
   "metadata": {},
   "outputs": [],
   "source": [
    "modelo19 = sm.WLS(dataT8.industry, exogT8)\n",
    "results19 = modelo19.fit()"
   ]
  },
  {
   "cell_type": "markdown",
   "metadata": {},
   "source": [
    "West of the Elbe - Unweighted - French Presence 1907"
   ]
  },
  {
   "cell_type": "code",
   "execution_count": 126,
   "metadata": {},
   "outputs": [],
   "source": [
    "modelo20 = sm.WLS(dataT9.industry, exogT9)\n",
    "results20 = modelo20.fit()"
   ]
  },
  {
   "cell_type": "markdown",
   "metadata": {},
   "source": [
    "### Regression 6 - Dependent variable: share of population employed in industry\n",
    "West of the Elbe - Weighted - French Presence 1849"
   ]
  },
  {
   "cell_type": "code",
   "execution_count": 127,
   "metadata": {},
   "outputs": [],
   "source": [
    "modelo21 = sm.WLS(dataT2.industry, exogT2, weights=dataT2.pop1849)\n",
    "results21 = modelo21.fit()"
   ]
  },
  {
   "cell_type": "markdown",
   "metadata": {},
   "source": [
    "West of the Elbe - Weighted - French Presence 1882"
   ]
  },
  {
   "cell_type": "code",
   "execution_count": 128,
   "metadata": {},
   "outputs": [],
   "source": [
    "modelo22 = sm.WLS(dataT3.industry, exogT3, weights=dataT3.pop1849)\n",
    "results22 = modelo22.fit()"
   ]
  },
  {
   "cell_type": "markdown",
   "metadata": {},
   "source": [
    "West of the Elbe - Weighted - French Presence 1895"
   ]
  },
  {
   "cell_type": "code",
   "execution_count": 129,
   "metadata": {},
   "outputs": [],
   "source": [
    "modelo23 = sm.WLS(dataT4.industry, exogT4, weights=dataT4.pop1849)\n",
    "results23 = modelo23.fit()"
   ]
  },
  {
   "cell_type": "markdown",
   "metadata": {},
   "source": [
    "West of the Elbe - Weighted - French Presence 1907"
   ]
  },
  {
   "cell_type": "code",
   "execution_count": 130,
   "metadata": {},
   "outputs": [],
   "source": [
    "modelo24 = sm.WLS(dataT5.industry, exogT5, weights=dataT5.pop1849)\n",
    "results24 = modelo24.fit()"
   ]
  },
  {
   "cell_type": "code",
   "execution_count": 131,
   "metadata": {},
   "outputs": [],
   "source": [
    "pystout(models=[results1,results5,results9,results13,results17,results21],\n",
    "        file='tabla51.tex',\n",
    "        addnotes=['*$p < 0.1$ , ** $p < 0.05$ , *** $p < 0.01$',\n",
    "                  'Standar errors in parentheses.'],\n",
    "        digits=3,\n",
    "        endog_names=['Weighted','Unweighted','Weighted','Weighted','Unweighted','Weighted'],\n",
    "        varlabels={'const':'Constant','displacement':'Disp','mpg':'MPG'},\n",
    "        \n",
    "        mgroups={'West of the Elbe':[1,2,3],'All':[4,5]},\n",
    "        modstat={'nobs':'Obs','rsquared':'R\\sym{2}','fvalue':'F-stat'},\n",
    "        stars={.1:'*',.05:'**',.01:'***'}\n",
    "        )"
   ]
  },
  {
   "cell_type": "code",
   "execution_count": 132,
   "metadata": {},
   "outputs": [],
   "source": [
    "pystout(models=[results2,results6,results10,results14,results18,results22],\n",
    "        file='tabla52.tex',\n",
    "        addnotes=['*$p < 0.1$ , ** $p < 0.05$ , *** $p < 0.01$',\n",
    "                  'Standar errors in parentheses.'],\n",
    "        digits=3,\n",
    "        endog_names=['Weighted','Unweighted','Weighted','Weighted','Unweighted','Weighted'],\n",
    "        varlabels={'const':'Constant','displacement':'Disp','mpg':'MPG'},\n",
    "        \n",
    "        mgroups={'West of the Elbe':[1,2,3],'All':[4,5]},\n",
    "        modstat={'nobs':'Obs','rsquared':'R\\sym{2}','fvalue':'F-stat'},\n",
    "        stars={.1:'*',.05:'**',.01:'***'}\n",
    "        )"
   ]
  },
  {
   "cell_type": "code",
   "execution_count": 133,
   "metadata": {},
   "outputs": [],
   "source": [
    "pystout(models=[results3,results7,results11,results15,results19,results23],\n",
    "        file='tabla53.tex',\n",
    "        addnotes=['*$p < 0.1$ , ** $p < 0.05$ , *** $p < 0.01$',\n",
    "                  'Standar errors in parentheses.'],\n",
    "        digits=3,\n",
    "        endog_names=['Weighted','Unweighted','Weighted','Weighted','Unweighted','Weighted'],\n",
    "        varlabels={'const':'Constant','displacement':'Disp','mpg':'MPG'},\n",
    "        \n",
    "        mgroups={'West of the Elbe':[1,2,3],'All':[4,5]},\n",
    "        modstat={'nobs':'Obs','rsquared':'R\\sym{2}','fvalue':'F-stat'},\n",
    "        stars={.1:'*',.05:'**',.01:'***'}\n",
    "        )"
   ]
  },
  {
   "cell_type": "code",
   "execution_count": 134,
   "metadata": {},
   "outputs": [],
   "source": [
    "pystout(models=[results4,results8,results12,results16,results20,results24],\n",
    "        file='tabla54.tex',\n",
    "        addnotes=['*$p < 0.1$ , ** $p < 0.05$ , *** $p < 0.01$',\n",
    "                  'Standar errors in parentheses.'],\n",
    "        digits=3,\n",
    "        endog_names=['Weighted','Unweighted','Weighted','Weighted','Unweighted','Weighted'],\n",
    "        varlabels={'const':'Constant','displacement':'Disp','mpg':'MPG'},\n",
    "        \n",
    "        mgroups={'West of the Elbe':[1,2,3],'All':[4,5]},\n",
    "        modstat={'nobs':'Obs','rsquared':'R\\sym{2}','fvalue':'F-stat'},\n",
    "        stars={.1:'*',.05:'**',.01:'***'}\n",
    "        )"
   ]
  },
  {
   "cell_type": "markdown",
   "metadata": {},
   "source": [
    "## Table 6 - Urbanization in Germany, Impact of Reforms."
   ]
  },
  {
   "cell_type": "markdown",
   "metadata": {},
   "source": [
    "\n",
    "`All regressions will be made for the whole sample, only west of the Elby, weighted and unweighted`\n",
    "\n",
    "`Weight: totalpop1750`\n",
    "\n",
    "#### - Regresion - Panel A. ols estimation: \n",
    "\n",
    "$ urbrate = \\beta_{0} + \\beta_{1}yearsref + \\beta_{2}yr1750 + \\beta_{3}yr1800 + \\beta_{4}yr1850 + \\beta_{5}yr1875 + \\beta_{6}yr1900 $\n",
    "\n",
    "With robust errors, and clustered.\n",
    "\n",
    "\n",
    "#### - Regresion - Panel B. first stage:\n",
    "\n",
    "$yearsref = \\beta_{0} + \\beta_{1}fpresenceXpostXtrend + \\beta_{2}yr1750 + \\beta_{3}yr1800 + \\beta_{4}yr1850 + \\beta_{5}yr1875 + \\beta_{6}yr1900 $\n",
    "        \n",
    "With robust errors, and clustered.\n",
    "\n",
    " \n",
    "####  - Regresion - Panel c. 2sls estimation :\n",
    " \n",
    "$ urbrate = \\beta_{0} + \\beta_{1}yearsref + \\beta_{2}yr1750 + \\beta_{3}yr1800 + \\beta_{4}yr1850 + \\beta_{5}yr1875 + \\beta_{6}yr1900 $\n",
    " \n",
    "Using `yearsref` as an endogenous variable and `fpresenceXpostXtrend` as the instrument. Also clustered.\n",
    "\n",
    "\n",
    "\n",
    "Where:\n",
    "\n",
    "- urbrate: urbanpop/totalpop*100\n",
    "- yearsref: Reforms Index\n",
    "- fpresenceXpostXtrend:  Interaction term: post1800*trend*fpresence\n",
    "- trend: time tendence\n",
    "- post1800: 1 if year>1800, o if not\n",
    "- totalpop1750: Total population in 1750\n"
   ]
  },
  {
   "cell_type": "markdown",
   "metadata": {},
   "source": [
    "For table 6, the authors were looking for the relationship between French occupation and reforms. The final objective is to get the effect of the reform index created before and the urbanization rate. The authors start by using a panel ols regression, then switch to first stage and finally, end with a two stages method.\n",
    "The idea of 2SLS is to show a clear relationship between reforms index and economic growth. The authors also try to get an \"overidentification tests to investigate whether we can reject the hypothesis that the effects of French occupation are working primarily or solely through the institutional reforms.\"\n",
    "\n",
    "As result, we will see that for Panel A we got estimations highly significant for all the regressions, showing evidence of the relationship wanted.\n",
    "For panel B we can see that we got very high F statistics, leading us to highly joint significance. The authors attribute this to a cancelation between 3 possible bias: timing of reform is endogenous, many of the “control” polities also underwent reforms and the extent of reform is measured with error and also because, conceptually, the reform index is only a proxy for a broader range of institutional reforms undertaken during this era.\n",
    "For panel C, the authors got results vey similar to panel A, supporting the interpretation made before. \n",
    "\n",
    "As the authors said \"(...) occupation by the French induced significant institutional reforms and that these reforms paved the way for more rapid economic development, particularly in the second half of the nineteenth century.\""
   ]
  },
  {
   "cell_type": "markdown",
   "metadata": {},
   "source": [
    "## Original"
   ]
  },
  {
   "cell_type": "markdown",
   "metadata": {},
   "source": [
    "![Imagen](img/tabla6.png)"
   ]
  },
  {
   "cell_type": "markdown",
   "metadata": {},
   "source": [
    "#### Column 1, Panels A-C: Baseline (weighted)"
   ]
  },
  {
   "cell_type": "code",
   "execution_count": 135,
   "metadata": {},
   "outputs": [
    {
     "name": "stdout",
     "output_type": "stream",
     "text": [
      "\n",
      "Fixed-effects (within) regression               Number of obs     =         74\n",
      "Group variable: id                              Number of groups  =         13\n",
      "\n",
      "R-sq:                                           Obs per group:\n",
      "     within  = 0.9052                                         min =          5\n",
      "     between = 0.0972                                         avg =        5.7\n",
      "     overall = 0.6777                                         max =          6\n",
      "\n",
      "                                                F(6,12)           =      87.55\n",
      "corr(u_i, Xb)  = -0.0363                        Prob > F          =     0.0000\n",
      "\n",
      "                                    (Std. Err. adjusted for 13 clusters in id)\n",
      "------------------------------------------------------------------------------\n",
      "             |               Robust\n",
      "     urbrate |      Coef.   Std. Err.      t    P>|t|     [95% Conf. Interval]\n",
      "-------------+----------------------------------------------------------------\n",
      "    yearsref |   .2807942   .1141716     2.46   0.030     .0320356    .5295528\n",
      "      yr1750 |   2.076572   .9698587     2.14   0.053    -.0365683    4.189713\n",
      "      yr1800 |    4.23235   .9056855     4.67   0.001     2.259031    6.205669\n",
      "      yr1850 |    .942083   3.849101     0.24   0.811    -7.444387    9.328553\n",
      "      yr1875 |   7.736152   5.271633     1.47   0.168     -3.74975    19.22205\n",
      "      yr1900 |   15.99261   7.584693     2.11   0.057    -.5330201    32.51823\n",
      "       _cons |    5.82186   1.442555     4.04   0.002     2.678803    8.964917\n",
      "-------------+----------------------------------------------------------------\n",
      "     sigma_u |  6.7943128\n",
      "     sigma_e |  4.5188013\n",
      "         rho |  .69331819   (fraction of variance due to u_i)\n",
      "------------------------------------------------------------------------------\n"
     ]
    }
   ],
   "source": [
    "%%stata -d datastata\n",
    "xtreg urbrate yearsref yr1750-yr1900 if westelbe==1 [aweight=totalpop1750], fe i(id) robust cluster(id)"
   ]
  },
  {
   "cell_type": "code",
   "execution_count": 136,
   "metadata": {},
   "outputs": [
    {
     "name": "stdout",
     "output_type": "stream",
     "text": [
      "\n",
      "(sum of wgt is     4.9111e+07)\n",
      "\n",
      "FIXED EFFECTS ESTIMATION\n",
      "------------------------\n",
      "Number of groups =        13                    Obs per group: min =         5\n",
      "                                                               avg =       5.7\n",
      "                                                               max =         6\n",
      "\n",
      "OLS estimation\n",
      "--------------\n",
      "\n",
      "Estimates efficient for homoskedasticity only\n",
      "Statistics robust to heteroskedasticity and clustering on id\n",
      "\n",
      "Number of clusters (id) =           13                Number of obs =       74\n",
      "                                                      F(  6,    12) =  1353.80\n",
      "                                                      Prob > F      =   0.0000\n",
      "Total (centered) SS     =  48892.48855                Centered R2   =   0.9723\n",
      "Total (uncentered) SS   =  48892.48855                Uncentered R2 =   0.9723\n",
      "Residual SS             =  1356.404529                Root MSE      =    4.966\n",
      "\n",
      "--------------------------------------------------------------------------------------\n",
      "                     |               Robust\n",
      "            yearsref |      Coef.   Std. Err.      t    P>|t|     [95% Conf. Interval]\n",
      "---------------------+----------------------------------------------------------------\n",
      "fpresenceXpostXtrend |   1.166205   .1065829    10.94   0.000     .9339806    1.398429\n",
      "              yr1750 |  -1.703171   1.644486    -1.04   0.321    -5.286198    1.879856\n",
      "              yr1800 |  -1.063667   1.340388    -0.79   0.443    -3.984122    1.856787\n",
      "              yr1850 |   11.67623   2.280222     5.12   0.000     6.708051     16.6444\n",
      "              yr1875 |   29.78038    2.45938    12.11   0.000     24.42186    35.13891\n",
      "              yr1900 |   50.76572   2.889345    17.57   0.000     44.47038    57.06106\n",
      "--------------------------------------------------------------------------------------\n",
      "Included instruments: fpresenceXpostXtrend yr1750 yr1800 yr1850 yr1875 yr1900\n",
      "------------------------------------------------------------------------------\n"
     ]
    }
   ],
   "source": [
    "%%stata -d datastata\n",
    "iis id\n",
    "xtivreg2 yearsref fpresenceXpostXtrend yr1750-yr1900 if urbrate~=. & westelbe==1 [aweight=totalpop1750], fe robust cluster(id) small"
   ]
  },
  {
   "cell_type": "code",
   "execution_count": 137,
   "metadata": {},
   "outputs": [
    {
     "name": "stdout",
     "output_type": "stream",
     "text": [
      "\n",
      "(sum of wgt is     4.9111e+07)\n",
      "\n",
      "FIXED EFFECTS ESTIMATION\n",
      "------------------------\n",
      "Number of groups =        13                    Obs per group: min =         5\n",
      "                                                               avg =       5.7\n",
      "                                                               max =         6\n",
      "\n",
      "First-stage regressions\n",
      "-----------------------\n",
      "\n",
      "\n",
      "FIXED EFFECTS ESTIMATION\n",
      "------------------------\n",
      "Number of groups =        13                    Obs per group: min =         5\n",
      "                                                               avg =       5.7\n",
      "                                                               max =         6\n",
      "\n",
      "First-stage regression of yearsref:\n",
      "\n",
      "Statistics robust to heteroskedasticity and clustering on id\n",
      "Number of obs =                     74\n",
      "Number of clusters (id) =           13\n",
      "--------------------------------------------------------------------------------------\n",
      "                     |               Robust\n",
      "            yearsref |      Coef.   Std. Err.      t    P>|t|     [95% Conf. Interval]\n",
      "---------------------+----------------------------------------------------------------\n",
      "fpresenceXpostXtrend |   1.166205   .1065829    10.94   0.000     .9526079    1.379802\n",
      "              yr1750 |  -1.703171   1.644486    -1.04   0.305    -4.998795    1.592452\n",
      "              yr1800 |  -1.063667   1.340388    -0.79   0.431    -3.749865     1.62253\n",
      "              yr1850 |   11.67623   2.280222     5.12   0.000     7.106561    16.24589\n",
      "              yr1875 |   29.78038    2.45938    12.11   0.000     24.85168    34.70909\n",
      "              yr1900 |   50.76572   2.889345    17.57   0.000     44.97534     56.5561\n",
      "--------------------------------------------------------------------------------------\n",
      "F test of excluded instruments:\n",
      "  F(  1,    12) =   119.72\n",
      "  Prob > F      =   0.0000\n",
      "Sanderson-Windmeijer multivariate F test of excluded instruments:\n",
      "  F(  1,    12) =   119.72\n",
      "  Prob > F      =   0.0000\n",
      "\n",
      "\n",
      "\n",
      "Summary results for first-stage regressions\n",
      "-------------------------------------------\n",
      "\n",
      "                                           (Underid)            (Weak id)\n",
      "Variable     | F(  1,    12)  P-val | SW Chi-sq(  1) P-val | SW F(  1,    12)\n",
      "yearsref     |     119.72    0.0000 |      139.24   0.0000 |      119.72\n",
      "\n",
      "NB: first-stage test statistics cluster-robust\n",
      "\n",
      "Stock-Yogo weak ID F test critical values for single endogenous regressor:\n",
      "                                   10% maximal IV size             16.38\n",
      "                                   15% maximal IV size              8.96\n",
      "                                   20% maximal IV size              6.66\n",
      "                                   25% maximal IV size              5.53\n",
      "Source: Stock-Yogo (2005).  Reproduced by permission.\n",
      "NB: Critical values are for i.i.d. errors only.\n",
      "\n",
      "Underidentification test\n",
      "Ho: matrix of reduced form coefficients has rank=K1-1 (underidentified)\n",
      "Ha: matrix has rank=K1 (identified)\n",
      "Kleibergen-Paap rk LM statistic          Chi-sq(1)=2.51     P-val=0.1132\n",
      "\n",
      "Weak identification test\n",
      "Ho: equation is weakly identified\n",
      "Cragg-Donald Wald F statistic                                     160.85\n",
      "Kleibergen-Paap Wald rk F statistic                               119.72\n",
      "\n",
      "Stock-Yogo weak ID test critical values for K1=1 and L1=1:\n",
      "                                   10% maximal IV size             16.38\n",
      "                                   15% maximal IV size              8.96\n",
      "                                   20% maximal IV size              6.66\n",
      "                                   25% maximal IV size              5.53\n",
      "Source: Stock-Yogo (2005).  Reproduced by permission.\n",
      "NB: Critical values are for Cragg-Donald F statistic and i.i.d. errors.\n",
      "\n",
      "Weak-instrument-robust inference\n",
      "Tests of joint significance of endogenous regressors B1 in main equation\n",
      "Ho: B1=0 and orthogonality conditions are valid\n",
      "Anderson-Rubin Wald test           F(1,12)=        7.32     P-val=0.0191\n",
      "Anderson-Rubin Wald test           Chi-sq(1)=      8.51     P-val=0.0035\n",
      "Stock-Wright LM S statistic        Chi-sq(1)=      9.71     P-val=0.0018\n",
      "\n",
      "NB: Underidentification, weak identification and weak-identification-robust\n",
      "    test statistics cluster-robust\n",
      "\n",
      "Number of clusters             N_clust  =         13\n",
      "Number of observations               N  =         74\n",
      "Number of regressors                 K  =          6\n",
      "Number of endogenous regressors      K1 =          1\n",
      "Number of instruments                L  =          6\n",
      "Number of excluded instruments       L1 =          1\n",
      "\n",
      "IV (2SLS) estimation\n",
      "--------------------\n",
      "\n",
      "Estimates efficient for homoskedasticity only\n",
      "Statistics robust to heteroskedasticity and clustering on id\n",
      "\n",
      "Number of clusters (id) =           13                Number of obs =       74\n",
      "                                                      F(  6,    12) =   118.27\n",
      "                                                      Prob > F      =   0.0000\n",
      "Total (centered) SS     =  11852.19954                Centered R2   =   0.9052\n",
      "Total (uncentered) SS   =  11852.19954                Uncentered R2 =   0.9052\n",
      "Residual SS             =  1123.583646                Root MSE      =    4.292\n",
      "\n",
      "------------------------------------------------------------------------------\n",
      "             |               Robust\n",
      "     urbrate |      Coef.   Std. Err.      z    P>|z|     [95% Conf. Interval]\n",
      "-------------+----------------------------------------------------------------\n",
      "    yearsref |   .2905586   .1019563     2.85   0.004      .090728    .4903893\n",
      "      yr1750 |   2.129495   .9610004     2.22   0.027     .2459694    4.013022\n",
      "      yr1800 |   4.279029    .890873     4.80   0.000      2.53295    6.025108\n",
      "      yr1850 |   .7510049   3.525716     0.21   0.831    -6.159271    7.661281\n",
      "      yr1875 |   7.366766   5.088728     1.45   0.148    -2.606959    17.34049\n",
      "      yr1900 |   15.41678   7.275582     2.12   0.034     1.156899    29.67666\n",
      "------------------------------------------------------------------------------\n",
      "Underidentification test (Kleibergen-Paap rk LM statistic):              2.509\n",
      "                                                   Chi-sq(1) P-val =    0.1132\n",
      "------------------------------------------------------------------------------\n",
      "Weak identification test (Cragg-Donald Wald F statistic):              160.854\n",
      "                         (Kleibergen-Paap rk Wald F statistic):        119.722\n",
      "Stock-Yogo weak ID test critical values: 10% maximal IV size             16.38\n",
      "                                         15% maximal IV size              8.96\n",
      "                                         20% maximal IV size              6.66\n",
      "                                         25% maximal IV size              5.53\n",
      "Source: Stock-Yogo (2005).  Reproduced by permission.\n",
      "NB: Critical values are for Cragg-Donald F statistic and i.i.d. errors.\n",
      "------------------------------------------------------------------------------\n",
      "Hansen J statistic (overidentification test of all instruments):         0.000\n",
      "                                                 (equation exactly identified)\n",
      "------------------------------------------------------------------------------\n",
      "Instrumented:         yearsref\n",
      "Included instruments: yr1750 yr1800 yr1850 yr1875 yr1900\n",
      "Excluded instruments: fpresenceXpostXtrend\n",
      "------------------------------------------------------------------------------\n"
     ]
    }
   ],
   "source": [
    "%%stata -d datastata\n",
    "iis id\n",
    "xtivreg2 urbrate (yearsref= fpresenceXpostXtrend) yr1750-yr1900 if westelbe==1 [aweight=totalpop1750], fe robust cluster(id) first"
   ]
  },
  {
   "cell_type": "markdown",
   "metadata": {},
   "source": [
    "#### *** Column 2, Panels A-C: overid"
   ]
  },
  {
   "cell_type": "code",
   "execution_count": 138,
   "metadata": {},
   "outputs": [
    {
     "name": "stdout",
     "output_type": "stream",
     "text": [
      "\n",
      "Fixed-effects (within) regression               Number of obs     =         74\n",
      "Group variable: id                              Number of groups  =         13\n",
      "\n",
      "R-sq:                                           Obs per group:\n",
      "     within  = 0.9052                                         min =          5\n",
      "     between = 0.0972                                         avg =        5.7\n",
      "     overall = 0.6777                                         max =          6\n",
      "\n",
      "                                                F(6,12)           =      87.55\n",
      "corr(u_i, Xb)  = -0.0363                        Prob > F          =     0.0000\n",
      "\n",
      "                                    (Std. Err. adjusted for 13 clusters in id)\n",
      "------------------------------------------------------------------------------\n",
      "             |               Robust\n",
      "     urbrate |      Coef.   Std. Err.      t    P>|t|     [95% Conf. Interval]\n",
      "-------------+----------------------------------------------------------------\n",
      "    yearsref |   .2807942   .1141716     2.46   0.030     .0320356    .5295528\n",
      "      yr1750 |   2.076572   .9698587     2.14   0.053    -.0365683    4.189713\n",
      "      yr1800 |    4.23235   .9056855     4.67   0.001     2.259031    6.205669\n",
      "      yr1850 |    .942083   3.849101     0.24   0.811    -7.444387    9.328553\n",
      "      yr1875 |   7.736152   5.271633     1.47   0.168     -3.74975    19.22205\n",
      "      yr1900 |   15.99261   7.584693     2.11   0.057    -.5330201    32.51823\n",
      "       _cons |    5.82186   1.442555     4.04   0.002     2.678803    8.964917\n",
      "-------------+----------------------------------------------------------------\n",
      "     sigma_u |  6.7943128\n",
      "     sigma_e |  4.5188013\n",
      "         rho |  .69331819   (fraction of variance due to u_i)\n",
      "------------------------------------------------------------------------------\n"
     ]
    }
   ],
   "source": [
    "%%stata -d datastata\n",
    "xtreg urbrate yearsref yr1750-yr1900 if westelbe==1 [aweight=totalpop1750], fe i(id) robust cluster(id)"
   ]
  },
  {
   "cell_type": "code",
   "execution_count": 139,
   "metadata": {},
   "outputs": [
    {
     "name": "stdout",
     "output_type": "stream",
     "text": [
      "\n",
      "(sum of wgt is     4.9111e+07)\n",
      "\n",
      "FIXED EFFECTS ESTIMATION\n",
      "------------------------\n",
      "Number of groups =        13                    Obs per group: min =         5\n",
      "                                                               avg =       5.7\n",
      "                                                               max =         6\n",
      "\n",
      "IV (2SLS) estimation\n",
      "--------------------\n",
      "\n",
      "Estimates efficient for homoskedasticity only\n",
      "Statistics robust to heteroskedasticity and clustering on id\n",
      "\n",
      "Number of clusters (id) =           13                Number of obs =       74\n",
      "                                                      F(  6,    12) =   128.80\n",
      "                                                      Prob > F      =   0.0000\n",
      "Total (centered) SS     =  11852.19954                Centered R2   =   0.9045\n",
      "Total (uncentered) SS   =  11852.19954                Uncentered R2 =   0.9045\n",
      "Residual SS             =  1131.663552                Root MSE      =    4.307\n",
      "\n",
      "------------------------------------------------------------------------------\n",
      "             |               Robust\n",
      "     urbrate |      Coef.   Std. Err.      z    P>|z|     [95% Conf. Interval]\n",
      "-------------+----------------------------------------------------------------\n",
      "    yearsref |   .3209584   .1115506     2.88   0.004     .1023234    .5395935\n",
      "      yr1750 |   2.294263   .9720945     2.36   0.018     .3889925    4.199533\n",
      "      yr1800 |   4.424355   .9659722     4.58   0.000     2.531085    6.317626\n",
      "      yr1850 |   .1561169   3.738637     0.04   0.967    -7.171478    7.483711\n",
      "      yr1875 |   6.216746   5.446577     1.14   0.254    -4.458348    16.89184\n",
      "      yr1900 |   13.62404    7.80516     1.75   0.081    -1.673794    28.92187\n",
      "------------------------------------------------------------------------------\n",
      "Underidentification test (Kleibergen-Paap rk LM statistic):              3.449\n",
      "                                                   Chi-sq(3) P-val =    0.3274\n",
      "------------------------------------------------------------------------------\n",
      "Weak identification test (Cragg-Donald Wald F statistic):               58.520\n",
      "                         (Kleibergen-Paap rk Wald F statistic):         42.051\n",
      "Stock-Yogo weak ID test critical values:  5% maximal IV relative bias    13.91\n",
      "                                         10% maximal IV relative bias     9.08\n",
      "                                         20% maximal IV relative bias     6.46\n",
      "                                         30% maximal IV relative bias     5.39\n",
      "                                         10% maximal IV size             22.30\n",
      "                                         15% maximal IV size             12.83\n",
      "                                         20% maximal IV size              9.54\n",
      "                                         25% maximal IV size              7.80\n",
      "Source: Stock-Yogo (2005).  Reproduced by permission.\n",
      "NB: Critical values are for Cragg-Donald F statistic and i.i.d. errors.\n",
      "------------------------------------------------------------------------------\n",
      "Hansen J statistic (overidentification test of all instruments):         2.410\n",
      "                                                   Chi-sq(2) P-val =    0.2996\n",
      "------------------------------------------------------------------------------\n",
      "Instrumented:         yearsref\n",
      "Included instruments: yr1750 yr1800 yr1850 yr1875 yr1900\n",
      "Excluded instruments: fpresence1850 fpresence1875 fpresence1900\n",
      "------------------------------------------------------------------------------\n"
     ]
    }
   ],
   "source": [
    "%%stata -d datastata\n",
    "iis id\n",
    "xtivreg2 urbrate (yearsref= fpresence1850 fpresence1875 fpresence1900) yr1750-yr1900 if westelbe==1 [aweight=totalpop1750], fe robust cluster(id) "
   ]
  },
  {
   "cell_type": "code",
   "execution_count": 140,
   "metadata": {},
   "outputs": [
    {
     "name": "stdout",
     "output_type": "stream",
     "text": [
      "\n",
      "(sum of wgt is     4.9111e+07)\n",
      "\n",
      "FIXED EFFECTS ESTIMATION\n",
      "------------------------\n",
      "Number of groups =        13                    Obs per group: min =         5\n",
      "                                                               avg =       5.7\n",
      "                                                               max =         6\n",
      "\n",
      "First-stage regressions\n",
      "-----------------------\n",
      "\n",
      "\n",
      "FIXED EFFECTS ESTIMATION\n",
      "------------------------\n",
      "Number of groups =        13                    Obs per group: min =         5\n",
      "                                                               avg =       5.7\n",
      "                                                               max =         6\n",
      "\n",
      "First-stage regression of yearsref:\n",
      "\n",
      "Statistics robust to heteroskedasticity\n",
      "Number of obs =                     74\n",
      "-------------------------------------------------------------------------------\n",
      "              |               Robust\n",
      "     yearsref |      Coef.   Std. Err.      t    P>|t|     [95% Conf. Interval]\n",
      "--------------+----------------------------------------------------------------\n",
      "fpresence1850 |   1.813004   .1276642    14.20   0.000     1.556942    2.069066\n",
      "fpresence1875 |   2.262536   .1357778    16.66   0.000       1.9902    2.534872\n",
      "fpresence1900 |   2.465644   .1884806    13.08   0.000     2.087599    2.843688\n",
      "       yr1750 |  -1.713777   1.978177    -0.87   0.390    -5.681497    2.253943\n",
      "       yr1800 |  -1.074273   1.766927    -0.61   0.546     -4.61828    2.469734\n",
      "       yr1850 |   13.51925   1.832284     7.38   0.000      9.84415    17.19434\n",
      "       yr1875 |   29.36135   2.034261    14.43   0.000     25.28114    33.44156\n",
      "       yr1900 |   49.41064   2.603681    18.98   0.000     44.18832    54.63296\n",
      "-------------------------------------------------------------------------------\n",
      "F test of excluded instruments:\n",
      "  F(  3,    53) =   121.62\n",
      "  Prob > F      =   0.0000\n",
      "Sanderson-Windmeijer multivariate F test of excluded instruments:\n",
      "  F(  3,    53) =   121.62\n",
      "  Prob > F      =   0.0000\n",
      "\n",
      "\n",
      "\n",
      "Summary results for first-stage regressions\n",
      "-------------------------------------------\n",
      "\n",
      "                                           (Underid)            (Weak id)\n",
      "Variable     | F(  3,    53)  P-val | SW Chi-sq(  3) P-val | SW F(  3,    53)\n",
      "yearsref     |     121.62    0.0000 |      419.92   0.0000 |      121.62\n",
      "\n",
      "NB: first-stage test statistics heteroskedasticity-robust\n",
      "\n",
      "Stock-Yogo weak ID F test critical values for single endogenous regressor:\n",
      "                                    5% maximal IV relative bias    13.91\n",
      "                                   10% maximal IV relative bias     9.08\n",
      "                                   20% maximal IV relative bias     6.46\n",
      "                                   30% maximal IV relative bias     5.39\n",
      "                                   10% maximal IV size             22.30\n",
      "                                   15% maximal IV size             12.83\n",
      "                                   20% maximal IV size              9.54\n",
      "                                   25% maximal IV size              7.80\n",
      "Source: Stock-Yogo (2005).  Reproduced by permission.\n",
      "NB: Critical values are for i.i.d. errors only.\n",
      "\n",
      "Underidentification test\n",
      "Ho: matrix of reduced form coefficients has rank=K1-1 (underidentified)\n",
      "Ha: matrix has rank=K1 (identified)\n",
      "Kleibergen-Paap rk LM statistic          Chi-sq(3)=8.82     P-val=0.0318\n",
      "\n",
      "Weak identification test\n",
      "Ho: equation is weakly identified\n",
      "Cragg-Donald Wald F statistic                                      58.52\n",
      "Kleibergen-Paap Wald rk F statistic                               121.62\n",
      "\n",
      "Stock-Yogo weak ID test critical values for K1=1 and L1=3:\n",
      "                                    5% maximal IV relative bias    13.91\n",
      "                                   10% maximal IV relative bias     9.08\n",
      "                                   20% maximal IV relative bias     6.46\n",
      "                                   30% maximal IV relative bias     5.39\n",
      "                                   10% maximal IV size             22.30\n",
      "                                   15% maximal IV size             12.83\n",
      "                                   20% maximal IV size              9.54\n",
      "                                   25% maximal IV size              7.80\n",
      "Source: Stock-Yogo (2005).  Reproduced by permission.\n",
      "NB: Critical values are for Cragg-Donald F statistic and i.i.d. errors.\n",
      "\n",
      "Weak-instrument-robust inference\n",
      "Tests of joint significance of endogenous regressors B1 in main equation\n",
      "Ho: B1=0 and orthogonality conditions are valid\n",
      "Anderson-Rubin Wald test           F(3,53)=        7.89     P-val=0.0002\n",
      "Anderson-Rubin Wald test           Chi-sq(3)=     27.25     P-val=0.0000\n",
      "Stock-Wright LM S statistic        Chi-sq(3)=      9.12     P-val=0.0278\n",
      "\n",
      "NB: Underidentification, weak identification and weak-identification-robust\n",
      "    test statistics heteroskedasticity-robust\n",
      "\n",
      "Number of observations               N  =         74\n",
      "Number of regressors                 K  =          6\n",
      "Number of endogenous regressors      K1 =          1\n",
      "Number of instruments                L  =          8\n",
      "Number of excluded instruments       L1 =          3\n",
      "\n",
      "IV (2SLS) estimation\n",
      "--------------------\n",
      "\n",
      "Estimates efficient for homoskedasticity only\n",
      "Statistics robust to heteroskedasticity\n",
      "\n",
      "                                                      Number of obs =       74\n",
      "                                                      F(  6,    55) =    57.06\n",
      "                                                      Prob > F      =   0.0000\n",
      "Total (centered) SS     =  11852.19954                Centered R2   =   0.9045\n",
      "Total (uncentered) SS   =  11852.19954                Uncentered R2 =   0.9045\n",
      "Residual SS             =  1131.663552                Root MSE      =    4.307\n",
      "\n",
      "------------------------------------------------------------------------------\n",
      "             |               Robust\n",
      "     urbrate |      Coef.   Std. Err.      z    P>|z|     [95% Conf. Interval]\n",
      "-------------+----------------------------------------------------------------\n",
      "    yearsref |   .3209584   .0818112     3.92   0.000     .1606115    .4813054\n",
      "      yr1750 |   2.294263   1.763345     1.30   0.193    -1.161829    5.750355\n",
      "      yr1800 |   4.424355   1.884663     2.35   0.019     .7304837    8.118227\n",
      "      yr1850 |   .1561169   2.466629     0.06   0.950    -4.678387     4.99062\n",
      "      yr1875 |   6.216746   3.855769     1.61   0.107    -1.340423    13.77391\n",
      "      yr1900 |   13.62404   5.398603     2.52   0.012     3.042972    24.20511\n",
      "------------------------------------------------------------------------------\n",
      "Underidentification test (Kleibergen-Paap rk LM statistic):              8.818\n",
      "                                                   Chi-sq(3) P-val =    0.0318\n",
      "------------------------------------------------------------------------------\n",
      "Weak identification test (Cragg-Donald Wald F statistic):               58.520\n",
      "                         (Kleibergen-Paap rk Wald F statistic):        121.616\n",
      "Stock-Yogo weak ID test critical values:  5% maximal IV relative bias    13.91\n",
      "                                         10% maximal IV relative bias     9.08\n",
      "                                         20% maximal IV relative bias     6.46\n",
      "                                         30% maximal IV relative bias     5.39\n",
      "                                         10% maximal IV size             22.30\n",
      "                                         15% maximal IV size             12.83\n",
      "                                         20% maximal IV size              9.54\n",
      "                                         25% maximal IV size              7.80\n",
      "Source: Stock-Yogo (2005).  Reproduced by permission.\n",
      "NB: Critical values are for Cragg-Donald F statistic and i.i.d. errors.\n",
      "------------------------------------------------------------------------------\n",
      "Hansen J statistic (overidentification test of all instruments):         2.228\n",
      "                                                   Chi-sq(2) P-val =    0.3283\n",
      "------------------------------------------------------------------------------\n",
      "Instrumented:         yearsref\n",
      "Included instruments: yr1750 yr1800 yr1850 yr1875 yr1900\n",
      "Excluded instruments: fpresence1850 fpresence1875 fpresence1900\n",
      "------------------------------------------------------------------------------\n"
     ]
    }
   ],
   "source": [
    "%%stata -d datastata\n",
    "iis id\n",
    "xtivreg2 urbrate (yearsref= fpresence1850 fpresence1875 fpresence1900) yr1750-yr1900 if westelbe==1 [aweight=totalpop1750], fe robust first"
   ]
  },
  {
   "cell_type": "markdown",
   "metadata": {},
   "source": [
    "#### Column 3, Panels A-C: unweighted"
   ]
  },
  {
   "cell_type": "code",
   "execution_count": 141,
   "metadata": {},
   "outputs": [
    {
     "name": "stdout",
     "output_type": "stream",
     "text": [
      "\n",
      "Fixed-effects (within) regression               Number of obs     =        114\n",
      "Group variable: id                              Number of groups  =         13\n",
      "\n",
      "R-sq:                                           Obs per group:\n",
      "     within  = 0.8521                                         min =          5\n",
      "     between = 0.3137                                         avg =        8.8\n",
      "     overall = 0.6221                                         max =         11\n",
      "\n",
      "                                                F(6,12)           =      65.62\n",
      "corr(u_i, Xb)  = -0.1912                        Prob > F          =     0.0000\n",
      "\n",
      "                                    (Std. Err. adjusted for 13 clusters in id)\n",
      "------------------------------------------------------------------------------\n",
      "             |               Robust\n",
      "     urbrate |      Coef.   Std. Err.      t    P>|t|     [95% Conf. Interval]\n",
      "-------------+----------------------------------------------------------------\n",
      "    yearsref |   .4539986    .065208     6.96   0.000     .3119225    .5960747\n",
      "      yr1750 |   1.141303   1.670109     0.68   0.507    -2.497552    4.780157\n",
      "      yr1800 |   3.403391   2.017788     1.69   0.117    -.9929905    7.799773\n",
      "      yr1850 |  -4.531057   1.280888    -3.54   0.004    -7.321872   -1.740242\n",
      "      yr1875 |  -1.580962     1.1748    -1.35   0.203    -4.140632    .9787077\n",
      "      yr1900 |   3.710249   2.504616     1.48   0.164    -1.746841    9.167339\n",
      "       _cons |   6.861749   2.892304     2.37   0.035     .5599597    13.16354\n",
      "-------------+----------------------------------------------------------------\n",
      "     sigma_u |  8.8393293\n",
      "     sigma_e |  5.7697559\n",
      "         rho |  .70123012   (fraction of variance due to u_i)\n",
      "------------------------------------------------------------------------------\n"
     ]
    }
   ],
   "source": [
    "%%stata -d datastata\n",
    "iis id\n",
    "xtreg urbrate yearsref yr1750-yr1900 if westelbe==1, fe i(id) robust cluster(id)"
   ]
  },
  {
   "cell_type": "code",
   "execution_count": 142,
   "metadata": {},
   "outputs": [
    {
     "name": "stdout",
     "output_type": "stream",
     "text": [
      "\n",
      "FIXED EFFECTS ESTIMATION\n",
      "------------------------\n",
      "Number of groups =        13                    Obs per group: min =         5\n",
      "                                                               avg =       8.8\n",
      "                                                               max =        11\n",
      "\n",
      "OLS estimation\n",
      "--------------\n",
      "\n",
      "Estimates efficient for homoskedasticity only\n",
      "Statistics robust to heteroskedasticity and clustering on id\n",
      "\n",
      "Number of clusters (id) =           13                Number of obs =      114\n",
      "                                                      F(  6,    12) =   399.54\n",
      "                                                      Prob > F      =   0.0000\n",
      "Total (centered) SS     =  86326.67008                Centered R2   =   0.7793\n",
      "Total (uncentered) SS   =  86326.67008                Uncentered R2 =   0.7793\n",
      "Residual SS             =  19054.14728                Root MSE      =    14.16\n",
      "\n",
      "--------------------------------------------------------------------------------------\n",
      "                     |               Robust\n",
      "            yearsref |      Coef.   Std. Err.      t    P>|t|     [95% Conf. Interval]\n",
      "---------------------+----------------------------------------------------------------\n",
      "fpresenceXpostXtrend |   1.950517   .2426471     8.04   0.000     1.421834    2.479199\n",
      "              yr1750 |  -31.11775   6.704085    -4.64   0.001    -45.72469    -16.5108\n",
      "              yr1800 |  -30.52159   6.427646    -4.75   0.000    -44.52623   -16.51695\n",
      "              yr1850 |  -25.82547   3.997449    -6.46   0.000    -34.53516   -17.11577\n",
      "              yr1875 |  -8.053325   3.291198    -2.45   0.031    -15.22423   -.8824213\n",
      "              yr1900 |   12.35343   2.839689     4.35   0.001     6.166281    18.54058\n",
      "--------------------------------------------------------------------------------------\n",
      "Included instruments: fpresenceXpostXtrend yr1750 yr1800 yr1850 yr1875 yr1900\n",
      "------------------------------------------------------------------------------\n"
     ]
    }
   ],
   "source": [
    "%%stata -d datastata\n",
    "iis id\n",
    "xtivreg2 yearsref fpresenceXpostXtrend yr1750-yr1900 if urbrate~=. & westelbe==1, fe robust cluster(id) small"
   ]
  },
  {
   "cell_type": "code",
   "execution_count": 143,
   "metadata": {},
   "outputs": [
    {
     "name": "stdout",
     "output_type": "stream",
     "text": [
      "\n",
      "FIXED EFFECTS ESTIMATION\n",
      "------------------------\n",
      "Number of groups =        13                    Obs per group: min =         5\n",
      "                                                               avg =       8.8\n",
      "                                                               max =        11\n",
      "\n",
      "First-stage regressions\n",
      "-----------------------\n",
      "\n",
      "\n",
      "FIXED EFFECTS ESTIMATION\n",
      "------------------------\n",
      "Number of groups =        13                    Obs per group: min =         5\n",
      "                                                               avg =       8.8\n",
      "                                                               max =        11\n",
      "\n",
      "First-stage regression of yearsref:\n",
      "\n",
      "Statistics robust to heteroskedasticity and clustering on id\n",
      "Number of obs =                    114\n",
      "Number of clusters (id) =           13\n",
      "--------------------------------------------------------------------------------------\n",
      "                     |               Robust\n",
      "            yearsref |      Coef.   Std. Err.      t    P>|t|     [95% Conf. Interval]\n",
      "---------------------+----------------------------------------------------------------\n",
      "fpresenceXpostXtrend |   1.950517   .2426471     8.04   0.000     1.468801    2.432232\n",
      "              yr1750 |  -31.11775   6.704085    -4.64   0.000    -44.42704   -17.80845\n",
      "              yr1800 |  -30.52159   6.427646    -4.75   0.000    -43.28208    -17.7611\n",
      "              yr1850 |  -25.82547   3.997449    -6.46   0.000    -33.76141   -17.88953\n",
      "              yr1875 |  -8.053325   3.291198    -2.45   0.016    -14.58718   -1.519472\n",
      "              yr1900 |   12.35343   2.839689     4.35   0.000     6.715936    17.99093\n",
      "--------------------------------------------------------------------------------------\n",
      "F test of excluded instruments:\n",
      "  F(  1,    12) =    64.62\n",
      "  Prob > F      =   0.0000\n",
      "Sanderson-Windmeijer multivariate F test of excluded instruments:\n",
      "  F(  1,    12) =    64.62\n",
      "  Prob > F      =   0.0000\n",
      "\n",
      "\n",
      "\n",
      "Summary results for first-stage regressions\n",
      "-------------------------------------------\n",
      "\n",
      "                                           (Underid)            (Weak id)\n",
      "Variable     | F(  1,    12)  P-val | SW Chi-sq(  1) P-val | SW F(  1,    12)\n",
      "yearsref     |      64.62    0.0000 |       73.24   0.0000 |       64.62\n",
      "\n",
      "NB: first-stage test statistics cluster-robust\n",
      "\n",
      "Stock-Yogo weak ID F test critical values for single endogenous regressor:\n",
      "                                   10% maximal IV size             16.38\n",
      "                                   15% maximal IV size              8.96\n",
      "                                   20% maximal IV size              6.66\n",
      "                                   25% maximal IV size              5.53\n",
      "Source: Stock-Yogo (2005).  Reproduced by permission.\n",
      "NB: Critical values are for i.i.d. errors only.\n",
      "\n",
      "Underidentification test\n",
      "Ho: matrix of reduced form coefficients has rank=K1-1 (underidentified)\n",
      "Ha: matrix has rank=K1 (identified)\n",
      "Kleibergen-Paap rk LM statistic          Chi-sq(1)=3.20     P-val=0.0736\n",
      "\n",
      "Weak identification test\n",
      "Ho: equation is weakly identified\n",
      "Cragg-Donald Wald F statistic                                      77.90\n",
      "Kleibergen-Paap Wald rk F statistic                                64.62\n",
      "\n",
      "Stock-Yogo weak ID test critical values for K1=1 and L1=1:\n",
      "                                   10% maximal IV size             16.38\n",
      "                                   15% maximal IV size              8.96\n",
      "                                   20% maximal IV size              6.66\n",
      "                                   25% maximal IV size              5.53\n",
      "Source: Stock-Yogo (2005).  Reproduced by permission.\n",
      "NB: Critical values are for Cragg-Donald F statistic and i.i.d. errors.\n",
      "\n",
      "Weak-instrument-robust inference\n",
      "Tests of joint significance of endogenous regressors B1 in main equation\n",
      "Ho: B1=0 and orthogonality conditions are valid\n",
      "Anderson-Rubin Wald test           F(1,12)=       18.69     P-val=0.0010\n",
      "Anderson-Rubin Wald test           Chi-sq(1)=     21.18     P-val=0.0000\n",
      "Stock-Wright LM S statistic        Chi-sq(1)=      7.51     P-val=0.0061\n",
      "\n",
      "NB: Underidentification, weak identification and weak-identification-robust\n",
      "    test statistics cluster-robust\n",
      "\n",
      "Number of clusters             N_clust  =         13\n",
      "Number of observations               N  =        114\n",
      "Number of regressors                 K  =          6\n",
      "Number of endogenous regressors      K1 =          1\n",
      "Number of instruments                L  =          6\n",
      "Number of excluded instruments       L1 =          1\n",
      "\n",
      "IV (2SLS) estimation\n",
      "--------------------\n",
      "\n",
      "Estimates efficient for homoskedasticity only\n",
      "Statistics robust to heteroskedasticity and clustering on id\n",
      "\n",
      "Number of clusters (id) =           13                Number of obs =      114\n",
      "                                                      F(  6,    12) =    65.33\n",
      "                                                      Prob > F      =   0.0000\n",
      "Total (centered) SS     =  21385.88653                Centered R2   =   0.8331\n",
      "Total (uncentered) SS   =  21385.88653                Uncentered R2 =   0.8331\n",
      "Residual SS             =  3569.232749                Root MSE      =    5.945\n",
      "\n",
      "------------------------------------------------------------------------------\n",
      "             |               Robust\n",
      "     urbrate |      Coef.   Std. Err.      z    P>|z|     [95% Conf. Interval]\n",
      "-------------+----------------------------------------------------------------\n",
      "    yearsref |   .3457088   .0785875     4.40   0.000     .1916802    .4997374\n",
      "      yr1750 |  -4.143895   3.588691    -1.15   0.248     -11.1776    2.889811\n",
      "      yr1800 |  -1.817249   3.898045    -0.47   0.641    -9.457276    5.822778\n",
      "      yr1850 |  -7.109011   1.977538    -3.59   0.000    -10.98491   -3.233106\n",
      "      yr1875 |  -2.205535   1.391247    -1.59   0.113    -4.932329    .5212586\n",
      "      yr1900 |   5.324358   2.638821     2.02   0.044     .1523636    10.49635\n",
      "------------------------------------------------------------------------------\n",
      "Underidentification test (Kleibergen-Paap rk LM statistic):              3.201\n",
      "                                                   Chi-sq(1) P-val =    0.0736\n",
      "------------------------------------------------------------------------------\n",
      "Weak identification test (Cragg-Donald Wald F statistic):               77.905\n",
      "                         (Kleibergen-Paap rk Wald F statistic):         64.617\n",
      "Stock-Yogo weak ID test critical values: 10% maximal IV size             16.38\n",
      "                                         15% maximal IV size              8.96\n",
      "                                         20% maximal IV size              6.66\n",
      "                                         25% maximal IV size              5.53\n",
      "Source: Stock-Yogo (2005).  Reproduced by permission.\n",
      "NB: Critical values are for Cragg-Donald F statistic and i.i.d. errors.\n",
      "------------------------------------------------------------------------------\n",
      "Hansen J statistic (overidentification test of all instruments):         0.000\n",
      "                                                 (equation exactly identified)\n",
      "------------------------------------------------------------------------------\n",
      "Instrumented:         yearsref\n",
      "Included instruments: yr1750 yr1800 yr1850 yr1875 yr1900\n",
      "Excluded instruments: fpresenceXpostXtrend\n",
      "------------------------------------------------------------------------------\n"
     ]
    }
   ],
   "source": [
    "%%stata -d datastata\n",
    "iis id\n",
    "xtivreg2 urbrate (yearsref= fpresenceXpostXtrend) yr1750-yr1900 if westelbe==1, fe robust cluster(id) first"
   ]
  },
  {
   "cell_type": "markdown",
   "metadata": {},
   "source": [
    "#### Column 4, Panels A-C: East and West of Elbe"
   ]
  },
  {
   "cell_type": "code",
   "execution_count": 144,
   "metadata": {},
   "outputs": [
    {
     "name": "stdout",
     "output_type": "stream",
     "text": [
      "\n",
      "Fixed-effects (within) regression               Number of obs     =        109\n",
      "Group variable: id                              Number of groups  =         19\n",
      "\n",
      "R-sq:                                           Obs per group:\n",
      "     within  = 0.8885                                         min =          5\n",
      "     between = 0.0670                                         avg =        5.7\n",
      "     overall = 0.6501                                         max =          6\n",
      "\n",
      "                                                F(6,18)           =      47.86\n",
      "corr(u_i, Xb)  = -0.0247                        Prob > F          =     0.0000\n",
      "\n",
      "                                    (Std. Err. adjusted for 19 clusters in id)\n",
      "------------------------------------------------------------------------------\n",
      "             |               Robust\n",
      "     urbrate |      Coef.   Std. Err.      t    P>|t|     [95% Conf. Interval]\n",
      "-------------+----------------------------------------------------------------\n",
      "    yearsref |   .2677559   .1101508     2.43   0.026     .0363376    .4991743\n",
      "      yr1750 |   2.149628   .8042726     2.67   0.016     .4599143    3.839342\n",
      "      yr1800 |   4.247378   .8397255     5.06   0.000      2.48318    6.011576\n",
      "      yr1850 |   1.509911   3.436652     0.44   0.666    -5.710226    8.730049\n",
      "      yr1875 |     8.5449   4.828105     1.77   0.094    -1.598573    18.68837\n",
      "      yr1900 |   16.84007   6.951829     2.42   0.026     2.234819    31.44532\n",
      "       _cons |   6.516384   1.347916     4.83   0.000     3.684517     9.34825\n",
      "-------------+----------------------------------------------------------------\n",
      "     sigma_u |  7.0864702\n",
      "     sigma_e |  4.8200941\n",
      "         rho |  .68369129   (fraction of variance due to u_i)\n",
      "------------------------------------------------------------------------------\n"
     ]
    }
   ],
   "source": [
    "%%stata -d datastata\n",
    "iis id\n",
    "xtreg urbrate yearsref yr1750-yr1900 [aweight=totalpop1750], fe i(id) robust cluster(id)"
   ]
  },
  {
   "cell_type": "code",
   "execution_count": 145,
   "metadata": {},
   "outputs": [
    {
     "name": "stdout",
     "output_type": "stream",
     "text": [
      "\n",
      "(sum of wgt is     6.9080e+07)\n",
      "\n",
      "FIXED EFFECTS ESTIMATION\n",
      "------------------------\n",
      "Number of groups =        19                    Obs per group: min =         5\n",
      "                                                               avg =       5.7\n",
      "                                                               max =         6\n",
      "\n",
      "OLS estimation\n",
      "--------------\n",
      "\n",
      "Estimates efficient for homoskedasticity only\n",
      "Statistics robust to heteroskedasticity and clustering on id\n",
      "\n",
      "Number of clusters (id) =           19                Number of obs =      109\n",
      "                                                      F(  6,    18) =   570.42\n",
      "                                                      Prob > F      =   0.0000\n",
      "Total (centered) SS     =  69552.67664                Centered R2   =   0.9659\n",
      "Total (uncentered) SS   =  69552.67664                Uncentered R2 =   0.9659\n",
      "Residual SS             =   2371.98065                Root MSE      =    5.314\n",
      "\n",
      "--------------------------------------------------------------------------------------\n",
      "                     |               Robust\n",
      "            yearsref |      Coef.   Std. Err.      t    P>|t|     [95% Conf. Interval]\n",
      "---------------------+----------------------------------------------------------------\n",
      "fpresenceXpostXtrend |   1.006258   .1075275     9.36   0.000     .7803508    1.232165\n",
      "              yr1750 |   -1.74082   1.130051    -1.54   0.141    -4.114969    .6333289\n",
      "              yr1800 |  -1.285825   .9871991    -1.30   0.209    -3.359854     .788203\n",
      "              yr1850 |   16.15277   2.453072     6.58   0.000     10.99906    21.30648\n",
      "              yr1875 |     34.131    2.69942    12.64   0.000     28.45973    39.80227\n",
      "              yr1900 |    54.4867    2.76249    19.72   0.000     48.68293    60.29048\n",
      "--------------------------------------------------------------------------------------\n",
      "Included instruments: fpresenceXpostXtrend yr1750 yr1800 yr1850 yr1875 yr1900\n",
      "------------------------------------------------------------------------------\n"
     ]
    }
   ],
   "source": [
    "%%stata -d datastata\n",
    "iis id\n",
    "xtivreg2 yearsref fpresenceXpostXtrend yr1750-yr1900 if urbrate~=. [aweight=totalpop1750], fe robust cluster(id) small"
   ]
  },
  {
   "cell_type": "code",
   "execution_count": 146,
   "metadata": {},
   "outputs": [
    {
     "name": "stdout",
     "output_type": "stream",
     "text": [
      "\n",
      "(sum of wgt is     6.9080e+07)\n",
      "\n",
      "FIXED EFFECTS ESTIMATION\n",
      "------------------------\n",
      "Number of groups =        19                    Obs per group: min =         5\n",
      "                                                               avg =       5.7\n",
      "                                                               max =         6\n",
      "\n",
      "First-stage regressions\n",
      "-----------------------\n",
      "\n",
      "\n",
      "FIXED EFFECTS ESTIMATION\n",
      "------------------------\n",
      "Number of groups =        19                    Obs per group: min =         5\n",
      "                                                               avg =       5.7\n",
      "                                                               max =         6\n",
      "\n",
      "First-stage regression of yearsref:\n",
      "\n",
      "Statistics robust to heteroskedasticity and clustering on id\n",
      "Number of obs =                    109\n",
      "Number of clusters (id) =           19\n",
      "--------------------------------------------------------------------------------------\n",
      "                     |               Robust\n",
      "            yearsref |      Coef.   Std. Err.      t    P>|t|     [95% Conf. Interval]\n",
      "---------------------+----------------------------------------------------------------\n",
      "fpresenceXpostXtrend |   1.006258   .1075275     9.36   0.000     .7924275    1.220088\n",
      "              yr1750 |   -1.74082   1.130051    -1.54   0.127     -3.98805    .5064102\n",
      "              yr1800 |  -1.285825   .9871991    -1.30   0.196    -3.248979    .6773284\n",
      "              yr1850 |   16.15277   2.453072     6.58   0.000     11.27457    21.03097\n",
      "              yr1875 |     34.131    2.69942    12.64   0.000      28.7629    39.49909\n",
      "              yr1900 |    54.4867    2.76249    19.72   0.000     48.99319    59.98022\n",
      "--------------------------------------------------------------------------------------\n",
      "F test of excluded instruments:\n",
      "  F(  1,    18) =    87.57\n",
      "  Prob > F      =   0.0000\n",
      "Sanderson-Windmeijer multivariate F test of excluded instruments:\n",
      "  F(  1,    18) =    87.57\n",
      "  Prob > F      =   0.0000\n",
      "\n",
      "\n",
      "\n",
      "Summary results for first-stage regressions\n",
      "-------------------------------------------\n",
      "\n",
      "                                           (Underid)            (Weak id)\n",
      "Variable     | F(  1,    18)  P-val | SW Chi-sq(  1) P-val | SW F(  1,    18)\n",
      "yearsref     |      87.57    0.0000 |       96.93   0.0000 |       87.57\n",
      "\n",
      "NB: first-stage test statistics cluster-robust\n",
      "\n",
      "Stock-Yogo weak ID F test critical values for single endogenous regressor:\n",
      "                                   10% maximal IV size             16.38\n",
      "                                   15% maximal IV size              8.96\n",
      "                                   20% maximal IV size              6.66\n",
      "                                   25% maximal IV size              5.53\n",
      "Source: Stock-Yogo (2005).  Reproduced by permission.\n",
      "NB: Critical values are for i.i.d. errors only.\n",
      "\n",
      "Underidentification test\n",
      "Ho: matrix of reduced form coefficients has rank=K1-1 (underidentified)\n",
      "Ha: matrix has rank=K1 (identified)\n",
      "Kleibergen-Paap rk LM statistic          Chi-sq(1)=2.08     P-val=0.1494\n",
      "\n",
      "Weak identification test\n",
      "Ho: equation is weakly identified\n",
      "Cragg-Donald Wald F statistic                                     127.43\n",
      "Kleibergen-Paap Wald rk F statistic                                87.57\n",
      "\n",
      "Stock-Yogo weak ID test critical values for K1=1 and L1=1:\n",
      "                                   10% maximal IV size             16.38\n",
      "                                   15% maximal IV size              8.96\n",
      "                                   20% maximal IV size              6.66\n",
      "                                   25% maximal IV size              5.53\n",
      "Source: Stock-Yogo (2005).  Reproduced by permission.\n",
      "NB: Critical values are for Cragg-Donald F statistic and i.i.d. errors.\n",
      "\n",
      "Weak-instrument-robust inference\n",
      "Tests of joint significance of endogenous regressors B1 in main equation\n",
      "Ho: B1=0 and orthogonality conditions are valid\n",
      "Anderson-Rubin Wald test           F(1,18)=        5.12     P-val=0.0362\n",
      "Anderson-Rubin Wald test           Chi-sq(1)=      5.67     P-val=0.0172\n",
      "Stock-Wright LM S statistic        Chi-sq(1)=      9.18     P-val=0.0025\n",
      "\n",
      "NB: Underidentification, weak identification and weak-identification-robust\n",
      "    test statistics cluster-robust\n",
      "\n",
      "Number of clusters             N_clust  =         19\n",
      "Number of observations               N  =        109\n",
      "Number of regressors                 K  =          6\n",
      "Number of endogenous regressors      K1 =          1\n",
      "Number of instruments                L  =          6\n",
      "Number of excluded instruments       L1 =          1\n",
      "\n",
      "IV (2SLS) estimation\n",
      "--------------------\n",
      "\n",
      "Estimates efficient for homoskedasticity only\n",
      "Statistics robust to heteroskedasticity and clustering on id\n",
      "\n",
      "Number of clusters (id) =           19                Number of obs =      109\n",
      "                                                      F(  6,    18) =    60.48\n",
      "                                                      Prob > F      =   0.0000\n",
      "Total (centered) SS     =   17506.7939                Centered R2   =   0.8884\n",
      "Total (uncentered) SS   =   17506.7939                Uncentered R2 =   0.8884\n",
      "Residual SS             =  1953.108336                Root MSE      =    4.658\n",
      "\n",
      "------------------------------------------------------------------------------\n",
      "             |               Robust\n",
      "     urbrate |      Coef.   Std. Err.      z    P>|z|     [95% Conf. Interval]\n",
      "-------------+----------------------------------------------------------------\n",
      "    yearsref |    .283662   .1122104     2.53   0.011     .0637337    .5035904\n",
      "      yr1750 |   2.213824   .8136415     2.72   0.007     .6191156    3.808532\n",
      "      yr1800 |   4.304336   .7789359     5.53   0.000      2.77765    5.831023\n",
      "      yr1850 |   1.176126   3.641352     0.32   0.747    -5.960792    8.313045\n",
      "      yr1875 |   7.923619   5.456007     1.45   0.146    -2.769959     18.6172\n",
      "      yr1900 |   15.89348   7.930329     2.00   0.045     .3503191    31.43664\n",
      "------------------------------------------------------------------------------\n",
      "Underidentification test (Kleibergen-Paap rk LM statistic):              2.078\n",
      "                                                   Chi-sq(1) P-val =    0.1494\n",
      "------------------------------------------------------------------------------\n",
      "Weak identification test (Cragg-Donald Wald F statistic):              127.431\n",
      "                         (Kleibergen-Paap rk Wald F statistic):         87.575\n",
      "Stock-Yogo weak ID test critical values: 10% maximal IV size             16.38\n",
      "                                         15% maximal IV size              8.96\n",
      "                                         20% maximal IV size              6.66\n",
      "                                         25% maximal IV size              5.53\n",
      "Source: Stock-Yogo (2005).  Reproduced by permission.\n",
      "NB: Critical values are for Cragg-Donald F statistic and i.i.d. errors.\n",
      "------------------------------------------------------------------------------\n",
      "Hansen J statistic (overidentification test of all instruments):         0.000\n",
      "                                                 (equation exactly identified)\n",
      "------------------------------------------------------------------------------\n",
      "Instrumented:         yearsref\n",
      "Included instruments: yr1750 yr1800 yr1850 yr1875 yr1900\n",
      "Excluded instruments: fpresenceXpostXtrend\n",
      "------------------------------------------------------------------------------\n"
     ]
    }
   ],
   "source": [
    "%%stata -d datastata\n",
    "iis id\n",
    "xtivreg2 urbrate (yearsref= fpresenceXpostXtrend) yr1750-yr1900 [aweight=totalpop1750], fe robust cluster(id) first"
   ]
  },
  {
   "cell_type": "markdown",
   "metadata": {},
   "source": [
    "#### Column 5, Panels A-C: Unweighted, East and West of Elbe"
   ]
  },
  {
   "cell_type": "code",
   "execution_count": 147,
   "metadata": {},
   "outputs": [
    {
     "name": "stdout",
     "output_type": "stream",
     "text": [
      "\n",
      "Fixed-effects (within) regression               Number of obs     =        169\n",
      "Group variable: id                              Number of groups  =         19\n",
      "\n",
      "R-sq:                                           Obs per group:\n",
      "     within  = 0.8423                                         min =          5\n",
      "     between = 0.2089                                         avg =        8.9\n",
      "     overall = 0.6079                                         max =         11\n",
      "\n",
      "                                                F(6,18)           =      35.30\n",
      "corr(u_i, Xb)  = -0.2003                        Prob > F          =     0.0000\n",
      "\n",
      "                                    (Std. Err. adjusted for 19 clusters in id)\n",
      "------------------------------------------------------------------------------\n",
      "             |               Robust\n",
      "     urbrate |      Coef.   Std. Err.      t    P>|t|     [95% Conf. Interval]\n",
      "-------------+----------------------------------------------------------------\n",
      "    yearsref |   .4557642   .0548303     8.31   0.000       .34057    .5709584\n",
      "      yr1750 |   1.054066   1.263747     0.83   0.415    -1.600967      3.7091\n",
      "      yr1800 |   3.575955   1.431107     2.50   0.022     .5693119    6.582599\n",
      "      yr1850 |  -3.855921   1.028155    -3.75   0.001    -6.015995   -1.695847\n",
      "      yr1875 |  -.8967778   .9512782    -0.94   0.358    -2.895339    1.101784\n",
      "      yr1900 |    3.61709   1.840068     1.97   0.065    -.2487489    7.482929\n",
      "       _cons |   6.929852   2.252245     3.08   0.006     2.198062    11.66164\n",
      "-------------+----------------------------------------------------------------\n",
      "     sigma_u |  8.7183407\n",
      "     sigma_e |   5.695001\n",
      "         rho |  .70091951   (fraction of variance due to u_i)\n",
      "------------------------------------------------------------------------------\n"
     ]
    }
   ],
   "source": [
    "%%stata -d datastata\n",
    "iis id\n",
    "xtreg urbrate yearsref yr1750-yr1900, fe i(id) robust cluster(id)"
   ]
  },
  {
   "cell_type": "code",
   "execution_count": 148,
   "metadata": {},
   "outputs": [
    {
     "name": "stdout",
     "output_type": "stream",
     "text": [
      "\n",
      "FIXED EFFECTS ESTIMATION\n",
      "------------------------\n",
      "Number of groups =        19                    Obs per group: min =         5\n",
      "                                                               avg =       8.9\n",
      "                                                               max =        11\n",
      "\n",
      "OLS estimation\n",
      "--------------\n",
      "\n",
      "Estimates efficient for homoskedasticity only\n",
      "Statistics robust to heteroskedasticity and clustering on id\n",
      "\n",
      "Number of clusters (id) =           19                Number of obs =      169\n",
      "                                                      F(  6,    18) =   650.50\n",
      "                                                      Prob > F      =   0.0000\n",
      "Total (centered) SS     =  118309.5388                Centered R2   =   0.7181\n",
      "Total (uncentered) SS   =  118309.5388                Uncentered R2 =   0.7181\n",
      "Residual SS             =  33349.55461                Root MSE      =    15.22\n",
      "\n",
      "--------------------------------------------------------------------------------------\n",
      "                     |               Robust\n",
      "            yearsref |      Coef.   Std. Err.      t    P>|t|     [95% Conf. Interval]\n",
      "---------------------+----------------------------------------------------------------\n",
      "fpresenceXpostXtrend |   1.770891   .1991116     8.89   0.000     1.352573    2.189209\n",
      "              yr1750 |  -35.28553   4.755754    -7.42   0.000      -45.277   -25.29406\n",
      "              yr1800 |  -34.87764   4.618591    -7.55   0.000    -44.58094   -25.17434\n",
      "              yr1850 |  -23.15956   3.456263    -6.70   0.000     -30.4209   -15.89822\n",
      "              yr1875 |  -5.693417   3.142845    -1.81   0.087    -12.29629    .9094546\n",
      "              yr1900 |   14.20693   2.886905     4.92   0.000     8.141772     20.2721\n",
      "--------------------------------------------------------------------------------------\n",
      "Included instruments: fpresenceXpostXtrend yr1750 yr1800 yr1850 yr1875 yr1900\n",
      "------------------------------------------------------------------------------\n"
     ]
    }
   ],
   "source": [
    "%%stata -d datastata\n",
    "iis id\n",
    "xtivreg2 yearsref fpresenceXpostXtrend yr1750-yr1900 if urbrate~=., fe robust cluster(id) small"
   ]
  },
  {
   "cell_type": "code",
   "execution_count": 149,
   "metadata": {},
   "outputs": [
    {
     "name": "stdout",
     "output_type": "stream",
     "text": [
      "\n",
      "FIXED EFFECTS ESTIMATION\n",
      "------------------------\n",
      "Number of groups =        19                    Obs per group: min =         5\n",
      "                                                               avg =       8.9\n",
      "                                                               max =        11\n",
      "\n",
      "First-stage regressions\n",
      "-----------------------\n",
      "\n",
      "\n",
      "FIXED EFFECTS ESTIMATION\n",
      "------------------------\n",
      "Number of groups =        19                    Obs per group: min =         5\n",
      "                                                               avg =       8.9\n",
      "                                                               max =        11\n",
      "\n",
      "First-stage regression of yearsref:\n",
      "\n",
      "Statistics robust to heteroskedasticity and clustering on id\n",
      "Number of obs =                    169\n",
      "Number of clusters (id) =           19\n",
      "--------------------------------------------------------------------------------------\n",
      "                     |               Robust\n",
      "            yearsref |      Coef.   Std. Err.      t    P>|t|     [95% Conf. Interval]\n",
      "---------------------+----------------------------------------------------------------\n",
      "fpresenceXpostXtrend |   1.770891   .1991116     8.89   0.000     1.377332     2.16445\n",
      "              yr1750 |  -35.28553   4.755754    -7.42   0.000    -44.68564   -25.88543\n",
      "              yr1800 |  -34.87764   4.618591    -7.55   0.000    -44.00663   -25.74864\n",
      "              yr1850 |  -23.15956   3.456263    -6.70   0.000    -29.99112     -16.328\n",
      "              yr1875 |  -5.693417   3.142845    -1.81   0.072    -11.90549    .5186513\n",
      "              yr1900 |   14.20693   2.886905     4.92   0.000      8.50075    19.91312\n",
      "--------------------------------------------------------------------------------------\n",
      "F test of excluded instruments:\n",
      "  F(  1,    18) =    79.10\n",
      "  Prob > F      =   0.0000\n",
      "Sanderson-Windmeijer multivariate F test of excluded instruments:\n",
      "  F(  1,    18) =    79.10\n",
      "  Prob > F      =   0.0000\n",
      "\n",
      "\n",
      "\n",
      "Summary results for first-stage regressions\n",
      "-------------------------------------------\n",
      "\n",
      "                                           (Underid)            (Weak id)\n",
      "Variable     | F(  1,    18)  P-val | SW Chi-sq(  1) P-val | SW F(  1,    18)\n",
      "yearsref     |      79.10    0.0000 |       86.06   0.0000 |       79.10\n",
      "\n",
      "NB: first-stage test statistics cluster-robust\n",
      "\n",
      "Stock-Yogo weak ID F test critical values for single endogenous regressor:\n",
      "                                   10% maximal IV size             16.38\n",
      "                                   15% maximal IV size              8.96\n",
      "                                   20% maximal IV size              6.66\n",
      "                                   25% maximal IV size              5.53\n",
      "Source: Stock-Yogo (2005).  Reproduced by permission.\n",
      "NB: Critical values are for i.i.d. errors only.\n",
      "\n",
      "Underidentification test\n",
      "Ho: matrix of reduced form coefficients has rank=K1-1 (underidentified)\n",
      "Ha: matrix has rank=K1 (identified)\n",
      "Kleibergen-Paap rk LM statistic          Chi-sq(1)=3.03     P-val=0.0817\n",
      "\n",
      "Weak identification test\n",
      "Ho: equation is weakly identified\n",
      "Cragg-Donald Wald F statistic                                      63.56\n",
      "Kleibergen-Paap Wald rk F statistic                                79.10\n",
      "\n",
      "Stock-Yogo weak ID test critical values for K1=1 and L1=1:\n",
      "                                   10% maximal IV size             16.38\n",
      "                                   15% maximal IV size              8.96\n",
      "                                   20% maximal IV size              6.66\n",
      "                                   25% maximal IV size              5.53\n",
      "Source: Stock-Yogo (2005).  Reproduced by permission.\n",
      "NB: Critical values are for Cragg-Donald F statistic and i.i.d. errors.\n",
      "\n",
      "Weak-instrument-robust inference\n",
      "Tests of joint significance of endogenous regressors B1 in main equation\n",
      "Ho: B1=0 and orthogonality conditions are valid\n",
      "Anderson-Rubin Wald test           F(1,18)=       20.20     P-val=0.0003\n",
      "Anderson-Rubin Wald test           Chi-sq(1)=     21.97     P-val=0.0000\n",
      "Stock-Wright LM S statistic        Chi-sq(1)=      5.01     P-val=0.0252\n",
      "\n",
      "NB: Underidentification, weak identification and weak-identification-robust\n",
      "    test statistics cluster-robust\n",
      "\n",
      "Number of clusters             N_clust  =         19\n",
      "Number of observations               N  =        169\n",
      "Number of regressors                 K  =          6\n",
      "Number of endogenous regressors      K1 =          1\n",
      "Number of instruments                L  =          6\n",
      "Number of excluded instruments       L1 =          1\n",
      "\n",
      "IV (2SLS) estimation\n",
      "--------------------\n",
      "\n",
      "Estimates efficient for homoskedasticity only\n",
      "Statistics robust to heteroskedasticity and clustering on id\n",
      "\n",
      "Number of clusters (id) =           19                Number of obs =      169\n",
      "                                                      F(  6,    18) =    34.62\n",
      "                                                      Prob > F      =   0.0000\n",
      "Total (centered) SS     =  29623.35875                Centered R2   =   0.8217\n",
      "Total (uncentered) SS   =  29623.35875                Uncentered R2 =   0.8217\n",
      "Residual SS             =  5280.864692                Root MSE      =    5.933\n",
      "\n",
      "------------------------------------------------------------------------------\n",
      "             |               Robust\n",
      "     urbrate |      Coef.   Std. Err.      z    P>|z|     [95% Conf. Interval]\n",
      "-------------+----------------------------------------------------------------\n",
      "    yearsref |   .3430684   .0835226     4.11   0.000      .179367    .5067698\n",
      "      yr1750 |  -4.149327    3.84222    -1.08   0.280    -11.67994    3.381285\n",
      "      yr1800 |   -1.58147   3.944827    -0.40   0.688    -9.313188    6.150248\n",
      "      yr1850 |  -6.313095   1.868878    -3.38   0.001    -9.976029   -2.650162\n",
      "      yr1875 |  -1.366947   1.191377    -1.15   0.251    -3.702004    .9681094\n",
      "      yr1900 |   5.408251   2.218391     2.44   0.015     1.060285    9.756217\n",
      "------------------------------------------------------------------------------\n",
      "Underidentification test (Kleibergen-Paap rk LM statistic):              3.032\n",
      "                                                   Chi-sq(1) P-val =    0.0817\n",
      "------------------------------------------------------------------------------\n",
      "Weak identification test (Cragg-Donald Wald F statistic):               63.562\n",
      "                         (Kleibergen-Paap rk Wald F statistic):         79.103\n",
      "Stock-Yogo weak ID test critical values: 10% maximal IV size             16.38\n",
      "                                         15% maximal IV size              8.96\n",
      "                                         20% maximal IV size              6.66\n",
      "                                         25% maximal IV size              5.53\n",
      "Source: Stock-Yogo (2005).  Reproduced by permission.\n",
      "NB: Critical values are for Cragg-Donald F statistic and i.i.d. errors.\n",
      "------------------------------------------------------------------------------\n",
      "Hansen J statistic (overidentification test of all instruments):         0.000\n",
      "                                                 (equation exactly identified)\n",
      "------------------------------------------------------------------------------\n",
      "Instrumented:         yearsref\n",
      "Included instruments: yr1750 yr1800 yr1850 yr1875 yr1900\n",
      "Excluded instruments: fpresenceXpostXtrend\n",
      "------------------------------------------------------------------------------\n"
     ]
    }
   ],
   "source": [
    "%%stata -d datastata\n",
    "iis id\n",
    "xtivreg2 urbrate (yearsref= fpresenceXpostXtrend) yr1750-yr1900, fe robust cluster(id) first"
   ]
  },
  {
   "cell_type": "markdown",
   "metadata": {},
   "source": [
    "## Replication"
   ]
  },
  {
   "cell_type": "markdown",
   "metadata": {},
   "source": [
    "![Imagen](img/TABLE6.png)"
   ]
  },
  {
   "cell_type": "markdown",
   "metadata": {},
   "source": [
    "### Table 6 construction\n",
    "For table 6 you will see that we have 5 different specifications for the sample. \n",
    "West of the Elbe Weighted, Weighted overidentified, Unweighted, and for the whole sample weighted and Unweighted.\n",
    "We will make 3 different regressions in each, starting with a simple OLS estimation on Reforms index over the urbanization rate, then we will continue with a first stage regression and we finish with 2SLS."
   ]
  },
  {
   "cell_type": "markdown",
   "metadata": {},
   "source": [
    "### Column 1, Panels A-C: Baseline (weighted)"
   ]
  },
  {
   "cell_type": "markdown",
   "metadata": {},
   "source": [
    "### Regresion 1 - OLS Estimation Reform Index"
   ]
  },
  {
   "cell_type": "code",
   "execution_count": 312,
   "metadata": {},
   "outputs": [],
   "source": [
    "dataF = pd.read_stata(pathout + 'replication_dataset.dta')\n",
    "data6 = dataF\n"
   ]
  },
  {
   "cell_type": "code",
   "execution_count": 313,
   "metadata": {},
   "outputs": [],
   "source": [
    "## We will delete data for some years and keep the data if the territory is part of west of the elby.\n",
    "data6 = data6.drop(data6[data6.year == 1880].index)\n",
    "data6 = data6.drop(data6[data6.year == 1885].index)\n",
    "data6 = data6.drop(data6[data6.year == 1895].index)\n",
    "data6 = data6.drop(data6[data6.year == 1905].index)\n",
    "data6 = data6.drop(data6[data6.year == 1910].index)\n",
    "data6 = data6.drop(data6[data6.westelbe != 1].index)"
   ]
  },
  {
   "cell_type": "code",
   "execution_count": 314,
   "metadata": {},
   "outputs": [],
   "source": [
    "#We are now setting the data frame for panel. id and year will be set as index.\n",
    "year = pd.Categorical(data6.year)\n",
    "data6['ident']=data6.id\n",
    "data6 = data6.set_index(['id', 'year'])\n",
    "data6['year'] = year\n",
    "data6['id'] = data6.ident\n"
   ]
  },
  {
   "cell_type": "code",
   "execution_count": 315,
   "metadata": {},
   "outputs": [],
   "source": [
    "#Getting the exogenous variables for the regression\n",
    "exog_F1 = ['yearsref']\n",
    "exogF1 = sm.add_constant(data6[exog_F1])"
   ]
  },
  {
   "cell_type": "code",
   "execution_count": 316,
   "metadata": {},
   "outputs": [
    {
     "name": "stdout",
     "output_type": "stream",
     "text": [
      "                          PanelOLS Estimation Summary                           \n",
      "================================================================================\n",
      "Dep. Variable:                urbrate   R-squared:                        0.2721\n",
      "Estimator:                   PanelOLS   R-squared (Between):              0.3196\n",
      "No. Observations:                  74   R-squared (Within):               0.7200\n",
      "Date:                Thu, Jun 25 2020   R-squared (Overall):              0.6281\n",
      "Time:                        12:03:41   Log-likelihood                   -205.63\n",
      "Cov. Estimator:             Clustered                                           \n",
      "                                        F-statistic:                      150.11\n",
      "Entities:                          13   P-value                           0.0000\n",
      "Avg Obs:                       5.6923   Distribution:                    F(1,55)\n",
      "Min Obs:                       5.0000                                           \n",
      "Max Obs:                       6.0000   F-statistic (robust):             5.3064\n",
      "                                        P-value                           0.0251\n",
      "Time periods:                       6   Distribution:                    F(1,55)\n",
      "Avg Obs:                       12.333                                           \n",
      "Min Obs:                       9.0000                                           \n",
      "Max Obs:                       13.000                                           \n",
      "                                                                                \n",
      "                             Parameter Estimates                              \n",
      "==============================================================================\n",
      "            Parameter  Std. Err.     T-stat    P-value    Lower CI    Upper CI\n",
      "------------------------------------------------------------------------------\n",
      "const          11.272     2.8581     3.9440     0.0002      5.5446      17.000\n",
      "yearsref       0.2808     0.1219     2.3036     0.0251      0.0365      0.5251\n",
      "==============================================================================\n",
      "\n",
      "F-test for Poolability: 9.2329\n",
      "P-value: 0.0000\n",
      "Distribution: F(17,55)\n",
      "\n",
      "Included effects: Entity, Time\n"
     ]
    },
    {
     "name": "stderr",
     "output_type": "stream",
     "text": [
      "/Users/juanestebanrincon/opt/anaconda3/envs/GeoPython38env/lib/python3.8/site-packages/linearmodels/utility.py:549: MissingValueWarning: \n",
      "Inputs contain missing values. Dropping rows with missing observations.\n",
      "  warnings.warn(missing_value_warning_msg, MissingValueWarning)\n"
     ]
    }
   ],
   "source": [
    "#Making panel regression\n",
    "modFC = PanelOLS(data6.urbrate, exogF1, weights=data6.totalpop1750 , entity_effects=True,time_effects=True, other_effects=None)\n",
    "modF1 = modFC.fit(cov_type='clustered', clusters=data6.ident)\n",
    "print(modF1) "
   ]
  },
  {
   "cell_type": "markdown",
   "metadata": {},
   "source": [
    "### Regresion 1 - First Stage"
   ]
  },
  {
   "cell_type": "code",
   "execution_count": 317,
   "metadata": {},
   "outputs": [],
   "source": [
    "import numpy as np\n",
    "from linearmodels.iv import IV2SLS\n"
   ]
  },
  {
   "cell_type": "code",
   "execution_count": 318,
   "metadata": {},
   "outputs": [],
   "source": [
    "datafs = dataF"
   ]
  },
  {
   "cell_type": "code",
   "execution_count": 319,
   "metadata": {},
   "outputs": [],
   "source": [
    "## Dummies for fixed effects.\n",
    "datafs = pd.DataFrame.from_dict(datafs)\n",
    "datafs['ident'] = datafs.id\n",
    "datafs = pd.concat((data,\n",
    "    pd.get_dummies(data['name'], drop_first=True)), axis=1)\n"
   ]
  },
  {
   "cell_type": "code",
   "execution_count": 320,
   "metadata": {},
   "outputs": [],
   "source": [
    "pd.set_option('display.max_columns', None)"
   ]
  },
  {
   "cell_type": "code",
   "execution_count": 321,
   "metadata": {},
   "outputs": [],
   "source": [
    "datafs.rename(columns={'Westphalia without Mark':'Westphalia'}, inplace=True)\n",
    "datafs.rename(columns={'Saxony Province':'SaxonyProvince'}, inplace=True)\n",
    "datafs.rename(columns={'Pomerania without Swedish Pomerania':'Pomeraniawithout'}, inplace=True)\n",
    "datafs.rename(columns={'Mecklenburg-Schwerin':'MecklenburgSchwerin'}, inplace=True)\n",
    "datafs.rename(columns={'Schleswig-Holstein':'SchleswigHolstein'}, inplace=True)\n",
    "\n",
    "datafs.rename(columns={'Bavaria Old':'BavariaOld'}, inplace=True)\n",
    "datafs.rename(columns={'Bavarian Palatinate':'BavarianPalatinate'}, inplace=True)\n",
    "datafs.rename(columns={'East Prussia':'EastPrussia'}, inplace=True)\n",
    "\n",
    "datafs.rename(columns={'Hessen-Darmstadt, right of the Rhine':'HessenD'}, inplace=True)\n",
    "datafs.rename(columns={'Hessen-Kassel':'HessenK'}, inplace=True)\n"
   ]
  },
  {
   "cell_type": "code",
   "execution_count": 322,
   "metadata": {},
   "outputs": [],
   "source": [
    "datafs = datafs.drop(datafs[datafs.westelbe != 1].index)\n",
    "datafs = datafs.dropna()"
   ]
  },
  {
   "cell_type": "code",
   "execution_count": 323,
   "metadata": {},
   "outputs": [],
   "source": [
    "#Here, we set the formula for regression. Here I add the dummies  for each territorie.\n",
    "formula = 'yearsref ~ fpresenceXpostXtrend + yr1750 + yr1800 + yr1850 + yr1875 + yr1900 + C(BavariaOld)+ C(BavarianPalatinate) + C(Brandenburg) + C(Brunswick) + C(EastPrussia) + C(Hanover) + C(HessenD) + C(HessenK) + C(Mark) + C(MecklenburgSchwerin) + C(SaxonyProvince) + C(Pomeraniawithout) + C(Rhineland) + C(Saxony) + C(Silesia) + C(SchleswigHolstein) + C(Westphalia) + C(Wuerttemberg)'\n",
    " "
   ]
  },
  {
   "cell_type": "code",
   "execution_count": 325,
   "metadata": {},
   "outputs": [
    {
     "name": "stdout",
     "output_type": "stream",
     "text": [
      "                            OLS Estimation Summary                            \n",
      "==============================================================================\n",
      "Dep. Variable:               yearsref   R-squared:                      0.9768\n",
      "Estimator:                        OLS   Adj. R-squared:                 0.9691\n",
      "No. Observations:                  74   F-statistic:                 6.373e+18\n",
      "Date:                Thu, Jun 25 2020   P-value (F-stat)                0.0000\n",
      "Time:                        12:03:44   Distribution:                 chi2(18)\n",
      "Cov. Estimator:             clustered                                         \n",
      "                                                                              \n",
      "                                     Parameter Estimates                                      \n",
      "==============================================================================================\n",
      "                            Parameter  Std. Err.     T-stat    P-value    Lower CI    Upper CI\n",
      "----------------------------------------------------------------------------------------------\n",
      "Intercept                      17.309     1.1757     14.722     0.0000      15.005      19.613\n",
      "C(BavariaOld)[T.1]            -16.093     0.1959    -82.130     0.0000     -16.477     -15.709\n",
      "C(BavarianPalatinate)[T.1]    -15.075     1.8394    -8.1952     0.0000     -18.680     -11.469\n",
      "C(Brunswick)[T.1]             -23.622     0.6671    -35.409     0.0000     -24.929     -22.314\n",
      "C(Hanover)[T.1]               -20.581     0.3931    -52.362     0.0000     -21.352     -19.811\n",
      "C(HessenD)[T.1]               -15.051     0.1959    -76.814     0.0000     -15.436     -14.667\n",
      "C(HessenK)[T.1]               -23.361     0.6520    -35.829     0.0000     -24.639     -22.083\n",
      "C(Mark)[T.1]                  -15.278     0.6520    -23.432     0.0000     -16.556     -14.000\n",
      "C(SaxonyProvince)[T.1]        -13.028     0.6520    -19.981     0.0000     -14.306     -11.750\n",
      "C(Rhineland)[T.1]             -14.628     2.1125    -6.9242     0.0000     -18.768     -10.487\n",
      "C(Saxony)[T.1]                -17.468     0.1959    -89.147     0.0000     -17.852     -17.084\n",
      "C(Westphalia)[T.1]            -14.872     0.6671    -22.293     0.0000     -16.179     -13.564\n",
      "C(Wuerttemberg)[T.1]          -17.968     0.1959    -91.698     0.0000     -18.352     -17.584\n",
      "fpresenceXpostXtrend           1.1662     0.0988     11.800     0.0000      0.9725      1.3599\n",
      "yr1750                        -1.7032     1.5249    -1.1169     0.2640     -4.6919      1.2856\n",
      "yr1800                        -1.0637     1.2429    -0.8558     0.3921     -3.4997      1.3724\n",
      "yr1850                         11.676     2.1144     5.5222     0.0000      7.5321      15.820\n",
      "yr1875                         29.780     2.2805     13.058     0.0000      25.311      34.250\n",
      "yr1900                         50.766     2.6792     18.948     0.0000      45.515      56.017\n",
      "==============================================================================================\n"
     ]
    }
   ],
   "source": [
    "#We use the instrumental variables method of regression here.\n",
    "moFSC = IV2SLS.from_formula(formula, datafs, weights=datafs.totalpop1750)\n",
    "\n",
    "moFS = moFSC.fit(cov_type='clustered', clusters=datafs.ident)\n",
    "print(moFS) "
   ]
  },
  {
   "cell_type": "code",
   "execution_count": null,
   "metadata": {},
   "outputs": [],
   "source": []
  },
  {
   "cell_type": "markdown",
   "metadata": {},
   "source": [
    "### Regresion 1 -  2sls estimation"
   ]
  },
  {
   "cell_type": "code",
   "execution_count": 326,
   "metadata": {},
   "outputs": [],
   "source": [
    "#Setting the formula for the regression\n",
    "formulareg1 = 'urbrate ~ 1 + [yearsref ~fpresenceXpostXtrend ] + yr1750 + yr1800 + yr1850 + yr1875 + yr1900  + C(BavariaOld)+ C(BavarianPalatinate) + C(Brandenburg) + C(Brunswick) + C(EastPrussia) + C(Hanover) + C(HessenD) + C(HessenK) + C(Mark) + C(MecklenburgSchwerin) + C(SaxonyProvince) + C(Pomeraniawithout) + C(Rhineland) + C(Saxony) + C(Silesia) + C(SchleswigHolstein) + C(Westphalia) + C(Wuerttemberg)'\n"
   ]
  },
  {
   "cell_type": "code",
   "execution_count": 327,
   "metadata": {},
   "outputs": [
    {
     "name": "stdout",
     "output_type": "stream",
     "text": [
      "                          IV-2SLS Estimation Summary                          \n",
      "==============================================================================\n",
      "Dep. Variable:                urbrate   R-squared:                      0.9270\n",
      "Estimator:                    IV-2SLS   Adj. R-squared:                 0.9030\n",
      "No. Observations:                  74   F-statistic:                -3.907e+17\n",
      "Date:                Thu, Jun 25 2020   P-value (F-stat)                1.0000\n",
      "Time:                        12:03:45   Distribution:                 chi2(18)\n",
      "Cov. Estimator:             clustered                                         \n",
      "                                                                              \n",
      "                                     Parameter Estimates                                      \n",
      "==============================================================================================\n",
      "                            Parameter  Std. Err.     T-stat    P-value    Lower CI    Upper CI\n",
      "----------------------------------------------------------------------------------------------\n",
      "Intercept                     -2.2138     1.6014    -1.3824     0.1668     -5.3525      0.9249\n",
      "C(BavariaOld)[T.1]             4.8865     1.4804     3.3008     0.0010      1.9849      7.7880\n",
      "C(BavarianPalatinate)[T.1]    -2.1303     0.7986    -2.6677     0.0076     -3.6955     -0.5652\n",
      "C(Brunswick)[T.1]              16.673     1.6058     10.383     0.0000      13.525      19.820\n",
      "C(Hanover)[T.1]                5.4727     1.6021     3.4160     0.0006      2.3327      8.6127\n",
      "C(HessenD)[T.1]                2.0625     1.3757     1.4992     0.1338     -0.6339      4.7589\n",
      "C(HessenK)[T.1]                5.0352     1.5517     3.2450     0.0012      1.9940      8.0765\n",
      "C(Mark)[T.1]                   16.862     0.7486     22.524     0.0000      15.395      18.330\n",
      "C(SaxonyProvince)[T.1]         12.208     0.5366     22.750     0.0000      11.156      13.260\n",
      "C(Rhineland)[T.1]              12.504     1.0501     11.907     0.0000      10.446      14.562\n",
      "C(Saxony)[T.1]                 17.413     1.6189     10.756     0.0000      14.240      20.586\n",
      "C(Westphalia)[T.1]             1.2344     0.7137     1.7295     0.0837     -0.1644      2.6332\n",
      "C(Wuerttemberg)[T.1]           5.3358     1.6693     3.1964     0.0014      2.0640      8.6076\n",
      "yr1750                         2.1295     0.9610     2.2159     0.0267      0.2460      4.0130\n",
      "yr1800                         4.2790     0.8909     4.8032     0.0000      2.5329      6.0251\n",
      "yr1850                         0.7510     3.5257     0.2130     0.8313     -6.1593      7.6613\n",
      "yr1875                         7.3668     5.0887     1.4477     0.1477     -2.6070      17.340\n",
      "yr1900                         15.417     7.2756     2.1190     0.0341      1.1569      29.677\n",
      "yearsref                       0.2906     0.1020     2.8498     0.0044      0.0907      0.4904\n",
      "==============================================================================================\n",
      "\n",
      "Endogenous: yearsref\n",
      "Instruments: fpresenceXpostXtrend\n",
      "Clustered Covariance (One-Way)\n",
      "Debiased: False\n",
      "Num Clusters: 13\n"
     ]
    }
   ],
   "source": [
    "#Instrumental Variables regression\n",
    "moireg1 = IV2SLS.from_formula(formulareg1, datafs , weights=datafs.totalpop1750).fit(cov_type='clustered', clusters=datafs.ident)\n",
    "print (moireg1) "
   ]
  },
  {
   "cell_type": "markdown",
   "metadata": {},
   "source": [
    "### Column 2, Panels A-C: overid"
   ]
  },
  {
   "cell_type": "markdown",
   "metadata": {},
   "source": [
    "### Regresion 2 - OLS estimation Reform Index"
   ]
  },
  {
   "cell_type": "markdown",
   "metadata": {},
   "source": [
    "It's the same regresion 1 - OLS estimation reform index"
   ]
  },
  {
   "cell_type": "markdown",
   "metadata": {},
   "source": [
    "### Regresion 2 - First Stage"
   ]
  },
  {
   "cell_type": "markdown",
   "metadata": {},
   "source": [
    "The authors don't show this regression on the final table but they do in the do file."
   ]
  },
  {
   "cell_type": "code",
   "execution_count": 358,
   "metadata": {},
   "outputs": [],
   "source": [
    "#Formula for the regression\n",
    "formulaSSS = 'urbrate ~ 1 + [yearsref ~ fpresence1850 + fpresence1875 + fpresence1900] + yr1750 + yr1800 + yr1850 + yr1875 + yr1900   + C(BavariaOld)+ C(BavarianPalatinate) + C(Brandenburg) + C(Brunswick) + C(EastPrussia) + C(Hanover) + C(HessenD) + C(HessenK) + C(Mark) + C(MecklenburgSchwerin) + C(SaxonyProvince) + C(Pomeraniawithout) + C(Rhineland) + C(Saxony) + C(Silesia) + C(SchleswigHolstein) + C(Westphalia) + C(Wuerttemberg)'"
   ]
  },
  {
   "cell_type": "code",
   "execution_count": 360,
   "metadata": {},
   "outputs": [],
   "source": [
    "#Instrumantal variables regression.\n",
    "moF2 = IV2SLS.from_formula(formulaSSS, datafs , weights=datafs.totalpop1750)\n",
    "moF2 = moF2.fit()"
   ]
  },
  {
   "cell_type": "markdown",
   "metadata": {},
   "source": [
    "The idea is the same that in the next regression, but with out clusters."
   ]
  },
  {
   "cell_type": "markdown",
   "metadata": {},
   "source": [
    "### Regresion 2 -  2sls estimation"
   ]
  },
  {
   "cell_type": "code",
   "execution_count": 329,
   "metadata": {},
   "outputs": [],
   "source": [
    "#Instrumantal variables regression.\n",
    "moFSS = IV2SLS.from_formula(formulaSSS, datafs , weights=datafs.totalpop1750)\n",
    "moFSSS = moFSS.fit()"
   ]
  },
  {
   "cell_type": "code",
   "execution_count": 330,
   "metadata": {},
   "outputs": [],
   "source": [
    "moFSSS_clustered = moFSS.fit(cov_type='clustered', clusters=datafs.ident)"
   ]
  },
  {
   "cell_type": "code",
   "execution_count": 331,
   "metadata": {},
   "outputs": [
    {
     "name": "stdout",
     "output_type": "stream",
     "text": [
      "                          IV-2SLS Estimation Summary                          \n",
      "==============================================================================\n",
      "Dep. Variable:                urbrate   R-squared:                      0.9264\n",
      "Estimator:                    IV-2SLS   Adj. R-squared:                 0.9023\n",
      "No. Observations:                  74   F-statistic:                 3.711e+18\n",
      "Date:                Thu, Jun 25 2020   P-value (F-stat)                0.0000\n",
      "Time:                        12:03:50   Distribution:                 chi2(18)\n",
      "Cov. Estimator:             clustered                                         \n",
      "                                                                              \n",
      "                                     Parameter Estimates                                      \n",
      "==============================================================================================\n",
      "                            Parameter  Std. Err.     T-stat    P-value    Lower CI    Upper CI\n",
      "----------------------------------------------------------------------------------------------\n",
      "Intercept                     -2.6384     1.7161    -1.5374     0.1242     -6.0019      0.7252\n",
      "C(BavariaOld)[T.1]             5.3587     1.6333     3.2809     0.0010      2.1575      8.5600\n",
      "C(BavarianPalatinate)[T.1]    -2.3205     0.8537    -2.7180     0.0066     -3.9938     -0.6472\n",
      "C(Brunswick)[T.1]              17.151     1.7569     9.7622     0.0000      13.708      20.595\n",
      "C(Hanover)[T.1]                5.9817     1.7666     3.3859     0.0007      2.5191      9.4442\n",
      "C(HessenD)[T.1]                2.5031     1.5186     1.6483     0.0993     -0.4732      5.4795\n",
      "C(HessenK)[T.1]                5.5290     1.7114     3.2306     0.0012      2.1747      8.8834\n",
      "C(Mark)[T.1]                   17.110     0.8298     20.621     0.0000      15.484      18.737\n",
      "C(SaxonyProvince)[T.1]         12.388     0.5951     20.815     0.0000      11.221      13.554\n",
      "C(Rhineland)[T.1]              12.191     1.1490     10.610     0.0000      9.9387      14.443\n",
      "C(Saxony)[T.1]                 17.927     1.7851     10.043     0.0000      14.428      21.426\n",
      "C(Westphalia)[T.1]             1.4472     0.7809     1.8533     0.0638     -0.0833      2.9776\n",
      "C(Wuerttemberg)[T.1]           5.8651     1.8403     3.1870     0.0014      2.2582      9.4720\n",
      "yr1750                         2.2943     0.9721     2.3601     0.0183      0.3890      4.1995\n",
      "yr1800                         4.4244     0.9660     4.5802     0.0000      2.5311      6.3176\n",
      "yr1850                         0.1561     3.7386     0.0418     0.9667     -7.1715      7.4837\n",
      "yr1875                         6.2167     5.4466     1.1414     0.2537     -4.4583      16.892\n",
      "yr1900                         13.624     7.8052     1.7455     0.0809     -1.6738      28.922\n",
      "yearsref                       0.3210     0.1116     2.8772     0.0040      0.1023      0.5396\n",
      "==============================================================================================\n",
      "\n",
      "Endogenous: yearsref\n",
      "Instruments: fpresence1850, fpresence1875, fpresence1900\n",
      "Clustered Covariance (One-Way)\n",
      "Debiased: False\n",
      "Num Clusters: 13\n"
     ]
    }
   ],
   "source": [
    "print (moFSSS_clustered)  "
   ]
  },
  {
   "cell_type": "markdown",
   "metadata": {},
   "source": [
    "### Column 3, Panels A-C: unweighted"
   ]
  },
  {
   "cell_type": "markdown",
   "metadata": {},
   "source": [
    "### Regresion 3 - OLS estimation Reform Index"
   ]
  },
  {
   "cell_type": "code",
   "execution_count": 332,
   "metadata": {},
   "outputs": [
    {
     "name": "stdout",
     "output_type": "stream",
     "text": [
      "                          PanelOLS Estimation Summary                           \n",
      "================================================================================\n",
      "Dep. Variable:                urbrate   R-squared:                        0.1086\n",
      "Estimator:                   PanelOLS   R-squared (Between):              0.0835\n",
      "No. Observations:                  74   R-squared (Within):               0.5764\n",
      "Date:                Thu, Jun 25 2020   R-squared (Overall):              0.4688\n",
      "Time:                        12:03:52   Log-likelihood                   -224.72\n",
      "Cov. Estimator:             Clustered                                           \n",
      "                                        F-statistic:                      6.7002\n",
      "Entities:                          13   P-value                           0.0123\n",
      "Avg Obs:                       5.6923   Distribution:                    F(1,55)\n",
      "Min Obs:                       5.0000                                           \n",
      "Max Obs:                       6.0000   F-statistic (robust):             2.8537\n",
      "                                        P-value                           0.0968\n",
      "Time periods:                       6   Distribution:                    F(1,55)\n",
      "Avg Obs:                       12.333                                           \n",
      "Min Obs:                       9.0000                                           \n",
      "Max Obs:                       13.000                                           \n",
      "                                                                                \n",
      "                             Parameter Estimates                              \n",
      "==============================================================================\n",
      "            Parameter  Std. Err.     T-stat    P-value    Lower CI    Upper CI\n",
      "------------------------------------------------------------------------------\n",
      "const          12.196     3.0218     4.0361     0.0002      6.1404      18.252\n",
      "yearsref       0.2196     0.1300     1.6893     0.0968     -0.0409      0.4800\n",
      "==============================================================================\n",
      "\n",
      "F-test for Poolability: 7.5427\n",
      "P-value: 0.0000\n",
      "Distribution: F(17,55)\n",
      "\n",
      "Included effects: Entity, Time\n"
     ]
    },
    {
     "name": "stderr",
     "output_type": "stream",
     "text": [
      "/Users/juanestebanrincon/opt/anaconda3/envs/GeoPython38env/lib/python3.8/site-packages/linearmodels/utility.py:549: MissingValueWarning: \n",
      "Inputs contain missing values. Dropping rows with missing observations.\n",
      "  warnings.warn(missing_value_warning_msg, MissingValueWarning)\n"
     ]
    }
   ],
   "source": [
    "#We use the same database for reg 1\n",
    "modF3 = PanelOLS(data6.urbrate, exogF1, weights=None , entity_effects=True,time_effects=True, other_effects=None)\n",
    "regF3 = modF3.fit(cov_type='clustered', clusters=data6.ident)\n",
    "\n",
    "print(regF3) "
   ]
  },
  {
   "cell_type": "markdown",
   "metadata": {},
   "source": [
    "### Regresion 3 - First Stage"
   ]
  },
  {
   "cell_type": "code",
   "execution_count": 333,
   "metadata": {},
   "outputs": [
    {
     "name": "stdout",
     "output_type": "stream",
     "text": [
      "                            OLS Estimation Summary                            \n",
      "==============================================================================\n",
      "Dep. Variable:               yearsref   R-squared:                      0.9768\n",
      "Estimator:                        OLS   Adj. R-squared:                 0.9691\n",
      "No. Observations:                  74   F-statistic:                 6.373e+18\n",
      "Date:                Thu, Jun 25 2020   P-value (F-stat)                0.0000\n",
      "Time:                        12:03:54   Distribution:                 chi2(18)\n",
      "Cov. Estimator:             clustered                                         \n",
      "                                                                              \n",
      "                                     Parameter Estimates                                      \n",
      "==============================================================================================\n",
      "                            Parameter  Std. Err.     T-stat    P-value    Lower CI    Upper CI\n",
      "----------------------------------------------------------------------------------------------\n",
      "Intercept                      17.309     1.1757     14.722     0.0000      15.005      19.613\n",
      "C(BavariaOld)[T.1]            -16.093     0.1959    -82.130     0.0000     -16.477     -15.709\n",
      "C(BavarianPalatinate)[T.1]    -15.075     1.8394    -8.1952     0.0000     -18.680     -11.469\n",
      "C(Brunswick)[T.1]             -23.622     0.6671    -35.409     0.0000     -24.929     -22.314\n",
      "C(Hanover)[T.1]               -20.581     0.3931    -52.362     0.0000     -21.352     -19.811\n",
      "C(HessenD)[T.1]               -15.051     0.1959    -76.814     0.0000     -15.436     -14.667\n",
      "C(HessenK)[T.1]               -23.361     0.6520    -35.829     0.0000     -24.639     -22.083\n",
      "C(Mark)[T.1]                  -15.278     0.6520    -23.432     0.0000     -16.556     -14.000\n",
      "C(SaxonyProvince)[T.1]        -13.028     0.6520    -19.981     0.0000     -14.306     -11.750\n",
      "C(Rhineland)[T.1]             -14.628     2.1125    -6.9242     0.0000     -18.768     -10.487\n",
      "C(Saxony)[T.1]                -17.468     0.1959    -89.147     0.0000     -17.852     -17.084\n",
      "C(Westphalia)[T.1]            -14.872     0.6671    -22.293     0.0000     -16.179     -13.564\n",
      "C(Wuerttemberg)[T.1]          -17.968     0.1959    -91.698     0.0000     -18.352     -17.584\n",
      "fpresenceXpostXtrend           1.1662     0.0988     11.800     0.0000      0.9725      1.3599\n",
      "yr1750                        -1.7032     1.5249    -1.1169     0.2640     -4.6919      1.2856\n",
      "yr1800                        -1.0637     1.2429    -0.8558     0.3921     -3.4997      1.3724\n",
      "yr1850                         11.676     2.1144     5.5222     0.0000      7.5321      15.820\n",
      "yr1875                         29.780     2.2805     13.058     0.0000      25.311      34.250\n",
      "yr1900                         50.766     2.6792     18.948     0.0000      45.515      56.017\n",
      "==============================================================================================\n"
     ]
    }
   ],
   "source": [
    "moFSU = IV2SLS.from_formula(formula, datafs, weights=datafs.totalpop1750).fit(cov_type='clustered', clusters=datafs.ident)\n",
    "print (moFSU)  "
   ]
  },
  {
   "cell_type": "markdown",
   "metadata": {},
   "source": [
    "### Regresion 3 - 2SLS estimation"
   ]
  },
  {
   "cell_type": "code",
   "execution_count": 334,
   "metadata": {},
   "outputs": [
    {
     "name": "stdout",
     "output_type": "stream",
     "text": [
      "                          IV-2SLS Estimation Summary                          \n",
      "==============================================================================\n",
      "Dep. Variable:                urbrate   R-squared:                      0.8790\n",
      "Estimator:                    IV-2SLS   Adj. R-squared:                 0.8394\n",
      "No. Observations:                  74   F-statistic:                 7.066e+16\n",
      "Date:                Thu, Jun 25 2020   P-value (F-stat)                0.0000\n",
      "Time:                        12:03:56   Distribution:                 chi2(18)\n",
      "Cov. Estimator:             clustered                                         \n",
      "                                                                              \n",
      "                                     Parameter Estimates                                      \n",
      "==============================================================================================\n",
      "                            Parameter  Std. Err.     T-stat    P-value    Lower CI    Upper CI\n",
      "----------------------------------------------------------------------------------------------\n",
      "Intercept                     -1.5775     2.3491    -0.6715     0.5019     -6.1817      3.0268\n",
      "C(BavariaOld)[T.1]             3.6350     1.9051     1.9081     0.0564     -0.0989      7.3689\n",
      "C(BavarianPalatinate)[T.1]    -1.4921     0.8739    -1.7073     0.0878     -3.2050      0.2208\n",
      "C(Brunswick)[T.1]              15.307     1.9508     7.8467     0.0000      11.484      19.130\n",
      "C(Hanover)[T.1]                4.1164     2.0530     2.0051     0.0449      0.0927      8.1402\n",
      "C(HessenD)[T.1]                0.9014     1.7779     0.5070     0.6121     -2.5832      4.3860\n",
      "C(HessenK)[T.1]                3.7224     1.9917     1.8689     0.0616     -0.1814      7.6261\n",
      "C(Mark)[T.1]                   16.250     1.0142     16.024     0.0000      14.263      18.238\n",
      "C(SaxonyProvince)[T.1]         11.791     0.7532     15.656     0.0000      10.315      13.267\n",
      "C(Rhineland)[T.1]              13.397     1.2757     10.501     0.0000      10.897      15.897\n",
      "C(Saxony)[T.1]                 16.042     2.0734     7.7372     0.0000      11.978      20.106\n",
      "C(Westphalia)[T.1]             0.6274     0.8670     0.7236     0.4693     -1.0719      2.3266\n",
      "C(Wuerttemberg)[T.1]           3.9218     2.1346     1.8372     0.0662     -0.2620      8.1056\n",
      "yr1750                         2.4960     0.8743     2.8548     0.0043      0.7824      4.2096\n",
      "yr1800                         4.9072     1.4330     3.4245     0.0006      2.0986      7.7158\n",
      "yr1850                         3.0775     3.2575     0.9448     0.3448     -3.3070      9.4621\n",
      "yr1875                         10.540     5.3054     1.9867     0.0470      0.1418      20.938\n",
      "yr1900                         21.003     8.1074     2.5906     0.0096      5.1126      36.893\n",
      "yearsref                       0.2038     0.1239     1.6458     0.0998     -0.0389      0.4466\n",
      "==============================================================================================\n",
      "\n",
      "Endogenous: yearsref\n",
      "Instruments: fpresenceXpostXtrend\n",
      "Clustered Covariance (One-Way)\n",
      "Debiased: False\n",
      "Num Clusters: 13\n"
     ]
    }
   ],
   "source": [
    "moireg3 = IV2SLS.from_formula(formulareg1, datafs , weights=None).fit(cov_type='clustered', clusters=datafs.ident)\n",
    "print (moireg3) "
   ]
  },
  {
   "cell_type": "markdown",
   "metadata": {},
   "source": [
    "### Column 4, Panels A-C: East and West of Elbe"
   ]
  },
  {
   "cell_type": "markdown",
   "metadata": {},
   "source": [
    "### Regresion 4 - OLS estimation Reform Index"
   ]
  },
  {
   "cell_type": "code",
   "execution_count": 335,
   "metadata": {},
   "outputs": [],
   "source": [
    "#Same method in regression 1\n",
    "datall = dataF"
   ]
  },
  {
   "cell_type": "code",
   "execution_count": 336,
   "metadata": {},
   "outputs": [],
   "source": [
    "year = pd.Categorical(datall.year)\n",
    "datall['ident']=datall.id\n",
    "datall = datall.set_index(['id', 'year'])\n",
    "datall['year'] = year"
   ]
  },
  {
   "cell_type": "code",
   "execution_count": 337,
   "metadata": {},
   "outputs": [],
   "source": [
    "exog_FF = ['yearsref']\n",
    "exogFF = sm.add_constant(datall[exog_FF])"
   ]
  },
  {
   "cell_type": "code",
   "execution_count": 338,
   "metadata": {},
   "outputs": [
    {
     "name": "stdout",
     "output_type": "stream",
     "text": [
      "                          PanelOLS Estimation Summary                           \n",
      "================================================================================\n",
      "Dep. Variable:                urbrate   R-squared:                        0.1799\n",
      "Estimator:                   PanelOLS   R-squared (Between):              0.1891\n",
      "No. Observations:                 109   R-squared (Within):               0.6857\n",
      "Date:                Thu, Jun 25 2020   R-squared (Overall):              0.5568\n",
      "Time:                        12:03:58   Log-likelihood                   -311.90\n",
      "Cov. Estimator:             Clustered                                           \n",
      "                                        F-statistic:                      175.36\n",
      "Entities:                          19   P-value                           0.0000\n",
      "Avg Obs:                       5.7368   Distribution:                    F(1,84)\n",
      "Min Obs:                       5.0000                                           \n",
      "Max Obs:                       6.0000   F-statistic (robust):             5.0893\n",
      "                                        P-value                           0.0267\n",
      "Time periods:                       6   Distribution:                    F(1,84)\n",
      "Avg Obs:                       18.167                                           \n",
      "Min Obs:                       14.000                                           \n",
      "Max Obs:                       19.000                                           \n",
      "                                                                                \n",
      "                             Parameter Estimates                              \n",
      "==============================================================================\n",
      "            Parameter  Std. Err.     T-stat    P-value    Lower CI    Upper CI\n",
      "------------------------------------------------------------------------------\n",
      "const          12.369     2.7567     4.4869     0.0000      6.8871      17.851\n",
      "yearsref       0.2678     0.1187     2.2560     0.0267      0.0317      0.5038\n",
      "==============================================================================\n",
      "\n",
      "F-test for Poolability: 11.455\n",
      "P-value: 0.0000\n",
      "Distribution: F(23,84)\n",
      "\n",
      "Included effects: Entity, Time\n"
     ]
    }
   ],
   "source": [
    "modFF = PanelOLS(datall.urbrate, exogFF, weights=datall.totalpop1750 , entity_effects=True,time_effects=True, other_effects=None)\n",
    "regFF = modFF.fit(cov_type='clustered', clusters=datall.ident)\n",
    "print(regFF) "
   ]
  },
  {
   "cell_type": "markdown",
   "metadata": {},
   "source": [
    "### Regresion 4 - First Stage"
   ]
  },
  {
   "cell_type": "code",
   "execution_count": 339,
   "metadata": {},
   "outputs": [],
   "source": [
    "datall4 = pd.read_stata(pathout + 'replication_dataset.dta')"
   ]
  },
  {
   "cell_type": "code",
   "execution_count": 340,
   "metadata": {},
   "outputs": [],
   "source": [
    "## Dummies for fixed effects.\n",
    "datall4 = pd.DataFrame.from_dict(datall4)\n",
    "datall4['ident'] = datall4.id\n",
    "datall4 = pd.concat((data,\n",
    "    pd.get_dummies(data['name'], drop_first=True)), axis=1)"
   ]
  },
  {
   "cell_type": "code",
   "execution_count": 341,
   "metadata": {},
   "outputs": [],
   "source": [
    "datall4 = datall4.dropna()"
   ]
  },
  {
   "cell_type": "code",
   "execution_count": 357,
   "metadata": {},
   "outputs": [],
   "source": [
    "datall4.rename(columns={'Westphalia without Mark':'Westphalia'}, inplace=True)\n",
    "datall4.rename(columns={'Saxony Province':'SaxonyProvince'}, inplace=True)\n",
    "datall4.rename(columns={'Pomerania without Swedish Pomerania':'Pomeraniawithout'}, inplace=True)\n",
    "datall4.rename(columns={'Mecklenburg-Schwerin':'MecklenburgSchwerin'}, inplace=True)\n",
    "datall4.rename(columns={'Schleswig-Holstein':'SchleswigHolstein'}, inplace=True)\n",
    "\n",
    "datall4.rename(columns={'Bavaria Old':'BavariaOld'}, inplace=True)\n",
    "datall4.rename(columns={'Bavarian Palatinate':'BavarianPalatinate'}, inplace=True)\n",
    "datall4.rename(columns={'East Prussia':'EastPrussia'}, inplace=True)\n",
    "\n",
    "datall4.rename(columns={'Hessen-Darmstadt, right of the Rhine':'HessenD'}, inplace=True)\n",
    "datall4.rename(columns={'Hessen-Kassel':'HessenK'}, inplace=True)"
   ]
  },
  {
   "cell_type": "code",
   "execution_count": 343,
   "metadata": {},
   "outputs": [],
   "source": [
    "moFS4 = IV2SLS.from_formula(formula, datall4, weights=datall4.totalpop1750).fit(cov_type='clustered', clusters=datall4.ident)"
   ]
  },
  {
   "cell_type": "code",
   "execution_count": 344,
   "metadata": {},
   "outputs": [
    {
     "name": "stdout",
     "output_type": "stream",
     "text": [
      "                            OLS Estimation Summary                            \n",
      "==============================================================================\n",
      "Dep. Variable:               yearsref   R-squared:                      0.9705\n",
      "Estimator:                        OLS   Adj. R-squared:                 0.9620\n",
      "No. Observations:                 108   F-statistic:                   6.1e+28\n",
      "Date:                Thu, Jun 25 2020   P-value (F-stat)                0.0000\n",
      "Time:                        12:03:59   Distribution:                 chi2(24)\n",
      "Cov. Estimator:             clustered                                         \n",
      "                                                                              \n",
      "                                      Parameter Estimates                                      \n",
      "===============================================================================================\n",
      "                             Parameter  Std. Err.     T-stat    P-value    Lower CI    Upper CI\n",
      "-----------------------------------------------------------------------------------------------\n",
      "Intercept                       14.644     1.5074     9.7146     0.0000      11.689      17.598\n",
      "C(BavariaOld)[T.1]             -15.649     0.2512    -62.289     0.0000     -16.141     -15.157\n",
      "C(BavarianPalatinate)[T.1]     -11.758     1.9711    -5.9652     0.0000     -15.622     -7.8950\n",
      "C(Brandenburg)[T.1]            -8.8989     0.2512    -35.421     0.0000     -9.3913     -8.4065\n",
      "C(Brunswick)[T.1]              -22.534     0.6922    -32.553     0.0000     -23.890     -21.177\n",
      "C(EastPrussia)[T.1]            -8.8989     0.2512    -35.421     0.0000     -9.3913     -8.4065\n",
      "C(Hanover)[T.1]                -19.684     0.4722    -41.686     0.0000     -20.609     -18.758\n",
      "C(HessenD)[T.1]                -14.607     0.2512    -58.143     0.0000     -15.100     -14.115\n",
      "C(HessenK)[T.1]                -22.010     0.7411    -29.700     0.0000     -23.463     -20.558\n",
      "C(Mark)[T.1]                   -13.927     0.7411    -18.793     0.0000     -15.379     -12.474\n",
      "C(MecklenburgSchwerin)[T.1]    -22.550  1.388e-13 -1.625e+14     0.0000     -22.550     -22.550\n",
      "C(SaxonyProvince)[T.1]         -11.677     0.7411    -15.757     0.0000     -13.129     -10.224\n",
      "C(Pomeraniawithout)[T.1]       -8.8989     0.2512    -35.421     0.0000     -9.3913     -8.4065\n",
      "C(Rhineland)[T.1]              -11.181     2.1920    -5.1009     0.0000     -15.478     -6.8850\n",
      "C(Saxony)[T.1]                 -17.024     0.2512    -67.762     0.0000     -17.516     -16.532\n",
      "C(Silesia)[T.1]                -7.7500  1.282e-13 -6.044e+13     0.0000     -7.7500     -7.7500\n",
      "C(SchleswigHolstein)[T.1]      -12.566     0.2512    -50.016     0.0000     -13.058     -12.073\n",
      "C(Westphalia)[T.1]             -13.784     0.6922    -19.912     0.0000     -15.140     -12.427\n",
      "C(Wuerttemberg)[T.1]           -17.524     0.2512    -69.753     0.0000     -18.016     -17.032\n",
      "fpresenceXpostXtrend            1.0050     0.1026     9.7998     0.0000      0.8040      1.2060\n",
      "yr1750                         -1.5387     1.0804    -1.4241     0.1544     -3.6563      0.5789\n",
      "yr1800                         -1.0837     0.9507    -1.1399     0.2543     -2.9470      0.7796\n",
      "yr1850                          16.364     2.3617     6.9291     0.0000      11.735      20.993\n",
      "yr1875                          34.342     2.5968     13.225     0.0000      29.253      39.432\n",
      "yr1900                          54.698     2.6550     20.602     0.0000      49.495      59.902\n",
      "===============================================================================================\n"
     ]
    }
   ],
   "source": [
    "print(moFS4) "
   ]
  },
  {
   "cell_type": "markdown",
   "metadata": {},
   "source": [
    "### Regresion 4 - 2sls estimation"
   ]
  },
  {
   "cell_type": "code",
   "execution_count": 345,
   "metadata": {},
   "outputs": [],
   "source": [
    "mo2S4 = IV2SLS.from_formula(formulareg1, datall4, weights=datall4.totalpop1750).fit(cov_type='clustered', clusters=datall4.ident)"
   ]
  },
  {
   "cell_type": "code",
   "execution_count": 346,
   "metadata": {},
   "outputs": [
    {
     "name": "stdout",
     "output_type": "stream",
     "text": [
      "                          IV-2SLS Estimation Summary                          \n",
      "==============================================================================\n",
      "Dep. Variable:                urbrate   R-squared:                      0.9175\n",
      "Estimator:                    IV-2SLS   Adj. R-squared:                 0.8937\n",
      "No. Observations:                 108   F-statistic:                -3.644e+18\n",
      "Date:                Thu, Jun 25 2020   P-value (F-stat)                1.0000\n",
      "Time:                        12:04:00   Distribution:                 chi2(24)\n",
      "Cov. Estimator:             clustered                                         \n",
      "                                                                              \n",
      "                                      Parameter Estimates                                      \n",
      "===============================================================================================\n",
      "                             Parameter  Std. Err.     T-stat    P-value    Lower CI    Upper CI\n",
      "-----------------------------------------------------------------------------------------------\n",
      "Intercept                      -2.1211     1.5068    -1.4077     0.1592     -5.0745      0.8322\n",
      "C(BavariaOld)[T.1]              4.7945     1.6112     2.9758     0.0029      1.6367      7.9524\n",
      "C(BavarianPalatinate)[T.1]     -2.0961     0.8732    -2.4004     0.0164     -3.8076     -0.3846\n",
      "C(Brandenburg)[T.1]             25.939     0.8688     29.855     0.0000      24.236      27.642\n",
      "C(Brunswick)[T.1]               16.582     1.7637     9.4018     0.0000      13.125      20.038\n",
      "C(EastPrussia)[T.1]             3.8055     0.8688     4.3800     0.0000      2.1026      5.5084\n",
      "C(Hanover)[T.1]                 5.3737     1.7453     3.0790     0.0021      1.9530      8.7944\n",
      "C(HessenD)[T.1]                 1.9766     1.4957     1.3215     0.1863     -0.9550      4.9082\n",
      "C(HessenK)[T.1]                 4.9392     1.6898     2.9230     0.0035      1.6273      8.2511\n",
      "C(Mark)[T.1]                    16.813     0.8014     20.980     0.0000      15.242      18.384\n",
      "C(MecklenburgSchwerin)[T.1]     8.9740     2.5251     3.5539     0.0004      4.0249      13.923\n",
      "C(SaxonyProvince)[T.1]          12.172     0.5637     21.593     0.0000      11.067      13.276\n",
      "C(Pomeraniawithout)[T.1]        6.3633     0.8688     7.3238     0.0000      4.6604      8.0662\n",
      "C(Rhineland)[T.1]               12.563     1.1534     10.893     0.0000      10.303      14.824\n",
      "C(Saxony)[T.1]                  17.313     1.7638     9.8157     0.0000      13.856      20.770\n",
      "C(Silesia)[T.1]                 5.3258     0.8678     6.1370     0.0000      3.6249      7.0268\n",
      "C(SchleswigHolstein)[T.1]       7.9250     1.2701     6.2397     0.0000      5.4357      10.414\n",
      "C(Westphalia)[T.1]              1.1938     0.7838     1.5231     0.1277     -0.3425      2.7302\n",
      "C(Wuerttemberg)[T.1]            5.2330     1.8194     2.8763     0.0040      1.6672      8.7989\n",
      "yr1750                          2.0406     0.8399     2.4295     0.0151      0.3944      3.6867\n",
      "yr1800                          4.1306     0.7684     5.3755     0.0000      2.6245      5.6366\n",
      "yr1850                          0.9752     3.6916     0.2642     0.7917     -6.2603      8.2106\n",
      "yr1875                          7.7026     5.5168     1.3962     0.1627     -3.1101      18.515\n",
      "yr1900                          15.650     7.9921     1.9582     0.0502     -0.0143      31.314\n",
      "yearsref                        0.2848     0.1120     2.5431     0.0110      0.0653      0.5042\n",
      "===============================================================================================\n",
      "\n",
      "Endogenous: yearsref\n",
      "Instruments: fpresenceXpostXtrend\n",
      "Clustered Covariance (One-Way)\n",
      "Debiased: False\n",
      "Num Clusters: 19\n"
     ]
    }
   ],
   "source": [
    "print (mo2S4)  "
   ]
  },
  {
   "cell_type": "markdown",
   "metadata": {},
   "source": [
    "### Column 5, Panels A-C: Unweighted, East and West of Elbe"
   ]
  },
  {
   "cell_type": "markdown",
   "metadata": {},
   "source": [
    "### Regresion 5 - OLS estimation Reform Index"
   ]
  },
  {
   "cell_type": "code",
   "execution_count": 347,
   "metadata": {},
   "outputs": [
    {
     "name": "stdout",
     "output_type": "stream",
     "text": [
      "                          PanelOLS Estimation Summary                           \n",
      "================================================================================\n",
      "Dep. Variable:                urbrate   R-squared:                        0.0745\n",
      "Estimator:                   PanelOLS   R-squared (Between):              0.1907\n",
      "No. Observations:                 169   R-squared (Within):               0.5388\n",
      "Date:                Thu, Jun 25 2020   R-squared (Overall):              0.4288\n",
      "Time:                        12:04:01   Log-likelihood                   -503.53\n",
      "Cov. Estimator:             Clustered                                           \n",
      "                                        F-statistic:                      11.184\n",
      "Entities:                          19   P-value                           0.0011\n",
      "Avg Obs:                       8.8947   Distribution:                   F(1,139)\n",
      "Min Obs:                       5.0000                                           \n",
      "Max Obs:                       11.000   F-statistic (robust):             2.3976\n",
      "                                        P-value                           0.1238\n",
      "Time periods:                      11   Distribution:                   F(1,139)\n",
      "Avg Obs:                       15.364                                           \n",
      "Min Obs:                       12.000                                           \n",
      "Max Obs:                       19.000                                           \n",
      "                                                                                \n",
      "                             Parameter Estimates                              \n",
      "==============================================================================\n",
      "            Parameter  Std. Err.     T-stat    P-value    Lower CI    Upper CI\n",
      "------------------------------------------------------------------------------\n",
      "const          16.928     4.3779     3.8667     0.0002      8.2724      25.584\n",
      "yearsref       0.1886     0.1218     1.5484     0.1238     -0.0522      0.4293\n",
      "==============================================================================\n",
      "\n",
      "F-test for Poolability: 17.422\n",
      "P-value: 0.0000\n",
      "Distribution: F(28,139)\n",
      "\n",
      "Included effects: Entity, Time\n"
     ]
    },
    {
     "name": "stderr",
     "output_type": "stream",
     "text": [
      "/Users/juanestebanrincon/opt/anaconda3/envs/GeoPython38env/lib/python3.8/site-packages/linearmodels/utility.py:549: MissingValueWarning: \n",
      "Inputs contain missing values. Dropping rows with missing observations.\n",
      "  warnings.warn(missing_value_warning_msg, MissingValueWarning)\n"
     ]
    }
   ],
   "source": [
    "modFFU = PanelOLS(datall.urbrate, exogFF, weights=None , entity_effects=True,time_effects=True, other_effects=None)\n",
    "regFFU = modFFU.fit(cov_type='clustered', clusters=datall.ident)\n",
    "print(regFFU) "
   ]
  },
  {
   "cell_type": "markdown",
   "metadata": {},
   "source": [
    "### Regresion 5 - First Stage"
   ]
  },
  {
   "cell_type": "code",
   "execution_count": 348,
   "metadata": {},
   "outputs": [],
   "source": [
    "moFS4U = IV2SLS.from_formula(formula,datall4, weights=None).fit(cov_type='clustered', clusters=datall4.ident)"
   ]
  },
  {
   "cell_type": "code",
   "execution_count": 349,
   "metadata": {},
   "outputs": [
    {
     "name": "stdout",
     "output_type": "stream",
     "text": [
      "                            OLS Estimation Summary                            \n",
      "==============================================================================\n",
      "Dep. Variable:               yearsref   R-squared:                      0.9643\n",
      "Estimator:                        OLS   Adj. R-squared:                 0.9540\n",
      "No. Observations:                 108   F-statistic:                 7.603e+29\n",
      "Date:                Thu, Jun 25 2020   P-value (F-stat)                0.0000\n",
      "Time:                        12:04:02   Distribution:                 chi2(24)\n",
      "Cov. Estimator:             clustered                                         \n",
      "                                                                              \n",
      "                                      Parameter Estimates                                      \n",
      "===============================================================================================\n",
      "                             Parameter  Std. Err.     T-stat    P-value    Lower CI    Upper CI\n",
      "-----------------------------------------------------------------------------------------------\n",
      "Intercept                       13.794     1.4692     9.3891     0.0000      10.915      16.674\n",
      "C(BavariaOld)[T.1]             -15.507     0.2449    -63.330     0.0000     -15.987     -15.027\n",
      "C(BavarianPalatinate)[T.1]     -10.688     2.5523    -4.1875     0.0000     -15.690     -5.6853\n",
      "C(Brandenburg)[T.1]            -8.7574     0.2449    -35.764     0.0000     -9.2373     -8.2775\n",
      "C(Brunswick)[T.1]              -22.181     0.9250    -23.979     0.0000     -23.995     -20.368\n",
      "C(EastPrussia)[T.1]            -8.7574     0.2449    -35.764     0.0000     -9.2373     -8.2775\n",
      "C(Hanover)[T.1]                -19.395     0.5355    -36.222     0.0000     -20.445     -18.346\n",
      "C(HessenD)[T.1]                -14.466     0.2449    -59.076     0.0000     -14.946     -13.986\n",
      "C(HessenK)[T.1]                -21.575     0.9003    -23.964     0.0000     -23.340     -19.811\n",
      "C(Mark)[T.1]                   -13.492     0.9003    -14.985     0.0000     -15.257     -11.727\n",
      "C(MecklenburgSchwerin)[T.1]    -22.550  2.994e-13 -7.531e+13     0.0000     -22.550     -22.550\n",
      "C(SaxonyProvince)[T.1]         -11.242     0.9003    -12.486     0.0000     -13.007     -9.4773\n",
      "C(Pomeraniawithout)[T.1]       -8.7574     0.2449    -35.764     0.0000     -9.2373     -8.2775\n",
      "C(Rhineland)[T.1]              -10.066     2.9293    -3.4364     0.0006     -15.808     -4.3250\n",
      "C(Saxony)[T.1]                 -16.882     0.2449    -68.946     0.0000     -17.362     -16.402\n",
      "C(Silesia)[T.1]                -7.7500  3.001e-13 -2.582e+13     0.0000     -7.7500     -7.7500\n",
      "C(SchleswigHolstein)[T.1]      -12.424     0.2449    -50.738     0.0000     -12.904     -11.944\n",
      "C(Westphalia)[T.1]             -13.431     0.9250    -14.520     0.0000     -15.245     -11.618\n",
      "C(Wuerttemberg)[T.1]           -17.382     0.2449    -70.988     0.0000     -17.862     -16.902\n",
      "fpresenceXpostXtrend            0.9528     0.1370     6.9526     0.0000      0.6842      1.2214\n",
      "yr1750                         -0.3572     1.1471    -0.3114     0.7555     -2.6055      1.8911\n",
      "yr1800                          0.0507     1.0219     0.0496     0.9604     -1.9522      2.0536\n",
      "yr1850                          17.424     2.2176     7.8572     0.0000      13.078      21.771\n",
      "yr1875                          34.967     2.5076     13.944     0.0000      30.052      39.882\n",
      "yr1900                          54.944     2.5692     21.385     0.0000      49.908      59.979\n",
      "===============================================================================================\n"
     ]
    }
   ],
   "source": [
    "print(moFS4U)  "
   ]
  },
  {
   "cell_type": "markdown",
   "metadata": {},
   "source": [
    "### Regresion 5 - 2sls estimation\n"
   ]
  },
  {
   "cell_type": "code",
   "execution_count": 351,
   "metadata": {},
   "outputs": [],
   "source": [
    "mo2S4U = IV2SLS.from_formula(formulareg1, datall4, weights=None).fit(cov_type='clustered', clusters=datall4.ident)"
   ]
  },
  {
   "cell_type": "code",
   "execution_count": 352,
   "metadata": {},
   "outputs": [
    {
     "name": "stdout",
     "output_type": "stream",
     "text": [
      "                          IV-2SLS Estimation Summary                          \n",
      "==============================================================================\n",
      "Dep. Variable:                urbrate   R-squared:                      0.8799\n",
      "Estimator:                    IV-2SLS   Adj. R-squared:                 0.8452\n",
      "No. Observations:                 108   F-statistic:                 8.542e+15\n",
      "Date:                Thu, Jun 25 2020   P-value (F-stat)                0.0000\n",
      "Time:                        12:04:04   Distribution:                 chi2(24)\n",
      "Cov. Estimator:             clustered                                         \n",
      "                                                                              \n",
      "                                      Parameter Estimates                                      \n",
      "===============================================================================================\n",
      "                             Parameter  Std. Err.     T-stat    P-value    Lower CI    Upper CI\n",
      "-----------------------------------------------------------------------------------------------\n",
      "Intercept                      -1.1608     2.1319    -0.5445     0.5861     -5.3393      3.0176\n",
      "C(BavariaOld)[T.1]              3.4887     2.1459     1.6258     0.1040     -0.7171      7.6945\n",
      "C(BavarianPalatinate)[T.1]     -1.5115     1.0320    -1.4647     0.1430     -3.5342      0.5111\n",
      "C(Brandenburg)[T.1]             25.219     1.1912     21.171     0.0000      22.884      27.553\n",
      "C(Brunswick)[T.1]               15.215     2.2594     6.7343     0.0000      10.787      19.643\n",
      "C(EastPrussia)[T.1]             3.0852     1.1912     2.5900     0.0096      0.7505      5.4199\n",
      "C(Hanover)[T.1]                 3.9631     2.3180     1.7097     0.0873     -0.5800      8.5062\n",
      "C(HessenD)[T.1]                 0.7611     1.9977     0.3810     0.7032     -3.1543      4.6765\n",
      "C(HessenK)[T.1]                 3.5719     2.2467     1.5898     0.1119     -0.8316      7.9754\n",
      "C(Mark)[T.1]                    16.147     1.1040     14.626     0.0000      13.983      18.311\n",
      "C(MecklenburgSchwerin)[T.1]     7.0178     3.2348     2.1695     0.0300      0.6777      13.358\n",
      "C(SaxonyProvince)[T.1]          11.701     0.7947     14.724     0.0000      10.143      13.258\n",
      "C(Pomeraniawithout)[T.1]        5.6430     1.1912     4.7372     0.0000      3.3082      7.9777\n",
      "C(Rhineland)[T.1]               13.457     1.4775     9.1076     0.0000      10.561      16.353\n",
      "C(Saxony)[T.1]                  15.888     2.3417     6.7847     0.0000      11.298      20.477\n",
      "C(Silesia)[T.1]                 4.6535     1.1117     4.1858     0.0000      2.4746      6.8325\n",
      "C(SchleswigHolstein)[T.1]       6.8867     1.7079     4.0323     0.0001      3.5393      10.234\n",
      "C(Westphalia)[T.1]              0.5866     1.0042     0.5842     0.5591     -1.3815      2.5547\n",
      "C(Wuerttemberg)[T.1]            3.7645     2.4130     1.5601     0.1187     -0.9648      8.4939\n",
      "yr1750                          1.9065     0.7933     2.4033     0.0162      0.3517      3.4614\n",
      "yr1800                          4.5336     1.1309     4.0088     0.0001      2.3170      6.7501\n",
      "yr1850                          3.2773     3.9790     0.8237     0.4101     -4.5214      11.076\n",
      "yr1875                          10.781     6.2320     1.7299     0.0836     -1.4336      22.995\n",
      "yr1900                          20.467     9.2144     2.2211     0.0263      2.4067      38.527\n",
      "yearsref                        0.1980     0.1435     1.3804     0.1675     -0.0831      0.4792\n",
      "===============================================================================================\n",
      "\n",
      "Endogenous: yearsref\n",
      "Instruments: fpresenceXpostXtrend\n",
      "Clustered Covariance (One-Way)\n",
      "Debiased: False\n",
      "Num Clusters: 19\n"
     ]
    }
   ],
   "source": [
    "print (mo2S4U)"
   ]
  },
  {
   "cell_type": "code",
   "execution_count": 353,
   "metadata": {},
   "outputs": [],
   "source": [
    "pystout(models=[modF1, modF1 , regF3, regFF, regFFU],\n",
    "        file='tabla6ols.tex',\n",
    "        addnotes=['*$p < 0.1$ , ** $p < 0.05$ , *** $p < 0.01$',\n",
    "                  'Standar errors in parentheses.'],\n",
    "        digits=3,\n",
    "        endog_names=['Weighted','Weighted overid','Unweighted','Weighted','Unweighted'],\n",
    "        varlabels={'const':'Constant','displacement':'Disp','mpg':'MPG'},\n",
    "        \n",
    "        mgroups={'West of the Elbe':[1,2,3],'All':[4,5]},\n",
    "        modstat={'nobs':'Obs','rsquared':'R\\sym{2}','fvalue':'F-stat'},\n",
    "        stars={.1:'*',.05:'**',.01:'***'}\n",
    "        )"
   ]
  },
  {
   "cell_type": "code",
   "execution_count": 354,
   "metadata": {},
   "outputs": [],
   "source": [
    "pystout(models=[moFS ,moFS, moFSU, moFS4, moFS4U],\n",
    "        file='tabla6fs.tex',\n",
    "        addnotes=['*$p < 0.1$ , ** $p < 0.05$ , *** $p < 0.01$',\n",
    "                  'Standar errors in parentheses.'],\n",
    "        digits=3,\n",
    "        endog_names=['Weighted','Weighted overid','Unweighted','Weighted','Unweighted'],\n",
    "        varlabels={'const':'Constant','displacement':'Disp','mpg':'MPG'},\n",
    "        \n",
    "        mgroups={'West of the Elbe':[1,3],'All':[4,5]},\n",
    "        modstat={'nobs':'Obs','rsquared':'R\\sym{2}','fvalue':'F-stat'},\n",
    "        stars={.1:'*',.05:'**',.01:'***'}\n",
    "        )"
   ]
  },
  {
   "cell_type": "code",
   "execution_count": 355,
   "metadata": {},
   "outputs": [],
   "source": [
    "\n",
    "\n",
    "pystout(models=[moireg1, moFSSS_clustered, moireg3 ,mo2S4, mo2S4U],\n",
    "        file='tabla62l.tex',\n",
    "        addnotes=['*$p < 0.1$ , ** $p < 0.05$ , *** $p < 0.01$',\n",
    "                  'Standar errors in parentheses.'],\n",
    "        digits=3,\n",
    "        endog_names=['Weighted','Weighted overid','Unweighted','Weighted','Unweighted'],\n",
    "        varlabels={'const':'Constant','displacement':'Disp','mpg':'MPG'},\n",
    "        \n",
    "        mgroups={'West of the Elbe':[1,3],'All':[4,5]},\n",
    "        modstat={'nobs':'Obs','rsquared':'R\\sym{2}','fvalue':'F-stat'},\n",
    "        stars={.1:'*',.05:'**',.01:'***'}\n",
    "        )"
   ]
  },
  {
   "cell_type": "markdown",
   "metadata": {},
   "source": [
    "## Conclusions"
   ]
  },
  {
   "cell_type": "markdown",
   "metadata": {},
   "source": [
    "Thanks to Daron Acemoglu, Davide Cantoni, Simon Johnson, and James A. Robinson we were able to test the way on which the French revolution had an impact on the territories subjected. This impact was made by the institutions that the revolution was able to impose in some German territories. Evidently, the territories with te greater effect were those who had more years of French presence. There was a doubt that the imposed policies could have a negative effect on economic growth but authonr's found no evidence of this. In fact, the authors were able to show that the french revolution had a positive effects over urbanization rates and therefore over development and economic growth. \n",
    "\n",
    "This results is important because it shows that depending on the kind of imposed politics and on the context, we can get a positive effect in the long run. For the case of the French revolution we saw that, old German institutions like feudal land and labor relations, urban oligarchies and guilds, and lack of equality before the law, were in fact delaying the economic growth and prosperity.\n",
    "\n",
    "As the author's said, is important to remember that results from one historical episode cannot always be extrapolated to other eras, and as I said before, all depends on the context. We can now start thinking about what are these institutional or cultural characteristics in those, this imposed politics can have a positive effect."
   ]
  },
  {
   "cell_type": "markdown",
   "metadata": {},
   "source": [
    "## BIBLIOGRAPHY\n",
    "\n",
    "- Acemoglu D. Cantoni D. Johnson S. Robinson J. (2011). American Economic Review 101, pages 3286–3307. Available Online: http://www.aeaweb.org/articles.php?doi=10.1257/aer.101.7.3286\n",
    "\n",
    "\n",
    "- Husted L. (2020). Pystout. Available online: https://pypi.org/project/pystout/\n",
    "\n",
    "\n",
    "- Kok T. (2017). Example notebook for the %%stata cell magic by the IPyStata package. Available online: https://github.com/TiesdeKok/ipystata/blob/master/ipystata/Example.ipynb\n",
    "\n",
    "\n",
    "- Open ICPSR. (2019). Replication data for: The Consequences of Radical Reform: The French Revolution. Avalaible online: https://www.openicpsr.org/openicpsr/project/112481/version/V1/view;jsessionid=3DB87FB5E54F68F038A0B2C1A8DB246D?path=/openicpsr/112481/fcr:versions/V1/20100816_replication10&type=folder\n",
    "\n",
    "\n",
    "- Ozak O. (2020). Economic data analisys. Available online: https://github.com/econgrowth/econgrowth.github.io/blob/master/notebooks/EconomicDataAnalysis.ipynb\n",
    "\n",
    "\n",
    "- Sullivan D. Stata to Python Equivalents. Available online:\n",
    "http://www.danielmsullivan.com/pages/tutorial_stata_to_python.html\n",
    "\n",
    "\n",
    "- Sheppard K. (2017). Models for Panel Data. Available online: https://bashtage.github.io/linearmodels/doc/panel/models.html#linearmodels.panel.model.PanelOLS\n",
    "\n",
    "\n",
    "- Sheppard K. (2017).Instrumental Variable Estimation. Available online: \n",
    "https://bashtage.github.io/linearmodels/doc/iv/index.html\n",
    "\n"
   ]
  }
 ],
 "metadata": {
  "kernelspec": {
   "display_name": "Python 3",
   "language": "python",
   "name": "python3"
  },
  "language_info": {
   "codemirror_mode": {
    "name": "ipython",
    "version": 3
   },
   "file_extension": ".py",
   "mimetype": "text/x-python",
   "name": "python",
   "nbconvert_exporter": "python",
   "pygments_lexer": "ipython3",
   "version": "3.8.3"
  },
  "nbTranslate": {
   "displayLangs": [
    "*"
   ],
   "hotkey": "alt-t",
   "langInMainMenu": true,
   "sourceLang": "en",
   "targetLang": "fr",
   "useGoogleTranslate": true
  }
 },
 "nbformat": 4,
 "nbformat_minor": 4
}
